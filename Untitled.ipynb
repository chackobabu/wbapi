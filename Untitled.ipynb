{
 "cells": [
  {
   "cell_type": "code",
   "execution_count": 1,
   "id": "c1e6975f",
   "metadata": {},
   "outputs": [],
   "source": [
    "# import time\n",
    "\n",
    "# def mygen():\n",
    "    \n",
    "#     for i in range(5):\n",
    "#         time.sleep(1)\n",
    "#         yield \"i =\",i\n",
    "        \n",
    "#     for j in range(5):\n",
    "#         time.sleep(1)\n",
    "#         yield \"j =\",j\n",
    "\n",
    "# for each in mygen():\n",
    "#     print(each)"
   ]
  },
  {
   "cell_type": "code",
   "execution_count": 2,
   "id": "1ae3aab4",
   "metadata": {},
   "outputs": [],
   "source": [
    "import pandas as pd"
   ]
  },
  {
   "cell_type": "code",
   "execution_count": null,
   "id": "e1eac81c",
   "metadata": {},
   "outputs": [],
   "source": []
  },
  {
   "cell_type": "code",
   "execution_count": 3,
   "id": "33819be3",
   "metadata": {},
   "outputs": [],
   "source": [
    "import plotly.graph_objects as go\n",
    "from plotly.subplots import make_subplots"
   ]
  },
  {
   "cell_type": "code",
   "execution_count": 4,
   "id": "003e6d67",
   "metadata": {},
   "outputs": [],
   "source": [
    "import re\n",
    "df = pd.read_csv(\"extract.csv\")"
   ]
  },
  {
   "cell_type": "code",
   "execution_count": 5,
   "id": "587f7275",
   "metadata": {},
   "outputs": [],
   "source": [
    "df = df.round(2)"
   ]
  },
  {
   "cell_type": "code",
   "execution_count": 6,
   "id": "677a8bbf",
   "metadata": {},
   "outputs": [
    {
     "data": {
      "text/plain": [
       "'<table border=\"1\" class=\"dataframe table table-stripped\">\\n  <thead>\\n    <tr style=\"text-align: right;\">\\n      <th></th>\\n      <th>economy</th>\\n      <th>series</th>\\n      <th>Country</th>\\n      <th>Series</th>\\n      <th>YR1970</th>\\n      <th>YR1971</th>\\n      <th>YR1972</th>\\n      <th>YR1973</th>\\n      <th>YR1974</th>\\n      <th>YR1975</th>\\n      <th>YR1976</th>\\n      <th>YR1977</th>\\n      <th>YR1978</th>\\n      <th>YR1979</th>\\n      <th>YR1980</th>\\n      <th>YR1981</th>\\n      <th>YR1982</th>\\n      <th>YR1983</th>\\n      <th>YR1984</th>\\n      <th>YR1985</th>\\n      <th>YR1986</th>\\n      <th>YR1987</th>\\n      <th>YR1988</th>\\n      <th>YR1989</th>\\n      <th>YR1990</th>\\n      <th>YR1991</th>\\n      <th>YR1992</th>\\n      <th>YR1993</th>\\n      <th>YR1994</th>\\n      <th>YR1995</th>\\n      <th>YR1996</th>\\n      <th>YR1997</th>\\n      <th>YR1998</th>\\n      <th>YR1999</th>\\n      <th>YR2000</th>\\n      <th>YR2001</th>\\n      <th>YR2002</th>\\n      <th>YR2003</th>\\n      <th>YR2004</th>\\n      <th>YR2005</th>\\n      <th>YR2006</th>\\n      <th>YR2007</th>\\n      <th>YR2008</th>\\n      <th>YR2009</th>\\n      <th>YR2010</th>\\n      <th>YR2011</th>\\n      <th>YR2012</th>\\n      <th>YR2013</th>\\n      <th>YR2014</th>\\n      <th>YR2015</th>\\n      <th>YR2016</th>\\n      <th>YR2017</th>\\n      <th>YR2018</th>\\n      <th>YR2019</th>\\n    </tr>\\n  </thead>\\n  <tbody>\\n    <tr>\\n      <th>0</th>\\n      <td>PAK</td>\\n      <td>SE.PRM.ENRL.TC.ZS</td>\\n      <td>Pakistan</td>\\n      <td>Pupil-teacher ratio, primary</td>\\n      <td>NaN</td>\\n      <td>41.47</td>\\n      <td>38.98</td>\\n      <td>41.29</td>\\n      <td>41.60</td>\\n      <td>40.44</td>\\n      <td>40.19</td>\\n      <td>41.47</td>\\n      <td>37.33</td>\\n      <td>37.49</td>\\n      <td>36.99</td>\\n      <td>36.49</td>\\n      <td>36.10</td>\\n      <td>34.97</td>\\n      <td>36.17</td>\\n      <td>38.15</td>\\n      <td>39.28</td>\\n      <td>40.33</td>\\n      <td>40.56</td>\\n      <td>40.66</td>\\n      <td>41.07</td>\\n      <td>NaN</td>\\n      <td>NaN</td>\\n      <td>NaN</td>\\n      <td>NaN</td>\\n      <td>NaN</td>\\n      <td>NaN</td>\\n      <td>NaN</td>\\n      <td>NaN</td>\\n      <td>NaN</td>\\n      <td>33.00</td>\\n      <td>34.74</td>\\n      <td>35.00</td>\\n      <td>34.82</td>\\n      <td>37.50</td>\\n      <td>38.34</td>\\n      <td>39.01</td>\\n      <td>39.95</td>\\n      <td>40.67</td>\\n      <td>39.69</td>\\n      <td>40.45</td>\\n      <td>39.83</td>\\n      <td>41.35</td>\\n      <td>42.55</td>\\n      <td>46.52</td>\\n      <td>46.34</td>\\n      <td>47.63</td>\\n      <td>44.78</td>\\n      <td>44.08</td>\\n      <td>NaN</td>\\n    </tr>\\n    <tr>\\n      <th>1</th>\\n      <td>NPL</td>\\n      <td>SE.PRM.ENRL.TC.ZS</td>\\n      <td>Nepal</td>\\n      <td>Pupil-teacher ratio, primary</td>\\n      <td>21.67</td>\\n      <td>NaN</td>\\n      <td>19.21</td>\\n      <td>20.82</td>\\n      <td>26.84</td>\\n      <td>28.74</td>\\n      <td>30.99</td>\\n      <td>32.87</td>\\n      <td>35.51</td>\\n      <td>38.38</td>\\n      <td>38.41</td>\\n      <td>47.64</td>\\n      <td>45.71</td>\\n      <td>42.65</td>\\n      <td>37.60</td>\\n      <td>35.35</td>\\n      <td>34.78</td>\\n      <td>35.37</td>\\n      <td>36.86</td>\\n      <td>39.51</td>\\n      <td>39.16</td>\\n      <td>38.72</td>\\n      <td>38.93</td>\\n      <td>38.85</td>\\n      <td>39.14</td>\\n      <td>39.48</td>\\n      <td>38.57</td>\\n      <td>37.84</td>\\n      <td>NaN</td>\\n      <td>39.05</td>\\n      <td>38.04</td>\\n      <td>37.02</td>\\n      <td>39.87</td>\\n      <td>35.66</td>\\n      <td>35.83</td>\\n      <td>39.71</td>\\n      <td>NaN</td>\\n      <td>40.02</td>\\n      <td>37.82</td>\\n      <td>33.31</td>\\n      <td>31.92</td>\\n      <td>29.61</td>\\n      <td>27.53</td>\\n      <td>25.63</td>\\n      <td>23.93</td>\\n      <td>23.10</td>\\n      <td>22.42</td>\\n      <td>20.91</td>\\n      <td>NaN</td>\\n      <td>19.74</td>\\n    </tr>\\n    <tr>\\n      <th>2</th>\\n      <td>MDV</td>\\n      <td>SE.PRM.ENRL.TC.ZS</td>\\n      <td>Maldives</td>\\n      <td>Pupil-teacher ratio, primary</td>\\n      <td>NaN</td>\\n      <td>NaN</td>\\n      <td>NaN</td>\\n      <td>NaN</td>\\n      <td>NaN</td>\\n      <td>NaN</td>\\n      <td>NaN</td>\\n      <td>NaN</td>\\n      <td>NaN</td>\\n      <td>NaN</td>\\n      <td>NaN</td>\\n      <td>NaN</td>\\n      <td>NaN</td>\\n      <td>NaN</td>\\n      <td>NaN</td>\\n      <td>NaN</td>\\n      <td>NaN</td>\\n      <td>NaN</td>\\n      <td>NaN</td>\\n      <td>NaN</td>\\n      <td>NaN</td>\\n      <td>NaN</td>\\n      <td>NaN</td>\\n      <td>NaN</td>\\n      <td>NaN</td>\\n      <td>NaN</td>\\n      <td>NaN</td>\\n      <td>NaN</td>\\n      <td>26.21</td>\\n      <td>24.27</td>\\n      <td>22.65</td>\\n      <td>22.52</td>\\n      <td>20.01</td>\\n      <td>18.16</td>\\n      <td>22.72</td>\\n      <td>20.08</td>\\n      <td>16.42</td>\\n      <td>14.52</td>\\n      <td>13.26</td>\\n      <td>12.68</td>\\n      <td>11.70</td>\\n      <td>12.28</td>\\n      <td>11.41</td>\\n      <td>11.19</td>\\n      <td>12.02</td>\\n      <td>10.34</td>\\n      <td>10.30</td>\\n      <td>10.16</td>\\n      <td>NaN</td>\\n      <td>NaN</td>\\n    </tr>\\n    <tr>\\n      <th>3</th>\\n      <td>LKA</td>\\n      <td>SE.PRM.ENRL.TC.ZS</td>\\n      <td>Sri Lanka</td>\\n      <td>Pupil-teacher ratio, primary</td>\\n      <td>NaN</td>\\n      <td>NaN</td>\\n      <td>NaN</td>\\n      <td>NaN</td>\\n      <td>NaN</td>\\n      <td>NaN</td>\\n      <td>29.93</td>\\n      <td>30.24</td>\\n      <td>31.93</td>\\n      <td>NaN</td>\\n      <td>NaN</td>\\n      <td>NaN</td>\\n      <td>NaN</td>\\n      <td>NaN</td>\\n      <td>NaN</td>\\n      <td>NaN</td>\\n      <td>NaN</td>\\n      <td>NaN</td>\\n      <td>NaN</td>\\n      <td>NaN</td>\\n      <td>NaN</td>\\n      <td>NaN</td>\\n      <td>29.43</td>\\n      <td>28.75</td>\\n      <td>27.96</td>\\n      <td>27.82</td>\\n      <td>27.79</td>\\n      <td>NaN</td>\\n      <td>NaN</td>\\n      <td>NaN</td>\\n      <td>NaN</td>\\n      <td>26.28</td>\\n      <td>24.85</td>\\n      <td>23.43</td>\\n      <td>22.50</td>\\n      <td>21.92</td>\\n      <td>23.48</td>\\n      <td>23.81</td>\\n      <td>23.50</td>\\n      <td>23.15</td>\\n      <td>23.91</td>\\n      <td>24.07</td>\\n      <td>24.43</td>\\n      <td>23.75</td>\\n      <td>23.66</td>\\n      <td>23.15</td>\\n      <td>23.17</td>\\n      <td>22.93</td>\\n      <td>21.74</td>\\n      <td>NaN</td>\\n    </tr>\\n    <tr>\\n      <th>4</th>\\n      <td>IND</td>\\n      <td>SE.PRM.ENRL.TC.ZS</td>\\n      <td>India</td>\\n      <td>Pupil-teacher ratio, primary</td>\\n      <td>NaN</td>\\n      <td>41.45</td>\\n      <td>41.62</td>\\n      <td>42.54</td>\\n      <td>42.52</td>\\n      <td>41.93</td>\\n      <td>42.11</td>\\n      <td>NaN</td>\\n      <td>NaN</td>\\n      <td>42.90</td>\\n      <td>NaN</td>\\n      <td>NaN</td>\\n      <td>NaN</td>\\n      <td>NaN</td>\\n      <td>NaN</td>\\n      <td>NaN</td>\\n      <td>NaN</td>\\n      <td>NaN</td>\\n      <td>NaN</td>\\n      <td>NaN</td>\\n      <td>NaN</td>\\n      <td>NaN</td>\\n      <td>NaN</td>\\n      <td>NaN</td>\\n      <td>NaN</td>\\n      <td>NaN</td>\\n      <td>NaN</td>\\n      <td>NaN</td>\\n      <td>NaN</td>\\n      <td>40.00</td>\\n      <td>40.00</td>\\n      <td>40.15</td>\\n      <td>40.66</td>\\n      <td>41.33</td>\\n      <td>NaN</td>\\n      <td>NaN</td>\\n      <td>NaN</td>\\n      <td>NaN</td>\\n      <td>NaN</td>\\n      <td>NaN</td>\\n      <td>NaN</td>\\n      <td>35.15</td>\\n      <td>NaN</td>\\n      <td>32.32</td>\\n      <td>31.29</td>\\n      <td>31.49</td>\\n      <td>35.22</td>\\n      <td>32.75</td>\\n      <td>NaN</td>\\n      <td>NaN</td>\\n    </tr>\\n    <tr>\\n      <th>5</th>\\n      <td>BTN</td>\\n      <td>SE.PRM.ENRL.TC.ZS</td>\\n      <td>Bhutan</td>\\n      <td>Pupil-teacher ratio, primary</td>\\n      <td>20.73</td>\\n      <td>20.23</td>\\n      <td>22.14</td>\\n      <td>NaN</td>\\n      <td>23.81</td>\\n      <td>NaN</td>\\n      <td>NaN</td>\\n      <td>24.35</td>\\n      <td>24.07</td>\\n      <td>25.25</td>\\n      <td>NaN</td>\\n      <td>NaN</td>\\n      <td>35.62</td>\\n      <td>35.45</td>\\n      <td>38.53</td>\\n      <td>NaN</td>\\n      <td>37.46</td>\\n      <td>37.16</td>\\n      <td>36.58</td>\\n      <td>NaN</td>\\n      <td>NaN</td>\\n      <td>28.63</td>\\n      <td>NaN</td>\\n      <td>30.54</td>\\n      <td>NaN</td>\\n      <td>35.49</td>\\n      <td>NaN</td>\\n      <td>NaN</td>\\n      <td>39.28</td>\\n      <td>41.70</td>\\n      <td>41.15</td>\\n      <td>39.48</td>\\n      <td>NaN</td>\\n      <td>NaN</td>\\n      <td>NaN</td>\\n      <td>31.05</td>\\n      <td>29.18</td>\\n      <td>NaN</td>\\n      <td>29.88</td>\\n      <td>27.70</td>\\n      <td>25.90</td>\\n      <td>25.38</td>\\n      <td>23.99</td>\\n      <td>28.68</td>\\n      <td>NaN</td>\\n      <td>40.00</td>\\n      <td>38.04</td>\\n      <td>34.56</td>\\n      <td>34.67</td>\\n      <td>NaN</td>\\n    </tr>\\n    <tr>\\n      <th>6</th>\\n      <td>BGD</td>\\n      <td>SE.PRM.ENRL.TC.ZS</td>\\n      <td>Bangladesh</td>\\n      <td>Pupil-teacher ratio, primary</td>\\n      <td>46.48</td>\\n      <td>42.98</td>\\n      <td>47.01</td>\\n      <td>50.04</td>\\n      <td>51.56</td>\\n      <td>50.69</td>\\n      <td>50.30</td>\\n      <td>47.18</td>\\n      <td>44.16</td>\\n      <td>43.92</td>\\n      <td>53.56</td>\\n      <td>55.27</td>\\n      <td>NaN</td>\\n      <td>51.40</td>\\n      <td>46.95</td>\\n      <td>46.97</td>\\n      <td>47.84</td>\\n      <td>48.08</td>\\n      <td>57.87</td>\\n      <td>60.39</td>\\n      <td>63.00</td>\\n      <td>NaN</td>\\n      <td>NaN</td>\\n      <td>NaN</td>\\n      <td>NaN</td>\\n      <td>NaN</td>\\n      <td>NaN</td>\\n      <td>NaN</td>\\n      <td>NaN</td>\\n      <td>NaN</td>\\n      <td>NaN</td>\\n      <td>NaN</td>\\n      <td>NaN</td>\\n      <td>NaN</td>\\n      <td>NaN</td>\\n      <td>47.04</td>\\n      <td>47.54</td>\\n      <td>44.75</td>\\n      <td>43.73</td>\\n      <td>45.76</td>\\n      <td>42.97</td>\\n      <td>NaN</td>\\n      <td>NaN</td>\\n      <td>NaN</td>\\n      <td>NaN</td>\\n      <td>NaN</td>\\n      <td>NaN</td>\\n      <td>30.05</td>\\n      <td>30.05</td>\\n      <td>NaN</td>\\n    </tr>\\n    <tr>\\n      <th>7</th>\\n      <td>AFG</td>\\n      <td>SE.PRM.ENRL.TC.ZS</td>\\n      <td>Afghanistan</td>\\n      <td>Pupil-teacher ratio, primary</td>\\n      <td>41.22</td>\\n      <td>39.11</td>\\n      <td>40.38</td>\\n      <td>38.32</td>\\n      <td>37.22</td>\\n      <td>37.31</td>\\n      <td>35.76</td>\\n      <td>NaN</td>\\n      <td>NaN</td>\\n      <td>NaN</td>\\n      <td>NaN</td>\\n      <td>NaN</td>\\n      <td>NaN</td>\\n      <td>NaN</td>\\n      <td>NaN</td>\\n      <td>NaN</td>\\n      <td>NaN</td>\\n      <td>NaN</td>\\n      <td>NaN</td>\\n      <td>36.41</td>\\n      <td>41.21</td>\\n      <td>NaN</td>\\n      <td>NaN</td>\\n      <td>48.67</td>\\n      <td>57.91</td>\\n      <td>NaN</td>\\n      <td>NaN</td>\\n      <td>NaN</td>\\n      <td>32.10</td>\\n      <td>33.19</td>\\n      <td>NaN</td>\\n      <td>NaN</td>\\n      <td>NaN</td>\\n      <td>NaN</td>\\n      <td>NaN</td>\\n      <td>NaN</td>\\n      <td>42.33</td>\\n      <td>42.77</td>\\n      <td>43.73</td>\\n      <td>42.84</td>\\n      <td>44.42</td>\\n      <td>43.52</td>\\n      <td>44.68</td>\\n      <td>45.71</td>\\n      <td>NaN</td>\\n      <td>43.39</td>\\n      <td>44.58</td>\\n      <td>47.98</td>\\n      <td>48.79</td>\\n      <td>NaN</td>\\n    </tr>\\n    <tr>\\n      <th>8</th>\\n      <td>PAK</td>\\n      <td>SE.TER.ENRL.TC.ZS</td>\\n      <td>Pakistan</td>\\n      <td>Pupil-teacher ratio, tertiary</td>\\n      <td>NaN</td>\\n      <td>33.43</td>\\n      <td>NaN</td>\\n      <td>NaN</td>\\n      <td>NaN</td>\\n      <td>NaN</td>\\n      <td>24.02</td>\\n      <td>NaN</td>\\n      <td>NaN</td>\\n      <td>NaN</td>\\n      <td>NaN</td>\\n      <td>NaN</td>\\n      <td>NaN</td>\\n      <td>NaN</td>\\n      <td>NaN</td>\\n      <td>NaN</td>\\n      <td>34.30</td>\\n      <td>34.15</td>\\n      <td>NaN</td>\\n      <td>NaN</td>\\n      <td>NaN</td>\\n      <td>NaN</td>\\n      <td>41.41</td>\\n      <td>NaN</td>\\n      <td>NaN</td>\\n      <td>NaN</td>\\n      <td>NaN</td>\\n      <td>NaN</td>\\n      <td>NaN</td>\\n      <td>NaN</td>\\n      <td>NaN</td>\\n      <td>NaN</td>\\n      <td>NaN</td>\\n      <td>NaN</td>\\n      <td>NaN</td>\\n      <td>NaN</td>\\n      <td>NaN</td>\\n      <td>NaN</td>\\n      <td>NaN</td>\\n      <td>NaN</td>\\n      <td>NaN</td>\\n      <td>NaN</td>\\n      <td>NaN</td>\\n      <td>NaN</td>\\n      <td>NaN</td>\\n      <td>NaN</td>\\n      <td>NaN</td>\\n      <td>33.06</td>\\n      <td>33.02</td>\\n      <td>NaN</td>\\n    </tr>\\n    <tr>\\n      <th>9</th>\\n      <td>NPL</td>\\n      <td>SE.TER.ENRL.TC.ZS</td>\\n      <td>Nepal</td>\\n      <td>Pupil-teacher ratio, tertiary</td>\\n      <td>NaN</td>\\n      <td>NaN</td>\\n      <td>NaN</td>\\n      <td>NaN</td>\\n      <td>12.09</td>\\n      <td>15.50</td>\\n      <td>11.09</td>\\n      <td>12.83</td>\\n      <td>13.82</td>\\n      <td>NaN</td>\\n      <td>NaN</td>\\n      <td>NaN</td>\\n      <td>NaN</td>\\n      <td>12.71</td>\\n      <td>NaN</td>\\n      <td>NaN</td>\\n      <td>NaN</td>\\n      <td>NaN</td>\\n      <td>NaN</td>\\n      <td>21.76</td>\\n      <td>NaN</td>\\n      <td>22.38</td>\\n      <td>NaN</td>\\n      <td>NaN</td>\\n      <td>NaN</td>\\n      <td>NaN</td>\\n      <td>NaN</td>\\n      <td>NaN</td>\\n      <td>NaN</td>\\n      <td>NaN</td>\\n      <td>NaN</td>\\n      <td>22.46</td>\\n      <td>NaN</td>\\n      <td>NaN</td>\\n      <td>NaN</td>\\n      <td>27.15</td>\\n      <td>23.87</td>\\n      <td>25.65</td>\\n      <td>NaN</td>\\n      <td>NaN</td>\\n      <td>NaN</td>\\n      <td>NaN</td>\\n      <td>NaN</td>\\n      <td>60.01</td>\\n      <td>NaN</td>\\n      <td>NaN</td>\\n      <td>NaN</td>\\n      <td>NaN</td>\\n      <td>NaN</td>\\n      <td>NaN</td>\\n    </tr>\\n    <tr>\\n      <th>10</th>\\n      <td>MDV</td>\\n      <td>SE.TER.ENRL.TC.ZS</td>\\n      <td>Maldives</td>\\n      <td>Pupil-teacher ratio, tertiary</td>\\n      <td>NaN</td>\\n      <td>NaN</td>\\n      <td>NaN</td>\\n      <td>NaN</td>\\n      <td>NaN</td>\\n      <td>NaN</td>\\n      <td>NaN</td>\\n      <td>NaN</td>\\n      <td>NaN</td>\\n      <td>NaN</td>\\n      <td>NaN</td>\\n      <td>NaN</td>\\n      <td>NaN</td>\\n      <td>NaN</td>\\n      <td>NaN</td>\\n      <td>NaN</td>\\n      <td>NaN</td>\\n      <td>NaN</td>\\n      <td>NaN</td>\\n      <td>NaN</td>\\n      <td>NaN</td>\\n      <td>NaN</td>\\n      <td>NaN</td>\\n      <td>NaN</td>\\n      <td>NaN</td>\\n      <td>NaN</td>\\n      <td>NaN</td>\\n      <td>NaN</td>\\n      <td>NaN</td>\\n      <td>NaN</td>\\n      <td>NaN</td>\\n      <td>NaN</td>\\n      <td>NaN</td>\\n      <td>1.87</td>\\n      <td>NaN</td>\\n      <td>NaN</td>\\n      <td>NaN</td>\\n      <td>NaN</td>\\n      <td>NaN</td>\\n      <td>NaN</td>\\n      <td>NaN</td>\\n      <td>NaN</td>\\n      <td>NaN</td>\\n      <td>NaN</td>\\n      <td>NaN</td>\\n      <td>NaN</td>\\n      <td>NaN</td>\\n      <td>17.43</td>\\n      <td>NaN</td>\\n      <td>NaN</td>\\n    </tr>\\n    <tr>\\n      <th>11</th>\\n      <td>LKA</td>\\n      <td>SE.TER.ENRL.TC.ZS</td>\\n      <td>Sri Lanka</td>\\n      <td>Pupil-teacher ratio, tertiary</td>\\n      <td>8.29</td>\\n      <td>8.07</td>\\n      <td>NaN</td>\\n      <td>7.41</td>\\n      <td>7.83</td>\\n      <td>7.71</td>\\n      <td>NaN</td>\\n      <td>NaN</td>\\n      <td>NaN</td>\\n      <td>9.08</td>\\n      <td>NaN</td>\\n      <td>9.51</td>\\n      <td>13.92</td>\\n      <td>18.77</td>\\n      <td>NaN</td>\\n      <td>17.70</td>\\n      <td>16.54</td>\\n      <td>NaN</td>\\n      <td>NaN</td>\\n      <td>NaN</td>\\n      <td>NaN</td>\\n      <td>NaN</td>\\n      <td>NaN</td>\\n      <td>NaN</td>\\n      <td>22.99</td>\\n      <td>NaN</td>\\n      <td>NaN</td>\\n      <td>NaN</td>\\n      <td>NaN</td>\\n      <td>NaN</td>\\n      <td>NaN</td>\\n      <td>NaN</td>\\n      <td>NaN</td>\\n      <td>NaN</td>\\n      <td>NaN</td>\\n      <td>NaN</td>\\n      <td>NaN</td>\\n      <td>NaN</td>\\n      <td>NaN</td>\\n      <td>NaN</td>\\n      <td>NaN</td>\\n      <td>NaN</td>\\n      <td>NaN</td>\\n      <td>NaN</td>\\n      <td>NaN</td>\\n      <td>NaN</td>\\n      <td>NaN</td>\\n      <td>30.97</td>\\n      <td>29.76</td>\\n      <td>NaN</td>\\n    </tr>\\n    <tr>\\n      <th>12</th>\\n      <td>IND</td>\\n      <td>SE.TER.ENRL.TC.ZS</td>\\n      <td>India</td>\\n      <td>Pupil-teacher ratio, tertiary</td>\\n      <td>NaN</td>\\n      <td>NaN</td>\\n      <td>NaN</td>\\n      <td>12.96</td>\\n      <td>NaN</td>\\n      <td>NaN</td>\\n      <td>12.91</td>\\n      <td>12.38</td>\\n      <td>12.93</td>\\n      <td>13.87</td>\\n      <td>11.82</td>\\n      <td>NaN</td>\\n      <td>NaN</td>\\n      <td>NaN</td>\\n      <td>14.09</td>\\n      <td>14.58</td>\\n      <td>14.76</td>\\n      <td>15.03</td>\\n      <td>NaN</td>\\n      <td>NaN</td>\\n      <td>NaN</td>\\n      <td>NaN</td>\\n      <td>NaN</td>\\n      <td>NaN</td>\\n      <td>NaN</td>\\n      <td>NaN</td>\\n      <td>NaN</td>\\n      <td>NaN</td>\\n      <td>NaN</td>\\n      <td>NaN</td>\\n      <td>23.57</td>\\n      <td>23.80</td>\\n      <td>24.67</td>\\n      <td>26.39</td>\\n      <td>22.00</td>\\n      <td>NaN</td>\\n      <td>NaN</td>\\n      <td>NaN</td>\\n      <td>NaN</td>\\n      <td>NaN</td>\\n      <td>NaN</td>\\n      <td>NaN</td>\\n      <td>NaN</td>\\n      <td>21.53</td>\\n      <td>24.47</td>\\n      <td>24.29</td>\\n      <td>23.75</td>\\n      <td>24.44</td>\\n      <td>24.73</td>\\n      <td>NaN</td>\\n    </tr>\\n    <tr>\\n      <th>13</th>\\n      <td>BTN</td>\\n      <td>SE.TER.ENRL.TC.ZS</td>\\n      <td>Bhutan</td>\\n      <td>Pupil-teacher ratio, tertiary</td>\\n      <td>NaN</td>\\n      <td>NaN</td>\\n      <td>NaN</td>\\n      <td>NaN</td>\\n      <td>NaN</td>\\n      <td>NaN</td>\\n      <td>NaN</td>\\n      <td>NaN</td>\\n      <td>5.38</td>\\n      <td>7.33</td>\\n      <td>8.70</td>\\n      <td>NaN</td>\\n      <td>NaN</td>\\n      <td>8.23</td>\\n      <td>NaN</td>\\n      <td>NaN</td>\\n      <td>NaN</td>\\n      <td>NaN</td>\\n      <td>NaN</td>\\n      <td>NaN</td>\\n      <td>NaN</td>\\n      <td>NaN</td>\\n      <td>NaN</td>\\n      <td>NaN</td>\\n      <td>NaN</td>\\n      <td>NaN</td>\\n      <td>NaN</td>\\n      <td>NaN</td>\\n      <td>NaN</td>\\n      <td>NaN</td>\\n      <td>NaN</td>\\n      <td>NaN</td>\\n      <td>NaN</td>\\n      <td>NaN</td>\\n      <td>NaN</td>\\n      <td>NaN</td>\\n      <td>10.79</td>\\n      <td>6.30</td>\\n      <td>6.37</td>\\n      <td>NaN</td>\\n      <td>6.75</td>\\n      <td>7.24</td>\\n      <td>7.75</td>\\n      <td>NaN</td>\\n      <td>NaN</td>\\n      <td>NaN</td>\\n      <td>NaN</td>\\n      <td>NaN</td>\\n      <td>15.59</td>\\n      <td>NaN</td>\\n    </tr>\\n    <tr>\\n      <th>14</th>\\n      <td>BGD</td>\\n      <td>SE.TER.ENRL.TC.ZS</td>\\n      <td>Bangladesh</td>\\n      <td>Pupil-teacher ratio, tertiary</td>\\n      <td>16.33</td>\\n      <td>NaN</td>\\n      <td>NaN</td>\\n      <td>NaN</td>\\n      <td>NaN</td>\\n      <td>NaN</td>\\n      <td>11.75</td>\\n      <td>13.86</td>\\n      <td>9.79</td>\\n      <td>18.88</td>\\n      <td>19.33</td>\\n      <td>19.11</td>\\n      <td>19.83</td>\\n      <td>26.32</td>\\n      <td>28.72</td>\\n      <td>28.48</td>\\n      <td>26.74</td>\\n      <td>21.66</td>\\n      <td>17.80</td>\\n      <td>NaN</td>\\n      <td>19.35</td>\\n      <td>NaN</td>\\n      <td>NaN</td>\\n      <td>NaN</td>\\n      <td>NaN</td>\\n      <td>NaN</td>\\n      <td>NaN</td>\\n      <td>NaN</td>\\n      <td>NaN</td>\\n      <td>20.48</td>\\n      <td>19.75</td>\\n      <td>22.49</td>\\n      <td>20.55</td>\\n      <td>19.12</td>\\n      <td>16.69</td>\\n      <td>17.43</td>\\n      <td>17.80</td>\\n      <td>18.80</td>\\n      <td>21.03</td>\\n      <td>26.95</td>\\n      <td>NaN</td>\\n      <td>25.96</td>\\n      <td>23.09</td>\\n      <td>NaN</td>\\n      <td>22.87</td>\\n      <td>NaN</td>\\n      <td>28.97</td>\\n      <td>30.34</td>\\n      <td>37.12</td>\\n      <td>NaN</td>\\n    </tr>\\n    <tr>\\n      <th>15</th>\\n      <td>AFG</td>\\n      <td>SE.TER.ENRL.TC.ZS</td>\\n      <td>Afghanistan</td>\\n      <td>Pupil-teacher ratio, tertiary</td>\\n      <td>9.75</td>\\n      <td>NaN</td>\\n      <td>10.10</td>\\n      <td>9.09</td>\\n      <td>11.16</td>\\n      <td>NaN</td>\\n      <td>NaN</td>\\n      <td>NaN</td>\\n      <td>NaN</td>\\n      <td>15.87</td>\\n      <td>NaN</td>\\n      <td>NaN</td>\\n      <td>11.40</td>\\n      <td>NaN</td>\\n      <td>NaN</td>\\n      <td>NaN</td>\\n      <td>NaN</td>\\n      <td>12.35</td>\\n      <td>NaN</td>\\n      <td>NaN</td>\\n      <td>18.13</td>\\n      <td>NaN</td>\\n      <td>NaN</td>\\n      <td>NaN</td>\\n      <td>NaN</td>\\n      <td>NaN</td>\\n      <td>NaN</td>\\n      <td>NaN</td>\\n      <td>NaN</td>\\n      <td>NaN</td>\\n      <td>NaN</td>\\n      <td>NaN</td>\\n      <td>NaN</td>\\n      <td>15.53</td>\\n      <td>15.52</td>\\n      <td>NaN</td>\\n      <td>NaN</td>\\n      <td>NaN</td>\\n      <td>NaN</td>\\n      <td>28.48</td>\\n      <td>NaN</td>\\n      <td>31.90</td>\\n      <td>NaN</td>\\n      <td>NaN</td>\\n      <td>23.89</td>\\n      <td>NaN</td>\\n      <td>NaN</td>\\n      <td>NaN</td>\\n      <td>21.53</td>\\n      <td>NaN</td>\\n    </tr>\\n    <tr>\\n      <th>16</th>\\n      <td>PAK</td>\\n      <td>SE.SEC.ENRL.UP.TC.ZS</td>\\n      <td>Pakistan</td>\\n      <td>Pupil-teacher ratio, upper secondary</td>\\n      <td>NaN</td>\\n      <td>NaN</td>\\n      <td>NaN</td>\\n      <td>NaN</td>\\n      <td>NaN</td>\\n      <td>NaN</td>\\n      <td>NaN</td>\\n      <td>NaN</td>\\n      <td>NaN</td>\\n      <td>NaN</td>\\n      <td>NaN</td>\\n      <td>NaN</td>\\n      <td>NaN</td>\\n      <td>NaN</td>\\n      <td>NaN</td>\\n      <td>NaN</td>\\n      <td>NaN</td>\\n      <td>NaN</td>\\n      <td>NaN</td>\\n      <td>NaN</td>\\n      <td>NaN</td>\\n      <td>NaN</td>\\n      <td>NaN</td>\\n      <td>NaN</td>\\n      <td>NaN</td>\\n      <td>NaN</td>\\n      <td>NaN</td>\\n      <td>NaN</td>\\n      <td>NaN</td>\\n      <td>NaN</td>\\n      <td>NaN</td>\\n      <td>NaN</td>\\n      <td>NaN</td>\\n      <td>23.97</td>\\n      <td>26.01</td>\\n      <td>22.46</td>\\n      <td>NaN</td>\\n      <td>NaN</td>\\n      <td>NaN</td>\\n      <td>NaN</td>\\n      <td>NaN</td>\\n      <td>29.32</td>\\n      <td>28.42</td>\\n      <td>28.46</td>\\n      <td>29.69</td>\\n      <td>28.79</td>\\n      <td>28.99</td>\\n      <td>28.99</td>\\n      <td>28.99</td>\\n      <td>NaN</td>\\n    </tr>\\n    <tr>\\n      <th>17</th>\\n      <td>NPL</td>\\n      <td>SE.SEC.ENRL.UP.TC.ZS</td>\\n      <td>Nepal</td>\\n      <td>Pupil-teacher ratio, upper secondary</td>\\n      <td>NaN</td>\\n      <td>NaN</td>\\n      <td>NaN</td>\\n      <td>NaN</td>\\n      <td>NaN</td>\\n      <td>NaN</td>\\n      <td>NaN</td>\\n      <td>NaN</td>\\n      <td>NaN</td>\\n      <td>NaN</td>\\n      <td>NaN</td>\\n      <td>NaN</td>\\n      <td>NaN</td>\\n      <td>NaN</td>\\n      <td>NaN</td>\\n      <td>NaN</td>\\n      <td>NaN</td>\\n      <td>NaN</td>\\n      <td>NaN</td>\\n      <td>NaN</td>\\n      <td>NaN</td>\\n      <td>NaN</td>\\n      <td>NaN</td>\\n      <td>21.55</td>\\n      <td>19.85</td>\\n      <td>19.89</td>\\n      <td>20.08</td>\\n      <td>NaN</td>\\n      <td>NaN</td>\\n      <td>23.73</td>\\n      <td>21.71</td>\\n      <td>27.21</td>\\n      <td>NaN</td>\\n      <td>28.11</td>\\n      <td>NaN</td>\\n      <td>NaN</td>\\n      <td>NaN</td>\\n      <td>NaN</td>\\n      <td>29.82</td>\\n      <td>NaN</td>\\n      <td>24.76</td>\\n      <td>23.04</td>\\n      <td>22.72</td>\\n      <td>22.91</td>\\n      <td>23.01</td>\\n      <td>22.80</td>\\n      <td>23.54</td>\\n      <td>24.16</td>\\n      <td>NaN</td>\\n      <td>24.86</td>\\n    </tr>\\n    <tr>\\n      <th>18</th>\\n      <td>MDV</td>\\n      <td>SE.SEC.ENRL.UP.TC.ZS</td>\\n      <td>Maldives</td>\\n      <td>Pupil-teacher ratio, upper secondary</td>\\n      <td>NaN</td>\\n      <td>NaN</td>\\n      <td>NaN</td>\\n      <td>NaN</td>\\n      <td>NaN</td>\\n      <td>NaN</td>\\n      <td>NaN</td>\\n      <td>NaN</td>\\n      <td>NaN</td>\\n      <td>NaN</td>\\n      <td>NaN</td>\\n      <td>NaN</td>\\n      <td>NaN</td>\\n      <td>NaN</td>\\n      <td>NaN</td>\\n      <td>NaN</td>\\n      <td>NaN</td>\\n      <td>NaN</td>\\n      <td>NaN</td>\\n      <td>NaN</td>\\n      <td>NaN</td>\\n      <td>NaN</td>\\n      <td>NaN</td>\\n      <td>NaN</td>\\n      <td>NaN</td>\\n      <td>NaN</td>\\n      <td>NaN</td>\\n      <td>NaN</td>\\n      <td>10.14</td>\\n      <td>8.79</td>\\n      <td>9.12</td>\\n      <td>4.42</td>\\n      <td>15.51</td>\\n      <td>8.38</td>\\n      <td>NaN</td>\\n      <td>NaN</td>\\n      <td>NaN</td>\\n      <td>NaN</td>\\n      <td>NaN</td>\\n      <td>NaN</td>\\n      <td>NaN</td>\\n      <td>NaN</td>\\n      <td>NaN</td>\\n      <td>NaN</td>\\n      <td>NaN</td>\\n      <td>NaN</td>\\n      <td>NaN</td>\\n      <td>NaN</td>\\n      <td>NaN</td>\\n      <td>NaN</td>\\n    </tr>\\n    <tr>\\n      <th>19</th>\\n      <td>LKA</td>\\n      <td>SE.SEC.ENRL.UP.TC.ZS</td>\\n      <td>Sri Lanka</td>\\n      <td>Pupil-teacher ratio, upper secondary</td>\\n      <td>NaN</td>\\n      <td>NaN</td>\\n      <td>NaN</td>\\n      <td>NaN</td>\\n      <td>NaN</td>\\n      <td>NaN</td>\\n      <td>NaN</td>\\n      <td>NaN</td>\\n      <td>NaN</td>\\n      <td>NaN</td>\\n      <td>NaN</td>\\n      <td>NaN</td>\\n      <td>NaN</td>\\n      <td>NaN</td>\\n      <td>NaN</td>\\n      <td>NaN</td>\\n      <td>NaN</td>\\n      <td>NaN</td>\\n      <td>NaN</td>\\n      <td>NaN</td>\\n      <td>NaN</td>\\n      <td>NaN</td>\\n      <td>NaN</td>\\n      <td>NaN</td>\\n      <td>NaN</td>\\n      <td>NaN</td>\\n      <td>NaN</td>\\n      <td>NaN</td>\\n      <td>NaN</td>\\n      <td>NaN</td>\\n      <td>NaN</td>\\n      <td>NaN</td>\\n      <td>NaN</td>\\n      <td>NaN</td>\\n      <td>NaN</td>\\n      <td>NaN</td>\\n      <td>NaN</td>\\n      <td>NaN</td>\\n      <td>NaN</td>\\n      <td>NaN</td>\\n      <td>NaN</td>\\n      <td>17.88</td>\\n      <td>18.16</td>\\n      <td>NaN</td>\\n      <td>NaN</td>\\n      <td>NaN</td>\\n      <td>17.89</td>\\n      <td>17.86</td>\\n      <td>18.48</td>\\n      <td>NaN</td>\\n    </tr>\\n    <tr>\\n      <th>20</th>\\n      <td>IND</td>\\n      <td>SE.SEC.ENRL.UP.TC.ZS</td>\\n      <td>India</td>\\n      <td>Pupil-teacher ratio, upper secondary</td>\\n      <td>NaN</td>\\n      <td>NaN</td>\\n      <td>NaN</td>\\n      <td>NaN</td>\\n      <td>NaN</td>\\n      <td>NaN</td>\\n      <td>NaN</td>\\n      <td>NaN</td>\\n      <td>NaN</td>\\n      <td>NaN</td>\\n      <td>NaN</td>\\n      <td>NaN</td>\\n      <td>NaN</td>\\n      <td>NaN</td>\\n      <td>NaN</td>\\n      <td>NaN</td>\\n      <td>NaN</td>\\n      <td>NaN</td>\\n      <td>NaN</td>\\n      <td>NaN</td>\\n      <td>NaN</td>\\n      <td>NaN</td>\\n      <td>NaN</td>\\n      <td>NaN</td>\\n      <td>NaN</td>\\n      <td>NaN</td>\\n      <td>NaN</td>\\n      <td>NaN</td>\\n      <td>NaN</td>\\n      <td>NaN</td>\\n      <td>31.06</td>\\n      <td>30.86</td>\\n      <td>28.43</td>\\n      <td>NaN</td>\\n      <td>28.06</td>\\n      <td>NaN</td>\\n      <td>NaN</td>\\n      <td>NaN</td>\\n      <td>NaN</td>\\n      <td>21.16</td>\\n      <td>20.63</td>\\n      <td>20.67</td>\\n      <td>NaN</td>\\n      <td>32.06</td>\\n      <td>33.29</td>\\n      <td>33.02</td>\\n      <td>30.25</td>\\n      <td>29.30</td>\\n      <td>33.14</td>\\n      <td>NaN</td>\\n    </tr>\\n    <tr>\\n      <th>21</th>\\n      <td>BTN</td>\\n      <td>SE.SEC.ENRL.UP.TC.ZS</td>\\n      <td>Bhutan</td>\\n      <td>Pupil-teacher ratio, upper secondary</td>\\n      <td>NaN</td>\\n      <td>NaN</td>\\n      <td>NaN</td>\\n      <td>NaN</td>\\n      <td>NaN</td>\\n      <td>NaN</td>\\n      <td>NaN</td>\\n      <td>NaN</td>\\n      <td>NaN</td>\\n      <td>NaN</td>\\n      <td>NaN</td>\\n      <td>NaN</td>\\n      <td>NaN</td>\\n      <td>NaN</td>\\n      <td>NaN</td>\\n      <td>NaN</td>\\n      <td>NaN</td>\\n      <td>NaN</td>\\n      <td>NaN</td>\\n      <td>NaN</td>\\n      <td>NaN</td>\\n      <td>NaN</td>\\n      <td>NaN</td>\\n      <td>NaN</td>\\n      <td>NaN</td>\\n      <td>NaN</td>\\n      <td>NaN</td>\\n      <td>NaN</td>\\n      <td>NaN</td>\\n      <td>20.66</td>\\n      <td>NaN</td>\\n      <td>NaN</td>\\n      <td>NaN</td>\\n      <td>NaN</td>\\n      <td>NaN</td>\\n      <td>19.52</td>\\n      <td>10.42</td>\\n      <td>NaN</td>\\n      <td>12.03</td>\\n      <td>12.04</td>\\n      <td>14.60</td>\\n      <td>16.58</td>\\n      <td>14.23</td>\\n      <td>9.51</td>\\n      <td>10.56</td>\\n      <td>9.91</td>\\n      <td>8.01</td>\\n      <td>7.90</td>\\n      <td>7.86</td>\\n      <td>NaN</td>\\n    </tr>\\n    <tr>\\n      <th>22</th>\\n      <td>BGD</td>\\n      <td>SE.SEC.ENRL.UP.TC.ZS</td>\\n      <td>Bangladesh</td>\\n      <td>Pupil-teacher ratio, upper secondary</td>\\n      <td>NaN</td>\\n      <td>NaN</td>\\n      <td>NaN</td>\\n      <td>NaN</td>\\n      <td>NaN</td>\\n      <td>NaN</td>\\n      <td>NaN</td>\\n      <td>NaN</td>\\n      <td>NaN</td>\\n      <td>NaN</td>\\n      <td>NaN</td>\\n      <td>NaN</td>\\n      <td>NaN</td>\\n      <td>NaN</td>\\n      <td>NaN</td>\\n      <td>NaN</td>\\n      <td>NaN</td>\\n      <td>NaN</td>\\n      <td>NaN</td>\\n      <td>NaN</td>\\n      <td>NaN</td>\\n      <td>NaN</td>\\n      <td>NaN</td>\\n      <td>NaN</td>\\n      <td>NaN</td>\\n      <td>NaN</td>\\n      <td>NaN</td>\\n      <td>NaN</td>\\n      <td>30.00</td>\\n      <td>31.50</td>\\n      <td>31.65</td>\\n      <td>29.99</td>\\n      <td>27.40</td>\\n      <td>25.81</td>\\n      <td>21.20</td>\\n      <td>19.18</td>\\n      <td>21.36</td>\\n      <td>21.42</td>\\n      <td>24.26</td>\\n      <td>26.12</td>\\n      <td>25.78</td>\\n      <td>28.09</td>\\n      <td>30.15</td>\\n      <td>33.24</td>\\n      <td>NaN</td>\\n      <td>NaN</td>\\n      <td>31.90</td>\\n      <td>31.18</td>\\n      <td>28.67</td>\\n      <td>NaN</td>\\n    </tr>\\n    <tr>\\n      <th>23</th>\\n      <td>AFG</td>\\n      <td>SE.SEC.ENRL.UP.TC.ZS</td>\\n      <td>Afghanistan</td>\\n      <td>Pupil-teacher ratio, upper secondary</td>\\n      <td>NaN</td>\\n      <td>NaN</td>\\n      <td>NaN</td>\\n      <td>NaN</td>\\n      <td>NaN</td>\\n      <td>NaN</td>\\n      <td>NaN</td>\\n      <td>NaN</td>\\n      <td>NaN</td>\\n      <td>NaN</td>\\n      <td>NaN</td>\\n      <td>NaN</td>\\n      <td>NaN</td>\\n      <td>NaN</td>\\n      <td>NaN</td>\\n      <td>NaN</td>\\n      <td>NaN</td>\\n      <td>NaN</td>\\n      <td>NaN</td>\\n      <td>NaN</td>\\n      <td>NaN</td>\\n      <td>NaN</td>\\n      <td>NaN</td>\\n      <td>NaN</td>\\n      <td>NaN</td>\\n      <td>NaN</td>\\n      <td>NaN</td>\\n      <td>NaN</td>\\n      <td>NaN</td>\\n      <td>NaN</td>\\n      <td>NaN</td>\\n      <td>NaN</td>\\n      <td>NaN</td>\\n      <td>NaN</td>\\n      <td>NaN</td>\\n      <td>NaN</td>\\n      <td>NaN</td>\\n      <td>30.75</td>\\n      <td>NaN</td>\\n      <td>NaN</td>\\n      <td>NaN</td>\\n      <td>NaN</td>\\n      <td>NaN</td>\\n      <td>NaN</td>\\n      <td>NaN</td>\\n      <td>32.14</td>\\n      <td>31.63</td>\\n      <td>32.67</td>\\n      <td>32.84</td>\\n      <td>NaN</td>\\n    </tr>\\n  </tbody>\\n</table>'"
      ]
     },
     "execution_count": 6,
     "metadata": {},
     "output_type": "execute_result"
    }
   ],
   "source": [
    "df.to_html(classes='table table-stripped')"
   ]
  },
  {
   "cell_type": "code",
   "execution_count": 93,
   "id": "e8b224e1",
   "metadata": {},
   "outputs": [],
   "source": [
    "pattern = re.compile(r'\\d{4}')\n",
    "years_int = {each:int(pattern.findall(each)[0]) for each in df.filter(regex=\"\\d{4}\").columns}\n",
    "df.rename(years_int, axis=1, inplace=True)"
   ]
  },
  {
   "cell_type": "code",
   "execution_count": 94,
   "id": "0cb0cfcd",
   "metadata": {},
   "outputs": [],
   "source": [
    "df.fillna(\"\", inplace=True)"
   ]
  },
  {
   "cell_type": "code",
   "execution_count": 95,
   "id": "16251379",
   "metadata": {},
   "outputs": [],
   "source": [
    "df.drop(['economy','series'], axis=1, inplace=True)\n",
    "\n",
    "columns = ['<br>'+str(each)+'</br>' for each in list(df.columns)]"
   ]
  },
  {
   "cell_type": "code",
   "execution_count": 117,
   "id": "eaf5b43e",
   "metadata": {},
   "outputs": [],
   "source": [
    "table = go.Table(\n",
    "        header= dict(\n",
    "            values= columns,\n",
    "            line_color='darkslategray',\n",
    "            fill_color='lightskyblue',\n",
    "            font= dict(size=10),\n",
    "            align= \"center\"\n",
    "        ),\n",
    "        cells=dict(\n",
    "            values=[df[each].to_list() for each in df.columns],\n",
    "            align = \"center\",\n",
    "            line_color='darkslategray',\n",
    "        height=60,  ),\n",
    "    \n",
    "\n",
    "    )"
   ]
  },
  {
   "cell_type": "code",
   "execution_count": 118,
   "id": "59a3bb47",
   "metadata": {},
   "outputs": [],
   "source": [
    "fig = go.Figure(data=[table])"
   ]
  },
  {
   "cell_type": "code",
   "execution_count": 119,
   "id": "6ff2cd06",
   "metadata": {},
   "outputs": [
    {
     "data": {
      "application/vnd.plotly.v1+json": {
       "config": {
        "plotlyServerURL": "https://plot.ly"
       },
       "data": [
        {
         "cells": {
          "align": "center",
          "height": 60,
          "line": {
           "color": "darkslategray"
          },
          "values": [
           [
            "Pakistan",
            "Nepal",
            "Maldives",
            "Sri Lanka",
            "India",
            "Bhutan",
            "Bangladesh",
            "Pakistan",
            "Nepal",
            "Maldives",
            "Sri Lanka",
            "India",
            "Bhutan",
            "Bangladesh",
            "Afghanistan"
           ],
           [
            "Children out of school (% of primary school age)",
            "Children out of school (% of primary school age)",
            "Children out of school (% of primary school age)",
            "Children out of school (% of primary school age)",
            "Children out of school (% of primary school age)",
            "Children out of school (% of primary school age)",
            "Children out of school (% of primary school age)",
            "Government expenditure on education, total (% of GDP)",
            "Government expenditure on education, total (% of GDP)",
            "Government expenditure on education, total (% of GDP)",
            "Government expenditure on education, total (% of GDP)",
            "Government expenditure on education, total (% of GDP)",
            "Government expenditure on education, total (% of GDP)",
            "Government expenditure on education, total (% of GDP)",
            "Government expenditure on education, total (% of GDP)"
           ],
           [
            "",
            30.77,
            2.73,
            "",
            16.99,
            38.87,
            "",
            1.84,
            2.98,
            "",
            "",
            4.32,
            5.79,
            2.13,
            ""
           ],
           [
            "",
            "",
            1.61,
            1.79,
            11.86,
            36.99,
            "",
            "",
            3.71,
            "",
            "",
            "",
            5.92,
            2.17,
            ""
           ],
           [
            "",
            "",
            2.34,
            1.99,
            13.44,
            "",
            "",
            "",
            3.15,
            5.79,
            "",
            "",
            "",
            2.02,
            ""
           ],
           [
            "",
            22.08,
            "",
            2.62,
            8.49,
            "",
            "",
            "",
            3.11,
            5.32,
            "",
            3.61,
            "",
            2.07,
            ""
           ],
           [
            "",
            20.1,
            1.77,
            3.98,
            "",
            "",
            "",
            1.77,
            3.17,
            4.66,
            "",
            3.35,
            6.61,
            1.94,
            ""
           ],
           [
            "",
            "",
            2.41,
            4.24,
            "",
            28.46,
            3.38,
            2.05,
            3.36,
            5.02,
            "",
            3.19,
            7.29,
            "",
            ""
           ],
           [
            "",
            "",
            2.5,
            4.58,
            "",
            23.65,
            3.59,
            2.4,
            3.61,
            4.65,
            "",
            3.14,
            "",
            2.13,
            4.68
           ],
           [
            "",
            "",
            3.56,
            5.21,
            0.92,
            "",
            "",
            2.64,
            3.52,
            4.42,
            "",
            "",
            "",
            2.2,
            4.17
           ],
           [
            "",
            "",
            5.27,
            6.1,
            0.39,
            16.72,
            8.54,
            2.75,
            3.81,
            4.47,
            "",
            "",
            4.91,
            2.05,
            4.38
           ],
           [
            "",
            "",
            2.56,
            8.29,
            1.32,
            11.69,
            8.2,
            2.59,
            4.66,
            5.08,
            2.06,
            3.28,
            4.74,
            1.94,
            4.81
           ],
           [
            "",
            "",
            6.14,
            6.79,
            0.86,
            9.55,
            5.03,
            2.29,
            3.63,
            3.63,
            1.66,
            3.38,
            4.12,
            "",
            3.48
           ],
           [
            "",
            2.18,
            4.64,
            7.04,
            1.32,
            9.21,
            "",
            2.22,
            3.84,
            3.08,
            1.74,
            3.8,
            4.77,
            2.13,
            3.46
           ],
           [
            "",
            1.8,
            6.2,
            7.41,
            1.23,
            8.1,
            "",
            2.14,
            3.53,
            4.97,
            1.45,
            4.09,
            "",
            2.05,
            2.6
           ],
           [
            "",
            "",
            6.61,
            0.29,
            0.43,
            9.73,
            "",
            2.49,
            3.2,
            3.95,
            1.56,
            3.84,
            5.72,
            1.97,
            3.45
           ],
           [
            "",
            1.7,
            4.64,
            6.35,
            "",
            "",
            "",
            2.47,
            3.49,
            3.89,
            1.86,
            3.9,
            6.04,
            2.1,
            3.7
           ],
           [
            "",
            1.6,
            2.84,
            3.86,
            "",
            11.38,
            "",
            2.65,
            3.29,
            4.64,
            2.11,
            4.11,
            6.24,
            1.87,
            3.26
           ],
           [
            "",
            1.15,
            3.89,
            3.2,
            4.11,
            11.79,
            "",
            2.42,
            3.48,
            4.47,
            3.23,
            4.26,
            6.34,
            2.22,
            4.54
           ],
           [
            "",
            2,
            4.29,
            0.19,
            6.03,
            11.71,
            2.58,
            2.14,
            3.53,
            3.87,
            2.59,
            4.31,
            6.7,
            1.85,
            4.34
           ],
           [
            "",
            "",
            3.42,
            0.01,
            6.38,
            9.44,
            0.47,
            2.33,
            3.66,
            3.93,
            1.99,
            4.38,
            6.07,
            1.66,
            ""
           ],
           [
            "",
            "",
            2.91,
            3.66,
            7.37,
            "",
            "",
            2.21,
            3.49,
            4.21,
            "",
            3.9,
            4.76,
            1.68,
            ""
           ],
           [
            "",
            "",
            2.09,
            2.69,
            4.06,
            5.49,
            "",
            2.06,
            4.21,
            5.8,
            1.55,
            4.29,
            5.98,
            1.76,
            ""
           ],
           [
            26.71,
            1.35,
            "",
            3.22,
            2.31,
            4.56,
            "",
            1.69,
            3.96,
            4.49,
            1.51,
            4.64,
            6.97,
            1.83,
            ""
           ],
           [
            "",
            1.01,
            "",
            "",
            0.15,
            5.52,
            "",
            "",
            3.65,
            4.58,
            1.2,
            "",
            8.14,
            1.97,
            ""
           ]
          ]
         },
         "header": {
          "align": "center",
          "fill": {
           "color": "lightskyblue"
          },
          "font": {
           "size": 10
          },
          "line": {
           "color": "darkslategray"
          },
          "values": [
           "<br>Country</br>",
           "<br>Series</br>",
           "<br>2000</br>",
           "<br>2001</br>",
           "<br>2002</br>",
           "<br>2003</br>",
           "<br>2004</br>",
           "<br>2005</br>",
           "<br>2006</br>",
           "<br>2007</br>",
           "<br>2008</br>",
           "<br>2009</br>",
           "<br>2010</br>",
           "<br>2011</br>",
           "<br>2012</br>",
           "<br>2013</br>",
           "<br>2014</br>",
           "<br>2015</br>",
           "<br>2016</br>",
           "<br>2017</br>",
           "<br>2018</br>",
           "<br>2019</br>",
           "<br>2020</br>",
           "<br>2021</br>",
           "<br>2022</br>"
          ]
         },
         "type": "table"
        }
       ],
       "layout": {
        "autosize": false,
        "height": 400,
        "margin": {
         "b": 10,
         "l": 50,
         "r": 10,
         "t": 50
        },
        "template": {
         "data": {
          "bar": [
           {
            "error_x": {
             "color": "#2a3f5f"
            },
            "error_y": {
             "color": "#2a3f5f"
            },
            "marker": {
             "line": {
              "color": "#E5ECF6",
              "width": 0.5
             },
             "pattern": {
              "fillmode": "overlay",
              "size": 10,
              "solidity": 0.2
             }
            },
            "type": "bar"
           }
          ],
          "barpolar": [
           {
            "marker": {
             "line": {
              "color": "#E5ECF6",
              "width": 0.5
             },
             "pattern": {
              "fillmode": "overlay",
              "size": 10,
              "solidity": 0.2
             }
            },
            "type": "barpolar"
           }
          ],
          "carpet": [
           {
            "aaxis": {
             "endlinecolor": "#2a3f5f",
             "gridcolor": "white",
             "linecolor": "white",
             "minorgridcolor": "white",
             "startlinecolor": "#2a3f5f"
            },
            "baxis": {
             "endlinecolor": "#2a3f5f",
             "gridcolor": "white",
             "linecolor": "white",
             "minorgridcolor": "white",
             "startlinecolor": "#2a3f5f"
            },
            "type": "carpet"
           }
          ],
          "choropleth": [
           {
            "colorbar": {
             "outlinewidth": 0,
             "ticks": ""
            },
            "type": "choropleth"
           }
          ],
          "contour": [
           {
            "colorbar": {
             "outlinewidth": 0,
             "ticks": ""
            },
            "colorscale": [
             [
              0,
              "#0d0887"
             ],
             [
              0.1111111111111111,
              "#46039f"
             ],
             [
              0.2222222222222222,
              "#7201a8"
             ],
             [
              0.3333333333333333,
              "#9c179e"
             ],
             [
              0.4444444444444444,
              "#bd3786"
             ],
             [
              0.5555555555555556,
              "#d8576b"
             ],
             [
              0.6666666666666666,
              "#ed7953"
             ],
             [
              0.7777777777777778,
              "#fb9f3a"
             ],
             [
              0.8888888888888888,
              "#fdca26"
             ],
             [
              1,
              "#f0f921"
             ]
            ],
            "type": "contour"
           }
          ],
          "contourcarpet": [
           {
            "colorbar": {
             "outlinewidth": 0,
             "ticks": ""
            },
            "type": "contourcarpet"
           }
          ],
          "heatmap": [
           {
            "colorbar": {
             "outlinewidth": 0,
             "ticks": ""
            },
            "colorscale": [
             [
              0,
              "#0d0887"
             ],
             [
              0.1111111111111111,
              "#46039f"
             ],
             [
              0.2222222222222222,
              "#7201a8"
             ],
             [
              0.3333333333333333,
              "#9c179e"
             ],
             [
              0.4444444444444444,
              "#bd3786"
             ],
             [
              0.5555555555555556,
              "#d8576b"
             ],
             [
              0.6666666666666666,
              "#ed7953"
             ],
             [
              0.7777777777777778,
              "#fb9f3a"
             ],
             [
              0.8888888888888888,
              "#fdca26"
             ],
             [
              1,
              "#f0f921"
             ]
            ],
            "type": "heatmap"
           }
          ],
          "heatmapgl": [
           {
            "colorbar": {
             "outlinewidth": 0,
             "ticks": ""
            },
            "colorscale": [
             [
              0,
              "#0d0887"
             ],
             [
              0.1111111111111111,
              "#46039f"
             ],
             [
              0.2222222222222222,
              "#7201a8"
             ],
             [
              0.3333333333333333,
              "#9c179e"
             ],
             [
              0.4444444444444444,
              "#bd3786"
             ],
             [
              0.5555555555555556,
              "#d8576b"
             ],
             [
              0.6666666666666666,
              "#ed7953"
             ],
             [
              0.7777777777777778,
              "#fb9f3a"
             ],
             [
              0.8888888888888888,
              "#fdca26"
             ],
             [
              1,
              "#f0f921"
             ]
            ],
            "type": "heatmapgl"
           }
          ],
          "histogram": [
           {
            "marker": {
             "pattern": {
              "fillmode": "overlay",
              "size": 10,
              "solidity": 0.2
             }
            },
            "type": "histogram"
           }
          ],
          "histogram2d": [
           {
            "colorbar": {
             "outlinewidth": 0,
             "ticks": ""
            },
            "colorscale": [
             [
              0,
              "#0d0887"
             ],
             [
              0.1111111111111111,
              "#46039f"
             ],
             [
              0.2222222222222222,
              "#7201a8"
             ],
             [
              0.3333333333333333,
              "#9c179e"
             ],
             [
              0.4444444444444444,
              "#bd3786"
             ],
             [
              0.5555555555555556,
              "#d8576b"
             ],
             [
              0.6666666666666666,
              "#ed7953"
             ],
             [
              0.7777777777777778,
              "#fb9f3a"
             ],
             [
              0.8888888888888888,
              "#fdca26"
             ],
             [
              1,
              "#f0f921"
             ]
            ],
            "type": "histogram2d"
           }
          ],
          "histogram2dcontour": [
           {
            "colorbar": {
             "outlinewidth": 0,
             "ticks": ""
            },
            "colorscale": [
             [
              0,
              "#0d0887"
             ],
             [
              0.1111111111111111,
              "#46039f"
             ],
             [
              0.2222222222222222,
              "#7201a8"
             ],
             [
              0.3333333333333333,
              "#9c179e"
             ],
             [
              0.4444444444444444,
              "#bd3786"
             ],
             [
              0.5555555555555556,
              "#d8576b"
             ],
             [
              0.6666666666666666,
              "#ed7953"
             ],
             [
              0.7777777777777778,
              "#fb9f3a"
             ],
             [
              0.8888888888888888,
              "#fdca26"
             ],
             [
              1,
              "#f0f921"
             ]
            ],
            "type": "histogram2dcontour"
           }
          ],
          "mesh3d": [
           {
            "colorbar": {
             "outlinewidth": 0,
             "ticks": ""
            },
            "type": "mesh3d"
           }
          ],
          "parcoords": [
           {
            "line": {
             "colorbar": {
              "outlinewidth": 0,
              "ticks": ""
             }
            },
            "type": "parcoords"
           }
          ],
          "pie": [
           {
            "automargin": true,
            "type": "pie"
           }
          ],
          "scatter": [
           {
            "fillpattern": {
             "fillmode": "overlay",
             "size": 10,
             "solidity": 0.2
            },
            "type": "scatter"
           }
          ],
          "scatter3d": [
           {
            "line": {
             "colorbar": {
              "outlinewidth": 0,
              "ticks": ""
             }
            },
            "marker": {
             "colorbar": {
              "outlinewidth": 0,
              "ticks": ""
             }
            },
            "type": "scatter3d"
           }
          ],
          "scattercarpet": [
           {
            "marker": {
             "colorbar": {
              "outlinewidth": 0,
              "ticks": ""
             }
            },
            "type": "scattercarpet"
           }
          ],
          "scattergeo": [
           {
            "marker": {
             "colorbar": {
              "outlinewidth": 0,
              "ticks": ""
             }
            },
            "type": "scattergeo"
           }
          ],
          "scattergl": [
           {
            "marker": {
             "colorbar": {
              "outlinewidth": 0,
              "ticks": ""
             }
            },
            "type": "scattergl"
           }
          ],
          "scattermapbox": [
           {
            "marker": {
             "colorbar": {
              "outlinewidth": 0,
              "ticks": ""
             }
            },
            "type": "scattermapbox"
           }
          ],
          "scatterpolar": [
           {
            "marker": {
             "colorbar": {
              "outlinewidth": 0,
              "ticks": ""
             }
            },
            "type": "scatterpolar"
           }
          ],
          "scatterpolargl": [
           {
            "marker": {
             "colorbar": {
              "outlinewidth": 0,
              "ticks": ""
             }
            },
            "type": "scatterpolargl"
           }
          ],
          "scatterternary": [
           {
            "marker": {
             "colorbar": {
              "outlinewidth": 0,
              "ticks": ""
             }
            },
            "type": "scatterternary"
           }
          ],
          "surface": [
           {
            "colorbar": {
             "outlinewidth": 0,
             "ticks": ""
            },
            "colorscale": [
             [
              0,
              "#0d0887"
             ],
             [
              0.1111111111111111,
              "#46039f"
             ],
             [
              0.2222222222222222,
              "#7201a8"
             ],
             [
              0.3333333333333333,
              "#9c179e"
             ],
             [
              0.4444444444444444,
              "#bd3786"
             ],
             [
              0.5555555555555556,
              "#d8576b"
             ],
             [
              0.6666666666666666,
              "#ed7953"
             ],
             [
              0.7777777777777778,
              "#fb9f3a"
             ],
             [
              0.8888888888888888,
              "#fdca26"
             ],
             [
              1,
              "#f0f921"
             ]
            ],
            "type": "surface"
           }
          ],
          "table": [
           {
            "cells": {
             "fill": {
              "color": "#EBF0F8"
             },
             "line": {
              "color": "white"
             }
            },
            "header": {
             "fill": {
              "color": "#C8D4E3"
             },
             "line": {
              "color": "white"
             }
            },
            "type": "table"
           }
          ]
         },
         "layout": {
          "annotationdefaults": {
           "arrowcolor": "#2a3f5f",
           "arrowhead": 0,
           "arrowwidth": 1
          },
          "autotypenumbers": "strict",
          "coloraxis": {
           "colorbar": {
            "outlinewidth": 0,
            "ticks": ""
           }
          },
          "colorscale": {
           "diverging": [
            [
             0,
             "#8e0152"
            ],
            [
             0.1,
             "#c51b7d"
            ],
            [
             0.2,
             "#de77ae"
            ],
            [
             0.3,
             "#f1b6da"
            ],
            [
             0.4,
             "#fde0ef"
            ],
            [
             0.5,
             "#f7f7f7"
            ],
            [
             0.6,
             "#e6f5d0"
            ],
            [
             0.7,
             "#b8e186"
            ],
            [
             0.8,
             "#7fbc41"
            ],
            [
             0.9,
             "#4d9221"
            ],
            [
             1,
             "#276419"
            ]
           ],
           "sequential": [
            [
             0,
             "#0d0887"
            ],
            [
             0.1111111111111111,
             "#46039f"
            ],
            [
             0.2222222222222222,
             "#7201a8"
            ],
            [
             0.3333333333333333,
             "#9c179e"
            ],
            [
             0.4444444444444444,
             "#bd3786"
            ],
            [
             0.5555555555555556,
             "#d8576b"
            ],
            [
             0.6666666666666666,
             "#ed7953"
            ],
            [
             0.7777777777777778,
             "#fb9f3a"
            ],
            [
             0.8888888888888888,
             "#fdca26"
            ],
            [
             1,
             "#f0f921"
            ]
           ],
           "sequentialminus": [
            [
             0,
             "#0d0887"
            ],
            [
             0.1111111111111111,
             "#46039f"
            ],
            [
             0.2222222222222222,
             "#7201a8"
            ],
            [
             0.3333333333333333,
             "#9c179e"
            ],
            [
             0.4444444444444444,
             "#bd3786"
            ],
            [
             0.5555555555555556,
             "#d8576b"
            ],
            [
             0.6666666666666666,
             "#ed7953"
            ],
            [
             0.7777777777777778,
             "#fb9f3a"
            ],
            [
             0.8888888888888888,
             "#fdca26"
            ],
            [
             1,
             "#f0f921"
            ]
           ]
          },
          "colorway": [
           "#636efa",
           "#EF553B",
           "#00cc96",
           "#ab63fa",
           "#FFA15A",
           "#19d3f3",
           "#FF6692",
           "#B6E880",
           "#FF97FF",
           "#FECB52"
          ],
          "font": {
           "color": "#2a3f5f"
          },
          "geo": {
           "bgcolor": "white",
           "lakecolor": "white",
           "landcolor": "#E5ECF6",
           "showlakes": true,
           "showland": true,
           "subunitcolor": "white"
          },
          "hoverlabel": {
           "align": "left"
          },
          "hovermode": "closest",
          "mapbox": {
           "style": "light"
          },
          "paper_bgcolor": "white",
          "plot_bgcolor": "#E5ECF6",
          "polar": {
           "angularaxis": {
            "gridcolor": "white",
            "linecolor": "white",
            "ticks": ""
           },
           "bgcolor": "#E5ECF6",
           "radialaxis": {
            "gridcolor": "white",
            "linecolor": "white",
            "ticks": ""
           }
          },
          "scene": {
           "xaxis": {
            "backgroundcolor": "#E5ECF6",
            "gridcolor": "white",
            "gridwidth": 2,
            "linecolor": "white",
            "showbackground": true,
            "ticks": "",
            "zerolinecolor": "white"
           },
           "yaxis": {
            "backgroundcolor": "#E5ECF6",
            "gridcolor": "white",
            "gridwidth": 2,
            "linecolor": "white",
            "showbackground": true,
            "ticks": "",
            "zerolinecolor": "white"
           },
           "zaxis": {
            "backgroundcolor": "#E5ECF6",
            "gridcolor": "white",
            "gridwidth": 2,
            "linecolor": "white",
            "showbackground": true,
            "ticks": "",
            "zerolinecolor": "white"
           }
          },
          "shapedefaults": {
           "line": {
            "color": "#2a3f5f"
           }
          },
          "ternary": {
           "aaxis": {
            "gridcolor": "white",
            "linecolor": "white",
            "ticks": ""
           },
           "baxis": {
            "gridcolor": "white",
            "linecolor": "white",
            "ticks": ""
           },
           "bgcolor": "#E5ECF6",
           "caxis": {
            "gridcolor": "white",
            "linecolor": "white",
            "ticks": ""
           }
          },
          "title": {
           "x": 0.05
          },
          "xaxis": {
           "automargin": true,
           "gridcolor": "white",
           "linecolor": "white",
           "ticks": "",
           "title": {
            "standoff": 15
           },
           "zerolinecolor": "white",
           "zerolinewidth": 2
          },
          "yaxis": {
           "automargin": true,
           "gridcolor": "white",
           "linecolor": "white",
           "ticks": "",
           "title": {
            "standoff": 15
           },
           "zerolinecolor": "white",
           "zerolinewidth": 2
          }
         }
        },
        "width": 600
       }
      },
      "text/html": [
       "<div>                            <div id=\"7af8bb17-6e9a-42c5-9a1d-659e86ab6a62\" class=\"plotly-graph-div\" style=\"height:400px; width:600px;\"></div>            <script type=\"text/javascript\">                require([\"plotly\"], function(Plotly) {                    window.PLOTLYENV=window.PLOTLYENV || {};                                    if (document.getElementById(\"7af8bb17-6e9a-42c5-9a1d-659e86ab6a62\")) {                    Plotly.newPlot(                        \"7af8bb17-6e9a-42c5-9a1d-659e86ab6a62\",                        [{\"cells\":{\"align\":\"center\",\"height\":60,\"line\":{\"color\":\"darkslategray\"},\"values\":[[\"Pakistan\",\"Nepal\",\"Maldives\",\"Sri Lanka\",\"India\",\"Bhutan\",\"Bangladesh\",\"Pakistan\",\"Nepal\",\"Maldives\",\"Sri Lanka\",\"India\",\"Bhutan\",\"Bangladesh\",\"Afghanistan\"],[\"Children out of school (% of primary school age)\",\"Children out of school (% of primary school age)\",\"Children out of school (% of primary school age)\",\"Children out of school (% of primary school age)\",\"Children out of school (% of primary school age)\",\"Children out of school (% of primary school age)\",\"Children out of school (% of primary school age)\",\"Government expenditure on education, total (% of GDP)\",\"Government expenditure on education, total (% of GDP)\",\"Government expenditure on education, total (% of GDP)\",\"Government expenditure on education, total (% of GDP)\",\"Government expenditure on education, total (% of GDP)\",\"Government expenditure on education, total (% of GDP)\",\"Government expenditure on education, total (% of GDP)\",\"Government expenditure on education, total (% of GDP)\"],[\"\",30.77,2.73,\"\",16.99,38.87,\"\",1.84,2.98,\"\",\"\",4.32,5.79,2.13,\"\"],[\"\",\"\",1.61,1.79,11.86,36.99,\"\",\"\",3.71,\"\",\"\",\"\",5.92,2.17,\"\"],[\"\",\"\",2.34,1.99,13.44,\"\",\"\",\"\",3.15,5.79,\"\",\"\",\"\",2.02,\"\"],[\"\",22.08,\"\",2.62,8.49,\"\",\"\",\"\",3.11,5.32,\"\",3.61,\"\",2.07,\"\"],[\"\",20.1,1.77,3.98,\"\",\"\",\"\",1.77,3.17,4.66,\"\",3.35,6.61,1.94,\"\"],[\"\",\"\",2.41,4.24,\"\",28.46,3.38,2.05,3.36,5.02,\"\",3.19,7.29,\"\",\"\"],[\"\",\"\",2.5,4.58,\"\",23.65,3.59,2.4,3.61,4.65,\"\",3.14,\"\",2.13,4.68],[\"\",\"\",3.56,5.21,0.92,\"\",\"\",2.64,3.52,4.42,\"\",\"\",\"\",2.2,4.17],[\"\",\"\",5.27,6.1,0.39,16.72,8.54,2.75,3.81,4.47,\"\",\"\",4.91,2.05,4.38],[\"\",\"\",2.56,8.29,1.32,11.69,8.2,2.59,4.66,5.08,2.06,3.28,4.74,1.94,4.81],[\"\",\"\",6.14,6.79,0.86,9.55,5.03,2.29,3.63,3.63,1.66,3.38,4.12,\"\",3.48],[\"\",2.18,4.64,7.04,1.32,9.21,\"\",2.22,3.84,3.08,1.74,3.8,4.77,2.13,3.46],[\"\",1.8,6.2,7.41,1.23,8.1,\"\",2.14,3.53,4.97,1.45,4.09,\"\",2.05,2.6],[\"\",\"\",6.61,0.29,0.43,9.73,\"\",2.49,3.2,3.95,1.56,3.84,5.72,1.97,3.45],[\"\",1.7,4.64,6.35,\"\",\"\",\"\",2.47,3.49,3.89,1.86,3.9,6.04,2.1,3.7],[\"\",1.6,2.84,3.86,\"\",11.38,\"\",2.65,3.29,4.64,2.11,4.11,6.24,1.87,3.26],[\"\",1.15,3.89,3.2,4.11,11.79,\"\",2.42,3.48,4.47,3.23,4.26,6.34,2.22,4.54],[\"\",2.0,4.29,0.19,6.03,11.71,2.58,2.14,3.53,3.87,2.59,4.31,6.7,1.85,4.34],[\"\",\"\",3.42,0.01,6.38,9.44,0.47,2.33,3.66,3.93,1.99,4.38,6.07,1.66,\"\"],[\"\",\"\",2.91,3.66,7.37,\"\",\"\",2.21,3.49,4.21,\"\",3.9,4.76,1.68,\"\"],[\"\",\"\",2.09,2.69,4.06,5.49,\"\",2.06,4.21,5.8,1.55,4.29,5.98,1.76,\"\"],[26.71,1.35,\"\",3.22,2.31,4.56,\"\",1.69,3.96,4.49,1.51,4.64,6.97,1.83,\"\"],[\"\",1.01,\"\",\"\",0.15,5.52,\"\",\"\",3.65,4.58,1.2,\"\",8.14,1.97,\"\"]]},\"header\":{\"align\":\"center\",\"fill\":{\"color\":\"lightskyblue\"},\"font\":{\"size\":10},\"line\":{\"color\":\"darkslategray\"},\"values\":[\"<br>Country</br>\",\"<br>Series</br>\",\"<br>2000</br>\",\"<br>2001</br>\",\"<br>2002</br>\",\"<br>2003</br>\",\"<br>2004</br>\",\"<br>2005</br>\",\"<br>2006</br>\",\"<br>2007</br>\",\"<br>2008</br>\",\"<br>2009</br>\",\"<br>2010</br>\",\"<br>2011</br>\",\"<br>2012</br>\",\"<br>2013</br>\",\"<br>2014</br>\",\"<br>2015</br>\",\"<br>2016</br>\",\"<br>2017</br>\",\"<br>2018</br>\",\"<br>2019</br>\",\"<br>2020</br>\",\"<br>2021</br>\",\"<br>2022</br>\"]},\"type\":\"table\"}],                        {\"template\":{\"data\":{\"histogram2dcontour\":[{\"type\":\"histogram2dcontour\",\"colorbar\":{\"outlinewidth\":0,\"ticks\":\"\"},\"colorscale\":[[0.0,\"#0d0887\"],[0.1111111111111111,\"#46039f\"],[0.2222222222222222,\"#7201a8\"],[0.3333333333333333,\"#9c179e\"],[0.4444444444444444,\"#bd3786\"],[0.5555555555555556,\"#d8576b\"],[0.6666666666666666,\"#ed7953\"],[0.7777777777777778,\"#fb9f3a\"],[0.8888888888888888,\"#fdca26\"],[1.0,\"#f0f921\"]]}],\"choropleth\":[{\"type\":\"choropleth\",\"colorbar\":{\"outlinewidth\":0,\"ticks\":\"\"}}],\"histogram2d\":[{\"type\":\"histogram2d\",\"colorbar\":{\"outlinewidth\":0,\"ticks\":\"\"},\"colorscale\":[[0.0,\"#0d0887\"],[0.1111111111111111,\"#46039f\"],[0.2222222222222222,\"#7201a8\"],[0.3333333333333333,\"#9c179e\"],[0.4444444444444444,\"#bd3786\"],[0.5555555555555556,\"#d8576b\"],[0.6666666666666666,\"#ed7953\"],[0.7777777777777778,\"#fb9f3a\"],[0.8888888888888888,\"#fdca26\"],[1.0,\"#f0f921\"]]}],\"heatmap\":[{\"type\":\"heatmap\",\"colorbar\":{\"outlinewidth\":0,\"ticks\":\"\"},\"colorscale\":[[0.0,\"#0d0887\"],[0.1111111111111111,\"#46039f\"],[0.2222222222222222,\"#7201a8\"],[0.3333333333333333,\"#9c179e\"],[0.4444444444444444,\"#bd3786\"],[0.5555555555555556,\"#d8576b\"],[0.6666666666666666,\"#ed7953\"],[0.7777777777777778,\"#fb9f3a\"],[0.8888888888888888,\"#fdca26\"],[1.0,\"#f0f921\"]]}],\"heatmapgl\":[{\"type\":\"heatmapgl\",\"colorbar\":{\"outlinewidth\":0,\"ticks\":\"\"},\"colorscale\":[[0.0,\"#0d0887\"],[0.1111111111111111,\"#46039f\"],[0.2222222222222222,\"#7201a8\"],[0.3333333333333333,\"#9c179e\"],[0.4444444444444444,\"#bd3786\"],[0.5555555555555556,\"#d8576b\"],[0.6666666666666666,\"#ed7953\"],[0.7777777777777778,\"#fb9f3a\"],[0.8888888888888888,\"#fdca26\"],[1.0,\"#f0f921\"]]}],\"contourcarpet\":[{\"type\":\"contourcarpet\",\"colorbar\":{\"outlinewidth\":0,\"ticks\":\"\"}}],\"contour\":[{\"type\":\"contour\",\"colorbar\":{\"outlinewidth\":0,\"ticks\":\"\"},\"colorscale\":[[0.0,\"#0d0887\"],[0.1111111111111111,\"#46039f\"],[0.2222222222222222,\"#7201a8\"],[0.3333333333333333,\"#9c179e\"],[0.4444444444444444,\"#bd3786\"],[0.5555555555555556,\"#d8576b\"],[0.6666666666666666,\"#ed7953\"],[0.7777777777777778,\"#fb9f3a\"],[0.8888888888888888,\"#fdca26\"],[1.0,\"#f0f921\"]]}],\"surface\":[{\"type\":\"surface\",\"colorbar\":{\"outlinewidth\":0,\"ticks\":\"\"},\"colorscale\":[[0.0,\"#0d0887\"],[0.1111111111111111,\"#46039f\"],[0.2222222222222222,\"#7201a8\"],[0.3333333333333333,\"#9c179e\"],[0.4444444444444444,\"#bd3786\"],[0.5555555555555556,\"#d8576b\"],[0.6666666666666666,\"#ed7953\"],[0.7777777777777778,\"#fb9f3a\"],[0.8888888888888888,\"#fdca26\"],[1.0,\"#f0f921\"]]}],\"mesh3d\":[{\"type\":\"mesh3d\",\"colorbar\":{\"outlinewidth\":0,\"ticks\":\"\"}}],\"scatter\":[{\"fillpattern\":{\"fillmode\":\"overlay\",\"size\":10,\"solidity\":0.2},\"type\":\"scatter\"}],\"parcoords\":[{\"type\":\"parcoords\",\"line\":{\"colorbar\":{\"outlinewidth\":0,\"ticks\":\"\"}}}],\"scatterpolargl\":[{\"type\":\"scatterpolargl\",\"marker\":{\"colorbar\":{\"outlinewidth\":0,\"ticks\":\"\"}}}],\"bar\":[{\"error_x\":{\"color\":\"#2a3f5f\"},\"error_y\":{\"color\":\"#2a3f5f\"},\"marker\":{\"line\":{\"color\":\"#E5ECF6\",\"width\":0.5},\"pattern\":{\"fillmode\":\"overlay\",\"size\":10,\"solidity\":0.2}},\"type\":\"bar\"}],\"scattergeo\":[{\"type\":\"scattergeo\",\"marker\":{\"colorbar\":{\"outlinewidth\":0,\"ticks\":\"\"}}}],\"scatterpolar\":[{\"type\":\"scatterpolar\",\"marker\":{\"colorbar\":{\"outlinewidth\":0,\"ticks\":\"\"}}}],\"histogram\":[{\"marker\":{\"pattern\":{\"fillmode\":\"overlay\",\"size\":10,\"solidity\":0.2}},\"type\":\"histogram\"}],\"scattergl\":[{\"type\":\"scattergl\",\"marker\":{\"colorbar\":{\"outlinewidth\":0,\"ticks\":\"\"}}}],\"scatter3d\":[{\"type\":\"scatter3d\",\"line\":{\"colorbar\":{\"outlinewidth\":0,\"ticks\":\"\"}},\"marker\":{\"colorbar\":{\"outlinewidth\":0,\"ticks\":\"\"}}}],\"scattermapbox\":[{\"type\":\"scattermapbox\",\"marker\":{\"colorbar\":{\"outlinewidth\":0,\"ticks\":\"\"}}}],\"scatterternary\":[{\"type\":\"scatterternary\",\"marker\":{\"colorbar\":{\"outlinewidth\":0,\"ticks\":\"\"}}}],\"scattercarpet\":[{\"type\":\"scattercarpet\",\"marker\":{\"colorbar\":{\"outlinewidth\":0,\"ticks\":\"\"}}}],\"carpet\":[{\"aaxis\":{\"endlinecolor\":\"#2a3f5f\",\"gridcolor\":\"white\",\"linecolor\":\"white\",\"minorgridcolor\":\"white\",\"startlinecolor\":\"#2a3f5f\"},\"baxis\":{\"endlinecolor\":\"#2a3f5f\",\"gridcolor\":\"white\",\"linecolor\":\"white\",\"minorgridcolor\":\"white\",\"startlinecolor\":\"#2a3f5f\"},\"type\":\"carpet\"}],\"table\":[{\"cells\":{\"fill\":{\"color\":\"#EBF0F8\"},\"line\":{\"color\":\"white\"}},\"header\":{\"fill\":{\"color\":\"#C8D4E3\"},\"line\":{\"color\":\"white\"}},\"type\":\"table\"}],\"barpolar\":[{\"marker\":{\"line\":{\"color\":\"#E5ECF6\",\"width\":0.5},\"pattern\":{\"fillmode\":\"overlay\",\"size\":10,\"solidity\":0.2}},\"type\":\"barpolar\"}],\"pie\":[{\"automargin\":true,\"type\":\"pie\"}]},\"layout\":{\"autotypenumbers\":\"strict\",\"colorway\":[\"#636efa\",\"#EF553B\",\"#00cc96\",\"#ab63fa\",\"#FFA15A\",\"#19d3f3\",\"#FF6692\",\"#B6E880\",\"#FF97FF\",\"#FECB52\"],\"font\":{\"color\":\"#2a3f5f\"},\"hovermode\":\"closest\",\"hoverlabel\":{\"align\":\"left\"},\"paper_bgcolor\":\"white\",\"plot_bgcolor\":\"#E5ECF6\",\"polar\":{\"bgcolor\":\"#E5ECF6\",\"angularaxis\":{\"gridcolor\":\"white\",\"linecolor\":\"white\",\"ticks\":\"\"},\"radialaxis\":{\"gridcolor\":\"white\",\"linecolor\":\"white\",\"ticks\":\"\"}},\"ternary\":{\"bgcolor\":\"#E5ECF6\",\"aaxis\":{\"gridcolor\":\"white\",\"linecolor\":\"white\",\"ticks\":\"\"},\"baxis\":{\"gridcolor\":\"white\",\"linecolor\":\"white\",\"ticks\":\"\"},\"caxis\":{\"gridcolor\":\"white\",\"linecolor\":\"white\",\"ticks\":\"\"}},\"coloraxis\":{\"colorbar\":{\"outlinewidth\":0,\"ticks\":\"\"}},\"colorscale\":{\"sequential\":[[0.0,\"#0d0887\"],[0.1111111111111111,\"#46039f\"],[0.2222222222222222,\"#7201a8\"],[0.3333333333333333,\"#9c179e\"],[0.4444444444444444,\"#bd3786\"],[0.5555555555555556,\"#d8576b\"],[0.6666666666666666,\"#ed7953\"],[0.7777777777777778,\"#fb9f3a\"],[0.8888888888888888,\"#fdca26\"],[1.0,\"#f0f921\"]],\"sequentialminus\":[[0.0,\"#0d0887\"],[0.1111111111111111,\"#46039f\"],[0.2222222222222222,\"#7201a8\"],[0.3333333333333333,\"#9c179e\"],[0.4444444444444444,\"#bd3786\"],[0.5555555555555556,\"#d8576b\"],[0.6666666666666666,\"#ed7953\"],[0.7777777777777778,\"#fb9f3a\"],[0.8888888888888888,\"#fdca26\"],[1.0,\"#f0f921\"]],\"diverging\":[[0,\"#8e0152\"],[0.1,\"#c51b7d\"],[0.2,\"#de77ae\"],[0.3,\"#f1b6da\"],[0.4,\"#fde0ef\"],[0.5,\"#f7f7f7\"],[0.6,\"#e6f5d0\"],[0.7,\"#b8e186\"],[0.8,\"#7fbc41\"],[0.9,\"#4d9221\"],[1,\"#276419\"]]},\"xaxis\":{\"gridcolor\":\"white\",\"linecolor\":\"white\",\"ticks\":\"\",\"title\":{\"standoff\":15},\"zerolinecolor\":\"white\",\"automargin\":true,\"zerolinewidth\":2},\"yaxis\":{\"gridcolor\":\"white\",\"linecolor\":\"white\",\"ticks\":\"\",\"title\":{\"standoff\":15},\"zerolinecolor\":\"white\",\"automargin\":true,\"zerolinewidth\":2},\"scene\":{\"xaxis\":{\"backgroundcolor\":\"#E5ECF6\",\"gridcolor\":\"white\",\"linecolor\":\"white\",\"showbackground\":true,\"ticks\":\"\",\"zerolinecolor\":\"white\",\"gridwidth\":2},\"yaxis\":{\"backgroundcolor\":\"#E5ECF6\",\"gridcolor\":\"white\",\"linecolor\":\"white\",\"showbackground\":true,\"ticks\":\"\",\"zerolinecolor\":\"white\",\"gridwidth\":2},\"zaxis\":{\"backgroundcolor\":\"#E5ECF6\",\"gridcolor\":\"white\",\"linecolor\":\"white\",\"showbackground\":true,\"ticks\":\"\",\"zerolinecolor\":\"white\",\"gridwidth\":2}},\"shapedefaults\":{\"line\":{\"color\":\"#2a3f5f\"}},\"annotationdefaults\":{\"arrowcolor\":\"#2a3f5f\",\"arrowhead\":0,\"arrowwidth\":1},\"geo\":{\"bgcolor\":\"white\",\"landcolor\":\"#E5ECF6\",\"subunitcolor\":\"white\",\"showland\":true,\"showlakes\":true,\"lakecolor\":\"white\"},\"title\":{\"x\":0.05},\"mapbox\":{\"style\":\"light\"}}},\"margin\":{\"l\":50,\"r\":10,\"b\":10,\"t\":50},\"autosize\":false,\"width\":600,\"height\":400},                        {\"responsive\": true}                    ).then(function(){\n",
       "                            \n",
       "var gd = document.getElementById('7af8bb17-6e9a-42c5-9a1d-659e86ab6a62');\n",
       "var x = new MutationObserver(function (mutations, observer) {{\n",
       "        var display = window.getComputedStyle(gd).display;\n",
       "        if (!display || display === 'none') {{\n",
       "            console.log([gd, 'removed!']);\n",
       "            Plotly.purge(gd);\n",
       "            observer.disconnect();\n",
       "        }}\n",
       "}});\n",
       "\n",
       "// Listen for the removal of the full notebook cells\n",
       "var notebookContainer = gd.closest('#notebook-container');\n",
       "if (notebookContainer) {{\n",
       "    x.observe(notebookContainer, {childList: true});\n",
       "}}\n",
       "\n",
       "// Listen for the clearing of the current output cell\n",
       "var outputEl = gd.closest('.output');\n",
       "if (outputEl) {{\n",
       "    x.observe(outputEl, {childList: true});\n",
       "}}\n",
       "\n",
       "                        })                };                });            </script>        </div>"
      ]
     },
     "metadata": {},
     "output_type": "display_data"
    }
   ],
   "source": [
    "fig.update_layout(\n",
    "    autosize=False,\n",
    "    width=600,\n",
    "    height=400,\n",
    "    margin=dict(l=50, r=10, b=10, t=50)\n",
    ")"
   ]
  },
  {
   "cell_type": "code",
   "execution_count": 111,
   "id": "0e47cc2b",
   "metadata": {},
   "outputs": [
    {
     "data": {
      "application/vnd.plotly.v1+json": {
       "config": {
        "plotlyServerURL": "https://plot.ly"
       },
       "data": [
        {
         "cells": {
          "align": "center",
          "line": {
           "color": "darkslategray"
          },
          "values": [
           [
            "Pakistan",
            "Nepal",
            "Maldives",
            "Sri Lanka",
            "India",
            "Bhutan",
            "Bangladesh",
            "Pakistan",
            "Nepal",
            "Maldives",
            "Sri Lanka",
            "India",
            "Bhutan",
            "Bangladesh",
            "Afghanistan"
           ],
           [
            "Children out of school (% of primary school age)",
            "Children out of school (% of primary school age)",
            "Children out of school (% of primary school age)",
            "Children out of school (% of primary school age)",
            "Children out of school (% of primary school age)",
            "Children out of school (% of primary school age)",
            "Children out of school (% of primary school age)",
            "Government expenditure on education, total (% of GDP)",
            "Government expenditure on education, total (% of GDP)",
            "Government expenditure on education, total (% of GDP)",
            "Government expenditure on education, total (% of GDP)",
            "Government expenditure on education, total (% of GDP)",
            "Government expenditure on education, total (% of GDP)",
            "Government expenditure on education, total (% of GDP)",
            "Government expenditure on education, total (% of GDP)"
           ],
           [
            "",
            30.77,
            2.73,
            "",
            16.99,
            38.87,
            "",
            1.84,
            2.98,
            "",
            "",
            4.32,
            5.79,
            2.13,
            ""
           ],
           [
            "",
            "",
            1.61,
            1.79,
            11.86,
            36.99,
            "",
            "",
            3.71,
            "",
            "",
            "",
            5.92,
            2.17,
            ""
           ],
           [
            "",
            "",
            2.34,
            1.99,
            13.44,
            "",
            "",
            "",
            3.15,
            5.79,
            "",
            "",
            "",
            2.02,
            ""
           ],
           [
            "",
            22.08,
            "",
            2.62,
            8.49,
            "",
            "",
            "",
            3.11,
            5.32,
            "",
            3.61,
            "",
            2.07,
            ""
           ],
           [
            "",
            20.1,
            1.77,
            3.98,
            "",
            "",
            "",
            1.77,
            3.17,
            4.66,
            "",
            3.35,
            6.61,
            1.94,
            ""
           ],
           [
            "",
            "",
            2.41,
            4.24,
            "",
            28.46,
            3.38,
            2.05,
            3.36,
            5.02,
            "",
            3.19,
            7.29,
            "",
            ""
           ],
           [
            "",
            "",
            2.5,
            4.58,
            "",
            23.65,
            3.59,
            2.4,
            3.61,
            4.65,
            "",
            3.14,
            "",
            2.13,
            4.68
           ],
           [
            "",
            "",
            3.56,
            5.21,
            0.92,
            "",
            "",
            2.64,
            3.52,
            4.42,
            "",
            "",
            "",
            2.2,
            4.17
           ],
           [
            "",
            "",
            5.27,
            6.1,
            0.39,
            16.72,
            8.54,
            2.75,
            3.81,
            4.47,
            "",
            "",
            4.91,
            2.05,
            4.38
           ],
           [
            "",
            "",
            2.56,
            8.29,
            1.32,
            11.69,
            8.2,
            2.59,
            4.66,
            5.08,
            2.06,
            3.28,
            4.74,
            1.94,
            4.81
           ],
           [
            "",
            "",
            6.14,
            6.79,
            0.86,
            9.55,
            5.03,
            2.29,
            3.63,
            3.63,
            1.66,
            3.38,
            4.12,
            "",
            3.48
           ],
           [
            "",
            2.18,
            4.64,
            7.04,
            1.32,
            9.21,
            "",
            2.22,
            3.84,
            3.08,
            1.74,
            3.8,
            4.77,
            2.13,
            3.46
           ],
           [
            "",
            1.8,
            6.2,
            7.41,
            1.23,
            8.1,
            "",
            2.14,
            3.53,
            4.97,
            1.45,
            4.09,
            "",
            2.05,
            2.6
           ],
           [
            "",
            "",
            6.61,
            0.29,
            0.43,
            9.73,
            "",
            2.49,
            3.2,
            3.95,
            1.56,
            3.84,
            5.72,
            1.97,
            3.45
           ],
           [
            "",
            1.7,
            4.64,
            6.35,
            "",
            "",
            "",
            2.47,
            3.49,
            3.89,
            1.86,
            3.9,
            6.04,
            2.1,
            3.7
           ],
           [
            "",
            1.6,
            2.84,
            3.86,
            "",
            11.38,
            "",
            2.65,
            3.29,
            4.64,
            2.11,
            4.11,
            6.24,
            1.87,
            3.26
           ],
           [
            "",
            1.15,
            3.89,
            3.2,
            4.11,
            11.79,
            "",
            2.42,
            3.48,
            4.47,
            3.23,
            4.26,
            6.34,
            2.22,
            4.54
           ],
           [
            "",
            2,
            4.29,
            0.19,
            6.03,
            11.71,
            2.58,
            2.14,
            3.53,
            3.87,
            2.59,
            4.31,
            6.7,
            1.85,
            4.34
           ],
           [
            "",
            "",
            3.42,
            0.01,
            6.38,
            9.44,
            0.47,
            2.33,
            3.66,
            3.93,
            1.99,
            4.38,
            6.07,
            1.66,
            ""
           ],
           [
            "",
            "",
            2.91,
            3.66,
            7.37,
            "",
            "",
            2.21,
            3.49,
            4.21,
            "",
            3.9,
            4.76,
            1.68,
            ""
           ],
           [
            "",
            "",
            2.09,
            2.69,
            4.06,
            5.49,
            "",
            2.06,
            4.21,
            5.8,
            1.55,
            4.29,
            5.98,
            1.76,
            ""
           ],
           [
            26.71,
            1.35,
            "",
            3.22,
            2.31,
            4.56,
            "",
            1.69,
            3.96,
            4.49,
            1.51,
            4.64,
            6.97,
            1.83,
            ""
           ],
           [
            "",
            1.01,
            "",
            "",
            0.15,
            5.52,
            "",
            "",
            3.65,
            4.58,
            1.2,
            "",
            8.14,
            1.97,
            ""
           ]
          ]
         },
         "header": {
          "align": "center",
          "fill": {
           "color": "lightskyblue"
          },
          "font": {
           "size": 10
          },
          "line": {
           "color": "darkslategray"
          },
          "values": [
           "<br>Country</br>",
           "<br>Series</br>",
           "<br>2000</br>",
           "<br>2001</br>",
           "<br>2002</br>",
           "<br>2003</br>",
           "<br>2004</br>",
           "<br>2005</br>",
           "<br>2006</br>",
           "<br>2007</br>",
           "<br>2008</br>",
           "<br>2009</br>",
           "<br>2010</br>",
           "<br>2011</br>",
           "<br>2012</br>",
           "<br>2013</br>",
           "<br>2014</br>",
           "<br>2015</br>",
           "<br>2016</br>",
           "<br>2017</br>",
           "<br>2018</br>",
           "<br>2019</br>",
           "<br>2020</br>",
           "<br>2021</br>",
           "<br>2022</br>"
          ]
         },
         "type": "table"
        }
       ],
       "layout": {
        "autosize": false,
        "height": 400,
        "margin": {
         "b": 10,
         "l": 10,
         "r": 10,
         "t": 10
        },
        "template": {
         "data": {
          "bar": [
           {
            "error_x": {
             "color": "#2a3f5f"
            },
            "error_y": {
             "color": "#2a3f5f"
            },
            "marker": {
             "line": {
              "color": "#E5ECF6",
              "width": 0.5
             },
             "pattern": {
              "fillmode": "overlay",
              "size": 10,
              "solidity": 0.2
             }
            },
            "type": "bar"
           }
          ],
          "barpolar": [
           {
            "marker": {
             "line": {
              "color": "#E5ECF6",
              "width": 0.5
             },
             "pattern": {
              "fillmode": "overlay",
              "size": 10,
              "solidity": 0.2
             }
            },
            "type": "barpolar"
           }
          ],
          "carpet": [
           {
            "aaxis": {
             "endlinecolor": "#2a3f5f",
             "gridcolor": "white",
             "linecolor": "white",
             "minorgridcolor": "white",
             "startlinecolor": "#2a3f5f"
            },
            "baxis": {
             "endlinecolor": "#2a3f5f",
             "gridcolor": "white",
             "linecolor": "white",
             "minorgridcolor": "white",
             "startlinecolor": "#2a3f5f"
            },
            "type": "carpet"
           }
          ],
          "choropleth": [
           {
            "colorbar": {
             "outlinewidth": 0,
             "ticks": ""
            },
            "type": "choropleth"
           }
          ],
          "contour": [
           {
            "colorbar": {
             "outlinewidth": 0,
             "ticks": ""
            },
            "colorscale": [
             [
              0,
              "#0d0887"
             ],
             [
              0.1111111111111111,
              "#46039f"
             ],
             [
              0.2222222222222222,
              "#7201a8"
             ],
             [
              0.3333333333333333,
              "#9c179e"
             ],
             [
              0.4444444444444444,
              "#bd3786"
             ],
             [
              0.5555555555555556,
              "#d8576b"
             ],
             [
              0.6666666666666666,
              "#ed7953"
             ],
             [
              0.7777777777777778,
              "#fb9f3a"
             ],
             [
              0.8888888888888888,
              "#fdca26"
             ],
             [
              1,
              "#f0f921"
             ]
            ],
            "type": "contour"
           }
          ],
          "contourcarpet": [
           {
            "colorbar": {
             "outlinewidth": 0,
             "ticks": ""
            },
            "type": "contourcarpet"
           }
          ],
          "heatmap": [
           {
            "colorbar": {
             "outlinewidth": 0,
             "ticks": ""
            },
            "colorscale": [
             [
              0,
              "#0d0887"
             ],
             [
              0.1111111111111111,
              "#46039f"
             ],
             [
              0.2222222222222222,
              "#7201a8"
             ],
             [
              0.3333333333333333,
              "#9c179e"
             ],
             [
              0.4444444444444444,
              "#bd3786"
             ],
             [
              0.5555555555555556,
              "#d8576b"
             ],
             [
              0.6666666666666666,
              "#ed7953"
             ],
             [
              0.7777777777777778,
              "#fb9f3a"
             ],
             [
              0.8888888888888888,
              "#fdca26"
             ],
             [
              1,
              "#f0f921"
             ]
            ],
            "type": "heatmap"
           }
          ],
          "heatmapgl": [
           {
            "colorbar": {
             "outlinewidth": 0,
             "ticks": ""
            },
            "colorscale": [
             [
              0,
              "#0d0887"
             ],
             [
              0.1111111111111111,
              "#46039f"
             ],
             [
              0.2222222222222222,
              "#7201a8"
             ],
             [
              0.3333333333333333,
              "#9c179e"
             ],
             [
              0.4444444444444444,
              "#bd3786"
             ],
             [
              0.5555555555555556,
              "#d8576b"
             ],
             [
              0.6666666666666666,
              "#ed7953"
             ],
             [
              0.7777777777777778,
              "#fb9f3a"
             ],
             [
              0.8888888888888888,
              "#fdca26"
             ],
             [
              1,
              "#f0f921"
             ]
            ],
            "type": "heatmapgl"
           }
          ],
          "histogram": [
           {
            "marker": {
             "pattern": {
              "fillmode": "overlay",
              "size": 10,
              "solidity": 0.2
             }
            },
            "type": "histogram"
           }
          ],
          "histogram2d": [
           {
            "colorbar": {
             "outlinewidth": 0,
             "ticks": ""
            },
            "colorscale": [
             [
              0,
              "#0d0887"
             ],
             [
              0.1111111111111111,
              "#46039f"
             ],
             [
              0.2222222222222222,
              "#7201a8"
             ],
             [
              0.3333333333333333,
              "#9c179e"
             ],
             [
              0.4444444444444444,
              "#bd3786"
             ],
             [
              0.5555555555555556,
              "#d8576b"
             ],
             [
              0.6666666666666666,
              "#ed7953"
             ],
             [
              0.7777777777777778,
              "#fb9f3a"
             ],
             [
              0.8888888888888888,
              "#fdca26"
             ],
             [
              1,
              "#f0f921"
             ]
            ],
            "type": "histogram2d"
           }
          ],
          "histogram2dcontour": [
           {
            "colorbar": {
             "outlinewidth": 0,
             "ticks": ""
            },
            "colorscale": [
             [
              0,
              "#0d0887"
             ],
             [
              0.1111111111111111,
              "#46039f"
             ],
             [
              0.2222222222222222,
              "#7201a8"
             ],
             [
              0.3333333333333333,
              "#9c179e"
             ],
             [
              0.4444444444444444,
              "#bd3786"
             ],
             [
              0.5555555555555556,
              "#d8576b"
             ],
             [
              0.6666666666666666,
              "#ed7953"
             ],
             [
              0.7777777777777778,
              "#fb9f3a"
             ],
             [
              0.8888888888888888,
              "#fdca26"
             ],
             [
              1,
              "#f0f921"
             ]
            ],
            "type": "histogram2dcontour"
           }
          ],
          "mesh3d": [
           {
            "colorbar": {
             "outlinewidth": 0,
             "ticks": ""
            },
            "type": "mesh3d"
           }
          ],
          "parcoords": [
           {
            "line": {
             "colorbar": {
              "outlinewidth": 0,
              "ticks": ""
             }
            },
            "type": "parcoords"
           }
          ],
          "pie": [
           {
            "automargin": true,
            "type": "pie"
           }
          ],
          "scatter": [
           {
            "fillpattern": {
             "fillmode": "overlay",
             "size": 10,
             "solidity": 0.2
            },
            "type": "scatter"
           }
          ],
          "scatter3d": [
           {
            "line": {
             "colorbar": {
              "outlinewidth": 0,
              "ticks": ""
             }
            },
            "marker": {
             "colorbar": {
              "outlinewidth": 0,
              "ticks": ""
             }
            },
            "type": "scatter3d"
           }
          ],
          "scattercarpet": [
           {
            "marker": {
             "colorbar": {
              "outlinewidth": 0,
              "ticks": ""
             }
            },
            "type": "scattercarpet"
           }
          ],
          "scattergeo": [
           {
            "marker": {
             "colorbar": {
              "outlinewidth": 0,
              "ticks": ""
             }
            },
            "type": "scattergeo"
           }
          ],
          "scattergl": [
           {
            "marker": {
             "colorbar": {
              "outlinewidth": 0,
              "ticks": ""
             }
            },
            "type": "scattergl"
           }
          ],
          "scattermapbox": [
           {
            "marker": {
             "colorbar": {
              "outlinewidth": 0,
              "ticks": ""
             }
            },
            "type": "scattermapbox"
           }
          ],
          "scatterpolar": [
           {
            "marker": {
             "colorbar": {
              "outlinewidth": 0,
              "ticks": ""
             }
            },
            "type": "scatterpolar"
           }
          ],
          "scatterpolargl": [
           {
            "marker": {
             "colorbar": {
              "outlinewidth": 0,
              "ticks": ""
             }
            },
            "type": "scatterpolargl"
           }
          ],
          "scatterternary": [
           {
            "marker": {
             "colorbar": {
              "outlinewidth": 0,
              "ticks": ""
             }
            },
            "type": "scatterternary"
           }
          ],
          "surface": [
           {
            "colorbar": {
             "outlinewidth": 0,
             "ticks": ""
            },
            "colorscale": [
             [
              0,
              "#0d0887"
             ],
             [
              0.1111111111111111,
              "#46039f"
             ],
             [
              0.2222222222222222,
              "#7201a8"
             ],
             [
              0.3333333333333333,
              "#9c179e"
             ],
             [
              0.4444444444444444,
              "#bd3786"
             ],
             [
              0.5555555555555556,
              "#d8576b"
             ],
             [
              0.6666666666666666,
              "#ed7953"
             ],
             [
              0.7777777777777778,
              "#fb9f3a"
             ],
             [
              0.8888888888888888,
              "#fdca26"
             ],
             [
              1,
              "#f0f921"
             ]
            ],
            "type": "surface"
           }
          ],
          "table": [
           {
            "cells": {
             "fill": {
              "color": "#EBF0F8"
             },
             "line": {
              "color": "white"
             }
            },
            "header": {
             "fill": {
              "color": "#C8D4E3"
             },
             "line": {
              "color": "white"
             }
            },
            "type": "table"
           }
          ]
         },
         "layout": {
          "annotationdefaults": {
           "arrowcolor": "#2a3f5f",
           "arrowhead": 0,
           "arrowwidth": 1
          },
          "autotypenumbers": "strict",
          "coloraxis": {
           "colorbar": {
            "outlinewidth": 0,
            "ticks": ""
           }
          },
          "colorscale": {
           "diverging": [
            [
             0,
             "#8e0152"
            ],
            [
             0.1,
             "#c51b7d"
            ],
            [
             0.2,
             "#de77ae"
            ],
            [
             0.3,
             "#f1b6da"
            ],
            [
             0.4,
             "#fde0ef"
            ],
            [
             0.5,
             "#f7f7f7"
            ],
            [
             0.6,
             "#e6f5d0"
            ],
            [
             0.7,
             "#b8e186"
            ],
            [
             0.8,
             "#7fbc41"
            ],
            [
             0.9,
             "#4d9221"
            ],
            [
             1,
             "#276419"
            ]
           ],
           "sequential": [
            [
             0,
             "#0d0887"
            ],
            [
             0.1111111111111111,
             "#46039f"
            ],
            [
             0.2222222222222222,
             "#7201a8"
            ],
            [
             0.3333333333333333,
             "#9c179e"
            ],
            [
             0.4444444444444444,
             "#bd3786"
            ],
            [
             0.5555555555555556,
             "#d8576b"
            ],
            [
             0.6666666666666666,
             "#ed7953"
            ],
            [
             0.7777777777777778,
             "#fb9f3a"
            ],
            [
             0.8888888888888888,
             "#fdca26"
            ],
            [
             1,
             "#f0f921"
            ]
           ],
           "sequentialminus": [
            [
             0,
             "#0d0887"
            ],
            [
             0.1111111111111111,
             "#46039f"
            ],
            [
             0.2222222222222222,
             "#7201a8"
            ],
            [
             0.3333333333333333,
             "#9c179e"
            ],
            [
             0.4444444444444444,
             "#bd3786"
            ],
            [
             0.5555555555555556,
             "#d8576b"
            ],
            [
             0.6666666666666666,
             "#ed7953"
            ],
            [
             0.7777777777777778,
             "#fb9f3a"
            ],
            [
             0.8888888888888888,
             "#fdca26"
            ],
            [
             1,
             "#f0f921"
            ]
           ]
          },
          "colorway": [
           "#636efa",
           "#EF553B",
           "#00cc96",
           "#ab63fa",
           "#FFA15A",
           "#19d3f3",
           "#FF6692",
           "#B6E880",
           "#FF97FF",
           "#FECB52"
          ],
          "font": {
           "color": "#2a3f5f"
          },
          "geo": {
           "bgcolor": "white",
           "lakecolor": "white",
           "landcolor": "#E5ECF6",
           "showlakes": true,
           "showland": true,
           "subunitcolor": "white"
          },
          "hoverlabel": {
           "align": "left"
          },
          "hovermode": "closest",
          "mapbox": {
           "style": "light"
          },
          "paper_bgcolor": "white",
          "plot_bgcolor": "#E5ECF6",
          "polar": {
           "angularaxis": {
            "gridcolor": "white",
            "linecolor": "white",
            "ticks": ""
           },
           "bgcolor": "#E5ECF6",
           "radialaxis": {
            "gridcolor": "white",
            "linecolor": "white",
            "ticks": ""
           }
          },
          "scene": {
           "xaxis": {
            "backgroundcolor": "#E5ECF6",
            "gridcolor": "white",
            "gridwidth": 2,
            "linecolor": "white",
            "showbackground": true,
            "ticks": "",
            "zerolinecolor": "white"
           },
           "yaxis": {
            "backgroundcolor": "#E5ECF6",
            "gridcolor": "white",
            "gridwidth": 2,
            "linecolor": "white",
            "showbackground": true,
            "ticks": "",
            "zerolinecolor": "white"
           },
           "zaxis": {
            "backgroundcolor": "#E5ECF6",
            "gridcolor": "white",
            "gridwidth": 2,
            "linecolor": "white",
            "showbackground": true,
            "ticks": "",
            "zerolinecolor": "white"
           }
          },
          "shapedefaults": {
           "line": {
            "color": "#2a3f5f"
           }
          },
          "ternary": {
           "aaxis": {
            "gridcolor": "white",
            "linecolor": "white",
            "ticks": ""
           },
           "baxis": {
            "gridcolor": "white",
            "linecolor": "white",
            "ticks": ""
           },
           "bgcolor": "#E5ECF6",
           "caxis": {
            "gridcolor": "white",
            "linecolor": "white",
            "ticks": ""
           }
          },
          "title": {
           "x": 0.05
          },
          "xaxis": {
           "automargin": true,
           "gridcolor": "white",
           "linecolor": "white",
           "ticks": "",
           "title": {
            "standoff": 15
           },
           "zerolinecolor": "white",
           "zerolinewidth": 2
          },
          "yaxis": {
           "automargin": true,
           "gridcolor": "white",
           "linecolor": "white",
           "ticks": "",
           "title": {
            "standoff": 15
           },
           "zerolinecolor": "white",
           "zerolinewidth": 2
          }
         }
        },
        "width": 600
       }
      },
      "text/html": [
       "<div>                            <div id=\"c6ca75f5-97f4-4167-9530-eae4a927857a\" class=\"plotly-graph-div\" style=\"height:400px; width:600px;\"></div>            <script type=\"text/javascript\">                require([\"plotly\"], function(Plotly) {                    window.PLOTLYENV=window.PLOTLYENV || {};                                    if (document.getElementById(\"c6ca75f5-97f4-4167-9530-eae4a927857a\")) {                    Plotly.newPlot(                        \"c6ca75f5-97f4-4167-9530-eae4a927857a\",                        [{\"cells\":{\"align\":\"center\",\"line\":{\"color\":\"darkslategray\"},\"values\":[[\"Pakistan\",\"Nepal\",\"Maldives\",\"Sri Lanka\",\"India\",\"Bhutan\",\"Bangladesh\",\"Pakistan\",\"Nepal\",\"Maldives\",\"Sri Lanka\",\"India\",\"Bhutan\",\"Bangladesh\",\"Afghanistan\"],[\"Children out of school (% of primary school age)\",\"Children out of school (% of primary school age)\",\"Children out of school (% of primary school age)\",\"Children out of school (% of primary school age)\",\"Children out of school (% of primary school age)\",\"Children out of school (% of primary school age)\",\"Children out of school (% of primary school age)\",\"Government expenditure on education, total (% of GDP)\",\"Government expenditure on education, total (% of GDP)\",\"Government expenditure on education, total (% of GDP)\",\"Government expenditure on education, total (% of GDP)\",\"Government expenditure on education, total (% of GDP)\",\"Government expenditure on education, total (% of GDP)\",\"Government expenditure on education, total (% of GDP)\",\"Government expenditure on education, total (% of GDP)\"],[\"\",30.77,2.73,\"\",16.99,38.87,\"\",1.84,2.98,\"\",\"\",4.32,5.79,2.13,\"\"],[\"\",\"\",1.61,1.79,11.86,36.99,\"\",\"\",3.71,\"\",\"\",\"\",5.92,2.17,\"\"],[\"\",\"\",2.34,1.99,13.44,\"\",\"\",\"\",3.15,5.79,\"\",\"\",\"\",2.02,\"\"],[\"\",22.08,\"\",2.62,8.49,\"\",\"\",\"\",3.11,5.32,\"\",3.61,\"\",2.07,\"\"],[\"\",20.1,1.77,3.98,\"\",\"\",\"\",1.77,3.17,4.66,\"\",3.35,6.61,1.94,\"\"],[\"\",\"\",2.41,4.24,\"\",28.46,3.38,2.05,3.36,5.02,\"\",3.19,7.29,\"\",\"\"],[\"\",\"\",2.5,4.58,\"\",23.65,3.59,2.4,3.61,4.65,\"\",3.14,\"\",2.13,4.68],[\"\",\"\",3.56,5.21,0.92,\"\",\"\",2.64,3.52,4.42,\"\",\"\",\"\",2.2,4.17],[\"\",\"\",5.27,6.1,0.39,16.72,8.54,2.75,3.81,4.47,\"\",\"\",4.91,2.05,4.38],[\"\",\"\",2.56,8.29,1.32,11.69,8.2,2.59,4.66,5.08,2.06,3.28,4.74,1.94,4.81],[\"\",\"\",6.14,6.79,0.86,9.55,5.03,2.29,3.63,3.63,1.66,3.38,4.12,\"\",3.48],[\"\",2.18,4.64,7.04,1.32,9.21,\"\",2.22,3.84,3.08,1.74,3.8,4.77,2.13,3.46],[\"\",1.8,6.2,7.41,1.23,8.1,\"\",2.14,3.53,4.97,1.45,4.09,\"\",2.05,2.6],[\"\",\"\",6.61,0.29,0.43,9.73,\"\",2.49,3.2,3.95,1.56,3.84,5.72,1.97,3.45],[\"\",1.7,4.64,6.35,\"\",\"\",\"\",2.47,3.49,3.89,1.86,3.9,6.04,2.1,3.7],[\"\",1.6,2.84,3.86,\"\",11.38,\"\",2.65,3.29,4.64,2.11,4.11,6.24,1.87,3.26],[\"\",1.15,3.89,3.2,4.11,11.79,\"\",2.42,3.48,4.47,3.23,4.26,6.34,2.22,4.54],[\"\",2.0,4.29,0.19,6.03,11.71,2.58,2.14,3.53,3.87,2.59,4.31,6.7,1.85,4.34],[\"\",\"\",3.42,0.01,6.38,9.44,0.47,2.33,3.66,3.93,1.99,4.38,6.07,1.66,\"\"],[\"\",\"\",2.91,3.66,7.37,\"\",\"\",2.21,3.49,4.21,\"\",3.9,4.76,1.68,\"\"],[\"\",\"\",2.09,2.69,4.06,5.49,\"\",2.06,4.21,5.8,1.55,4.29,5.98,1.76,\"\"],[26.71,1.35,\"\",3.22,2.31,4.56,\"\",1.69,3.96,4.49,1.51,4.64,6.97,1.83,\"\"],[\"\",1.01,\"\",\"\",0.15,5.52,\"\",\"\",3.65,4.58,1.2,\"\",8.14,1.97,\"\"]]},\"header\":{\"align\":\"center\",\"fill\":{\"color\":\"lightskyblue\"},\"font\":{\"size\":10},\"line\":{\"color\":\"darkslategray\"},\"values\":[\"<br>Country</br>\",\"<br>Series</br>\",\"<br>2000</br>\",\"<br>2001</br>\",\"<br>2002</br>\",\"<br>2003</br>\",\"<br>2004</br>\",\"<br>2005</br>\",\"<br>2006</br>\",\"<br>2007</br>\",\"<br>2008</br>\",\"<br>2009</br>\",\"<br>2010</br>\",\"<br>2011</br>\",\"<br>2012</br>\",\"<br>2013</br>\",\"<br>2014</br>\",\"<br>2015</br>\",\"<br>2016</br>\",\"<br>2017</br>\",\"<br>2018</br>\",\"<br>2019</br>\",\"<br>2020</br>\",\"<br>2021</br>\",\"<br>2022</br>\"]},\"type\":\"table\"}],                        {\"template\":{\"data\":{\"histogram2dcontour\":[{\"type\":\"histogram2dcontour\",\"colorbar\":{\"outlinewidth\":0,\"ticks\":\"\"},\"colorscale\":[[0.0,\"#0d0887\"],[0.1111111111111111,\"#46039f\"],[0.2222222222222222,\"#7201a8\"],[0.3333333333333333,\"#9c179e\"],[0.4444444444444444,\"#bd3786\"],[0.5555555555555556,\"#d8576b\"],[0.6666666666666666,\"#ed7953\"],[0.7777777777777778,\"#fb9f3a\"],[0.8888888888888888,\"#fdca26\"],[1.0,\"#f0f921\"]]}],\"choropleth\":[{\"type\":\"choropleth\",\"colorbar\":{\"outlinewidth\":0,\"ticks\":\"\"}}],\"histogram2d\":[{\"type\":\"histogram2d\",\"colorbar\":{\"outlinewidth\":0,\"ticks\":\"\"},\"colorscale\":[[0.0,\"#0d0887\"],[0.1111111111111111,\"#46039f\"],[0.2222222222222222,\"#7201a8\"],[0.3333333333333333,\"#9c179e\"],[0.4444444444444444,\"#bd3786\"],[0.5555555555555556,\"#d8576b\"],[0.6666666666666666,\"#ed7953\"],[0.7777777777777778,\"#fb9f3a\"],[0.8888888888888888,\"#fdca26\"],[1.0,\"#f0f921\"]]}],\"heatmap\":[{\"type\":\"heatmap\",\"colorbar\":{\"outlinewidth\":0,\"ticks\":\"\"},\"colorscale\":[[0.0,\"#0d0887\"],[0.1111111111111111,\"#46039f\"],[0.2222222222222222,\"#7201a8\"],[0.3333333333333333,\"#9c179e\"],[0.4444444444444444,\"#bd3786\"],[0.5555555555555556,\"#d8576b\"],[0.6666666666666666,\"#ed7953\"],[0.7777777777777778,\"#fb9f3a\"],[0.8888888888888888,\"#fdca26\"],[1.0,\"#f0f921\"]]}],\"heatmapgl\":[{\"type\":\"heatmapgl\",\"colorbar\":{\"outlinewidth\":0,\"ticks\":\"\"},\"colorscale\":[[0.0,\"#0d0887\"],[0.1111111111111111,\"#46039f\"],[0.2222222222222222,\"#7201a8\"],[0.3333333333333333,\"#9c179e\"],[0.4444444444444444,\"#bd3786\"],[0.5555555555555556,\"#d8576b\"],[0.6666666666666666,\"#ed7953\"],[0.7777777777777778,\"#fb9f3a\"],[0.8888888888888888,\"#fdca26\"],[1.0,\"#f0f921\"]]}],\"contourcarpet\":[{\"type\":\"contourcarpet\",\"colorbar\":{\"outlinewidth\":0,\"ticks\":\"\"}}],\"contour\":[{\"type\":\"contour\",\"colorbar\":{\"outlinewidth\":0,\"ticks\":\"\"},\"colorscale\":[[0.0,\"#0d0887\"],[0.1111111111111111,\"#46039f\"],[0.2222222222222222,\"#7201a8\"],[0.3333333333333333,\"#9c179e\"],[0.4444444444444444,\"#bd3786\"],[0.5555555555555556,\"#d8576b\"],[0.6666666666666666,\"#ed7953\"],[0.7777777777777778,\"#fb9f3a\"],[0.8888888888888888,\"#fdca26\"],[1.0,\"#f0f921\"]]}],\"surface\":[{\"type\":\"surface\",\"colorbar\":{\"outlinewidth\":0,\"ticks\":\"\"},\"colorscale\":[[0.0,\"#0d0887\"],[0.1111111111111111,\"#46039f\"],[0.2222222222222222,\"#7201a8\"],[0.3333333333333333,\"#9c179e\"],[0.4444444444444444,\"#bd3786\"],[0.5555555555555556,\"#d8576b\"],[0.6666666666666666,\"#ed7953\"],[0.7777777777777778,\"#fb9f3a\"],[0.8888888888888888,\"#fdca26\"],[1.0,\"#f0f921\"]]}],\"mesh3d\":[{\"type\":\"mesh3d\",\"colorbar\":{\"outlinewidth\":0,\"ticks\":\"\"}}],\"scatter\":[{\"fillpattern\":{\"fillmode\":\"overlay\",\"size\":10,\"solidity\":0.2},\"type\":\"scatter\"}],\"parcoords\":[{\"type\":\"parcoords\",\"line\":{\"colorbar\":{\"outlinewidth\":0,\"ticks\":\"\"}}}],\"scatterpolargl\":[{\"type\":\"scatterpolargl\",\"marker\":{\"colorbar\":{\"outlinewidth\":0,\"ticks\":\"\"}}}],\"bar\":[{\"error_x\":{\"color\":\"#2a3f5f\"},\"error_y\":{\"color\":\"#2a3f5f\"},\"marker\":{\"line\":{\"color\":\"#E5ECF6\",\"width\":0.5},\"pattern\":{\"fillmode\":\"overlay\",\"size\":10,\"solidity\":0.2}},\"type\":\"bar\"}],\"scattergeo\":[{\"type\":\"scattergeo\",\"marker\":{\"colorbar\":{\"outlinewidth\":0,\"ticks\":\"\"}}}],\"scatterpolar\":[{\"type\":\"scatterpolar\",\"marker\":{\"colorbar\":{\"outlinewidth\":0,\"ticks\":\"\"}}}],\"histogram\":[{\"marker\":{\"pattern\":{\"fillmode\":\"overlay\",\"size\":10,\"solidity\":0.2}},\"type\":\"histogram\"}],\"scattergl\":[{\"type\":\"scattergl\",\"marker\":{\"colorbar\":{\"outlinewidth\":0,\"ticks\":\"\"}}}],\"scatter3d\":[{\"type\":\"scatter3d\",\"line\":{\"colorbar\":{\"outlinewidth\":0,\"ticks\":\"\"}},\"marker\":{\"colorbar\":{\"outlinewidth\":0,\"ticks\":\"\"}}}],\"scattermapbox\":[{\"type\":\"scattermapbox\",\"marker\":{\"colorbar\":{\"outlinewidth\":0,\"ticks\":\"\"}}}],\"scatterternary\":[{\"type\":\"scatterternary\",\"marker\":{\"colorbar\":{\"outlinewidth\":0,\"ticks\":\"\"}}}],\"scattercarpet\":[{\"type\":\"scattercarpet\",\"marker\":{\"colorbar\":{\"outlinewidth\":0,\"ticks\":\"\"}}}],\"carpet\":[{\"aaxis\":{\"endlinecolor\":\"#2a3f5f\",\"gridcolor\":\"white\",\"linecolor\":\"white\",\"minorgridcolor\":\"white\",\"startlinecolor\":\"#2a3f5f\"},\"baxis\":{\"endlinecolor\":\"#2a3f5f\",\"gridcolor\":\"white\",\"linecolor\":\"white\",\"minorgridcolor\":\"white\",\"startlinecolor\":\"#2a3f5f\"},\"type\":\"carpet\"}],\"table\":[{\"cells\":{\"fill\":{\"color\":\"#EBF0F8\"},\"line\":{\"color\":\"white\"}},\"header\":{\"fill\":{\"color\":\"#C8D4E3\"},\"line\":{\"color\":\"white\"}},\"type\":\"table\"}],\"barpolar\":[{\"marker\":{\"line\":{\"color\":\"#E5ECF6\",\"width\":0.5},\"pattern\":{\"fillmode\":\"overlay\",\"size\":10,\"solidity\":0.2}},\"type\":\"barpolar\"}],\"pie\":[{\"automargin\":true,\"type\":\"pie\"}]},\"layout\":{\"autotypenumbers\":\"strict\",\"colorway\":[\"#636efa\",\"#EF553B\",\"#00cc96\",\"#ab63fa\",\"#FFA15A\",\"#19d3f3\",\"#FF6692\",\"#B6E880\",\"#FF97FF\",\"#FECB52\"],\"font\":{\"color\":\"#2a3f5f\"},\"hovermode\":\"closest\",\"hoverlabel\":{\"align\":\"left\"},\"paper_bgcolor\":\"white\",\"plot_bgcolor\":\"#E5ECF6\",\"polar\":{\"bgcolor\":\"#E5ECF6\",\"angularaxis\":{\"gridcolor\":\"white\",\"linecolor\":\"white\",\"ticks\":\"\"},\"radialaxis\":{\"gridcolor\":\"white\",\"linecolor\":\"white\",\"ticks\":\"\"}},\"ternary\":{\"bgcolor\":\"#E5ECF6\",\"aaxis\":{\"gridcolor\":\"white\",\"linecolor\":\"white\",\"ticks\":\"\"},\"baxis\":{\"gridcolor\":\"white\",\"linecolor\":\"white\",\"ticks\":\"\"},\"caxis\":{\"gridcolor\":\"white\",\"linecolor\":\"white\",\"ticks\":\"\"}},\"coloraxis\":{\"colorbar\":{\"outlinewidth\":0,\"ticks\":\"\"}},\"colorscale\":{\"sequential\":[[0.0,\"#0d0887\"],[0.1111111111111111,\"#46039f\"],[0.2222222222222222,\"#7201a8\"],[0.3333333333333333,\"#9c179e\"],[0.4444444444444444,\"#bd3786\"],[0.5555555555555556,\"#d8576b\"],[0.6666666666666666,\"#ed7953\"],[0.7777777777777778,\"#fb9f3a\"],[0.8888888888888888,\"#fdca26\"],[1.0,\"#f0f921\"]],\"sequentialminus\":[[0.0,\"#0d0887\"],[0.1111111111111111,\"#46039f\"],[0.2222222222222222,\"#7201a8\"],[0.3333333333333333,\"#9c179e\"],[0.4444444444444444,\"#bd3786\"],[0.5555555555555556,\"#d8576b\"],[0.6666666666666666,\"#ed7953\"],[0.7777777777777778,\"#fb9f3a\"],[0.8888888888888888,\"#fdca26\"],[1.0,\"#f0f921\"]],\"diverging\":[[0,\"#8e0152\"],[0.1,\"#c51b7d\"],[0.2,\"#de77ae\"],[0.3,\"#f1b6da\"],[0.4,\"#fde0ef\"],[0.5,\"#f7f7f7\"],[0.6,\"#e6f5d0\"],[0.7,\"#b8e186\"],[0.8,\"#7fbc41\"],[0.9,\"#4d9221\"],[1,\"#276419\"]]},\"xaxis\":{\"gridcolor\":\"white\",\"linecolor\":\"white\",\"ticks\":\"\",\"title\":{\"standoff\":15},\"zerolinecolor\":\"white\",\"automargin\":true,\"zerolinewidth\":2},\"yaxis\":{\"gridcolor\":\"white\",\"linecolor\":\"white\",\"ticks\":\"\",\"title\":{\"standoff\":15},\"zerolinecolor\":\"white\",\"automargin\":true,\"zerolinewidth\":2},\"scene\":{\"xaxis\":{\"backgroundcolor\":\"#E5ECF6\",\"gridcolor\":\"white\",\"linecolor\":\"white\",\"showbackground\":true,\"ticks\":\"\",\"zerolinecolor\":\"white\",\"gridwidth\":2},\"yaxis\":{\"backgroundcolor\":\"#E5ECF6\",\"gridcolor\":\"white\",\"linecolor\":\"white\",\"showbackground\":true,\"ticks\":\"\",\"zerolinecolor\":\"white\",\"gridwidth\":2},\"zaxis\":{\"backgroundcolor\":\"#E5ECF6\",\"gridcolor\":\"white\",\"linecolor\":\"white\",\"showbackground\":true,\"ticks\":\"\",\"zerolinecolor\":\"white\",\"gridwidth\":2}},\"shapedefaults\":{\"line\":{\"color\":\"#2a3f5f\"}},\"annotationdefaults\":{\"arrowcolor\":\"#2a3f5f\",\"arrowhead\":0,\"arrowwidth\":1},\"geo\":{\"bgcolor\":\"white\",\"landcolor\":\"#E5ECF6\",\"subunitcolor\":\"white\",\"showland\":true,\"showlakes\":true,\"lakecolor\":\"white\"},\"title\":{\"x\":0.05},\"mapbox\":{\"style\":\"light\"}}},\"margin\":{\"l\":10,\"r\":10,\"b\":10,\"t\":10},\"autosize\":false,\"width\":600,\"height\":400},                        {\"responsive\": true}                    ).then(function(){\n",
       "                            \n",
       "var gd = document.getElementById('c6ca75f5-97f4-4167-9530-eae4a927857a');\n",
       "var x = new MutationObserver(function (mutations, observer) {{\n",
       "        var display = window.getComputedStyle(gd).display;\n",
       "        if (!display || display === 'none') {{\n",
       "            console.log([gd, 'removed!']);\n",
       "            Plotly.purge(gd);\n",
       "            observer.disconnect();\n",
       "        }}\n",
       "}});\n",
       "\n",
       "// Listen for the removal of the full notebook cells\n",
       "var notebookContainer = gd.closest('#notebook-container');\n",
       "if (notebookContainer) {{\n",
       "    x.observe(notebookContainer, {childList: true});\n",
       "}}\n",
       "\n",
       "// Listen for the clearing of the current output cell\n",
       "var outputEl = gd.closest('.output');\n",
       "if (outputEl) {{\n",
       "    x.observe(outputEl, {childList: true});\n",
       "}}\n",
       "\n",
       "                        })                };                });            </script>        </div>"
      ]
     },
     "metadata": {},
     "output_type": "display_data"
    }
   ],
   "source": [
    "# fig.update_layout(width=500, height=300)\n",
    "fig.show()"
   ]
  },
  {
   "cell_type": "code",
   "execution_count": null,
   "id": "1aceff18",
   "metadata": {},
   "outputs": [],
   "source": []
  },
  {
   "cell_type": "code",
   "execution_count": 18,
   "id": "7ed134c7",
   "metadata": {},
   "outputs": [],
   "source": [
    "fig = make_subplots(\n",
    "    rows=2, cols=1,\n",
    "    shared_xaxes=True,\n",
    "    vertical_spacing=0.03,\n",
    "    specs=[[{\"type\": \"table\"}],\n",
    "           [{\"type\": \"scatter\"}]]\n",
    ")"
   ]
  },
  {
   "cell_type": "code",
   "execution_count": 19,
   "id": "f88545cc",
   "metadata": {},
   "outputs": [
    {
     "data": {
      "application/vnd.plotly.v1+json": {
       "config": {
        "plotlyServerURL": "https://plot.ly"
       },
       "data": [],
       "layout": {
        "height": 800,
        "showlegend": false,
        "template": {
         "data": {
          "bar": [
           {
            "error_x": {
             "color": "#2a3f5f"
            },
            "error_y": {
             "color": "#2a3f5f"
            },
            "marker": {
             "line": {
              "color": "#E5ECF6",
              "width": 0.5
             },
             "pattern": {
              "fillmode": "overlay",
              "size": 10,
              "solidity": 0.2
             }
            },
            "type": "bar"
           }
          ],
          "barpolar": [
           {
            "marker": {
             "line": {
              "color": "#E5ECF6",
              "width": 0.5
             },
             "pattern": {
              "fillmode": "overlay",
              "size": 10,
              "solidity": 0.2
             }
            },
            "type": "barpolar"
           }
          ],
          "carpet": [
           {
            "aaxis": {
             "endlinecolor": "#2a3f5f",
             "gridcolor": "white",
             "linecolor": "white",
             "minorgridcolor": "white",
             "startlinecolor": "#2a3f5f"
            },
            "baxis": {
             "endlinecolor": "#2a3f5f",
             "gridcolor": "white",
             "linecolor": "white",
             "minorgridcolor": "white",
             "startlinecolor": "#2a3f5f"
            },
            "type": "carpet"
           }
          ],
          "choropleth": [
           {
            "colorbar": {
             "outlinewidth": 0,
             "ticks": ""
            },
            "type": "choropleth"
           }
          ],
          "contour": [
           {
            "colorbar": {
             "outlinewidth": 0,
             "ticks": ""
            },
            "colorscale": [
             [
              0,
              "#0d0887"
             ],
             [
              0.1111111111111111,
              "#46039f"
             ],
             [
              0.2222222222222222,
              "#7201a8"
             ],
             [
              0.3333333333333333,
              "#9c179e"
             ],
             [
              0.4444444444444444,
              "#bd3786"
             ],
             [
              0.5555555555555556,
              "#d8576b"
             ],
             [
              0.6666666666666666,
              "#ed7953"
             ],
             [
              0.7777777777777778,
              "#fb9f3a"
             ],
             [
              0.8888888888888888,
              "#fdca26"
             ],
             [
              1,
              "#f0f921"
             ]
            ],
            "type": "contour"
           }
          ],
          "contourcarpet": [
           {
            "colorbar": {
             "outlinewidth": 0,
             "ticks": ""
            },
            "type": "contourcarpet"
           }
          ],
          "heatmap": [
           {
            "colorbar": {
             "outlinewidth": 0,
             "ticks": ""
            },
            "colorscale": [
             [
              0,
              "#0d0887"
             ],
             [
              0.1111111111111111,
              "#46039f"
             ],
             [
              0.2222222222222222,
              "#7201a8"
             ],
             [
              0.3333333333333333,
              "#9c179e"
             ],
             [
              0.4444444444444444,
              "#bd3786"
             ],
             [
              0.5555555555555556,
              "#d8576b"
             ],
             [
              0.6666666666666666,
              "#ed7953"
             ],
             [
              0.7777777777777778,
              "#fb9f3a"
             ],
             [
              0.8888888888888888,
              "#fdca26"
             ],
             [
              1,
              "#f0f921"
             ]
            ],
            "type": "heatmap"
           }
          ],
          "heatmapgl": [
           {
            "colorbar": {
             "outlinewidth": 0,
             "ticks": ""
            },
            "colorscale": [
             [
              0,
              "#0d0887"
             ],
             [
              0.1111111111111111,
              "#46039f"
             ],
             [
              0.2222222222222222,
              "#7201a8"
             ],
             [
              0.3333333333333333,
              "#9c179e"
             ],
             [
              0.4444444444444444,
              "#bd3786"
             ],
             [
              0.5555555555555556,
              "#d8576b"
             ],
             [
              0.6666666666666666,
              "#ed7953"
             ],
             [
              0.7777777777777778,
              "#fb9f3a"
             ],
             [
              0.8888888888888888,
              "#fdca26"
             ],
             [
              1,
              "#f0f921"
             ]
            ],
            "type": "heatmapgl"
           }
          ],
          "histogram": [
           {
            "marker": {
             "pattern": {
              "fillmode": "overlay",
              "size": 10,
              "solidity": 0.2
             }
            },
            "type": "histogram"
           }
          ],
          "histogram2d": [
           {
            "colorbar": {
             "outlinewidth": 0,
             "ticks": ""
            },
            "colorscale": [
             [
              0,
              "#0d0887"
             ],
             [
              0.1111111111111111,
              "#46039f"
             ],
             [
              0.2222222222222222,
              "#7201a8"
             ],
             [
              0.3333333333333333,
              "#9c179e"
             ],
             [
              0.4444444444444444,
              "#bd3786"
             ],
             [
              0.5555555555555556,
              "#d8576b"
             ],
             [
              0.6666666666666666,
              "#ed7953"
             ],
             [
              0.7777777777777778,
              "#fb9f3a"
             ],
             [
              0.8888888888888888,
              "#fdca26"
             ],
             [
              1,
              "#f0f921"
             ]
            ],
            "type": "histogram2d"
           }
          ],
          "histogram2dcontour": [
           {
            "colorbar": {
             "outlinewidth": 0,
             "ticks": ""
            },
            "colorscale": [
             [
              0,
              "#0d0887"
             ],
             [
              0.1111111111111111,
              "#46039f"
             ],
             [
              0.2222222222222222,
              "#7201a8"
             ],
             [
              0.3333333333333333,
              "#9c179e"
             ],
             [
              0.4444444444444444,
              "#bd3786"
             ],
             [
              0.5555555555555556,
              "#d8576b"
             ],
             [
              0.6666666666666666,
              "#ed7953"
             ],
             [
              0.7777777777777778,
              "#fb9f3a"
             ],
             [
              0.8888888888888888,
              "#fdca26"
             ],
             [
              1,
              "#f0f921"
             ]
            ],
            "type": "histogram2dcontour"
           }
          ],
          "mesh3d": [
           {
            "colorbar": {
             "outlinewidth": 0,
             "ticks": ""
            },
            "type": "mesh3d"
           }
          ],
          "parcoords": [
           {
            "line": {
             "colorbar": {
              "outlinewidth": 0,
              "ticks": ""
             }
            },
            "type": "parcoords"
           }
          ],
          "pie": [
           {
            "automargin": true,
            "type": "pie"
           }
          ],
          "scatter": [
           {
            "fillpattern": {
             "fillmode": "overlay",
             "size": 10,
             "solidity": 0.2
            },
            "type": "scatter"
           }
          ],
          "scatter3d": [
           {
            "line": {
             "colorbar": {
              "outlinewidth": 0,
              "ticks": ""
             }
            },
            "marker": {
             "colorbar": {
              "outlinewidth": 0,
              "ticks": ""
             }
            },
            "type": "scatter3d"
           }
          ],
          "scattercarpet": [
           {
            "marker": {
             "colorbar": {
              "outlinewidth": 0,
              "ticks": ""
             }
            },
            "type": "scattercarpet"
           }
          ],
          "scattergeo": [
           {
            "marker": {
             "colorbar": {
              "outlinewidth": 0,
              "ticks": ""
             }
            },
            "type": "scattergeo"
           }
          ],
          "scattergl": [
           {
            "marker": {
             "colorbar": {
              "outlinewidth": 0,
              "ticks": ""
             }
            },
            "type": "scattergl"
           }
          ],
          "scattermapbox": [
           {
            "marker": {
             "colorbar": {
              "outlinewidth": 0,
              "ticks": ""
             }
            },
            "type": "scattermapbox"
           }
          ],
          "scatterpolar": [
           {
            "marker": {
             "colorbar": {
              "outlinewidth": 0,
              "ticks": ""
             }
            },
            "type": "scatterpolar"
           }
          ],
          "scatterpolargl": [
           {
            "marker": {
             "colorbar": {
              "outlinewidth": 0,
              "ticks": ""
             }
            },
            "type": "scatterpolargl"
           }
          ],
          "scatterternary": [
           {
            "marker": {
             "colorbar": {
              "outlinewidth": 0,
              "ticks": ""
             }
            },
            "type": "scatterternary"
           }
          ],
          "surface": [
           {
            "colorbar": {
             "outlinewidth": 0,
             "ticks": ""
            },
            "colorscale": [
             [
              0,
              "#0d0887"
             ],
             [
              0.1111111111111111,
              "#46039f"
             ],
             [
              0.2222222222222222,
              "#7201a8"
             ],
             [
              0.3333333333333333,
              "#9c179e"
             ],
             [
              0.4444444444444444,
              "#bd3786"
             ],
             [
              0.5555555555555556,
              "#d8576b"
             ],
             [
              0.6666666666666666,
              "#ed7953"
             ],
             [
              0.7777777777777778,
              "#fb9f3a"
             ],
             [
              0.8888888888888888,
              "#fdca26"
             ],
             [
              1,
              "#f0f921"
             ]
            ],
            "type": "surface"
           }
          ],
          "table": [
           {
            "cells": {
             "fill": {
              "color": "#EBF0F8"
             },
             "line": {
              "color": "white"
             }
            },
            "header": {
             "fill": {
              "color": "#C8D4E3"
             },
             "line": {
              "color": "white"
             }
            },
            "type": "table"
           }
          ]
         },
         "layout": {
          "annotationdefaults": {
           "arrowcolor": "#2a3f5f",
           "arrowhead": 0,
           "arrowwidth": 1
          },
          "autotypenumbers": "strict",
          "coloraxis": {
           "colorbar": {
            "outlinewidth": 0,
            "ticks": ""
           }
          },
          "colorscale": {
           "diverging": [
            [
             0,
             "#8e0152"
            ],
            [
             0.1,
             "#c51b7d"
            ],
            [
             0.2,
             "#de77ae"
            ],
            [
             0.3,
             "#f1b6da"
            ],
            [
             0.4,
             "#fde0ef"
            ],
            [
             0.5,
             "#f7f7f7"
            ],
            [
             0.6,
             "#e6f5d0"
            ],
            [
             0.7,
             "#b8e186"
            ],
            [
             0.8,
             "#7fbc41"
            ],
            [
             0.9,
             "#4d9221"
            ],
            [
             1,
             "#276419"
            ]
           ],
           "sequential": [
            [
             0,
             "#0d0887"
            ],
            [
             0.1111111111111111,
             "#46039f"
            ],
            [
             0.2222222222222222,
             "#7201a8"
            ],
            [
             0.3333333333333333,
             "#9c179e"
            ],
            [
             0.4444444444444444,
             "#bd3786"
            ],
            [
             0.5555555555555556,
             "#d8576b"
            ],
            [
             0.6666666666666666,
             "#ed7953"
            ],
            [
             0.7777777777777778,
             "#fb9f3a"
            ],
            [
             0.8888888888888888,
             "#fdca26"
            ],
            [
             1,
             "#f0f921"
            ]
           ],
           "sequentialminus": [
            [
             0,
             "#0d0887"
            ],
            [
             0.1111111111111111,
             "#46039f"
            ],
            [
             0.2222222222222222,
             "#7201a8"
            ],
            [
             0.3333333333333333,
             "#9c179e"
            ],
            [
             0.4444444444444444,
             "#bd3786"
            ],
            [
             0.5555555555555556,
             "#d8576b"
            ],
            [
             0.6666666666666666,
             "#ed7953"
            ],
            [
             0.7777777777777778,
             "#fb9f3a"
            ],
            [
             0.8888888888888888,
             "#fdca26"
            ],
            [
             1,
             "#f0f921"
            ]
           ]
          },
          "colorway": [
           "#636efa",
           "#EF553B",
           "#00cc96",
           "#ab63fa",
           "#FFA15A",
           "#19d3f3",
           "#FF6692",
           "#B6E880",
           "#FF97FF",
           "#FECB52"
          ],
          "font": {
           "color": "#2a3f5f"
          },
          "geo": {
           "bgcolor": "white",
           "lakecolor": "white",
           "landcolor": "#E5ECF6",
           "showlakes": true,
           "showland": true,
           "subunitcolor": "white"
          },
          "hoverlabel": {
           "align": "left"
          },
          "hovermode": "closest",
          "mapbox": {
           "style": "light"
          },
          "paper_bgcolor": "white",
          "plot_bgcolor": "#E5ECF6",
          "polar": {
           "angularaxis": {
            "gridcolor": "white",
            "linecolor": "white",
            "ticks": ""
           },
           "bgcolor": "#E5ECF6",
           "radialaxis": {
            "gridcolor": "white",
            "linecolor": "white",
            "ticks": ""
           }
          },
          "scene": {
           "xaxis": {
            "backgroundcolor": "#E5ECF6",
            "gridcolor": "white",
            "gridwidth": 2,
            "linecolor": "white",
            "showbackground": true,
            "ticks": "",
            "zerolinecolor": "white"
           },
           "yaxis": {
            "backgroundcolor": "#E5ECF6",
            "gridcolor": "white",
            "gridwidth": 2,
            "linecolor": "white",
            "showbackground": true,
            "ticks": "",
            "zerolinecolor": "white"
           },
           "zaxis": {
            "backgroundcolor": "#E5ECF6",
            "gridcolor": "white",
            "gridwidth": 2,
            "linecolor": "white",
            "showbackground": true,
            "ticks": "",
            "zerolinecolor": "white"
           }
          },
          "shapedefaults": {
           "line": {
            "color": "#2a3f5f"
           }
          },
          "ternary": {
           "aaxis": {
            "gridcolor": "white",
            "linecolor": "white",
            "ticks": ""
           },
           "baxis": {
            "gridcolor": "white",
            "linecolor": "white",
            "ticks": ""
           },
           "bgcolor": "#E5ECF6",
           "caxis": {
            "gridcolor": "white",
            "linecolor": "white",
            "ticks": ""
           }
          },
          "title": {
           "x": 0.05
          },
          "xaxis": {
           "automargin": true,
           "gridcolor": "white",
           "linecolor": "white",
           "ticks": "",
           "title": {
            "standoff": 15
           },
           "zerolinecolor": "white",
           "zerolinewidth": 2
          },
          "yaxis": {
           "automargin": true,
           "gridcolor": "white",
           "linecolor": "white",
           "ticks": "",
           "title": {
            "standoff": 15
           },
           "zerolinecolor": "white",
           "zerolinewidth": 2
          }
         }
        },
        "title": {
         "text": "Bitcoin mining stats for 180 days"
        },
        "xaxis": {
         "anchor": "y",
         "domain": [
          0,
          1
         ]
        },
        "yaxis": {
         "anchor": "x",
         "domain": [
          0,
          0.485
         ]
        }
       }
      },
      "text/html": [
       "<div>                            <div id=\"0535c725-383a-410e-86e1-40de102c536c\" class=\"plotly-graph-div\" style=\"height:800px; width:100%;\"></div>            <script type=\"text/javascript\">                require([\"plotly\"], function(Plotly) {                    window.PLOTLYENV=window.PLOTLYENV || {};                                    if (document.getElementById(\"0535c725-383a-410e-86e1-40de102c536c\")) {                    Plotly.newPlot(                        \"0535c725-383a-410e-86e1-40de102c536c\",                        [],                        {\"template\":{\"data\":{\"histogram2dcontour\":[{\"type\":\"histogram2dcontour\",\"colorbar\":{\"outlinewidth\":0,\"ticks\":\"\"},\"colorscale\":[[0.0,\"#0d0887\"],[0.1111111111111111,\"#46039f\"],[0.2222222222222222,\"#7201a8\"],[0.3333333333333333,\"#9c179e\"],[0.4444444444444444,\"#bd3786\"],[0.5555555555555556,\"#d8576b\"],[0.6666666666666666,\"#ed7953\"],[0.7777777777777778,\"#fb9f3a\"],[0.8888888888888888,\"#fdca26\"],[1.0,\"#f0f921\"]]}],\"choropleth\":[{\"type\":\"choropleth\",\"colorbar\":{\"outlinewidth\":0,\"ticks\":\"\"}}],\"histogram2d\":[{\"type\":\"histogram2d\",\"colorbar\":{\"outlinewidth\":0,\"ticks\":\"\"},\"colorscale\":[[0.0,\"#0d0887\"],[0.1111111111111111,\"#46039f\"],[0.2222222222222222,\"#7201a8\"],[0.3333333333333333,\"#9c179e\"],[0.4444444444444444,\"#bd3786\"],[0.5555555555555556,\"#d8576b\"],[0.6666666666666666,\"#ed7953\"],[0.7777777777777778,\"#fb9f3a\"],[0.8888888888888888,\"#fdca26\"],[1.0,\"#f0f921\"]]}],\"heatmap\":[{\"type\":\"heatmap\",\"colorbar\":{\"outlinewidth\":0,\"ticks\":\"\"},\"colorscale\":[[0.0,\"#0d0887\"],[0.1111111111111111,\"#46039f\"],[0.2222222222222222,\"#7201a8\"],[0.3333333333333333,\"#9c179e\"],[0.4444444444444444,\"#bd3786\"],[0.5555555555555556,\"#d8576b\"],[0.6666666666666666,\"#ed7953\"],[0.7777777777777778,\"#fb9f3a\"],[0.8888888888888888,\"#fdca26\"],[1.0,\"#f0f921\"]]}],\"heatmapgl\":[{\"type\":\"heatmapgl\",\"colorbar\":{\"outlinewidth\":0,\"ticks\":\"\"},\"colorscale\":[[0.0,\"#0d0887\"],[0.1111111111111111,\"#46039f\"],[0.2222222222222222,\"#7201a8\"],[0.3333333333333333,\"#9c179e\"],[0.4444444444444444,\"#bd3786\"],[0.5555555555555556,\"#d8576b\"],[0.6666666666666666,\"#ed7953\"],[0.7777777777777778,\"#fb9f3a\"],[0.8888888888888888,\"#fdca26\"],[1.0,\"#f0f921\"]]}],\"contourcarpet\":[{\"type\":\"contourcarpet\",\"colorbar\":{\"outlinewidth\":0,\"ticks\":\"\"}}],\"contour\":[{\"type\":\"contour\",\"colorbar\":{\"outlinewidth\":0,\"ticks\":\"\"},\"colorscale\":[[0.0,\"#0d0887\"],[0.1111111111111111,\"#46039f\"],[0.2222222222222222,\"#7201a8\"],[0.3333333333333333,\"#9c179e\"],[0.4444444444444444,\"#bd3786\"],[0.5555555555555556,\"#d8576b\"],[0.6666666666666666,\"#ed7953\"],[0.7777777777777778,\"#fb9f3a\"],[0.8888888888888888,\"#fdca26\"],[1.0,\"#f0f921\"]]}],\"surface\":[{\"type\":\"surface\",\"colorbar\":{\"outlinewidth\":0,\"ticks\":\"\"},\"colorscale\":[[0.0,\"#0d0887\"],[0.1111111111111111,\"#46039f\"],[0.2222222222222222,\"#7201a8\"],[0.3333333333333333,\"#9c179e\"],[0.4444444444444444,\"#bd3786\"],[0.5555555555555556,\"#d8576b\"],[0.6666666666666666,\"#ed7953\"],[0.7777777777777778,\"#fb9f3a\"],[0.8888888888888888,\"#fdca26\"],[1.0,\"#f0f921\"]]}],\"mesh3d\":[{\"type\":\"mesh3d\",\"colorbar\":{\"outlinewidth\":0,\"ticks\":\"\"}}],\"scatter\":[{\"fillpattern\":{\"fillmode\":\"overlay\",\"size\":10,\"solidity\":0.2},\"type\":\"scatter\"}],\"parcoords\":[{\"type\":\"parcoords\",\"line\":{\"colorbar\":{\"outlinewidth\":0,\"ticks\":\"\"}}}],\"scatterpolargl\":[{\"type\":\"scatterpolargl\",\"marker\":{\"colorbar\":{\"outlinewidth\":0,\"ticks\":\"\"}}}],\"bar\":[{\"error_x\":{\"color\":\"#2a3f5f\"},\"error_y\":{\"color\":\"#2a3f5f\"},\"marker\":{\"line\":{\"color\":\"#E5ECF6\",\"width\":0.5},\"pattern\":{\"fillmode\":\"overlay\",\"size\":10,\"solidity\":0.2}},\"type\":\"bar\"}],\"scattergeo\":[{\"type\":\"scattergeo\",\"marker\":{\"colorbar\":{\"outlinewidth\":0,\"ticks\":\"\"}}}],\"scatterpolar\":[{\"type\":\"scatterpolar\",\"marker\":{\"colorbar\":{\"outlinewidth\":0,\"ticks\":\"\"}}}],\"histogram\":[{\"marker\":{\"pattern\":{\"fillmode\":\"overlay\",\"size\":10,\"solidity\":0.2}},\"type\":\"histogram\"}],\"scattergl\":[{\"type\":\"scattergl\",\"marker\":{\"colorbar\":{\"outlinewidth\":0,\"ticks\":\"\"}}}],\"scatter3d\":[{\"type\":\"scatter3d\",\"line\":{\"colorbar\":{\"outlinewidth\":0,\"ticks\":\"\"}},\"marker\":{\"colorbar\":{\"outlinewidth\":0,\"ticks\":\"\"}}}],\"scattermapbox\":[{\"type\":\"scattermapbox\",\"marker\":{\"colorbar\":{\"outlinewidth\":0,\"ticks\":\"\"}}}],\"scatterternary\":[{\"type\":\"scatterternary\",\"marker\":{\"colorbar\":{\"outlinewidth\":0,\"ticks\":\"\"}}}],\"scattercarpet\":[{\"type\":\"scattercarpet\",\"marker\":{\"colorbar\":{\"outlinewidth\":0,\"ticks\":\"\"}}}],\"carpet\":[{\"aaxis\":{\"endlinecolor\":\"#2a3f5f\",\"gridcolor\":\"white\",\"linecolor\":\"white\",\"minorgridcolor\":\"white\",\"startlinecolor\":\"#2a3f5f\"},\"baxis\":{\"endlinecolor\":\"#2a3f5f\",\"gridcolor\":\"white\",\"linecolor\":\"white\",\"minorgridcolor\":\"white\",\"startlinecolor\":\"#2a3f5f\"},\"type\":\"carpet\"}],\"table\":[{\"cells\":{\"fill\":{\"color\":\"#EBF0F8\"},\"line\":{\"color\":\"white\"}},\"header\":{\"fill\":{\"color\":\"#C8D4E3\"},\"line\":{\"color\":\"white\"}},\"type\":\"table\"}],\"barpolar\":[{\"marker\":{\"line\":{\"color\":\"#E5ECF6\",\"width\":0.5},\"pattern\":{\"fillmode\":\"overlay\",\"size\":10,\"solidity\":0.2}},\"type\":\"barpolar\"}],\"pie\":[{\"automargin\":true,\"type\":\"pie\"}]},\"layout\":{\"autotypenumbers\":\"strict\",\"colorway\":[\"#636efa\",\"#EF553B\",\"#00cc96\",\"#ab63fa\",\"#FFA15A\",\"#19d3f3\",\"#FF6692\",\"#B6E880\",\"#FF97FF\",\"#FECB52\"],\"font\":{\"color\":\"#2a3f5f\"},\"hovermode\":\"closest\",\"hoverlabel\":{\"align\":\"left\"},\"paper_bgcolor\":\"white\",\"plot_bgcolor\":\"#E5ECF6\",\"polar\":{\"bgcolor\":\"#E5ECF6\",\"angularaxis\":{\"gridcolor\":\"white\",\"linecolor\":\"white\",\"ticks\":\"\"},\"radialaxis\":{\"gridcolor\":\"white\",\"linecolor\":\"white\",\"ticks\":\"\"}},\"ternary\":{\"bgcolor\":\"#E5ECF6\",\"aaxis\":{\"gridcolor\":\"white\",\"linecolor\":\"white\",\"ticks\":\"\"},\"baxis\":{\"gridcolor\":\"white\",\"linecolor\":\"white\",\"ticks\":\"\"},\"caxis\":{\"gridcolor\":\"white\",\"linecolor\":\"white\",\"ticks\":\"\"}},\"coloraxis\":{\"colorbar\":{\"outlinewidth\":0,\"ticks\":\"\"}},\"colorscale\":{\"sequential\":[[0.0,\"#0d0887\"],[0.1111111111111111,\"#46039f\"],[0.2222222222222222,\"#7201a8\"],[0.3333333333333333,\"#9c179e\"],[0.4444444444444444,\"#bd3786\"],[0.5555555555555556,\"#d8576b\"],[0.6666666666666666,\"#ed7953\"],[0.7777777777777778,\"#fb9f3a\"],[0.8888888888888888,\"#fdca26\"],[1.0,\"#f0f921\"]],\"sequentialminus\":[[0.0,\"#0d0887\"],[0.1111111111111111,\"#46039f\"],[0.2222222222222222,\"#7201a8\"],[0.3333333333333333,\"#9c179e\"],[0.4444444444444444,\"#bd3786\"],[0.5555555555555556,\"#d8576b\"],[0.6666666666666666,\"#ed7953\"],[0.7777777777777778,\"#fb9f3a\"],[0.8888888888888888,\"#fdca26\"],[1.0,\"#f0f921\"]],\"diverging\":[[0,\"#8e0152\"],[0.1,\"#c51b7d\"],[0.2,\"#de77ae\"],[0.3,\"#f1b6da\"],[0.4,\"#fde0ef\"],[0.5,\"#f7f7f7\"],[0.6,\"#e6f5d0\"],[0.7,\"#b8e186\"],[0.8,\"#7fbc41\"],[0.9,\"#4d9221\"],[1,\"#276419\"]]},\"xaxis\":{\"gridcolor\":\"white\",\"linecolor\":\"white\",\"ticks\":\"\",\"title\":{\"standoff\":15},\"zerolinecolor\":\"white\",\"automargin\":true,\"zerolinewidth\":2},\"yaxis\":{\"gridcolor\":\"white\",\"linecolor\":\"white\",\"ticks\":\"\",\"title\":{\"standoff\":15},\"zerolinecolor\":\"white\",\"automargin\":true,\"zerolinewidth\":2},\"scene\":{\"xaxis\":{\"backgroundcolor\":\"#E5ECF6\",\"gridcolor\":\"white\",\"linecolor\":\"white\",\"showbackground\":true,\"ticks\":\"\",\"zerolinecolor\":\"white\",\"gridwidth\":2},\"yaxis\":{\"backgroundcolor\":\"#E5ECF6\",\"gridcolor\":\"white\",\"linecolor\":\"white\",\"showbackground\":true,\"ticks\":\"\",\"zerolinecolor\":\"white\",\"gridwidth\":2},\"zaxis\":{\"backgroundcolor\":\"#E5ECF6\",\"gridcolor\":\"white\",\"linecolor\":\"white\",\"showbackground\":true,\"ticks\":\"\",\"zerolinecolor\":\"white\",\"gridwidth\":2}},\"shapedefaults\":{\"line\":{\"color\":\"#2a3f5f\"}},\"annotationdefaults\":{\"arrowcolor\":\"#2a3f5f\",\"arrowhead\":0,\"arrowwidth\":1},\"geo\":{\"bgcolor\":\"white\",\"landcolor\":\"#E5ECF6\",\"subunitcolor\":\"white\",\"showland\":true,\"showlakes\":true,\"lakecolor\":\"white\"},\"title\":{\"x\":0.05},\"mapbox\":{\"style\":\"light\"}}},\"xaxis\":{\"anchor\":\"y\",\"domain\":[0.0,1.0]},\"yaxis\":{\"anchor\":\"x\",\"domain\":[0.0,0.485]},\"title\":{\"text\":\"Bitcoin mining stats for 180 days\"},\"height\":800,\"showlegend\":false},                        {\"responsive\": true}                    ).then(function(){\n",
       "                            \n",
       "var gd = document.getElementById('0535c725-383a-410e-86e1-40de102c536c');\n",
       "var x = new MutationObserver(function (mutations, observer) {{\n",
       "        var display = window.getComputedStyle(gd).display;\n",
       "        if (!display || display === 'none') {{\n",
       "            console.log([gd, 'removed!']);\n",
       "            Plotly.purge(gd);\n",
       "            observer.disconnect();\n",
       "        }}\n",
       "}});\n",
       "\n",
       "// Listen for the removal of the full notebook cells\n",
       "var notebookContainer = gd.closest('#notebook-container');\n",
       "if (notebookContainer) {{\n",
       "    x.observe(notebookContainer, {childList: true});\n",
       "}}\n",
       "\n",
       "// Listen for the clearing of the current output cell\n",
       "var outputEl = gd.closest('.output');\n",
       "if (outputEl) {{\n",
       "    x.observe(outputEl, {childList: true});\n",
       "}}\n",
       "\n",
       "                        })                };                });            </script>        </div>"
      ]
     },
     "metadata": {},
     "output_type": "display_data"
    }
   ],
   "source": [
    "fig.update_layout(\n",
    "    height=800,\n",
    "    showlegend=False,\n",
    "    title_text=\"Bitcoin mining stats for 180 days\",\n",
    ")"
   ]
  },
  {
   "cell_type": "code",
   "execution_count": 21,
   "id": "ab5d8cf0",
   "metadata": {},
   "outputs": [],
   "source": [
    "df.drop(['economy','series'], axis=1, inplace=True)\n",
    "\n",
    "columns = ['<br>'+each+'</br>' for each in list(df.columns)]"
   ]
  },
  {
   "cell_type": "code",
   "execution_count": 53,
   "id": "7567bfc4",
   "metadata": {},
   "outputs": [
    {
     "data": {
      "text/plain": [
       "['<br>Country</br>',\n",
       " '<br>Series</br>',\n",
       " '<br>YR2000</br>',\n",
       " '<br>YR2001</br>',\n",
       " '<br>YR2002</br>',\n",
       " '<br>YR2003</br>',\n",
       " '<br>YR2004</br>',\n",
       " '<br>YR2005</br>',\n",
       " '<br>YR2006</br>',\n",
       " '<br>YR2007</br>',\n",
       " '<br>YR2008</br>',\n",
       " '<br>YR2009</br>',\n",
       " '<br>YR2010</br>',\n",
       " '<br>YR2011</br>',\n",
       " '<br>YR2012</br>',\n",
       " '<br>YR2013</br>',\n",
       " '<br>YR2014</br>',\n",
       " '<br>YR2015</br>',\n",
       " '<br>YR2016</br>',\n",
       " '<br>YR2017</br>',\n",
       " '<br>YR2018</br>',\n",
       " '<br>YR2019</br>',\n",
       " '<br>YR2020</br>',\n",
       " '<br>YR2021</br>',\n",
       " '<br>YR2022</br>']"
      ]
     },
     "execution_count": 53,
     "metadata": {},
     "output_type": "execute_result"
    }
   ],
   "source": [
    "columns"
   ]
  },
  {
   "cell_type": "code",
   "execution_count": 51,
   "id": "efb36969",
   "metadata": {},
   "outputs": [],
   "source": [
    "table = go.Table(\n",
    "        header= dict(\n",
    "            values= columns,\n",
    "            font= dict(size=10),\n",
    "            align= \"center\"\n",
    "        ),\n",
    "        cells=dict(\n",
    "            values=[df[each].to_list() for each in df.columns],\n",
    "            align = \"center\"),\n",
    "    )"
   ]
  },
  {
   "cell_type": "code",
   "execution_count": 52,
   "id": "7f9abca2",
   "metadata": {},
   "outputs": [
    {
     "data": {
      "application/vnd.plotly.v1+json": {
       "config": {
        "plotlyServerURL": "https://plot.ly"
       },
       "data": [
        {
         "cells": {
          "align": "left",
          "values": [
           [
            "Pakistan",
            "Nepal",
            "Maldives",
            "Sri Lanka",
            "India",
            "Bhutan",
            "Bangladesh",
            "Pakistan",
            "Nepal",
            "Maldives",
            "Sri Lanka",
            "India",
            "Bhutan",
            "Bangladesh",
            "Afghanistan"
           ],
           [
            "Children out of school (% of primary school age)",
            "Children out of school (% of primary school age)",
            "Children out of school (% of primary school age)",
            "Children out of school (% of primary school age)",
            "Children out of school (% of primary school age)",
            "Children out of school (% of primary school age)",
            "Children out of school (% of primary school age)",
            "Government expenditure on education, total (% of GDP)",
            "Government expenditure on education, total (% of GDP)",
            "Government expenditure on education, total (% of GDP)",
            "Government expenditure on education, total (% of GDP)",
            "Government expenditure on education, total (% of GDP)",
            "Government expenditure on education, total (% of GDP)",
            "Government expenditure on education, total (% of GDP)",
            "Government expenditure on education, total (% of GDP)"
           ],
           [
            null,
            30.7744808197021,
            2.73199009895325,
            null,
            16.9875202178955,
            38.8700103759766,
            null,
            1.83782005310059,
            2.9751501083374,
            null,
            null,
            4.32479000091553,
            5.78675985336304,
            2.12508010864258,
            null
           ],
           [
            null,
            null,
            1.60804998874664,
            1.79250001907349,
            11.8562898635864,
            36.9869117736816,
            null,
            null,
            3.70837998390198,
            null,
            null,
            null,
            5.91572999954224,
            2.17193007469177,
            null
           ],
           [
            null,
            null,
            2.34352993965149,
            1.99191999435425,
            13.4449195861816,
            null,
            null,
            null,
            3.15283989906311,
            5.79186010360718,
            null,
            null,
            null,
            2.01714992523193,
            null
           ],
           [
            null,
            22.0804595947266,
            null,
            2.61675000190735,
            8.48766040802002,
            null,
            null,
            null,
            3.11435008049011,
            5.32406997680664,
            null,
            3.61340999603271,
            null,
            2.06939005851746,
            null
           ],
           [
            null,
            20.0970897674561,
            1.77482998371124,
            3.98446011543274,
            null,
            null,
            null,
            1.76759004592896,
            3.17194008827209,
            4.66160011291504,
            null,
            3.35254001617432,
            6.60906982421875,
            1.94014000892639,
            null
           ],
           [
            null,
            null,
            2.41488003730774,
            4.23590993881226,
            null,
            28.4569797515869,
            3.37758994102478,
            2.04972004890442,
            3.3646399974823,
            5.0168399810791,
            null,
            3.18875002861023,
            7.28714990615845,
            null,
            null
           ],
           [
            null,
            null,
            2.49761009216309,
            4.58268022537231,
            null,
            23.6531200408936,
            3.5901300907135,
            2.39550995826721,
            3.60536003112793,
            4.64523983001709,
            null,
            3.14284992218018,
            null,
            2.13128995895386,
            4.68476057052612
           ],
           [
            null,
            null,
            3.55908989906311,
            5.21196985244751,
            0.91908997297287,
            null,
            null,
            2.63527011871338,
            3.51721000671387,
            4.41788005828857,
            null,
            null,
            null,
            2.20221996307373,
            4.17489528656006
           ],
           [
            null,
            null,
            5.27224016189575,
            6.10266017913818,
            0.393489986658096,
            16.7162895202637,
            8.54203033447266,
            2.74622988700867,
            3.8051700592041,
            4.470290184021,
            null,
            null,
            4.91159009933472,
            2.0545699596405,
            4.38367223739624
           ],
           [
            null,
            null,
            2.55772995948792,
            8.29146957397461,
            1.3199599981308,
            11.6914596557617,
            8.1956901550293,
            2.59078001976013,
            4.6637601852417,
            5.08168983459473,
            2.05590009689331,
            3.27824997901917,
            4.74174022674561,
            1.9394199848175,
            4.81063985824585
           ],
           [
            null,
            null,
            6.13899993896484,
            6.79112005233765,
            0.86080002784729,
            9.54932975769043,
            5.03145980834961,
            2.28687000274658,
            3.63172006607056,
            3.63328003883362,
            1.66177999973297,
            3.377690076828,
            4.12473011016846,
            null,
            3.4794499874115
           ],
           [
            null,
            2.17547988891602,
            4.64400005340576,
            7.04276990890503,
            1.31821000576019,
            9.20584011077881,
            null,
            2.22175002098083,
            3.84261989593506,
            3.08072996139526,
            1.74292004108429,
            3.79618000984192,
            4.76523017883301,
            2.13269996643066,
            3.4620099067688
           ],
           [
            null,
            1.80489003658295,
            6.19600009918213,
            7.4073600769043,
            1.23249995708466,
            8.1028003692627,
            null,
            2.13628005981445,
            3.52900004386902,
            4.96799993515015,
            1.45342004299164,
            4.08500003814697,
            null,
            2.04699993133545,
            2.60419988632202
           ],
           [
            null,
            null,
            6.61299991607666,
            0.28999999165535,
            0.425390005111694,
            9.73373985290527,
            null,
            2.49343991279602,
            3.20300006866455,
            3.95499992370605,
            1.5645899772644,
            3.84467005729675,
            5.72275018692017,
            1.96599996089935,
            3.45445990562439
           ],
           [
            null,
            1.69528996944427,
            4.64300012588501,
            6.35382986068726,
            null,
            null,
            null,
            2.46592998504639,
            3.48600006103516,
            3.89000010490417,
            1.85859000682831,
            3.8989999294281,
            6.04489994049072,
            2.09899997711182,
            3.69521999359131
           ],
           [
            null,
            1.59839999675751,
            2.84100008010864,
            3.86436009407043,
            null,
            11.379469871521,
            null,
            2.6500198841095,
            3.29399991035461,
            4.64499998092651,
            2.10998010635376,
            4.11499977111816,
            6.23799991607666,
            1.87199997901917,
            3.2558000087738
           ],
           [
            null,
            1.14783000946045,
            3.89400005340576,
            3.20425009727478,
            4.10699987411499,
            11.7899599075317,
            null,
            2.41700005531311,
            3.47699999809265,
            4.46999979019165,
            3.22929000854492,
            4.25699996948242,
            6.33699989318848,
            2.22099995613098,
            4.54397010803223
           ],
           [
            null,
            2.00387001037598,
            4.28999996185303,
            0.190999999642372,
            6.0310001373291,
            11.7133102416992,
            2.58299994468689,
            2.13700008392334,
            3.52900004386902,
            3.87299990653992,
            2.59316992759705,
            4.30600023269653,
            6.69999980926514,
            1.85000002384186,
            4.34319019317627
           ],
           [
            null,
            null,
            3.42499995231628,
            0.006000000052154,
            6.37900018692017,
            9.44062042236328,
            0.467000007629395,
            2.33200001716614,
            3.66400003433228,
            3.93199992179871,
            1.98781001567841,
            4.3769998550415,
            6.07399988174438,
            1.65600001811981,
            null
           ],
           [
            null,
            null,
            2.91499996185303,
            3.65899991989136,
            7.3730001449585,
            null,
            null,
            2.21499991416931,
            3.48600006103516,
            4.20900011062622,
            null,
            3.8970000743866,
            4.76100015640259,
            1.68099999427795,
            null
           ],
           [
            null,
            null,
            2.08500003814697,
            2.68899989128113,
            4.05600023269653,
            5.48518991470337,
            null,
            2.05699992179871,
            4.21099996566772,
            5.79500007629395,
            1.55499994754791,
            4.29300022125244,
            5.98099994659424,
            1.76499998569489,
            null
           ],
           [
            26.7070007324219,
            1.34500002861023,
            null,
            3.22499990463257,
            2.31299996376038,
            4.56099987030029,
            null,
            1.68700003623962,
            3.95600008964539,
            4.4850001335144,
            1.50800001621246,
            4.63500022888184,
            6.97399997711182,
            1.8309999704361,
            null
           ],
           [
            null,
            1.01499998569489,
            null,
            null,
            0.152999997138977,
            5.52400016784668,
            null,
            null,
            3.6489999294281,
            4.58099985122681,
            1.20000004768372,
            null,
            8.14200019836426,
            1.97300004959106,
            null
           ]
          ]
         },
         "domain": {
          "x": [
           0,
           1
          ],
          "y": [
           0.515,
           1
          ]
         },
         "header": {
          "align": "left",
          "font": {
           "size": 10
          },
          "values": [
           "Country",
           "Series",
           "YR2000",
           "YR2001",
           "YR2002",
           "YR2003",
           "YR2004",
           "YR2005",
           "YR2006",
           "YR2007",
           "YR2008",
           "YR2009",
           "YR2010",
           "YR2011",
           "YR2012",
           "YR2013",
           "YR2014",
           "YR2015",
           "YR2016",
           "YR2017",
           "YR2018",
           "YR2019",
           "YR2020",
           "YR2021",
           "YR2022"
          ]
         },
         "type": "table"
        },
        {
         "cells": {
          "align": "left",
          "values": [
           [
            "Pakistan",
            "Nepal",
            "Maldives",
            "Sri Lanka",
            "India",
            "Bhutan",
            "Bangladesh",
            "Pakistan",
            "Nepal",
            "Maldives",
            "Sri Lanka",
            "India",
            "Bhutan",
            "Bangladesh",
            "Afghanistan"
           ],
           [
            "Children out of school (% of primary school age)",
            "Children out of school (% of primary school age)",
            "Children out of school (% of primary school age)",
            "Children out of school (% of primary school age)",
            "Children out of school (% of primary school age)",
            "Children out of school (% of primary school age)",
            "Children out of school (% of primary school age)",
            "Government expenditure on education, total (% of GDP)",
            "Government expenditure on education, total (% of GDP)",
            "Government expenditure on education, total (% of GDP)",
            "Government expenditure on education, total (% of GDP)",
            "Government expenditure on education, total (% of GDP)",
            "Government expenditure on education, total (% of GDP)",
            "Government expenditure on education, total (% of GDP)",
            "Government expenditure on education, total (% of GDP)"
           ],
           [
            null,
            30.7744808197021,
            2.73199009895325,
            null,
            16.9875202178955,
            38.8700103759766,
            null,
            1.83782005310059,
            2.9751501083374,
            null,
            null,
            4.32479000091553,
            5.78675985336304,
            2.12508010864258,
            null
           ],
           [
            null,
            null,
            1.60804998874664,
            1.79250001907349,
            11.8562898635864,
            36.9869117736816,
            null,
            null,
            3.70837998390198,
            null,
            null,
            null,
            5.91572999954224,
            2.17193007469177,
            null
           ],
           [
            null,
            null,
            2.34352993965149,
            1.99191999435425,
            13.4449195861816,
            null,
            null,
            null,
            3.15283989906311,
            5.79186010360718,
            null,
            null,
            null,
            2.01714992523193,
            null
           ],
           [
            null,
            22.0804595947266,
            null,
            2.61675000190735,
            8.48766040802002,
            null,
            null,
            null,
            3.11435008049011,
            5.32406997680664,
            null,
            3.61340999603271,
            null,
            2.06939005851746,
            null
           ],
           [
            null,
            20.0970897674561,
            1.77482998371124,
            3.98446011543274,
            null,
            null,
            null,
            1.76759004592896,
            3.17194008827209,
            4.66160011291504,
            null,
            3.35254001617432,
            6.60906982421875,
            1.94014000892639,
            null
           ],
           [
            null,
            null,
            2.41488003730774,
            4.23590993881226,
            null,
            28.4569797515869,
            3.37758994102478,
            2.04972004890442,
            3.3646399974823,
            5.0168399810791,
            null,
            3.18875002861023,
            7.28714990615845,
            null,
            null
           ],
           [
            null,
            null,
            2.49761009216309,
            4.58268022537231,
            null,
            23.6531200408936,
            3.5901300907135,
            2.39550995826721,
            3.60536003112793,
            4.64523983001709,
            null,
            3.14284992218018,
            null,
            2.13128995895386,
            4.68476057052612
           ],
           [
            null,
            null,
            3.55908989906311,
            5.21196985244751,
            0.91908997297287,
            null,
            null,
            2.63527011871338,
            3.51721000671387,
            4.41788005828857,
            null,
            null,
            null,
            2.20221996307373,
            4.17489528656006
           ],
           [
            null,
            null,
            5.27224016189575,
            6.10266017913818,
            0.393489986658096,
            16.7162895202637,
            8.54203033447266,
            2.74622988700867,
            3.8051700592041,
            4.470290184021,
            null,
            null,
            4.91159009933472,
            2.0545699596405,
            4.38367223739624
           ],
           [
            null,
            null,
            2.55772995948792,
            8.29146957397461,
            1.3199599981308,
            11.6914596557617,
            8.1956901550293,
            2.59078001976013,
            4.6637601852417,
            5.08168983459473,
            2.05590009689331,
            3.27824997901917,
            4.74174022674561,
            1.9394199848175,
            4.81063985824585
           ],
           [
            null,
            null,
            6.13899993896484,
            6.79112005233765,
            0.86080002784729,
            9.54932975769043,
            5.03145980834961,
            2.28687000274658,
            3.63172006607056,
            3.63328003883362,
            1.66177999973297,
            3.377690076828,
            4.12473011016846,
            null,
            3.4794499874115
           ],
           [
            null,
            2.17547988891602,
            4.64400005340576,
            7.04276990890503,
            1.31821000576019,
            9.20584011077881,
            null,
            2.22175002098083,
            3.84261989593506,
            3.08072996139526,
            1.74292004108429,
            3.79618000984192,
            4.76523017883301,
            2.13269996643066,
            3.4620099067688
           ],
           [
            null,
            1.80489003658295,
            6.19600009918213,
            7.4073600769043,
            1.23249995708466,
            8.1028003692627,
            null,
            2.13628005981445,
            3.52900004386902,
            4.96799993515015,
            1.45342004299164,
            4.08500003814697,
            null,
            2.04699993133545,
            2.60419988632202
           ],
           [
            null,
            null,
            6.61299991607666,
            0.28999999165535,
            0.425390005111694,
            9.73373985290527,
            null,
            2.49343991279602,
            3.20300006866455,
            3.95499992370605,
            1.5645899772644,
            3.84467005729675,
            5.72275018692017,
            1.96599996089935,
            3.45445990562439
           ],
           [
            null,
            1.69528996944427,
            4.64300012588501,
            6.35382986068726,
            null,
            null,
            null,
            2.46592998504639,
            3.48600006103516,
            3.89000010490417,
            1.85859000682831,
            3.8989999294281,
            6.04489994049072,
            2.09899997711182,
            3.69521999359131
           ],
           [
            null,
            1.59839999675751,
            2.84100008010864,
            3.86436009407043,
            null,
            11.379469871521,
            null,
            2.6500198841095,
            3.29399991035461,
            4.64499998092651,
            2.10998010635376,
            4.11499977111816,
            6.23799991607666,
            1.87199997901917,
            3.2558000087738
           ],
           [
            null,
            1.14783000946045,
            3.89400005340576,
            3.20425009727478,
            4.10699987411499,
            11.7899599075317,
            null,
            2.41700005531311,
            3.47699999809265,
            4.46999979019165,
            3.22929000854492,
            4.25699996948242,
            6.33699989318848,
            2.22099995613098,
            4.54397010803223
           ],
           [
            null,
            2.00387001037598,
            4.28999996185303,
            0.190999999642372,
            6.0310001373291,
            11.7133102416992,
            2.58299994468689,
            2.13700008392334,
            3.52900004386902,
            3.87299990653992,
            2.59316992759705,
            4.30600023269653,
            6.69999980926514,
            1.85000002384186,
            4.34319019317627
           ],
           [
            null,
            null,
            3.42499995231628,
            0.006000000052154,
            6.37900018692017,
            9.44062042236328,
            0.467000007629395,
            2.33200001716614,
            3.66400003433228,
            3.93199992179871,
            1.98781001567841,
            4.3769998550415,
            6.07399988174438,
            1.65600001811981,
            null
           ],
           [
            null,
            null,
            2.91499996185303,
            3.65899991989136,
            7.3730001449585,
            null,
            null,
            2.21499991416931,
            3.48600006103516,
            4.20900011062622,
            null,
            3.8970000743866,
            4.76100015640259,
            1.68099999427795,
            null
           ],
           [
            null,
            null,
            2.08500003814697,
            2.68899989128113,
            4.05600023269653,
            5.48518991470337,
            null,
            2.05699992179871,
            4.21099996566772,
            5.79500007629395,
            1.55499994754791,
            4.29300022125244,
            5.98099994659424,
            1.76499998569489,
            null
           ],
           [
            26.7070007324219,
            1.34500002861023,
            null,
            3.22499990463257,
            2.31299996376038,
            4.56099987030029,
            null,
            1.68700003623962,
            3.95600008964539,
            4.4850001335144,
            1.50800001621246,
            4.63500022888184,
            6.97399997711182,
            1.8309999704361,
            null
           ],
           [
            null,
            1.01499998569489,
            null,
            null,
            0.152999997138977,
            5.52400016784668,
            null,
            null,
            3.6489999294281,
            4.58099985122681,
            1.20000004768372,
            null,
            8.14200019836426,
            1.97300004959106,
            null
           ]
          ]
         },
         "header": {
          "align": "left",
          "font": {
           "size": 10
          },
          "values": [
           "Country",
           "Series",
           "YR2000",
           "YR2001",
           "YR2002",
           "YR2003",
           "YR2004",
           "YR2005",
           "YR2006",
           "YR2007",
           "YR2008",
           "YR2009",
           "YR2010",
           "YR2011",
           "YR2012",
           "YR2013",
           "YR2014",
           "YR2015",
           "YR2016",
           "YR2017",
           "YR2018",
           "YR2019",
           "YR2020",
           "YR2021",
           "YR2022"
          ]
         },
         "type": "table"
        },
        {
         "cells": {
          "align": "left",
          "values": [
           [
            "Pakistan",
            "Nepal",
            "Maldives",
            "Sri Lanka",
            "India",
            "Bhutan",
            "Bangladesh",
            "Pakistan",
            "Nepal",
            "Maldives",
            "Sri Lanka",
            "India",
            "Bhutan",
            "Bangladesh",
            "Afghanistan"
           ],
           [
            "Children out of school (% of primary school age)",
            "Children out of school (% of primary school age)",
            "Children out of school (% of primary school age)",
            "Children out of school (% of primary school age)",
            "Children out of school (% of primary school age)",
            "Children out of school (% of primary school age)",
            "Children out of school (% of primary school age)",
            "Government expenditure on education, total (% of GDP)",
            "Government expenditure on education, total (% of GDP)",
            "Government expenditure on education, total (% of GDP)",
            "Government expenditure on education, total (% of GDP)",
            "Government expenditure on education, total (% of GDP)",
            "Government expenditure on education, total (% of GDP)",
            "Government expenditure on education, total (% of GDP)",
            "Government expenditure on education, total (% of GDP)"
           ],
           [
            null,
            30.7744808197021,
            2.73199009895325,
            null,
            16.9875202178955,
            38.8700103759766,
            null,
            1.83782005310059,
            2.9751501083374,
            null,
            null,
            4.32479000091553,
            5.78675985336304,
            2.12508010864258,
            null
           ],
           [
            null,
            null,
            1.60804998874664,
            1.79250001907349,
            11.8562898635864,
            36.9869117736816,
            null,
            null,
            3.70837998390198,
            null,
            null,
            null,
            5.91572999954224,
            2.17193007469177,
            null
           ],
           [
            null,
            null,
            2.34352993965149,
            1.99191999435425,
            13.4449195861816,
            null,
            null,
            null,
            3.15283989906311,
            5.79186010360718,
            null,
            null,
            null,
            2.01714992523193,
            null
           ],
           [
            null,
            22.0804595947266,
            null,
            2.61675000190735,
            8.48766040802002,
            null,
            null,
            null,
            3.11435008049011,
            5.32406997680664,
            null,
            3.61340999603271,
            null,
            2.06939005851746,
            null
           ],
           [
            null,
            20.0970897674561,
            1.77482998371124,
            3.98446011543274,
            null,
            null,
            null,
            1.76759004592896,
            3.17194008827209,
            4.66160011291504,
            null,
            3.35254001617432,
            6.60906982421875,
            1.94014000892639,
            null
           ],
           [
            null,
            null,
            2.41488003730774,
            4.23590993881226,
            null,
            28.4569797515869,
            3.37758994102478,
            2.04972004890442,
            3.3646399974823,
            5.0168399810791,
            null,
            3.18875002861023,
            7.28714990615845,
            null,
            null
           ],
           [
            null,
            null,
            2.49761009216309,
            4.58268022537231,
            null,
            23.6531200408936,
            3.5901300907135,
            2.39550995826721,
            3.60536003112793,
            4.64523983001709,
            null,
            3.14284992218018,
            null,
            2.13128995895386,
            4.68476057052612
           ],
           [
            null,
            null,
            3.55908989906311,
            5.21196985244751,
            0.91908997297287,
            null,
            null,
            2.63527011871338,
            3.51721000671387,
            4.41788005828857,
            null,
            null,
            null,
            2.20221996307373,
            4.17489528656006
           ],
           [
            null,
            null,
            5.27224016189575,
            6.10266017913818,
            0.393489986658096,
            16.7162895202637,
            8.54203033447266,
            2.74622988700867,
            3.8051700592041,
            4.470290184021,
            null,
            null,
            4.91159009933472,
            2.0545699596405,
            4.38367223739624
           ],
           [
            null,
            null,
            2.55772995948792,
            8.29146957397461,
            1.3199599981308,
            11.6914596557617,
            8.1956901550293,
            2.59078001976013,
            4.6637601852417,
            5.08168983459473,
            2.05590009689331,
            3.27824997901917,
            4.74174022674561,
            1.9394199848175,
            4.81063985824585
           ],
           [
            null,
            null,
            6.13899993896484,
            6.79112005233765,
            0.86080002784729,
            9.54932975769043,
            5.03145980834961,
            2.28687000274658,
            3.63172006607056,
            3.63328003883362,
            1.66177999973297,
            3.377690076828,
            4.12473011016846,
            null,
            3.4794499874115
           ],
           [
            null,
            2.17547988891602,
            4.64400005340576,
            7.04276990890503,
            1.31821000576019,
            9.20584011077881,
            null,
            2.22175002098083,
            3.84261989593506,
            3.08072996139526,
            1.74292004108429,
            3.79618000984192,
            4.76523017883301,
            2.13269996643066,
            3.4620099067688
           ],
           [
            null,
            1.80489003658295,
            6.19600009918213,
            7.4073600769043,
            1.23249995708466,
            8.1028003692627,
            null,
            2.13628005981445,
            3.52900004386902,
            4.96799993515015,
            1.45342004299164,
            4.08500003814697,
            null,
            2.04699993133545,
            2.60419988632202
           ],
           [
            null,
            null,
            6.61299991607666,
            0.28999999165535,
            0.425390005111694,
            9.73373985290527,
            null,
            2.49343991279602,
            3.20300006866455,
            3.95499992370605,
            1.5645899772644,
            3.84467005729675,
            5.72275018692017,
            1.96599996089935,
            3.45445990562439
           ],
           [
            null,
            1.69528996944427,
            4.64300012588501,
            6.35382986068726,
            null,
            null,
            null,
            2.46592998504639,
            3.48600006103516,
            3.89000010490417,
            1.85859000682831,
            3.8989999294281,
            6.04489994049072,
            2.09899997711182,
            3.69521999359131
           ],
           [
            null,
            1.59839999675751,
            2.84100008010864,
            3.86436009407043,
            null,
            11.379469871521,
            null,
            2.6500198841095,
            3.29399991035461,
            4.64499998092651,
            2.10998010635376,
            4.11499977111816,
            6.23799991607666,
            1.87199997901917,
            3.2558000087738
           ],
           [
            null,
            1.14783000946045,
            3.89400005340576,
            3.20425009727478,
            4.10699987411499,
            11.7899599075317,
            null,
            2.41700005531311,
            3.47699999809265,
            4.46999979019165,
            3.22929000854492,
            4.25699996948242,
            6.33699989318848,
            2.22099995613098,
            4.54397010803223
           ],
           [
            null,
            2.00387001037598,
            4.28999996185303,
            0.190999999642372,
            6.0310001373291,
            11.7133102416992,
            2.58299994468689,
            2.13700008392334,
            3.52900004386902,
            3.87299990653992,
            2.59316992759705,
            4.30600023269653,
            6.69999980926514,
            1.85000002384186,
            4.34319019317627
           ],
           [
            null,
            null,
            3.42499995231628,
            0.006000000052154,
            6.37900018692017,
            9.44062042236328,
            0.467000007629395,
            2.33200001716614,
            3.66400003433228,
            3.93199992179871,
            1.98781001567841,
            4.3769998550415,
            6.07399988174438,
            1.65600001811981,
            null
           ],
           [
            null,
            null,
            2.91499996185303,
            3.65899991989136,
            7.3730001449585,
            null,
            null,
            2.21499991416931,
            3.48600006103516,
            4.20900011062622,
            null,
            3.8970000743866,
            4.76100015640259,
            1.68099999427795,
            null
           ],
           [
            null,
            null,
            2.08500003814697,
            2.68899989128113,
            4.05600023269653,
            5.48518991470337,
            null,
            2.05699992179871,
            4.21099996566772,
            5.79500007629395,
            1.55499994754791,
            4.29300022125244,
            5.98099994659424,
            1.76499998569489,
            null
           ],
           [
            26.7070007324219,
            1.34500002861023,
            null,
            3.22499990463257,
            2.31299996376038,
            4.56099987030029,
            null,
            1.68700003623962,
            3.95600008964539,
            4.4850001335144,
            1.50800001621246,
            4.63500022888184,
            6.97399997711182,
            1.8309999704361,
            null
           ],
           [
            null,
            1.01499998569489,
            null,
            null,
            0.152999997138977,
            5.52400016784668,
            null,
            null,
            3.6489999294281,
            4.58099985122681,
            1.20000004768372,
            null,
            8.14200019836426,
            1.97300004959106,
            null
           ]
          ]
         },
         "domain": {
          "x": [
           0,
           1
          ],
          "y": [
           0.515,
           1
          ]
         },
         "header": {
          "align": "left",
          "font": {
           "size": 10
          },
          "values": [
           "Country",
           "Series",
           "YR2000",
           "YR2001",
           "YR2002",
           "YR2003",
           "YR2004",
           "YR2005",
           "YR2006",
           "YR2007",
           "YR2008",
           "YR2009",
           "YR2010",
           "YR2011",
           "YR2012",
           "YR2013",
           "YR2014",
           "YR2015",
           "YR2016",
           "YR2017",
           "YR2018",
           "YR2019",
           "YR2020",
           "YR2021",
           "YR2022"
          ]
         },
         "type": "table"
        },
        {
         "cells": {
          "align": "left",
          "values": [
           [
            "Pakistan",
            "Nepal",
            "Maldives",
            "Sri Lanka",
            "India",
            "Bhutan",
            "Bangladesh",
            "Pakistan",
            "Nepal",
            "Maldives",
            "Sri Lanka",
            "India",
            "Bhutan",
            "Bangladesh",
            "Afghanistan"
           ],
           [
            "Children out of school (% of primary school age)",
            "Children out of school (% of primary school age)",
            "Children out of school (% of primary school age)",
            "Children out of school (% of primary school age)",
            "Children out of school (% of primary school age)",
            "Children out of school (% of primary school age)",
            "Children out of school (% of primary school age)",
            "Government expenditure on education, total (% of GDP)",
            "Government expenditure on education, total (% of GDP)",
            "Government expenditure on education, total (% of GDP)",
            "Government expenditure on education, total (% of GDP)",
            "Government expenditure on education, total (% of GDP)",
            "Government expenditure on education, total (% of GDP)",
            "Government expenditure on education, total (% of GDP)",
            "Government expenditure on education, total (% of GDP)"
           ],
           [
            null,
            30.7744808197021,
            2.73199009895325,
            null,
            16.9875202178955,
            38.8700103759766,
            null,
            1.83782005310059,
            2.9751501083374,
            null,
            null,
            4.32479000091553,
            5.78675985336304,
            2.12508010864258,
            null
           ],
           [
            null,
            null,
            1.60804998874664,
            1.79250001907349,
            11.8562898635864,
            36.9869117736816,
            null,
            null,
            3.70837998390198,
            null,
            null,
            null,
            5.91572999954224,
            2.17193007469177,
            null
           ],
           [
            null,
            null,
            2.34352993965149,
            1.99191999435425,
            13.4449195861816,
            null,
            null,
            null,
            3.15283989906311,
            5.79186010360718,
            null,
            null,
            null,
            2.01714992523193,
            null
           ],
           [
            null,
            22.0804595947266,
            null,
            2.61675000190735,
            8.48766040802002,
            null,
            null,
            null,
            3.11435008049011,
            5.32406997680664,
            null,
            3.61340999603271,
            null,
            2.06939005851746,
            null
           ],
           [
            null,
            20.0970897674561,
            1.77482998371124,
            3.98446011543274,
            null,
            null,
            null,
            1.76759004592896,
            3.17194008827209,
            4.66160011291504,
            null,
            3.35254001617432,
            6.60906982421875,
            1.94014000892639,
            null
           ],
           [
            null,
            null,
            2.41488003730774,
            4.23590993881226,
            null,
            28.4569797515869,
            3.37758994102478,
            2.04972004890442,
            3.3646399974823,
            5.0168399810791,
            null,
            3.18875002861023,
            7.28714990615845,
            null,
            null
           ],
           [
            null,
            null,
            2.49761009216309,
            4.58268022537231,
            null,
            23.6531200408936,
            3.5901300907135,
            2.39550995826721,
            3.60536003112793,
            4.64523983001709,
            null,
            3.14284992218018,
            null,
            2.13128995895386,
            4.68476057052612
           ],
           [
            null,
            null,
            3.55908989906311,
            5.21196985244751,
            0.91908997297287,
            null,
            null,
            2.63527011871338,
            3.51721000671387,
            4.41788005828857,
            null,
            null,
            null,
            2.20221996307373,
            4.17489528656006
           ],
           [
            null,
            null,
            5.27224016189575,
            6.10266017913818,
            0.393489986658096,
            16.7162895202637,
            8.54203033447266,
            2.74622988700867,
            3.8051700592041,
            4.470290184021,
            null,
            null,
            4.91159009933472,
            2.0545699596405,
            4.38367223739624
           ],
           [
            null,
            null,
            2.55772995948792,
            8.29146957397461,
            1.3199599981308,
            11.6914596557617,
            8.1956901550293,
            2.59078001976013,
            4.6637601852417,
            5.08168983459473,
            2.05590009689331,
            3.27824997901917,
            4.74174022674561,
            1.9394199848175,
            4.81063985824585
           ],
           [
            null,
            null,
            6.13899993896484,
            6.79112005233765,
            0.86080002784729,
            9.54932975769043,
            5.03145980834961,
            2.28687000274658,
            3.63172006607056,
            3.63328003883362,
            1.66177999973297,
            3.377690076828,
            4.12473011016846,
            null,
            3.4794499874115
           ],
           [
            null,
            2.17547988891602,
            4.64400005340576,
            7.04276990890503,
            1.31821000576019,
            9.20584011077881,
            null,
            2.22175002098083,
            3.84261989593506,
            3.08072996139526,
            1.74292004108429,
            3.79618000984192,
            4.76523017883301,
            2.13269996643066,
            3.4620099067688
           ],
           [
            null,
            1.80489003658295,
            6.19600009918213,
            7.4073600769043,
            1.23249995708466,
            8.1028003692627,
            null,
            2.13628005981445,
            3.52900004386902,
            4.96799993515015,
            1.45342004299164,
            4.08500003814697,
            null,
            2.04699993133545,
            2.60419988632202
           ],
           [
            null,
            null,
            6.61299991607666,
            0.28999999165535,
            0.425390005111694,
            9.73373985290527,
            null,
            2.49343991279602,
            3.20300006866455,
            3.95499992370605,
            1.5645899772644,
            3.84467005729675,
            5.72275018692017,
            1.96599996089935,
            3.45445990562439
           ],
           [
            null,
            1.69528996944427,
            4.64300012588501,
            6.35382986068726,
            null,
            null,
            null,
            2.46592998504639,
            3.48600006103516,
            3.89000010490417,
            1.85859000682831,
            3.8989999294281,
            6.04489994049072,
            2.09899997711182,
            3.69521999359131
           ],
           [
            null,
            1.59839999675751,
            2.84100008010864,
            3.86436009407043,
            null,
            11.379469871521,
            null,
            2.6500198841095,
            3.29399991035461,
            4.64499998092651,
            2.10998010635376,
            4.11499977111816,
            6.23799991607666,
            1.87199997901917,
            3.2558000087738
           ],
           [
            null,
            1.14783000946045,
            3.89400005340576,
            3.20425009727478,
            4.10699987411499,
            11.7899599075317,
            null,
            2.41700005531311,
            3.47699999809265,
            4.46999979019165,
            3.22929000854492,
            4.25699996948242,
            6.33699989318848,
            2.22099995613098,
            4.54397010803223
           ],
           [
            null,
            2.00387001037598,
            4.28999996185303,
            0.190999999642372,
            6.0310001373291,
            11.7133102416992,
            2.58299994468689,
            2.13700008392334,
            3.52900004386902,
            3.87299990653992,
            2.59316992759705,
            4.30600023269653,
            6.69999980926514,
            1.85000002384186,
            4.34319019317627
           ],
           [
            null,
            null,
            3.42499995231628,
            0.006000000052154,
            6.37900018692017,
            9.44062042236328,
            0.467000007629395,
            2.33200001716614,
            3.66400003433228,
            3.93199992179871,
            1.98781001567841,
            4.3769998550415,
            6.07399988174438,
            1.65600001811981,
            null
           ],
           [
            null,
            null,
            2.91499996185303,
            3.65899991989136,
            7.3730001449585,
            null,
            null,
            2.21499991416931,
            3.48600006103516,
            4.20900011062622,
            null,
            3.8970000743866,
            4.76100015640259,
            1.68099999427795,
            null
           ],
           [
            null,
            null,
            2.08500003814697,
            2.68899989128113,
            4.05600023269653,
            5.48518991470337,
            null,
            2.05699992179871,
            4.21099996566772,
            5.79500007629395,
            1.55499994754791,
            4.29300022125244,
            5.98099994659424,
            1.76499998569489,
            null
           ],
           [
            26.7070007324219,
            1.34500002861023,
            null,
            3.22499990463257,
            2.31299996376038,
            4.56099987030029,
            null,
            1.68700003623962,
            3.95600008964539,
            4.4850001335144,
            1.50800001621246,
            4.63500022888184,
            6.97399997711182,
            1.8309999704361,
            null
           ],
           [
            null,
            1.01499998569489,
            null,
            null,
            0.152999997138977,
            5.52400016784668,
            null,
            null,
            3.6489999294281,
            4.58099985122681,
            1.20000004768372,
            null,
            8.14200019836426,
            1.97300004959106,
            null
           ]
          ]
         },
         "domain": {
          "x": [
           0,
           1
          ],
          "y": [
           0.515,
           1
          ]
         },
         "header": {
          "align": "left",
          "font": {
           "size": 20
          },
          "values": [
           "Country",
           "Series",
           "YR2000",
           "YR2001",
           "YR2002",
           "YR2003",
           "YR2004",
           "YR2005",
           "YR2006",
           "YR2007",
           "YR2008",
           "YR2009",
           "YR2010",
           "YR2011",
           "YR2012",
           "YR2013",
           "YR2014",
           "YR2015",
           "YR2016",
           "YR2017",
           "YR2018",
           "YR2019",
           "YR2020",
           "YR2021",
           "YR2022"
          ]
         },
         "type": "table"
        },
        {
         "cells": {
          "align": "left",
          "values": [
           [
            "Pakistan",
            "Nepal",
            "Maldives",
            "Sri Lanka",
            "India",
            "Bhutan",
            "Bangladesh",
            "Pakistan",
            "Nepal",
            "Maldives",
            "Sri Lanka",
            "India",
            "Bhutan",
            "Bangladesh",
            "Afghanistan"
           ],
           [
            "Children out of school (% of primary school age)",
            "Children out of school (% of primary school age)",
            "Children out of school (% of primary school age)",
            "Children out of school (% of primary school age)",
            "Children out of school (% of primary school age)",
            "Children out of school (% of primary school age)",
            "Children out of school (% of primary school age)",
            "Government expenditure on education, total (% of GDP)",
            "Government expenditure on education, total (% of GDP)",
            "Government expenditure on education, total (% of GDP)",
            "Government expenditure on education, total (% of GDP)",
            "Government expenditure on education, total (% of GDP)",
            "Government expenditure on education, total (% of GDP)",
            "Government expenditure on education, total (% of GDP)",
            "Government expenditure on education, total (% of GDP)"
           ],
           [
            null,
            30.7744808197021,
            2.73199009895325,
            null,
            16.9875202178955,
            38.8700103759766,
            null,
            1.83782005310059,
            2.9751501083374,
            null,
            null,
            4.32479000091553,
            5.78675985336304,
            2.12508010864258,
            null
           ],
           [
            null,
            null,
            1.60804998874664,
            1.79250001907349,
            11.8562898635864,
            36.9869117736816,
            null,
            null,
            3.70837998390198,
            null,
            null,
            null,
            5.91572999954224,
            2.17193007469177,
            null
           ],
           [
            null,
            null,
            2.34352993965149,
            1.99191999435425,
            13.4449195861816,
            null,
            null,
            null,
            3.15283989906311,
            5.79186010360718,
            null,
            null,
            null,
            2.01714992523193,
            null
           ],
           [
            null,
            22.0804595947266,
            null,
            2.61675000190735,
            8.48766040802002,
            null,
            null,
            null,
            3.11435008049011,
            5.32406997680664,
            null,
            3.61340999603271,
            null,
            2.06939005851746,
            null
           ],
           [
            null,
            20.0970897674561,
            1.77482998371124,
            3.98446011543274,
            null,
            null,
            null,
            1.76759004592896,
            3.17194008827209,
            4.66160011291504,
            null,
            3.35254001617432,
            6.60906982421875,
            1.94014000892639,
            null
           ],
           [
            null,
            null,
            2.41488003730774,
            4.23590993881226,
            null,
            28.4569797515869,
            3.37758994102478,
            2.04972004890442,
            3.3646399974823,
            5.0168399810791,
            null,
            3.18875002861023,
            7.28714990615845,
            null,
            null
           ],
           [
            null,
            null,
            2.49761009216309,
            4.58268022537231,
            null,
            23.6531200408936,
            3.5901300907135,
            2.39550995826721,
            3.60536003112793,
            4.64523983001709,
            null,
            3.14284992218018,
            null,
            2.13128995895386,
            4.68476057052612
           ],
           [
            null,
            null,
            3.55908989906311,
            5.21196985244751,
            0.91908997297287,
            null,
            null,
            2.63527011871338,
            3.51721000671387,
            4.41788005828857,
            null,
            null,
            null,
            2.20221996307373,
            4.17489528656006
           ],
           [
            null,
            null,
            5.27224016189575,
            6.10266017913818,
            0.393489986658096,
            16.7162895202637,
            8.54203033447266,
            2.74622988700867,
            3.8051700592041,
            4.470290184021,
            null,
            null,
            4.91159009933472,
            2.0545699596405,
            4.38367223739624
           ],
           [
            null,
            null,
            2.55772995948792,
            8.29146957397461,
            1.3199599981308,
            11.6914596557617,
            8.1956901550293,
            2.59078001976013,
            4.6637601852417,
            5.08168983459473,
            2.05590009689331,
            3.27824997901917,
            4.74174022674561,
            1.9394199848175,
            4.81063985824585
           ],
           [
            null,
            null,
            6.13899993896484,
            6.79112005233765,
            0.86080002784729,
            9.54932975769043,
            5.03145980834961,
            2.28687000274658,
            3.63172006607056,
            3.63328003883362,
            1.66177999973297,
            3.377690076828,
            4.12473011016846,
            null,
            3.4794499874115
           ],
           [
            null,
            2.17547988891602,
            4.64400005340576,
            7.04276990890503,
            1.31821000576019,
            9.20584011077881,
            null,
            2.22175002098083,
            3.84261989593506,
            3.08072996139526,
            1.74292004108429,
            3.79618000984192,
            4.76523017883301,
            2.13269996643066,
            3.4620099067688
           ],
           [
            null,
            1.80489003658295,
            6.19600009918213,
            7.4073600769043,
            1.23249995708466,
            8.1028003692627,
            null,
            2.13628005981445,
            3.52900004386902,
            4.96799993515015,
            1.45342004299164,
            4.08500003814697,
            null,
            2.04699993133545,
            2.60419988632202
           ],
           [
            null,
            null,
            6.61299991607666,
            0.28999999165535,
            0.425390005111694,
            9.73373985290527,
            null,
            2.49343991279602,
            3.20300006866455,
            3.95499992370605,
            1.5645899772644,
            3.84467005729675,
            5.72275018692017,
            1.96599996089935,
            3.45445990562439
           ],
           [
            null,
            1.69528996944427,
            4.64300012588501,
            6.35382986068726,
            null,
            null,
            null,
            2.46592998504639,
            3.48600006103516,
            3.89000010490417,
            1.85859000682831,
            3.8989999294281,
            6.04489994049072,
            2.09899997711182,
            3.69521999359131
           ],
           [
            null,
            1.59839999675751,
            2.84100008010864,
            3.86436009407043,
            null,
            11.379469871521,
            null,
            2.6500198841095,
            3.29399991035461,
            4.64499998092651,
            2.10998010635376,
            4.11499977111816,
            6.23799991607666,
            1.87199997901917,
            3.2558000087738
           ],
           [
            null,
            1.14783000946045,
            3.89400005340576,
            3.20425009727478,
            4.10699987411499,
            11.7899599075317,
            null,
            2.41700005531311,
            3.47699999809265,
            4.46999979019165,
            3.22929000854492,
            4.25699996948242,
            6.33699989318848,
            2.22099995613098,
            4.54397010803223
           ],
           [
            null,
            2.00387001037598,
            4.28999996185303,
            0.190999999642372,
            6.0310001373291,
            11.7133102416992,
            2.58299994468689,
            2.13700008392334,
            3.52900004386902,
            3.87299990653992,
            2.59316992759705,
            4.30600023269653,
            6.69999980926514,
            1.85000002384186,
            4.34319019317627
           ],
           [
            null,
            null,
            3.42499995231628,
            0.006000000052154,
            6.37900018692017,
            9.44062042236328,
            0.467000007629395,
            2.33200001716614,
            3.66400003433228,
            3.93199992179871,
            1.98781001567841,
            4.3769998550415,
            6.07399988174438,
            1.65600001811981,
            null
           ],
           [
            null,
            null,
            2.91499996185303,
            3.65899991989136,
            7.3730001449585,
            null,
            null,
            2.21499991416931,
            3.48600006103516,
            4.20900011062622,
            null,
            3.8970000743866,
            4.76100015640259,
            1.68099999427795,
            null
           ],
           [
            null,
            null,
            2.08500003814697,
            2.68899989128113,
            4.05600023269653,
            5.48518991470337,
            null,
            2.05699992179871,
            4.21099996566772,
            5.79500007629395,
            1.55499994754791,
            4.29300022125244,
            5.98099994659424,
            1.76499998569489,
            null
           ],
           [
            26.7070007324219,
            1.34500002861023,
            null,
            3.22499990463257,
            2.31299996376038,
            4.56099987030029,
            null,
            1.68700003623962,
            3.95600008964539,
            4.4850001335144,
            1.50800001621246,
            4.63500022888184,
            6.97399997711182,
            1.8309999704361,
            null
           ],
           [
            null,
            1.01499998569489,
            null,
            null,
            0.152999997138977,
            5.52400016784668,
            null,
            null,
            3.6489999294281,
            4.58099985122681,
            1.20000004768372,
            null,
            8.14200019836426,
            1.97300004959106,
            null
           ]
          ]
         },
         "domain": {
          "x": [
           0,
           1
          ],
          "y": [
           0.515,
           1
          ]
         },
         "header": {
          "align": "left",
          "font": {
           "size": 10
          },
          "values": [
           "Country",
           "Series",
           "YR2000",
           "YR2001",
           "YR2002",
           "YR2003",
           "YR2004",
           "YR2005",
           "YR2006",
           "YR2007",
           "YR2008",
           "YR2009",
           "YR2010",
           "YR2011",
           "YR2012",
           "YR2013",
           "YR2014",
           "YR2015",
           "YR2016",
           "YR2017",
           "YR2018",
           "YR2019",
           "YR2020",
           "YR2021",
           "YR2022"
          ]
         },
         "type": "table"
        },
        {
         "cells": {
          "align": "left",
          "values": [
           [
            "Pakistan",
            "Nepal",
            "Maldives",
            "Sri Lanka",
            "India",
            "Bhutan",
            "Bangladesh",
            "Pakistan",
            "Nepal",
            "Maldives",
            "Sri Lanka",
            "India",
            "Bhutan",
            "Bangladesh",
            "Afghanistan"
           ],
           [
            "Children out of school (% of primary school age)",
            "Children out of school (% of primary school age)",
            "Children out of school (% of primary school age)",
            "Children out of school (% of primary school age)",
            "Children out of school (% of primary school age)",
            "Children out of school (% of primary school age)",
            "Children out of school (% of primary school age)",
            "Government expenditure on education, total (% of GDP)",
            "Government expenditure on education, total (% of GDP)",
            "Government expenditure on education, total (% of GDP)",
            "Government expenditure on education, total (% of GDP)",
            "Government expenditure on education, total (% of GDP)",
            "Government expenditure on education, total (% of GDP)",
            "Government expenditure on education, total (% of GDP)",
            "Government expenditure on education, total (% of GDP)"
           ],
           [
            null,
            30.7744808197021,
            2.73199009895325,
            null,
            16.9875202178955,
            38.8700103759766,
            null,
            1.83782005310059,
            2.9751501083374,
            null,
            null,
            4.32479000091553,
            5.78675985336304,
            2.12508010864258,
            null
           ],
           [
            null,
            null,
            1.60804998874664,
            1.79250001907349,
            11.8562898635864,
            36.9869117736816,
            null,
            null,
            3.70837998390198,
            null,
            null,
            null,
            5.91572999954224,
            2.17193007469177,
            null
           ],
           [
            null,
            null,
            2.34352993965149,
            1.99191999435425,
            13.4449195861816,
            null,
            null,
            null,
            3.15283989906311,
            5.79186010360718,
            null,
            null,
            null,
            2.01714992523193,
            null
           ],
           [
            null,
            22.0804595947266,
            null,
            2.61675000190735,
            8.48766040802002,
            null,
            null,
            null,
            3.11435008049011,
            5.32406997680664,
            null,
            3.61340999603271,
            null,
            2.06939005851746,
            null
           ],
           [
            null,
            20.0970897674561,
            1.77482998371124,
            3.98446011543274,
            null,
            null,
            null,
            1.76759004592896,
            3.17194008827209,
            4.66160011291504,
            null,
            3.35254001617432,
            6.60906982421875,
            1.94014000892639,
            null
           ],
           [
            null,
            null,
            2.41488003730774,
            4.23590993881226,
            null,
            28.4569797515869,
            3.37758994102478,
            2.04972004890442,
            3.3646399974823,
            5.0168399810791,
            null,
            3.18875002861023,
            7.28714990615845,
            null,
            null
           ],
           [
            null,
            null,
            2.49761009216309,
            4.58268022537231,
            null,
            23.6531200408936,
            3.5901300907135,
            2.39550995826721,
            3.60536003112793,
            4.64523983001709,
            null,
            3.14284992218018,
            null,
            2.13128995895386,
            4.68476057052612
           ],
           [
            null,
            null,
            3.55908989906311,
            5.21196985244751,
            0.91908997297287,
            null,
            null,
            2.63527011871338,
            3.51721000671387,
            4.41788005828857,
            null,
            null,
            null,
            2.20221996307373,
            4.17489528656006
           ],
           [
            null,
            null,
            5.27224016189575,
            6.10266017913818,
            0.393489986658096,
            16.7162895202637,
            8.54203033447266,
            2.74622988700867,
            3.8051700592041,
            4.470290184021,
            null,
            null,
            4.91159009933472,
            2.0545699596405,
            4.38367223739624
           ],
           [
            null,
            null,
            2.55772995948792,
            8.29146957397461,
            1.3199599981308,
            11.6914596557617,
            8.1956901550293,
            2.59078001976013,
            4.6637601852417,
            5.08168983459473,
            2.05590009689331,
            3.27824997901917,
            4.74174022674561,
            1.9394199848175,
            4.81063985824585
           ],
           [
            null,
            null,
            6.13899993896484,
            6.79112005233765,
            0.86080002784729,
            9.54932975769043,
            5.03145980834961,
            2.28687000274658,
            3.63172006607056,
            3.63328003883362,
            1.66177999973297,
            3.377690076828,
            4.12473011016846,
            null,
            3.4794499874115
           ],
           [
            null,
            2.17547988891602,
            4.64400005340576,
            7.04276990890503,
            1.31821000576019,
            9.20584011077881,
            null,
            2.22175002098083,
            3.84261989593506,
            3.08072996139526,
            1.74292004108429,
            3.79618000984192,
            4.76523017883301,
            2.13269996643066,
            3.4620099067688
           ],
           [
            null,
            1.80489003658295,
            6.19600009918213,
            7.4073600769043,
            1.23249995708466,
            8.1028003692627,
            null,
            2.13628005981445,
            3.52900004386902,
            4.96799993515015,
            1.45342004299164,
            4.08500003814697,
            null,
            2.04699993133545,
            2.60419988632202
           ],
           [
            null,
            null,
            6.61299991607666,
            0.28999999165535,
            0.425390005111694,
            9.73373985290527,
            null,
            2.49343991279602,
            3.20300006866455,
            3.95499992370605,
            1.5645899772644,
            3.84467005729675,
            5.72275018692017,
            1.96599996089935,
            3.45445990562439
           ],
           [
            null,
            1.69528996944427,
            4.64300012588501,
            6.35382986068726,
            null,
            null,
            null,
            2.46592998504639,
            3.48600006103516,
            3.89000010490417,
            1.85859000682831,
            3.8989999294281,
            6.04489994049072,
            2.09899997711182,
            3.69521999359131
           ],
           [
            null,
            1.59839999675751,
            2.84100008010864,
            3.86436009407043,
            null,
            11.379469871521,
            null,
            2.6500198841095,
            3.29399991035461,
            4.64499998092651,
            2.10998010635376,
            4.11499977111816,
            6.23799991607666,
            1.87199997901917,
            3.2558000087738
           ],
           [
            null,
            1.14783000946045,
            3.89400005340576,
            3.20425009727478,
            4.10699987411499,
            11.7899599075317,
            null,
            2.41700005531311,
            3.47699999809265,
            4.46999979019165,
            3.22929000854492,
            4.25699996948242,
            6.33699989318848,
            2.22099995613098,
            4.54397010803223
           ],
           [
            null,
            2.00387001037598,
            4.28999996185303,
            0.190999999642372,
            6.0310001373291,
            11.7133102416992,
            2.58299994468689,
            2.13700008392334,
            3.52900004386902,
            3.87299990653992,
            2.59316992759705,
            4.30600023269653,
            6.69999980926514,
            1.85000002384186,
            4.34319019317627
           ],
           [
            null,
            null,
            3.42499995231628,
            0.006000000052154,
            6.37900018692017,
            9.44062042236328,
            0.467000007629395,
            2.33200001716614,
            3.66400003433228,
            3.93199992179871,
            1.98781001567841,
            4.3769998550415,
            6.07399988174438,
            1.65600001811981,
            null
           ],
           [
            null,
            null,
            2.91499996185303,
            3.65899991989136,
            7.3730001449585,
            null,
            null,
            2.21499991416931,
            3.48600006103516,
            4.20900011062622,
            null,
            3.8970000743866,
            4.76100015640259,
            1.68099999427795,
            null
           ],
           [
            null,
            null,
            2.08500003814697,
            2.68899989128113,
            4.05600023269653,
            5.48518991470337,
            null,
            2.05699992179871,
            4.21099996566772,
            5.79500007629395,
            1.55499994754791,
            4.29300022125244,
            5.98099994659424,
            1.76499998569489,
            null
           ],
           [
            26.7070007324219,
            1.34500002861023,
            null,
            3.22499990463257,
            2.31299996376038,
            4.56099987030029,
            null,
            1.68700003623962,
            3.95600008964539,
            4.4850001335144,
            1.50800001621246,
            4.63500022888184,
            6.97399997711182,
            1.8309999704361,
            null
           ],
           [
            null,
            1.01499998569489,
            null,
            null,
            0.152999997138977,
            5.52400016784668,
            null,
            null,
            3.6489999294281,
            4.58099985122681,
            1.20000004768372,
            null,
            8.14200019836426,
            1.97300004959106,
            null
           ]
          ]
         },
         "columnwidth": 0.5,
         "domain": {
          "x": [
           0,
           1
          ],
          "y": [
           0.515,
           1
          ]
         },
         "header": {
          "align": "left",
          "font": {
           "size": 10
          },
          "values": [
           "Country",
           "Series",
           "YR2000",
           "YR2001",
           "YR2002",
           "YR2003",
           "YR2004",
           "YR2005",
           "YR2006",
           "YR2007",
           "YR2008",
           "YR2009",
           "YR2010",
           "YR2011",
           "YR2012",
           "YR2013",
           "YR2014",
           "YR2015",
           "YR2016",
           "YR2017",
           "YR2018",
           "YR2019",
           "YR2020",
           "YR2021",
           "YR2022"
          ]
         },
         "type": "table"
        },
        {
         "cells": {
          "align": "left",
          "values": [
           [
            "Pakistan",
            "Nepal",
            "Maldives",
            "Sri Lanka",
            "India",
            "Bhutan",
            "Bangladesh",
            "Pakistan",
            "Nepal",
            "Maldives",
            "Sri Lanka",
            "India",
            "Bhutan",
            "Bangladesh",
            "Afghanistan"
           ],
           [
            "Children out of school (% of primary school age)",
            "Children out of school (% of primary school age)",
            "Children out of school (% of primary school age)",
            "Children out of school (% of primary school age)",
            "Children out of school (% of primary school age)",
            "Children out of school (% of primary school age)",
            "Children out of school (% of primary school age)",
            "Government expenditure on education, total (% of GDP)",
            "Government expenditure on education, total (% of GDP)",
            "Government expenditure on education, total (% of GDP)",
            "Government expenditure on education, total (% of GDP)",
            "Government expenditure on education, total (% of GDP)",
            "Government expenditure on education, total (% of GDP)",
            "Government expenditure on education, total (% of GDP)",
            "Government expenditure on education, total (% of GDP)"
           ],
           [
            null,
            30.7744808197021,
            2.73199009895325,
            null,
            16.9875202178955,
            38.8700103759766,
            null,
            1.83782005310059,
            2.9751501083374,
            null,
            null,
            4.32479000091553,
            5.78675985336304,
            2.12508010864258,
            null
           ],
           [
            null,
            null,
            1.60804998874664,
            1.79250001907349,
            11.8562898635864,
            36.9869117736816,
            null,
            null,
            3.70837998390198,
            null,
            null,
            null,
            5.91572999954224,
            2.17193007469177,
            null
           ],
           [
            null,
            null,
            2.34352993965149,
            1.99191999435425,
            13.4449195861816,
            null,
            null,
            null,
            3.15283989906311,
            5.79186010360718,
            null,
            null,
            null,
            2.01714992523193,
            null
           ],
           [
            null,
            22.0804595947266,
            null,
            2.61675000190735,
            8.48766040802002,
            null,
            null,
            null,
            3.11435008049011,
            5.32406997680664,
            null,
            3.61340999603271,
            null,
            2.06939005851746,
            null
           ],
           [
            null,
            20.0970897674561,
            1.77482998371124,
            3.98446011543274,
            null,
            null,
            null,
            1.76759004592896,
            3.17194008827209,
            4.66160011291504,
            null,
            3.35254001617432,
            6.60906982421875,
            1.94014000892639,
            null
           ],
           [
            null,
            null,
            2.41488003730774,
            4.23590993881226,
            null,
            28.4569797515869,
            3.37758994102478,
            2.04972004890442,
            3.3646399974823,
            5.0168399810791,
            null,
            3.18875002861023,
            7.28714990615845,
            null,
            null
           ],
           [
            null,
            null,
            2.49761009216309,
            4.58268022537231,
            null,
            23.6531200408936,
            3.5901300907135,
            2.39550995826721,
            3.60536003112793,
            4.64523983001709,
            null,
            3.14284992218018,
            null,
            2.13128995895386,
            4.68476057052612
           ],
           [
            null,
            null,
            3.55908989906311,
            5.21196985244751,
            0.91908997297287,
            null,
            null,
            2.63527011871338,
            3.51721000671387,
            4.41788005828857,
            null,
            null,
            null,
            2.20221996307373,
            4.17489528656006
           ],
           [
            null,
            null,
            5.27224016189575,
            6.10266017913818,
            0.393489986658096,
            16.7162895202637,
            8.54203033447266,
            2.74622988700867,
            3.8051700592041,
            4.470290184021,
            null,
            null,
            4.91159009933472,
            2.0545699596405,
            4.38367223739624
           ],
           [
            null,
            null,
            2.55772995948792,
            8.29146957397461,
            1.3199599981308,
            11.6914596557617,
            8.1956901550293,
            2.59078001976013,
            4.6637601852417,
            5.08168983459473,
            2.05590009689331,
            3.27824997901917,
            4.74174022674561,
            1.9394199848175,
            4.81063985824585
           ],
           [
            null,
            null,
            6.13899993896484,
            6.79112005233765,
            0.86080002784729,
            9.54932975769043,
            5.03145980834961,
            2.28687000274658,
            3.63172006607056,
            3.63328003883362,
            1.66177999973297,
            3.377690076828,
            4.12473011016846,
            null,
            3.4794499874115
           ],
           [
            null,
            2.17547988891602,
            4.64400005340576,
            7.04276990890503,
            1.31821000576019,
            9.20584011077881,
            null,
            2.22175002098083,
            3.84261989593506,
            3.08072996139526,
            1.74292004108429,
            3.79618000984192,
            4.76523017883301,
            2.13269996643066,
            3.4620099067688
           ],
           [
            null,
            1.80489003658295,
            6.19600009918213,
            7.4073600769043,
            1.23249995708466,
            8.1028003692627,
            null,
            2.13628005981445,
            3.52900004386902,
            4.96799993515015,
            1.45342004299164,
            4.08500003814697,
            null,
            2.04699993133545,
            2.60419988632202
           ],
           [
            null,
            null,
            6.61299991607666,
            0.28999999165535,
            0.425390005111694,
            9.73373985290527,
            null,
            2.49343991279602,
            3.20300006866455,
            3.95499992370605,
            1.5645899772644,
            3.84467005729675,
            5.72275018692017,
            1.96599996089935,
            3.45445990562439
           ],
           [
            null,
            1.69528996944427,
            4.64300012588501,
            6.35382986068726,
            null,
            null,
            null,
            2.46592998504639,
            3.48600006103516,
            3.89000010490417,
            1.85859000682831,
            3.8989999294281,
            6.04489994049072,
            2.09899997711182,
            3.69521999359131
           ],
           [
            null,
            1.59839999675751,
            2.84100008010864,
            3.86436009407043,
            null,
            11.379469871521,
            null,
            2.6500198841095,
            3.29399991035461,
            4.64499998092651,
            2.10998010635376,
            4.11499977111816,
            6.23799991607666,
            1.87199997901917,
            3.2558000087738
           ],
           [
            null,
            1.14783000946045,
            3.89400005340576,
            3.20425009727478,
            4.10699987411499,
            11.7899599075317,
            null,
            2.41700005531311,
            3.47699999809265,
            4.46999979019165,
            3.22929000854492,
            4.25699996948242,
            6.33699989318848,
            2.22099995613098,
            4.54397010803223
           ],
           [
            null,
            2.00387001037598,
            4.28999996185303,
            0.190999999642372,
            6.0310001373291,
            11.7133102416992,
            2.58299994468689,
            2.13700008392334,
            3.52900004386902,
            3.87299990653992,
            2.59316992759705,
            4.30600023269653,
            6.69999980926514,
            1.85000002384186,
            4.34319019317627
           ],
           [
            null,
            null,
            3.42499995231628,
            0.006000000052154,
            6.37900018692017,
            9.44062042236328,
            0.467000007629395,
            2.33200001716614,
            3.66400003433228,
            3.93199992179871,
            1.98781001567841,
            4.3769998550415,
            6.07399988174438,
            1.65600001811981,
            null
           ],
           [
            null,
            null,
            2.91499996185303,
            3.65899991989136,
            7.3730001449585,
            null,
            null,
            2.21499991416931,
            3.48600006103516,
            4.20900011062622,
            null,
            3.8970000743866,
            4.76100015640259,
            1.68099999427795,
            null
           ],
           [
            null,
            null,
            2.08500003814697,
            2.68899989128113,
            4.05600023269653,
            5.48518991470337,
            null,
            2.05699992179871,
            4.21099996566772,
            5.79500007629395,
            1.55499994754791,
            4.29300022125244,
            5.98099994659424,
            1.76499998569489,
            null
           ],
           [
            26.7070007324219,
            1.34500002861023,
            null,
            3.22499990463257,
            2.31299996376038,
            4.56099987030029,
            null,
            1.68700003623962,
            3.95600008964539,
            4.4850001335144,
            1.50800001621246,
            4.63500022888184,
            6.97399997711182,
            1.8309999704361,
            null
           ],
           [
            null,
            1.01499998569489,
            null,
            null,
            0.152999997138977,
            5.52400016784668,
            null,
            null,
            3.6489999294281,
            4.58099985122681,
            1.20000004768372,
            null,
            8.14200019836426,
            1.97300004959106,
            null
           ]
          ]
         },
         "columnwidth": 4,
         "domain": {
          "x": [
           0,
           1
          ],
          "y": [
           0.515,
           1
          ]
         },
         "header": {
          "align": "left",
          "font": {
           "size": 10
          },
          "values": [
           "Country",
           "Series",
           "YR2000",
           "YR2001",
           "YR2002",
           "YR2003",
           "YR2004",
           "YR2005",
           "YR2006",
           "YR2007",
           "YR2008",
           "YR2009",
           "YR2010",
           "YR2011",
           "YR2012",
           "YR2013",
           "YR2014",
           "YR2015",
           "YR2016",
           "YR2017",
           "YR2018",
           "YR2019",
           "YR2020",
           "YR2021",
           "YR2022"
          ]
         },
         "type": "table"
        },
        {
         "cells": {
          "align": "center",
          "values": [
           [
            "Pakistan",
            "Nepal",
            "Maldives",
            "Sri Lanka",
            "India",
            "Bhutan",
            "Bangladesh",
            "Pakistan",
            "Nepal",
            "Maldives",
            "Sri Lanka",
            "India",
            "Bhutan",
            "Bangladesh",
            "Afghanistan"
           ],
           [
            "Children out of school (% of primary school age)",
            "Children out of school (% of primary school age)",
            "Children out of school (% of primary school age)",
            "Children out of school (% of primary school age)",
            "Children out of school (% of primary school age)",
            "Children out of school (% of primary school age)",
            "Children out of school (% of primary school age)",
            "Government expenditure on education, total (% of GDP)",
            "Government expenditure on education, total (% of GDP)",
            "Government expenditure on education, total (% of GDP)",
            "Government expenditure on education, total (% of GDP)",
            "Government expenditure on education, total (% of GDP)",
            "Government expenditure on education, total (% of GDP)",
            "Government expenditure on education, total (% of GDP)",
            "Government expenditure on education, total (% of GDP)"
           ],
           [
            null,
            30.7744808197021,
            2.73199009895325,
            null,
            16.9875202178955,
            38.8700103759766,
            null,
            1.83782005310059,
            2.9751501083374,
            null,
            null,
            4.32479000091553,
            5.78675985336304,
            2.12508010864258,
            null
           ],
           [
            null,
            null,
            1.60804998874664,
            1.79250001907349,
            11.8562898635864,
            36.9869117736816,
            null,
            null,
            3.70837998390198,
            null,
            null,
            null,
            5.91572999954224,
            2.17193007469177,
            null
           ],
           [
            null,
            null,
            2.34352993965149,
            1.99191999435425,
            13.4449195861816,
            null,
            null,
            null,
            3.15283989906311,
            5.79186010360718,
            null,
            null,
            null,
            2.01714992523193,
            null
           ],
           [
            null,
            22.0804595947266,
            null,
            2.61675000190735,
            8.48766040802002,
            null,
            null,
            null,
            3.11435008049011,
            5.32406997680664,
            null,
            3.61340999603271,
            null,
            2.06939005851746,
            null
           ],
           [
            null,
            20.0970897674561,
            1.77482998371124,
            3.98446011543274,
            null,
            null,
            null,
            1.76759004592896,
            3.17194008827209,
            4.66160011291504,
            null,
            3.35254001617432,
            6.60906982421875,
            1.94014000892639,
            null
           ],
           [
            null,
            null,
            2.41488003730774,
            4.23590993881226,
            null,
            28.4569797515869,
            3.37758994102478,
            2.04972004890442,
            3.3646399974823,
            5.0168399810791,
            null,
            3.18875002861023,
            7.28714990615845,
            null,
            null
           ],
           [
            null,
            null,
            2.49761009216309,
            4.58268022537231,
            null,
            23.6531200408936,
            3.5901300907135,
            2.39550995826721,
            3.60536003112793,
            4.64523983001709,
            null,
            3.14284992218018,
            null,
            2.13128995895386,
            4.68476057052612
           ],
           [
            null,
            null,
            3.55908989906311,
            5.21196985244751,
            0.91908997297287,
            null,
            null,
            2.63527011871338,
            3.51721000671387,
            4.41788005828857,
            null,
            null,
            null,
            2.20221996307373,
            4.17489528656006
           ],
           [
            null,
            null,
            5.27224016189575,
            6.10266017913818,
            0.393489986658096,
            16.7162895202637,
            8.54203033447266,
            2.74622988700867,
            3.8051700592041,
            4.470290184021,
            null,
            null,
            4.91159009933472,
            2.0545699596405,
            4.38367223739624
           ],
           [
            null,
            null,
            2.55772995948792,
            8.29146957397461,
            1.3199599981308,
            11.6914596557617,
            8.1956901550293,
            2.59078001976013,
            4.6637601852417,
            5.08168983459473,
            2.05590009689331,
            3.27824997901917,
            4.74174022674561,
            1.9394199848175,
            4.81063985824585
           ],
           [
            null,
            null,
            6.13899993896484,
            6.79112005233765,
            0.86080002784729,
            9.54932975769043,
            5.03145980834961,
            2.28687000274658,
            3.63172006607056,
            3.63328003883362,
            1.66177999973297,
            3.377690076828,
            4.12473011016846,
            null,
            3.4794499874115
           ],
           [
            null,
            2.17547988891602,
            4.64400005340576,
            7.04276990890503,
            1.31821000576019,
            9.20584011077881,
            null,
            2.22175002098083,
            3.84261989593506,
            3.08072996139526,
            1.74292004108429,
            3.79618000984192,
            4.76523017883301,
            2.13269996643066,
            3.4620099067688
           ],
           [
            null,
            1.80489003658295,
            6.19600009918213,
            7.4073600769043,
            1.23249995708466,
            8.1028003692627,
            null,
            2.13628005981445,
            3.52900004386902,
            4.96799993515015,
            1.45342004299164,
            4.08500003814697,
            null,
            2.04699993133545,
            2.60419988632202
           ],
           [
            null,
            null,
            6.61299991607666,
            0.28999999165535,
            0.425390005111694,
            9.73373985290527,
            null,
            2.49343991279602,
            3.20300006866455,
            3.95499992370605,
            1.5645899772644,
            3.84467005729675,
            5.72275018692017,
            1.96599996089935,
            3.45445990562439
           ],
           [
            null,
            1.69528996944427,
            4.64300012588501,
            6.35382986068726,
            null,
            null,
            null,
            2.46592998504639,
            3.48600006103516,
            3.89000010490417,
            1.85859000682831,
            3.8989999294281,
            6.04489994049072,
            2.09899997711182,
            3.69521999359131
           ],
           [
            null,
            1.59839999675751,
            2.84100008010864,
            3.86436009407043,
            null,
            11.379469871521,
            null,
            2.6500198841095,
            3.29399991035461,
            4.64499998092651,
            2.10998010635376,
            4.11499977111816,
            6.23799991607666,
            1.87199997901917,
            3.2558000087738
           ],
           [
            null,
            1.14783000946045,
            3.89400005340576,
            3.20425009727478,
            4.10699987411499,
            11.7899599075317,
            null,
            2.41700005531311,
            3.47699999809265,
            4.46999979019165,
            3.22929000854492,
            4.25699996948242,
            6.33699989318848,
            2.22099995613098,
            4.54397010803223
           ],
           [
            null,
            2.00387001037598,
            4.28999996185303,
            0.190999999642372,
            6.0310001373291,
            11.7133102416992,
            2.58299994468689,
            2.13700008392334,
            3.52900004386902,
            3.87299990653992,
            2.59316992759705,
            4.30600023269653,
            6.69999980926514,
            1.85000002384186,
            4.34319019317627
           ],
           [
            null,
            null,
            3.42499995231628,
            0.006000000052154,
            6.37900018692017,
            9.44062042236328,
            0.467000007629395,
            2.33200001716614,
            3.66400003433228,
            3.93199992179871,
            1.98781001567841,
            4.3769998550415,
            6.07399988174438,
            1.65600001811981,
            null
           ],
           [
            null,
            null,
            2.91499996185303,
            3.65899991989136,
            7.3730001449585,
            null,
            null,
            2.21499991416931,
            3.48600006103516,
            4.20900011062622,
            null,
            3.8970000743866,
            4.76100015640259,
            1.68099999427795,
            null
           ],
           [
            null,
            null,
            2.08500003814697,
            2.68899989128113,
            4.05600023269653,
            5.48518991470337,
            null,
            2.05699992179871,
            4.21099996566772,
            5.79500007629395,
            1.55499994754791,
            4.29300022125244,
            5.98099994659424,
            1.76499998569489,
            null
           ],
           [
            26.7070007324219,
            1.34500002861023,
            null,
            3.22499990463257,
            2.31299996376038,
            4.56099987030029,
            null,
            1.68700003623962,
            3.95600008964539,
            4.4850001335144,
            1.50800001621246,
            4.63500022888184,
            6.97399997711182,
            1.8309999704361,
            null
           ],
           [
            null,
            1.01499998569489,
            null,
            null,
            0.152999997138977,
            5.52400016784668,
            null,
            null,
            3.6489999294281,
            4.58099985122681,
            1.20000004768372,
            null,
            8.14200019836426,
            1.97300004959106,
            null
           ]
          ]
         },
         "columnwidth": 4,
         "domain": {
          "x": [
           0,
           1
          ],
          "y": [
           0.515,
           1
          ]
         },
         "header": {
          "align": "center",
          "font": {
           "size": 10
          },
          "values": [
           "Country",
           "Series",
           "YR2000",
           "YR2001",
           "YR2002",
           "YR2003",
           "YR2004",
           "YR2005",
           "YR2006",
           "YR2007",
           "YR2008",
           "YR2009",
           "YR2010",
           "YR2011",
           "YR2012",
           "YR2013",
           "YR2014",
           "YR2015",
           "YR2016",
           "YR2017",
           "YR2018",
           "YR2019",
           "YR2020",
           "YR2021",
           "YR2022"
          ]
         },
         "type": "table"
        },
        {
         "cells": {
          "align": "center",
          "values": [
           [
            "Pakistan",
            "Nepal",
            "Maldives",
            "Sri Lanka",
            "India",
            "Bhutan",
            "Bangladesh",
            "Pakistan",
            "Nepal",
            "Maldives",
            "Sri Lanka",
            "India",
            "Bhutan",
            "Bangladesh",
            "Afghanistan"
           ],
           [
            "Children out of school (% of primary school age)",
            "Children out of school (% of primary school age)",
            "Children out of school (% of primary school age)",
            "Children out of school (% of primary school age)",
            "Children out of school (% of primary school age)",
            "Children out of school (% of primary school age)",
            "Children out of school (% of primary school age)",
            "Government expenditure on education, total (% of GDP)",
            "Government expenditure on education, total (% of GDP)",
            "Government expenditure on education, total (% of GDP)",
            "Government expenditure on education, total (% of GDP)",
            "Government expenditure on education, total (% of GDP)",
            "Government expenditure on education, total (% of GDP)",
            "Government expenditure on education, total (% of GDP)",
            "Government expenditure on education, total (% of GDP)"
           ],
           [
            null,
            30.7744808197021,
            2.73199009895325,
            null,
            16.9875202178955,
            38.8700103759766,
            null,
            1.83782005310059,
            2.9751501083374,
            null,
            null,
            4.32479000091553,
            5.78675985336304,
            2.12508010864258,
            null
           ],
           [
            null,
            null,
            1.60804998874664,
            1.79250001907349,
            11.8562898635864,
            36.9869117736816,
            null,
            null,
            3.70837998390198,
            null,
            null,
            null,
            5.91572999954224,
            2.17193007469177,
            null
           ],
           [
            null,
            null,
            2.34352993965149,
            1.99191999435425,
            13.4449195861816,
            null,
            null,
            null,
            3.15283989906311,
            5.79186010360718,
            null,
            null,
            null,
            2.01714992523193,
            null
           ],
           [
            null,
            22.0804595947266,
            null,
            2.61675000190735,
            8.48766040802002,
            null,
            null,
            null,
            3.11435008049011,
            5.32406997680664,
            null,
            3.61340999603271,
            null,
            2.06939005851746,
            null
           ],
           [
            null,
            20.0970897674561,
            1.77482998371124,
            3.98446011543274,
            null,
            null,
            null,
            1.76759004592896,
            3.17194008827209,
            4.66160011291504,
            null,
            3.35254001617432,
            6.60906982421875,
            1.94014000892639,
            null
           ],
           [
            null,
            null,
            2.41488003730774,
            4.23590993881226,
            null,
            28.4569797515869,
            3.37758994102478,
            2.04972004890442,
            3.3646399974823,
            5.0168399810791,
            null,
            3.18875002861023,
            7.28714990615845,
            null,
            null
           ],
           [
            null,
            null,
            2.49761009216309,
            4.58268022537231,
            null,
            23.6531200408936,
            3.5901300907135,
            2.39550995826721,
            3.60536003112793,
            4.64523983001709,
            null,
            3.14284992218018,
            null,
            2.13128995895386,
            4.68476057052612
           ],
           [
            null,
            null,
            3.55908989906311,
            5.21196985244751,
            0.91908997297287,
            null,
            null,
            2.63527011871338,
            3.51721000671387,
            4.41788005828857,
            null,
            null,
            null,
            2.20221996307373,
            4.17489528656006
           ],
           [
            null,
            null,
            5.27224016189575,
            6.10266017913818,
            0.393489986658096,
            16.7162895202637,
            8.54203033447266,
            2.74622988700867,
            3.8051700592041,
            4.470290184021,
            null,
            null,
            4.91159009933472,
            2.0545699596405,
            4.38367223739624
           ],
           [
            null,
            null,
            2.55772995948792,
            8.29146957397461,
            1.3199599981308,
            11.6914596557617,
            8.1956901550293,
            2.59078001976013,
            4.6637601852417,
            5.08168983459473,
            2.05590009689331,
            3.27824997901917,
            4.74174022674561,
            1.9394199848175,
            4.81063985824585
           ],
           [
            null,
            null,
            6.13899993896484,
            6.79112005233765,
            0.86080002784729,
            9.54932975769043,
            5.03145980834961,
            2.28687000274658,
            3.63172006607056,
            3.63328003883362,
            1.66177999973297,
            3.377690076828,
            4.12473011016846,
            null,
            3.4794499874115
           ],
           [
            null,
            2.17547988891602,
            4.64400005340576,
            7.04276990890503,
            1.31821000576019,
            9.20584011077881,
            null,
            2.22175002098083,
            3.84261989593506,
            3.08072996139526,
            1.74292004108429,
            3.79618000984192,
            4.76523017883301,
            2.13269996643066,
            3.4620099067688
           ],
           [
            null,
            1.80489003658295,
            6.19600009918213,
            7.4073600769043,
            1.23249995708466,
            8.1028003692627,
            null,
            2.13628005981445,
            3.52900004386902,
            4.96799993515015,
            1.45342004299164,
            4.08500003814697,
            null,
            2.04699993133545,
            2.60419988632202
           ],
           [
            null,
            null,
            6.61299991607666,
            0.28999999165535,
            0.425390005111694,
            9.73373985290527,
            null,
            2.49343991279602,
            3.20300006866455,
            3.95499992370605,
            1.5645899772644,
            3.84467005729675,
            5.72275018692017,
            1.96599996089935,
            3.45445990562439
           ],
           [
            null,
            1.69528996944427,
            4.64300012588501,
            6.35382986068726,
            null,
            null,
            null,
            2.46592998504639,
            3.48600006103516,
            3.89000010490417,
            1.85859000682831,
            3.8989999294281,
            6.04489994049072,
            2.09899997711182,
            3.69521999359131
           ],
           [
            null,
            1.59839999675751,
            2.84100008010864,
            3.86436009407043,
            null,
            11.379469871521,
            null,
            2.6500198841095,
            3.29399991035461,
            4.64499998092651,
            2.10998010635376,
            4.11499977111816,
            6.23799991607666,
            1.87199997901917,
            3.2558000087738
           ],
           [
            null,
            1.14783000946045,
            3.89400005340576,
            3.20425009727478,
            4.10699987411499,
            11.7899599075317,
            null,
            2.41700005531311,
            3.47699999809265,
            4.46999979019165,
            3.22929000854492,
            4.25699996948242,
            6.33699989318848,
            2.22099995613098,
            4.54397010803223
           ],
           [
            null,
            2.00387001037598,
            4.28999996185303,
            0.190999999642372,
            6.0310001373291,
            11.7133102416992,
            2.58299994468689,
            2.13700008392334,
            3.52900004386902,
            3.87299990653992,
            2.59316992759705,
            4.30600023269653,
            6.69999980926514,
            1.85000002384186,
            4.34319019317627
           ],
           [
            null,
            null,
            3.42499995231628,
            0.006000000052154,
            6.37900018692017,
            9.44062042236328,
            0.467000007629395,
            2.33200001716614,
            3.66400003433228,
            3.93199992179871,
            1.98781001567841,
            4.3769998550415,
            6.07399988174438,
            1.65600001811981,
            null
           ],
           [
            null,
            null,
            2.91499996185303,
            3.65899991989136,
            7.3730001449585,
            null,
            null,
            2.21499991416931,
            3.48600006103516,
            4.20900011062622,
            null,
            3.8970000743866,
            4.76100015640259,
            1.68099999427795,
            null
           ],
           [
            null,
            null,
            2.08500003814697,
            2.68899989128113,
            4.05600023269653,
            5.48518991470337,
            null,
            2.05699992179871,
            4.21099996566772,
            5.79500007629395,
            1.55499994754791,
            4.29300022125244,
            5.98099994659424,
            1.76499998569489,
            null
           ],
           [
            26.7070007324219,
            1.34500002861023,
            null,
            3.22499990463257,
            2.31299996376038,
            4.56099987030029,
            null,
            1.68700003623962,
            3.95600008964539,
            4.4850001335144,
            1.50800001621246,
            4.63500022888184,
            6.97399997711182,
            1.8309999704361,
            null
           ],
           [
            null,
            1.01499998569489,
            null,
            null,
            0.152999997138977,
            5.52400016784668,
            null,
            null,
            3.6489999294281,
            4.58099985122681,
            1.20000004768372,
            null,
            8.14200019836426,
            1.97300004959106,
            null
           ]
          ]
         },
         "domain": {
          "x": [
           0,
           1
          ],
          "y": [
           0.515,
           1
          ]
         },
         "header": {
          "align": "center",
          "font": {
           "size": 10
          },
          "values": [
           "Country",
           "Series",
           "YR2000",
           "YR2001",
           "YR2002",
           "YR2003",
           "YR2004",
           "YR2005",
           "YR2006",
           "YR2007",
           "YR2008",
           "YR2009",
           "YR2010",
           "YR2011",
           "YR2012",
           "YR2013",
           "YR2014",
           "YR2015",
           "YR2016",
           "YR2017",
           "YR2018",
           "YR2019",
           "YR2020",
           "YR2021",
           "YR2022"
          ]
         },
         "type": "table"
        },
        {
         "cells": {
          "align": "center",
          "values": [
           [
            "Pakistan",
            "Nepal",
            "Maldives",
            "Sri Lanka",
            "India",
            "Bhutan",
            "Bangladesh",
            "Pakistan",
            "Nepal",
            "Maldives",
            "Sri Lanka",
            "India",
            "Bhutan",
            "Bangladesh",
            "Afghanistan"
           ],
           [
            "Children out of school (% of primary school age)",
            "Children out of school (% of primary school age)",
            "Children out of school (% of primary school age)",
            "Children out of school (% of primary school age)",
            "Children out of school (% of primary school age)",
            "Children out of school (% of primary school age)",
            "Children out of school (% of primary school age)",
            "Government expenditure on education, total (% of GDP)",
            "Government expenditure on education, total (% of GDP)",
            "Government expenditure on education, total (% of GDP)",
            "Government expenditure on education, total (% of GDP)",
            "Government expenditure on education, total (% of GDP)",
            "Government expenditure on education, total (% of GDP)",
            "Government expenditure on education, total (% of GDP)",
            "Government expenditure on education, total (% of GDP)"
           ],
           [
            null,
            30.7744808197021,
            2.73199009895325,
            null,
            16.9875202178955,
            38.8700103759766,
            null,
            1.83782005310059,
            2.9751501083374,
            null,
            null,
            4.32479000091553,
            5.78675985336304,
            2.12508010864258,
            null
           ],
           [
            null,
            null,
            1.60804998874664,
            1.79250001907349,
            11.8562898635864,
            36.9869117736816,
            null,
            null,
            3.70837998390198,
            null,
            null,
            null,
            5.91572999954224,
            2.17193007469177,
            null
           ],
           [
            null,
            null,
            2.34352993965149,
            1.99191999435425,
            13.4449195861816,
            null,
            null,
            null,
            3.15283989906311,
            5.79186010360718,
            null,
            null,
            null,
            2.01714992523193,
            null
           ],
           [
            null,
            22.0804595947266,
            null,
            2.61675000190735,
            8.48766040802002,
            null,
            null,
            null,
            3.11435008049011,
            5.32406997680664,
            null,
            3.61340999603271,
            null,
            2.06939005851746,
            null
           ],
           [
            null,
            20.0970897674561,
            1.77482998371124,
            3.98446011543274,
            null,
            null,
            null,
            1.76759004592896,
            3.17194008827209,
            4.66160011291504,
            null,
            3.35254001617432,
            6.60906982421875,
            1.94014000892639,
            null
           ],
           [
            null,
            null,
            2.41488003730774,
            4.23590993881226,
            null,
            28.4569797515869,
            3.37758994102478,
            2.04972004890442,
            3.3646399974823,
            5.0168399810791,
            null,
            3.18875002861023,
            7.28714990615845,
            null,
            null
           ],
           [
            null,
            null,
            2.49761009216309,
            4.58268022537231,
            null,
            23.6531200408936,
            3.5901300907135,
            2.39550995826721,
            3.60536003112793,
            4.64523983001709,
            null,
            3.14284992218018,
            null,
            2.13128995895386,
            4.68476057052612
           ],
           [
            null,
            null,
            3.55908989906311,
            5.21196985244751,
            0.91908997297287,
            null,
            null,
            2.63527011871338,
            3.51721000671387,
            4.41788005828857,
            null,
            null,
            null,
            2.20221996307373,
            4.17489528656006
           ],
           [
            null,
            null,
            5.27224016189575,
            6.10266017913818,
            0.393489986658096,
            16.7162895202637,
            8.54203033447266,
            2.74622988700867,
            3.8051700592041,
            4.470290184021,
            null,
            null,
            4.91159009933472,
            2.0545699596405,
            4.38367223739624
           ],
           [
            null,
            null,
            2.55772995948792,
            8.29146957397461,
            1.3199599981308,
            11.6914596557617,
            8.1956901550293,
            2.59078001976013,
            4.6637601852417,
            5.08168983459473,
            2.05590009689331,
            3.27824997901917,
            4.74174022674561,
            1.9394199848175,
            4.81063985824585
           ],
           [
            null,
            null,
            6.13899993896484,
            6.79112005233765,
            0.86080002784729,
            9.54932975769043,
            5.03145980834961,
            2.28687000274658,
            3.63172006607056,
            3.63328003883362,
            1.66177999973297,
            3.377690076828,
            4.12473011016846,
            null,
            3.4794499874115
           ],
           [
            null,
            2.17547988891602,
            4.64400005340576,
            7.04276990890503,
            1.31821000576019,
            9.20584011077881,
            null,
            2.22175002098083,
            3.84261989593506,
            3.08072996139526,
            1.74292004108429,
            3.79618000984192,
            4.76523017883301,
            2.13269996643066,
            3.4620099067688
           ],
           [
            null,
            1.80489003658295,
            6.19600009918213,
            7.4073600769043,
            1.23249995708466,
            8.1028003692627,
            null,
            2.13628005981445,
            3.52900004386902,
            4.96799993515015,
            1.45342004299164,
            4.08500003814697,
            null,
            2.04699993133545,
            2.60419988632202
           ],
           [
            null,
            null,
            6.61299991607666,
            0.28999999165535,
            0.425390005111694,
            9.73373985290527,
            null,
            2.49343991279602,
            3.20300006866455,
            3.95499992370605,
            1.5645899772644,
            3.84467005729675,
            5.72275018692017,
            1.96599996089935,
            3.45445990562439
           ],
           [
            null,
            1.69528996944427,
            4.64300012588501,
            6.35382986068726,
            null,
            null,
            null,
            2.46592998504639,
            3.48600006103516,
            3.89000010490417,
            1.85859000682831,
            3.8989999294281,
            6.04489994049072,
            2.09899997711182,
            3.69521999359131
           ],
           [
            null,
            1.59839999675751,
            2.84100008010864,
            3.86436009407043,
            null,
            11.379469871521,
            null,
            2.6500198841095,
            3.29399991035461,
            4.64499998092651,
            2.10998010635376,
            4.11499977111816,
            6.23799991607666,
            1.87199997901917,
            3.2558000087738
           ],
           [
            null,
            1.14783000946045,
            3.89400005340576,
            3.20425009727478,
            4.10699987411499,
            11.7899599075317,
            null,
            2.41700005531311,
            3.47699999809265,
            4.46999979019165,
            3.22929000854492,
            4.25699996948242,
            6.33699989318848,
            2.22099995613098,
            4.54397010803223
           ],
           [
            null,
            2.00387001037598,
            4.28999996185303,
            0.190999999642372,
            6.0310001373291,
            11.7133102416992,
            2.58299994468689,
            2.13700008392334,
            3.52900004386902,
            3.87299990653992,
            2.59316992759705,
            4.30600023269653,
            6.69999980926514,
            1.85000002384186,
            4.34319019317627
           ],
           [
            null,
            null,
            3.42499995231628,
            0.006000000052154,
            6.37900018692017,
            9.44062042236328,
            0.467000007629395,
            2.33200001716614,
            3.66400003433228,
            3.93199992179871,
            1.98781001567841,
            4.3769998550415,
            6.07399988174438,
            1.65600001811981,
            null
           ],
           [
            null,
            null,
            2.91499996185303,
            3.65899991989136,
            7.3730001449585,
            null,
            null,
            2.21499991416931,
            3.48600006103516,
            4.20900011062622,
            null,
            3.8970000743866,
            4.76100015640259,
            1.68099999427795,
            null
           ],
           [
            null,
            null,
            2.08500003814697,
            2.68899989128113,
            4.05600023269653,
            5.48518991470337,
            null,
            2.05699992179871,
            4.21099996566772,
            5.79500007629395,
            1.55499994754791,
            4.29300022125244,
            5.98099994659424,
            1.76499998569489,
            null
           ],
           [
            26.7070007324219,
            1.34500002861023,
            null,
            3.22499990463257,
            2.31299996376038,
            4.56099987030029,
            null,
            1.68700003623962,
            3.95600008964539,
            4.4850001335144,
            1.50800001621246,
            4.63500022888184,
            6.97399997711182,
            1.8309999704361,
            null
           ],
           [
            null,
            1.01499998569489,
            null,
            null,
            0.152999997138977,
            5.52400016784668,
            null,
            null,
            3.6489999294281,
            4.58099985122681,
            1.20000004768372,
            null,
            8.14200019836426,
            1.97300004959106,
            null
           ]
          ]
         },
         "domain": {
          "x": [
           0,
           1
          ],
          "y": [
           0.515,
           1
          ]
         },
         "header": {
          "align": "center",
          "font": {
           "size": 10
          },
          "values": [
           "<br>Country<br>",
           "<br>Series<br>",
           "<br>YR2000<br>",
           "<br>YR2001<br>",
           "<br>YR2002<br>",
           "<br>YR2003<br>",
           "<br>YR2004<br>",
           "<br>YR2005<br>",
           "<br>YR2006<br>",
           "<br>YR2007<br>",
           "<br>YR2008<br>",
           "<br>YR2009<br>",
           "<br>YR2010<br>",
           "<br>YR2011<br>",
           "<br>YR2012<br>",
           "<br>YR2013<br>",
           "<br>YR2014<br>",
           "<br>YR2015<br>",
           "<br>YR2016<br>",
           "<br>YR2017<br>",
           "<br>YR2018<br>",
           "<br>YR2019<br>",
           "<br>YR2020<br>",
           "<br>YR2021<br>",
           "<br>YR2022<br>"
          ]
         },
         "type": "table"
        },
        {
         "cells": {
          "align": "center",
          "values": [
           [
            "Pakistan",
            "Nepal",
            "Maldives",
            "Sri Lanka",
            "India",
            "Bhutan",
            "Bangladesh",
            "Pakistan",
            "Nepal",
            "Maldives",
            "Sri Lanka",
            "India",
            "Bhutan",
            "Bangladesh",
            "Afghanistan"
           ],
           [
            "Children out of school (% of primary school age)",
            "Children out of school (% of primary school age)",
            "Children out of school (% of primary school age)",
            "Children out of school (% of primary school age)",
            "Children out of school (% of primary school age)",
            "Children out of school (% of primary school age)",
            "Children out of school (% of primary school age)",
            "Government expenditure on education, total (% of GDP)",
            "Government expenditure on education, total (% of GDP)",
            "Government expenditure on education, total (% of GDP)",
            "Government expenditure on education, total (% of GDP)",
            "Government expenditure on education, total (% of GDP)",
            "Government expenditure on education, total (% of GDP)",
            "Government expenditure on education, total (% of GDP)",
            "Government expenditure on education, total (% of GDP)"
           ],
           [
            null,
            30.7744808197021,
            2.73199009895325,
            null,
            16.9875202178955,
            38.8700103759766,
            null,
            1.83782005310059,
            2.9751501083374,
            null,
            null,
            4.32479000091553,
            5.78675985336304,
            2.12508010864258,
            null
           ],
           [
            null,
            null,
            1.60804998874664,
            1.79250001907349,
            11.8562898635864,
            36.9869117736816,
            null,
            null,
            3.70837998390198,
            null,
            null,
            null,
            5.91572999954224,
            2.17193007469177,
            null
           ],
           [
            null,
            null,
            2.34352993965149,
            1.99191999435425,
            13.4449195861816,
            null,
            null,
            null,
            3.15283989906311,
            5.79186010360718,
            null,
            null,
            null,
            2.01714992523193,
            null
           ],
           [
            null,
            22.0804595947266,
            null,
            2.61675000190735,
            8.48766040802002,
            null,
            null,
            null,
            3.11435008049011,
            5.32406997680664,
            null,
            3.61340999603271,
            null,
            2.06939005851746,
            null
           ],
           [
            null,
            20.0970897674561,
            1.77482998371124,
            3.98446011543274,
            null,
            null,
            null,
            1.76759004592896,
            3.17194008827209,
            4.66160011291504,
            null,
            3.35254001617432,
            6.60906982421875,
            1.94014000892639,
            null
           ],
           [
            null,
            null,
            2.41488003730774,
            4.23590993881226,
            null,
            28.4569797515869,
            3.37758994102478,
            2.04972004890442,
            3.3646399974823,
            5.0168399810791,
            null,
            3.18875002861023,
            7.28714990615845,
            null,
            null
           ],
           [
            null,
            null,
            2.49761009216309,
            4.58268022537231,
            null,
            23.6531200408936,
            3.5901300907135,
            2.39550995826721,
            3.60536003112793,
            4.64523983001709,
            null,
            3.14284992218018,
            null,
            2.13128995895386,
            4.68476057052612
           ],
           [
            null,
            null,
            3.55908989906311,
            5.21196985244751,
            0.91908997297287,
            null,
            null,
            2.63527011871338,
            3.51721000671387,
            4.41788005828857,
            null,
            null,
            null,
            2.20221996307373,
            4.17489528656006
           ],
           [
            null,
            null,
            5.27224016189575,
            6.10266017913818,
            0.393489986658096,
            16.7162895202637,
            8.54203033447266,
            2.74622988700867,
            3.8051700592041,
            4.470290184021,
            null,
            null,
            4.91159009933472,
            2.0545699596405,
            4.38367223739624
           ],
           [
            null,
            null,
            2.55772995948792,
            8.29146957397461,
            1.3199599981308,
            11.6914596557617,
            8.1956901550293,
            2.59078001976013,
            4.6637601852417,
            5.08168983459473,
            2.05590009689331,
            3.27824997901917,
            4.74174022674561,
            1.9394199848175,
            4.81063985824585
           ],
           [
            null,
            null,
            6.13899993896484,
            6.79112005233765,
            0.86080002784729,
            9.54932975769043,
            5.03145980834961,
            2.28687000274658,
            3.63172006607056,
            3.63328003883362,
            1.66177999973297,
            3.377690076828,
            4.12473011016846,
            null,
            3.4794499874115
           ],
           [
            null,
            2.17547988891602,
            4.64400005340576,
            7.04276990890503,
            1.31821000576019,
            9.20584011077881,
            null,
            2.22175002098083,
            3.84261989593506,
            3.08072996139526,
            1.74292004108429,
            3.79618000984192,
            4.76523017883301,
            2.13269996643066,
            3.4620099067688
           ],
           [
            null,
            1.80489003658295,
            6.19600009918213,
            7.4073600769043,
            1.23249995708466,
            8.1028003692627,
            null,
            2.13628005981445,
            3.52900004386902,
            4.96799993515015,
            1.45342004299164,
            4.08500003814697,
            null,
            2.04699993133545,
            2.60419988632202
           ],
           [
            null,
            null,
            6.61299991607666,
            0.28999999165535,
            0.425390005111694,
            9.73373985290527,
            null,
            2.49343991279602,
            3.20300006866455,
            3.95499992370605,
            1.5645899772644,
            3.84467005729675,
            5.72275018692017,
            1.96599996089935,
            3.45445990562439
           ],
           [
            null,
            1.69528996944427,
            4.64300012588501,
            6.35382986068726,
            null,
            null,
            null,
            2.46592998504639,
            3.48600006103516,
            3.89000010490417,
            1.85859000682831,
            3.8989999294281,
            6.04489994049072,
            2.09899997711182,
            3.69521999359131
           ],
           [
            null,
            1.59839999675751,
            2.84100008010864,
            3.86436009407043,
            null,
            11.379469871521,
            null,
            2.6500198841095,
            3.29399991035461,
            4.64499998092651,
            2.10998010635376,
            4.11499977111816,
            6.23799991607666,
            1.87199997901917,
            3.2558000087738
           ],
           [
            null,
            1.14783000946045,
            3.89400005340576,
            3.20425009727478,
            4.10699987411499,
            11.7899599075317,
            null,
            2.41700005531311,
            3.47699999809265,
            4.46999979019165,
            3.22929000854492,
            4.25699996948242,
            6.33699989318848,
            2.22099995613098,
            4.54397010803223
           ],
           [
            null,
            2.00387001037598,
            4.28999996185303,
            0.190999999642372,
            6.0310001373291,
            11.7133102416992,
            2.58299994468689,
            2.13700008392334,
            3.52900004386902,
            3.87299990653992,
            2.59316992759705,
            4.30600023269653,
            6.69999980926514,
            1.85000002384186,
            4.34319019317627
           ],
           [
            null,
            null,
            3.42499995231628,
            0.006000000052154,
            6.37900018692017,
            9.44062042236328,
            0.467000007629395,
            2.33200001716614,
            3.66400003433228,
            3.93199992179871,
            1.98781001567841,
            4.3769998550415,
            6.07399988174438,
            1.65600001811981,
            null
           ],
           [
            null,
            null,
            2.91499996185303,
            3.65899991989136,
            7.3730001449585,
            null,
            null,
            2.21499991416931,
            3.48600006103516,
            4.20900011062622,
            null,
            3.8970000743866,
            4.76100015640259,
            1.68099999427795,
            null
           ],
           [
            null,
            null,
            2.08500003814697,
            2.68899989128113,
            4.05600023269653,
            5.48518991470337,
            null,
            2.05699992179871,
            4.21099996566772,
            5.79500007629395,
            1.55499994754791,
            4.29300022125244,
            5.98099994659424,
            1.76499998569489,
            null
           ],
           [
            26.7070007324219,
            1.34500002861023,
            null,
            3.22499990463257,
            2.31299996376038,
            4.56099987030029,
            null,
            1.68700003623962,
            3.95600008964539,
            4.4850001335144,
            1.50800001621246,
            4.63500022888184,
            6.97399997711182,
            1.8309999704361,
            null
           ],
           [
            null,
            1.01499998569489,
            null,
            null,
            0.152999997138977,
            5.52400016784668,
            null,
            null,
            3.6489999294281,
            4.58099985122681,
            1.20000004768372,
            null,
            8.14200019836426,
            1.97300004959106,
            null
           ]
          ]
         },
         "domain": {
          "x": [
           0,
           1
          ],
          "y": [
           0.515,
           1
          ]
         },
         "header": {
          "align": "center",
          "font": {
           "size": 10
          },
          "values": [
           "<br>Country</br>",
           "<br>Series</br>",
           "<br>YR2000</br>",
           "<br>YR2001</br>",
           "<br>YR2002</br>",
           "<br>YR2003</br>",
           "<br>YR2004</br>",
           "<br>YR2005</br>",
           "<br>YR2006</br>",
           "<br>YR2007</br>",
           "<br>YR2008</br>",
           "<br>YR2009</br>",
           "<br>YR2010</br>",
           "<br>YR2011</br>",
           "<br>YR2012</br>",
           "<br>YR2013</br>",
           "<br>YR2014</br>",
           "<br>YR2015</br>",
           "<br>YR2016</br>",
           "<br>YR2017</br>",
           "<br>YR2018</br>",
           "<br>YR2019</br>",
           "<br>YR2020</br>",
           "<br>YR2021</br>",
           "<br>YR2022</br>"
          ]
         },
         "type": "table"
        }
       ],
       "layout": {
        "height": 800,
        "showlegend": false,
        "template": {
         "data": {
          "bar": [
           {
            "error_x": {
             "color": "#2a3f5f"
            },
            "error_y": {
             "color": "#2a3f5f"
            },
            "marker": {
             "line": {
              "color": "#E5ECF6",
              "width": 0.5
             },
             "pattern": {
              "fillmode": "overlay",
              "size": 10,
              "solidity": 0.2
             }
            },
            "type": "bar"
           }
          ],
          "barpolar": [
           {
            "marker": {
             "line": {
              "color": "#E5ECF6",
              "width": 0.5
             },
             "pattern": {
              "fillmode": "overlay",
              "size": 10,
              "solidity": 0.2
             }
            },
            "type": "barpolar"
           }
          ],
          "carpet": [
           {
            "aaxis": {
             "endlinecolor": "#2a3f5f",
             "gridcolor": "white",
             "linecolor": "white",
             "minorgridcolor": "white",
             "startlinecolor": "#2a3f5f"
            },
            "baxis": {
             "endlinecolor": "#2a3f5f",
             "gridcolor": "white",
             "linecolor": "white",
             "minorgridcolor": "white",
             "startlinecolor": "#2a3f5f"
            },
            "type": "carpet"
           }
          ],
          "choropleth": [
           {
            "colorbar": {
             "outlinewidth": 0,
             "ticks": ""
            },
            "type": "choropleth"
           }
          ],
          "contour": [
           {
            "colorbar": {
             "outlinewidth": 0,
             "ticks": ""
            },
            "colorscale": [
             [
              0,
              "#0d0887"
             ],
             [
              0.1111111111111111,
              "#46039f"
             ],
             [
              0.2222222222222222,
              "#7201a8"
             ],
             [
              0.3333333333333333,
              "#9c179e"
             ],
             [
              0.4444444444444444,
              "#bd3786"
             ],
             [
              0.5555555555555556,
              "#d8576b"
             ],
             [
              0.6666666666666666,
              "#ed7953"
             ],
             [
              0.7777777777777778,
              "#fb9f3a"
             ],
             [
              0.8888888888888888,
              "#fdca26"
             ],
             [
              1,
              "#f0f921"
             ]
            ],
            "type": "contour"
           }
          ],
          "contourcarpet": [
           {
            "colorbar": {
             "outlinewidth": 0,
             "ticks": ""
            },
            "type": "contourcarpet"
           }
          ],
          "heatmap": [
           {
            "colorbar": {
             "outlinewidth": 0,
             "ticks": ""
            },
            "colorscale": [
             [
              0,
              "#0d0887"
             ],
             [
              0.1111111111111111,
              "#46039f"
             ],
             [
              0.2222222222222222,
              "#7201a8"
             ],
             [
              0.3333333333333333,
              "#9c179e"
             ],
             [
              0.4444444444444444,
              "#bd3786"
             ],
             [
              0.5555555555555556,
              "#d8576b"
             ],
             [
              0.6666666666666666,
              "#ed7953"
             ],
             [
              0.7777777777777778,
              "#fb9f3a"
             ],
             [
              0.8888888888888888,
              "#fdca26"
             ],
             [
              1,
              "#f0f921"
             ]
            ],
            "type": "heatmap"
           }
          ],
          "heatmapgl": [
           {
            "colorbar": {
             "outlinewidth": 0,
             "ticks": ""
            },
            "colorscale": [
             [
              0,
              "#0d0887"
             ],
             [
              0.1111111111111111,
              "#46039f"
             ],
             [
              0.2222222222222222,
              "#7201a8"
             ],
             [
              0.3333333333333333,
              "#9c179e"
             ],
             [
              0.4444444444444444,
              "#bd3786"
             ],
             [
              0.5555555555555556,
              "#d8576b"
             ],
             [
              0.6666666666666666,
              "#ed7953"
             ],
             [
              0.7777777777777778,
              "#fb9f3a"
             ],
             [
              0.8888888888888888,
              "#fdca26"
             ],
             [
              1,
              "#f0f921"
             ]
            ],
            "type": "heatmapgl"
           }
          ],
          "histogram": [
           {
            "marker": {
             "pattern": {
              "fillmode": "overlay",
              "size": 10,
              "solidity": 0.2
             }
            },
            "type": "histogram"
           }
          ],
          "histogram2d": [
           {
            "colorbar": {
             "outlinewidth": 0,
             "ticks": ""
            },
            "colorscale": [
             [
              0,
              "#0d0887"
             ],
             [
              0.1111111111111111,
              "#46039f"
             ],
             [
              0.2222222222222222,
              "#7201a8"
             ],
             [
              0.3333333333333333,
              "#9c179e"
             ],
             [
              0.4444444444444444,
              "#bd3786"
             ],
             [
              0.5555555555555556,
              "#d8576b"
             ],
             [
              0.6666666666666666,
              "#ed7953"
             ],
             [
              0.7777777777777778,
              "#fb9f3a"
             ],
             [
              0.8888888888888888,
              "#fdca26"
             ],
             [
              1,
              "#f0f921"
             ]
            ],
            "type": "histogram2d"
           }
          ],
          "histogram2dcontour": [
           {
            "colorbar": {
             "outlinewidth": 0,
             "ticks": ""
            },
            "colorscale": [
             [
              0,
              "#0d0887"
             ],
             [
              0.1111111111111111,
              "#46039f"
             ],
             [
              0.2222222222222222,
              "#7201a8"
             ],
             [
              0.3333333333333333,
              "#9c179e"
             ],
             [
              0.4444444444444444,
              "#bd3786"
             ],
             [
              0.5555555555555556,
              "#d8576b"
             ],
             [
              0.6666666666666666,
              "#ed7953"
             ],
             [
              0.7777777777777778,
              "#fb9f3a"
             ],
             [
              0.8888888888888888,
              "#fdca26"
             ],
             [
              1,
              "#f0f921"
             ]
            ],
            "type": "histogram2dcontour"
           }
          ],
          "mesh3d": [
           {
            "colorbar": {
             "outlinewidth": 0,
             "ticks": ""
            },
            "type": "mesh3d"
           }
          ],
          "parcoords": [
           {
            "line": {
             "colorbar": {
              "outlinewidth": 0,
              "ticks": ""
             }
            },
            "type": "parcoords"
           }
          ],
          "pie": [
           {
            "automargin": true,
            "type": "pie"
           }
          ],
          "scatter": [
           {
            "fillpattern": {
             "fillmode": "overlay",
             "size": 10,
             "solidity": 0.2
            },
            "type": "scatter"
           }
          ],
          "scatter3d": [
           {
            "line": {
             "colorbar": {
              "outlinewidth": 0,
              "ticks": ""
             }
            },
            "marker": {
             "colorbar": {
              "outlinewidth": 0,
              "ticks": ""
             }
            },
            "type": "scatter3d"
           }
          ],
          "scattercarpet": [
           {
            "marker": {
             "colorbar": {
              "outlinewidth": 0,
              "ticks": ""
             }
            },
            "type": "scattercarpet"
           }
          ],
          "scattergeo": [
           {
            "marker": {
             "colorbar": {
              "outlinewidth": 0,
              "ticks": ""
             }
            },
            "type": "scattergeo"
           }
          ],
          "scattergl": [
           {
            "marker": {
             "colorbar": {
              "outlinewidth": 0,
              "ticks": ""
             }
            },
            "type": "scattergl"
           }
          ],
          "scattermapbox": [
           {
            "marker": {
             "colorbar": {
              "outlinewidth": 0,
              "ticks": ""
             }
            },
            "type": "scattermapbox"
           }
          ],
          "scatterpolar": [
           {
            "marker": {
             "colorbar": {
              "outlinewidth": 0,
              "ticks": ""
             }
            },
            "type": "scatterpolar"
           }
          ],
          "scatterpolargl": [
           {
            "marker": {
             "colorbar": {
              "outlinewidth": 0,
              "ticks": ""
             }
            },
            "type": "scatterpolargl"
           }
          ],
          "scatterternary": [
           {
            "marker": {
             "colorbar": {
              "outlinewidth": 0,
              "ticks": ""
             }
            },
            "type": "scatterternary"
           }
          ],
          "surface": [
           {
            "colorbar": {
             "outlinewidth": 0,
             "ticks": ""
            },
            "colorscale": [
             [
              0,
              "#0d0887"
             ],
             [
              0.1111111111111111,
              "#46039f"
             ],
             [
              0.2222222222222222,
              "#7201a8"
             ],
             [
              0.3333333333333333,
              "#9c179e"
             ],
             [
              0.4444444444444444,
              "#bd3786"
             ],
             [
              0.5555555555555556,
              "#d8576b"
             ],
             [
              0.6666666666666666,
              "#ed7953"
             ],
             [
              0.7777777777777778,
              "#fb9f3a"
             ],
             [
              0.8888888888888888,
              "#fdca26"
             ],
             [
              1,
              "#f0f921"
             ]
            ],
            "type": "surface"
           }
          ],
          "table": [
           {
            "cells": {
             "fill": {
              "color": "#EBF0F8"
             },
             "line": {
              "color": "white"
             }
            },
            "header": {
             "fill": {
              "color": "#C8D4E3"
             },
             "line": {
              "color": "white"
             }
            },
            "type": "table"
           }
          ]
         },
         "layout": {
          "annotationdefaults": {
           "arrowcolor": "#2a3f5f",
           "arrowhead": 0,
           "arrowwidth": 1
          },
          "autotypenumbers": "strict",
          "coloraxis": {
           "colorbar": {
            "outlinewidth": 0,
            "ticks": ""
           }
          },
          "colorscale": {
           "diverging": [
            [
             0,
             "#8e0152"
            ],
            [
             0.1,
             "#c51b7d"
            ],
            [
             0.2,
             "#de77ae"
            ],
            [
             0.3,
             "#f1b6da"
            ],
            [
             0.4,
             "#fde0ef"
            ],
            [
             0.5,
             "#f7f7f7"
            ],
            [
             0.6,
             "#e6f5d0"
            ],
            [
             0.7,
             "#b8e186"
            ],
            [
             0.8,
             "#7fbc41"
            ],
            [
             0.9,
             "#4d9221"
            ],
            [
             1,
             "#276419"
            ]
           ],
           "sequential": [
            [
             0,
             "#0d0887"
            ],
            [
             0.1111111111111111,
             "#46039f"
            ],
            [
             0.2222222222222222,
             "#7201a8"
            ],
            [
             0.3333333333333333,
             "#9c179e"
            ],
            [
             0.4444444444444444,
             "#bd3786"
            ],
            [
             0.5555555555555556,
             "#d8576b"
            ],
            [
             0.6666666666666666,
             "#ed7953"
            ],
            [
             0.7777777777777778,
             "#fb9f3a"
            ],
            [
             0.8888888888888888,
             "#fdca26"
            ],
            [
             1,
             "#f0f921"
            ]
           ],
           "sequentialminus": [
            [
             0,
             "#0d0887"
            ],
            [
             0.1111111111111111,
             "#46039f"
            ],
            [
             0.2222222222222222,
             "#7201a8"
            ],
            [
             0.3333333333333333,
             "#9c179e"
            ],
            [
             0.4444444444444444,
             "#bd3786"
            ],
            [
             0.5555555555555556,
             "#d8576b"
            ],
            [
             0.6666666666666666,
             "#ed7953"
            ],
            [
             0.7777777777777778,
             "#fb9f3a"
            ],
            [
             0.8888888888888888,
             "#fdca26"
            ],
            [
             1,
             "#f0f921"
            ]
           ]
          },
          "colorway": [
           "#636efa",
           "#EF553B",
           "#00cc96",
           "#ab63fa",
           "#FFA15A",
           "#19d3f3",
           "#FF6692",
           "#B6E880",
           "#FF97FF",
           "#FECB52"
          ],
          "font": {
           "color": "#2a3f5f"
          },
          "geo": {
           "bgcolor": "white",
           "lakecolor": "white",
           "landcolor": "#E5ECF6",
           "showlakes": true,
           "showland": true,
           "subunitcolor": "white"
          },
          "hoverlabel": {
           "align": "left"
          },
          "hovermode": "closest",
          "mapbox": {
           "style": "light"
          },
          "paper_bgcolor": "white",
          "plot_bgcolor": "#E5ECF6",
          "polar": {
           "angularaxis": {
            "gridcolor": "white",
            "linecolor": "white",
            "ticks": ""
           },
           "bgcolor": "#E5ECF6",
           "radialaxis": {
            "gridcolor": "white",
            "linecolor": "white",
            "ticks": ""
           }
          },
          "scene": {
           "xaxis": {
            "backgroundcolor": "#E5ECF6",
            "gridcolor": "white",
            "gridwidth": 2,
            "linecolor": "white",
            "showbackground": true,
            "ticks": "",
            "zerolinecolor": "white"
           },
           "yaxis": {
            "backgroundcolor": "#E5ECF6",
            "gridcolor": "white",
            "gridwidth": 2,
            "linecolor": "white",
            "showbackground": true,
            "ticks": "",
            "zerolinecolor": "white"
           },
           "zaxis": {
            "backgroundcolor": "#E5ECF6",
            "gridcolor": "white",
            "gridwidth": 2,
            "linecolor": "white",
            "showbackground": true,
            "ticks": "",
            "zerolinecolor": "white"
           }
          },
          "shapedefaults": {
           "line": {
            "color": "#2a3f5f"
           }
          },
          "ternary": {
           "aaxis": {
            "gridcolor": "white",
            "linecolor": "white",
            "ticks": ""
           },
           "baxis": {
            "gridcolor": "white",
            "linecolor": "white",
            "ticks": ""
           },
           "bgcolor": "#E5ECF6",
           "caxis": {
            "gridcolor": "white",
            "linecolor": "white",
            "ticks": ""
           }
          },
          "title": {
           "x": 0.05
          },
          "xaxis": {
           "automargin": true,
           "gridcolor": "white",
           "linecolor": "white",
           "ticks": "",
           "title": {
            "standoff": 15
           },
           "zerolinecolor": "white",
           "zerolinewidth": 2
          },
          "yaxis": {
           "automargin": true,
           "gridcolor": "white",
           "linecolor": "white",
           "ticks": "",
           "title": {
            "standoff": 15
           },
           "zerolinecolor": "white",
           "zerolinewidth": 2
          }
         }
        },
        "title": {
         "text": "Bitcoin mining stats for 180 days"
        },
        "xaxis": {
         "anchor": "y",
         "domain": [
          0,
          1
         ]
        },
        "yaxis": {
         "anchor": "x",
         "domain": [
          0,
          0.485
         ]
        }
       }
      },
      "text/html": [
       "<div>                            <div id=\"d110b090-8c20-48a7-86a2-6c5b731593f9\" class=\"plotly-graph-div\" style=\"height:800px; width:100%;\"></div>            <script type=\"text/javascript\">                require([\"plotly\"], function(Plotly) {                    window.PLOTLYENV=window.PLOTLYENV || {};                                    if (document.getElementById(\"d110b090-8c20-48a7-86a2-6c5b731593f9\")) {                    Plotly.newPlot(                        \"d110b090-8c20-48a7-86a2-6c5b731593f9\",                        [{\"cells\":{\"align\":\"left\",\"values\":[[\"Pakistan\",\"Nepal\",\"Maldives\",\"Sri Lanka\",\"India\",\"Bhutan\",\"Bangladesh\",\"Pakistan\",\"Nepal\",\"Maldives\",\"Sri Lanka\",\"India\",\"Bhutan\",\"Bangladesh\",\"Afghanistan\"],[\"Children out of school (% of primary school age)\",\"Children out of school (% of primary school age)\",\"Children out of school (% of primary school age)\",\"Children out of school (% of primary school age)\",\"Children out of school (% of primary school age)\",\"Children out of school (% of primary school age)\",\"Children out of school (% of primary school age)\",\"Government expenditure on education, total (% of GDP)\",\"Government expenditure on education, total (% of GDP)\",\"Government expenditure on education, total (% of GDP)\",\"Government expenditure on education, total (% of GDP)\",\"Government expenditure on education, total (% of GDP)\",\"Government expenditure on education, total (% of GDP)\",\"Government expenditure on education, total (% of GDP)\",\"Government expenditure on education, total (% of GDP)\"],[null,30.7744808197021,2.73199009895325,null,16.9875202178955,38.8700103759766,null,1.83782005310059,2.9751501083374,null,null,4.32479000091553,5.78675985336304,2.12508010864258,null],[null,null,1.60804998874664,1.79250001907349,11.8562898635864,36.9869117736816,null,null,3.70837998390198,null,null,null,5.91572999954224,2.17193007469177,null],[null,null,2.34352993965149,1.99191999435425,13.4449195861816,null,null,null,3.15283989906311,5.79186010360718,null,null,null,2.01714992523193,null],[null,22.0804595947266,null,2.61675000190735,8.48766040802002,null,null,null,3.11435008049011,5.32406997680664,null,3.61340999603271,null,2.06939005851746,null],[null,20.0970897674561,1.77482998371124,3.98446011543274,null,null,null,1.76759004592896,3.17194008827209,4.66160011291504,null,3.35254001617432,6.60906982421875,1.94014000892639,null],[null,null,2.41488003730774,4.23590993881226,null,28.4569797515869,3.37758994102478,2.04972004890442,3.3646399974823,5.0168399810791,null,3.18875002861023,7.28714990615845,null,null],[null,null,2.49761009216309,4.58268022537231,null,23.6531200408936,3.5901300907135,2.39550995826721,3.60536003112793,4.64523983001709,null,3.14284992218018,null,2.13128995895386,4.68476057052612],[null,null,3.55908989906311,5.21196985244751,0.91908997297287,null,null,2.63527011871338,3.51721000671387,4.41788005828857,null,null,null,2.20221996307373,4.17489528656006],[null,null,5.27224016189575,6.10266017913818,0.393489986658096,16.7162895202637,8.54203033447266,2.74622988700867,3.8051700592041,4.470290184021,null,null,4.91159009933472,2.0545699596405,4.38367223739624],[null,null,2.55772995948792,8.29146957397461,1.3199599981308,11.6914596557617,8.1956901550293,2.59078001976013,4.6637601852417,5.08168983459473,2.05590009689331,3.27824997901917,4.74174022674561,1.9394199848175,4.81063985824585],[null,null,6.13899993896484,6.79112005233765,0.86080002784729,9.54932975769043,5.03145980834961,2.28687000274658,3.63172006607056,3.63328003883362,1.66177999973297,3.377690076828,4.12473011016846,null,3.4794499874115],[null,2.17547988891602,4.64400005340576,7.04276990890503,1.31821000576019,9.20584011077881,null,2.22175002098083,3.84261989593506,3.08072996139526,1.74292004108429,3.79618000984192,4.76523017883301,2.13269996643066,3.4620099067688],[null,1.80489003658295,6.19600009918213,7.4073600769043,1.23249995708466,8.1028003692627,null,2.13628005981445,3.52900004386902,4.96799993515015,1.45342004299164,4.08500003814697,null,2.04699993133545,2.60419988632202],[null,null,6.61299991607666,0.28999999165535,0.425390005111694,9.73373985290527,null,2.49343991279602,3.20300006866455,3.95499992370605,1.5645899772644,3.84467005729675,5.72275018692017,1.96599996089935,3.45445990562439],[null,1.69528996944427,4.64300012588501,6.35382986068726,null,null,null,2.46592998504639,3.48600006103516,3.89000010490417,1.85859000682831,3.8989999294281,6.04489994049072,2.09899997711182,3.69521999359131],[null,1.59839999675751,2.84100008010864,3.86436009407043,null,11.379469871521,null,2.6500198841095,3.29399991035461,4.64499998092651,2.10998010635376,4.11499977111816,6.23799991607666,1.87199997901917,3.2558000087738],[null,1.14783000946045,3.89400005340576,3.20425009727478,4.10699987411499,11.7899599075317,null,2.41700005531311,3.47699999809265,4.46999979019165,3.22929000854492,4.25699996948242,6.33699989318848,2.22099995613098,4.54397010803223],[null,2.00387001037598,4.28999996185303,0.190999999642372,6.0310001373291,11.7133102416992,2.58299994468689,2.13700008392334,3.52900004386902,3.87299990653992,2.59316992759705,4.30600023269653,6.69999980926514,1.85000002384186,4.34319019317627],[null,null,3.42499995231628,0.006000000052154,6.37900018692017,9.44062042236328,0.467000007629395,2.33200001716614,3.66400003433228,3.93199992179871,1.98781001567841,4.3769998550415,6.07399988174438,1.65600001811981,null],[null,null,2.91499996185303,3.65899991989136,7.3730001449585,null,null,2.21499991416931,3.48600006103516,4.20900011062622,null,3.8970000743866,4.76100015640259,1.68099999427795,null],[null,null,2.08500003814697,2.68899989128113,4.05600023269653,5.48518991470337,null,2.05699992179871,4.21099996566772,5.79500007629395,1.55499994754791,4.29300022125244,5.98099994659424,1.76499998569489,null],[26.7070007324219,1.34500002861023,null,3.22499990463257,2.31299996376038,4.56099987030029,null,1.68700003623962,3.95600008964539,4.4850001335144,1.50800001621246,4.63500022888184,6.97399997711182,1.8309999704361,null],[null,1.01499998569489,null,null,0.152999997138977,5.52400016784668,null,null,3.6489999294281,4.58099985122681,1.20000004768372,null,8.14200019836426,1.97300004959106,null]]},\"header\":{\"align\":\"left\",\"font\":{\"size\":10},\"values\":[\"Country\",\"Series\",\"YR2000\",\"YR2001\",\"YR2002\",\"YR2003\",\"YR2004\",\"YR2005\",\"YR2006\",\"YR2007\",\"YR2008\",\"YR2009\",\"YR2010\",\"YR2011\",\"YR2012\",\"YR2013\",\"YR2014\",\"YR2015\",\"YR2016\",\"YR2017\",\"YR2018\",\"YR2019\",\"YR2020\",\"YR2021\",\"YR2022\"]},\"type\":\"table\",\"domain\":{\"x\":[0.0,1.0],\"y\":[0.515,1.0]}},{\"cells\":{\"align\":\"left\",\"values\":[[\"Pakistan\",\"Nepal\",\"Maldives\",\"Sri Lanka\",\"India\",\"Bhutan\",\"Bangladesh\",\"Pakistan\",\"Nepal\",\"Maldives\",\"Sri Lanka\",\"India\",\"Bhutan\",\"Bangladesh\",\"Afghanistan\"],[\"Children out of school (% of primary school age)\",\"Children out of school (% of primary school age)\",\"Children out of school (% of primary school age)\",\"Children out of school (% of primary school age)\",\"Children out of school (% of primary school age)\",\"Children out of school (% of primary school age)\",\"Children out of school (% of primary school age)\",\"Government expenditure on education, total (% of GDP)\",\"Government expenditure on education, total (% of GDP)\",\"Government expenditure on education, total (% of GDP)\",\"Government expenditure on education, total (% of GDP)\",\"Government expenditure on education, total (% of GDP)\",\"Government expenditure on education, total (% of GDP)\",\"Government expenditure on education, total (% of GDP)\",\"Government expenditure on education, total (% of GDP)\"],[null,30.7744808197021,2.73199009895325,null,16.9875202178955,38.8700103759766,null,1.83782005310059,2.9751501083374,null,null,4.32479000091553,5.78675985336304,2.12508010864258,null],[null,null,1.60804998874664,1.79250001907349,11.8562898635864,36.9869117736816,null,null,3.70837998390198,null,null,null,5.91572999954224,2.17193007469177,null],[null,null,2.34352993965149,1.99191999435425,13.4449195861816,null,null,null,3.15283989906311,5.79186010360718,null,null,null,2.01714992523193,null],[null,22.0804595947266,null,2.61675000190735,8.48766040802002,null,null,null,3.11435008049011,5.32406997680664,null,3.61340999603271,null,2.06939005851746,null],[null,20.0970897674561,1.77482998371124,3.98446011543274,null,null,null,1.76759004592896,3.17194008827209,4.66160011291504,null,3.35254001617432,6.60906982421875,1.94014000892639,null],[null,null,2.41488003730774,4.23590993881226,null,28.4569797515869,3.37758994102478,2.04972004890442,3.3646399974823,5.0168399810791,null,3.18875002861023,7.28714990615845,null,null],[null,null,2.49761009216309,4.58268022537231,null,23.6531200408936,3.5901300907135,2.39550995826721,3.60536003112793,4.64523983001709,null,3.14284992218018,null,2.13128995895386,4.68476057052612],[null,null,3.55908989906311,5.21196985244751,0.91908997297287,null,null,2.63527011871338,3.51721000671387,4.41788005828857,null,null,null,2.20221996307373,4.17489528656006],[null,null,5.27224016189575,6.10266017913818,0.393489986658096,16.7162895202637,8.54203033447266,2.74622988700867,3.8051700592041,4.470290184021,null,null,4.91159009933472,2.0545699596405,4.38367223739624],[null,null,2.55772995948792,8.29146957397461,1.3199599981308,11.6914596557617,8.1956901550293,2.59078001976013,4.6637601852417,5.08168983459473,2.05590009689331,3.27824997901917,4.74174022674561,1.9394199848175,4.81063985824585],[null,null,6.13899993896484,6.79112005233765,0.86080002784729,9.54932975769043,5.03145980834961,2.28687000274658,3.63172006607056,3.63328003883362,1.66177999973297,3.377690076828,4.12473011016846,null,3.4794499874115],[null,2.17547988891602,4.64400005340576,7.04276990890503,1.31821000576019,9.20584011077881,null,2.22175002098083,3.84261989593506,3.08072996139526,1.74292004108429,3.79618000984192,4.76523017883301,2.13269996643066,3.4620099067688],[null,1.80489003658295,6.19600009918213,7.4073600769043,1.23249995708466,8.1028003692627,null,2.13628005981445,3.52900004386902,4.96799993515015,1.45342004299164,4.08500003814697,null,2.04699993133545,2.60419988632202],[null,null,6.61299991607666,0.28999999165535,0.425390005111694,9.73373985290527,null,2.49343991279602,3.20300006866455,3.95499992370605,1.5645899772644,3.84467005729675,5.72275018692017,1.96599996089935,3.45445990562439],[null,1.69528996944427,4.64300012588501,6.35382986068726,null,null,null,2.46592998504639,3.48600006103516,3.89000010490417,1.85859000682831,3.8989999294281,6.04489994049072,2.09899997711182,3.69521999359131],[null,1.59839999675751,2.84100008010864,3.86436009407043,null,11.379469871521,null,2.6500198841095,3.29399991035461,4.64499998092651,2.10998010635376,4.11499977111816,6.23799991607666,1.87199997901917,3.2558000087738],[null,1.14783000946045,3.89400005340576,3.20425009727478,4.10699987411499,11.7899599075317,null,2.41700005531311,3.47699999809265,4.46999979019165,3.22929000854492,4.25699996948242,6.33699989318848,2.22099995613098,4.54397010803223],[null,2.00387001037598,4.28999996185303,0.190999999642372,6.0310001373291,11.7133102416992,2.58299994468689,2.13700008392334,3.52900004386902,3.87299990653992,2.59316992759705,4.30600023269653,6.69999980926514,1.85000002384186,4.34319019317627],[null,null,3.42499995231628,0.006000000052154,6.37900018692017,9.44062042236328,0.467000007629395,2.33200001716614,3.66400003433228,3.93199992179871,1.98781001567841,4.3769998550415,6.07399988174438,1.65600001811981,null],[null,null,2.91499996185303,3.65899991989136,7.3730001449585,null,null,2.21499991416931,3.48600006103516,4.20900011062622,null,3.8970000743866,4.76100015640259,1.68099999427795,null],[null,null,2.08500003814697,2.68899989128113,4.05600023269653,5.48518991470337,null,2.05699992179871,4.21099996566772,5.79500007629395,1.55499994754791,4.29300022125244,5.98099994659424,1.76499998569489,null],[26.7070007324219,1.34500002861023,null,3.22499990463257,2.31299996376038,4.56099987030029,null,1.68700003623962,3.95600008964539,4.4850001335144,1.50800001621246,4.63500022888184,6.97399997711182,1.8309999704361,null],[null,1.01499998569489,null,null,0.152999997138977,5.52400016784668,null,null,3.6489999294281,4.58099985122681,1.20000004768372,null,8.14200019836426,1.97300004959106,null]]},\"header\":{\"align\":\"left\",\"font\":{\"size\":10},\"values\":[\"Country\",\"Series\",\"YR2000\",\"YR2001\",\"YR2002\",\"YR2003\",\"YR2004\",\"YR2005\",\"YR2006\",\"YR2007\",\"YR2008\",\"YR2009\",\"YR2010\",\"YR2011\",\"YR2012\",\"YR2013\",\"YR2014\",\"YR2015\",\"YR2016\",\"YR2017\",\"YR2018\",\"YR2019\",\"YR2020\",\"YR2021\",\"YR2022\"]},\"type\":\"table\"},{\"cells\":{\"align\":\"left\",\"values\":[[\"Pakistan\",\"Nepal\",\"Maldives\",\"Sri Lanka\",\"India\",\"Bhutan\",\"Bangladesh\",\"Pakistan\",\"Nepal\",\"Maldives\",\"Sri Lanka\",\"India\",\"Bhutan\",\"Bangladesh\",\"Afghanistan\"],[\"Children out of school (% of primary school age)\",\"Children out of school (% of primary school age)\",\"Children out of school (% of primary school age)\",\"Children out of school (% of primary school age)\",\"Children out of school (% of primary school age)\",\"Children out of school (% of primary school age)\",\"Children out of school (% of primary school age)\",\"Government expenditure on education, total (% of GDP)\",\"Government expenditure on education, total (% of GDP)\",\"Government expenditure on education, total (% of GDP)\",\"Government expenditure on education, total (% of GDP)\",\"Government expenditure on education, total (% of GDP)\",\"Government expenditure on education, total (% of GDP)\",\"Government expenditure on education, total (% of GDP)\",\"Government expenditure on education, total (% of GDP)\"],[null,30.7744808197021,2.73199009895325,null,16.9875202178955,38.8700103759766,null,1.83782005310059,2.9751501083374,null,null,4.32479000091553,5.78675985336304,2.12508010864258,null],[null,null,1.60804998874664,1.79250001907349,11.8562898635864,36.9869117736816,null,null,3.70837998390198,null,null,null,5.91572999954224,2.17193007469177,null],[null,null,2.34352993965149,1.99191999435425,13.4449195861816,null,null,null,3.15283989906311,5.79186010360718,null,null,null,2.01714992523193,null],[null,22.0804595947266,null,2.61675000190735,8.48766040802002,null,null,null,3.11435008049011,5.32406997680664,null,3.61340999603271,null,2.06939005851746,null],[null,20.0970897674561,1.77482998371124,3.98446011543274,null,null,null,1.76759004592896,3.17194008827209,4.66160011291504,null,3.35254001617432,6.60906982421875,1.94014000892639,null],[null,null,2.41488003730774,4.23590993881226,null,28.4569797515869,3.37758994102478,2.04972004890442,3.3646399974823,5.0168399810791,null,3.18875002861023,7.28714990615845,null,null],[null,null,2.49761009216309,4.58268022537231,null,23.6531200408936,3.5901300907135,2.39550995826721,3.60536003112793,4.64523983001709,null,3.14284992218018,null,2.13128995895386,4.68476057052612],[null,null,3.55908989906311,5.21196985244751,0.91908997297287,null,null,2.63527011871338,3.51721000671387,4.41788005828857,null,null,null,2.20221996307373,4.17489528656006],[null,null,5.27224016189575,6.10266017913818,0.393489986658096,16.7162895202637,8.54203033447266,2.74622988700867,3.8051700592041,4.470290184021,null,null,4.91159009933472,2.0545699596405,4.38367223739624],[null,null,2.55772995948792,8.29146957397461,1.3199599981308,11.6914596557617,8.1956901550293,2.59078001976013,4.6637601852417,5.08168983459473,2.05590009689331,3.27824997901917,4.74174022674561,1.9394199848175,4.81063985824585],[null,null,6.13899993896484,6.79112005233765,0.86080002784729,9.54932975769043,5.03145980834961,2.28687000274658,3.63172006607056,3.63328003883362,1.66177999973297,3.377690076828,4.12473011016846,null,3.4794499874115],[null,2.17547988891602,4.64400005340576,7.04276990890503,1.31821000576019,9.20584011077881,null,2.22175002098083,3.84261989593506,3.08072996139526,1.74292004108429,3.79618000984192,4.76523017883301,2.13269996643066,3.4620099067688],[null,1.80489003658295,6.19600009918213,7.4073600769043,1.23249995708466,8.1028003692627,null,2.13628005981445,3.52900004386902,4.96799993515015,1.45342004299164,4.08500003814697,null,2.04699993133545,2.60419988632202],[null,null,6.61299991607666,0.28999999165535,0.425390005111694,9.73373985290527,null,2.49343991279602,3.20300006866455,3.95499992370605,1.5645899772644,3.84467005729675,5.72275018692017,1.96599996089935,3.45445990562439],[null,1.69528996944427,4.64300012588501,6.35382986068726,null,null,null,2.46592998504639,3.48600006103516,3.89000010490417,1.85859000682831,3.8989999294281,6.04489994049072,2.09899997711182,3.69521999359131],[null,1.59839999675751,2.84100008010864,3.86436009407043,null,11.379469871521,null,2.6500198841095,3.29399991035461,4.64499998092651,2.10998010635376,4.11499977111816,6.23799991607666,1.87199997901917,3.2558000087738],[null,1.14783000946045,3.89400005340576,3.20425009727478,4.10699987411499,11.7899599075317,null,2.41700005531311,3.47699999809265,4.46999979019165,3.22929000854492,4.25699996948242,6.33699989318848,2.22099995613098,4.54397010803223],[null,2.00387001037598,4.28999996185303,0.190999999642372,6.0310001373291,11.7133102416992,2.58299994468689,2.13700008392334,3.52900004386902,3.87299990653992,2.59316992759705,4.30600023269653,6.69999980926514,1.85000002384186,4.34319019317627],[null,null,3.42499995231628,0.006000000052154,6.37900018692017,9.44062042236328,0.467000007629395,2.33200001716614,3.66400003433228,3.93199992179871,1.98781001567841,4.3769998550415,6.07399988174438,1.65600001811981,null],[null,null,2.91499996185303,3.65899991989136,7.3730001449585,null,null,2.21499991416931,3.48600006103516,4.20900011062622,null,3.8970000743866,4.76100015640259,1.68099999427795,null],[null,null,2.08500003814697,2.68899989128113,4.05600023269653,5.48518991470337,null,2.05699992179871,4.21099996566772,5.79500007629395,1.55499994754791,4.29300022125244,5.98099994659424,1.76499998569489,null],[26.7070007324219,1.34500002861023,null,3.22499990463257,2.31299996376038,4.56099987030029,null,1.68700003623962,3.95600008964539,4.4850001335144,1.50800001621246,4.63500022888184,6.97399997711182,1.8309999704361,null],[null,1.01499998569489,null,null,0.152999997138977,5.52400016784668,null,null,3.6489999294281,4.58099985122681,1.20000004768372,null,8.14200019836426,1.97300004959106,null]]},\"header\":{\"align\":\"left\",\"font\":{\"size\":10},\"values\":[\"Country\",\"Series\",\"YR2000\",\"YR2001\",\"YR2002\",\"YR2003\",\"YR2004\",\"YR2005\",\"YR2006\",\"YR2007\",\"YR2008\",\"YR2009\",\"YR2010\",\"YR2011\",\"YR2012\",\"YR2013\",\"YR2014\",\"YR2015\",\"YR2016\",\"YR2017\",\"YR2018\",\"YR2019\",\"YR2020\",\"YR2021\",\"YR2022\"]},\"type\":\"table\",\"domain\":{\"x\":[0.0,1.0],\"y\":[0.515,1.0]}},{\"cells\":{\"align\":\"left\",\"values\":[[\"Pakistan\",\"Nepal\",\"Maldives\",\"Sri Lanka\",\"India\",\"Bhutan\",\"Bangladesh\",\"Pakistan\",\"Nepal\",\"Maldives\",\"Sri Lanka\",\"India\",\"Bhutan\",\"Bangladesh\",\"Afghanistan\"],[\"Children out of school (% of primary school age)\",\"Children out of school (% of primary school age)\",\"Children out of school (% of primary school age)\",\"Children out of school (% of primary school age)\",\"Children out of school (% of primary school age)\",\"Children out of school (% of primary school age)\",\"Children out of school (% of primary school age)\",\"Government expenditure on education, total (% of GDP)\",\"Government expenditure on education, total (% of GDP)\",\"Government expenditure on education, total (% of GDP)\",\"Government expenditure on education, total (% of GDP)\",\"Government expenditure on education, total (% of GDP)\",\"Government expenditure on education, total (% of GDP)\",\"Government expenditure on education, total (% of GDP)\",\"Government expenditure on education, total (% of GDP)\"],[null,30.7744808197021,2.73199009895325,null,16.9875202178955,38.8700103759766,null,1.83782005310059,2.9751501083374,null,null,4.32479000091553,5.78675985336304,2.12508010864258,null],[null,null,1.60804998874664,1.79250001907349,11.8562898635864,36.9869117736816,null,null,3.70837998390198,null,null,null,5.91572999954224,2.17193007469177,null],[null,null,2.34352993965149,1.99191999435425,13.4449195861816,null,null,null,3.15283989906311,5.79186010360718,null,null,null,2.01714992523193,null],[null,22.0804595947266,null,2.61675000190735,8.48766040802002,null,null,null,3.11435008049011,5.32406997680664,null,3.61340999603271,null,2.06939005851746,null],[null,20.0970897674561,1.77482998371124,3.98446011543274,null,null,null,1.76759004592896,3.17194008827209,4.66160011291504,null,3.35254001617432,6.60906982421875,1.94014000892639,null],[null,null,2.41488003730774,4.23590993881226,null,28.4569797515869,3.37758994102478,2.04972004890442,3.3646399974823,5.0168399810791,null,3.18875002861023,7.28714990615845,null,null],[null,null,2.49761009216309,4.58268022537231,null,23.6531200408936,3.5901300907135,2.39550995826721,3.60536003112793,4.64523983001709,null,3.14284992218018,null,2.13128995895386,4.68476057052612],[null,null,3.55908989906311,5.21196985244751,0.91908997297287,null,null,2.63527011871338,3.51721000671387,4.41788005828857,null,null,null,2.20221996307373,4.17489528656006],[null,null,5.27224016189575,6.10266017913818,0.393489986658096,16.7162895202637,8.54203033447266,2.74622988700867,3.8051700592041,4.470290184021,null,null,4.91159009933472,2.0545699596405,4.38367223739624],[null,null,2.55772995948792,8.29146957397461,1.3199599981308,11.6914596557617,8.1956901550293,2.59078001976013,4.6637601852417,5.08168983459473,2.05590009689331,3.27824997901917,4.74174022674561,1.9394199848175,4.81063985824585],[null,null,6.13899993896484,6.79112005233765,0.86080002784729,9.54932975769043,5.03145980834961,2.28687000274658,3.63172006607056,3.63328003883362,1.66177999973297,3.377690076828,4.12473011016846,null,3.4794499874115],[null,2.17547988891602,4.64400005340576,7.04276990890503,1.31821000576019,9.20584011077881,null,2.22175002098083,3.84261989593506,3.08072996139526,1.74292004108429,3.79618000984192,4.76523017883301,2.13269996643066,3.4620099067688],[null,1.80489003658295,6.19600009918213,7.4073600769043,1.23249995708466,8.1028003692627,null,2.13628005981445,3.52900004386902,4.96799993515015,1.45342004299164,4.08500003814697,null,2.04699993133545,2.60419988632202],[null,null,6.61299991607666,0.28999999165535,0.425390005111694,9.73373985290527,null,2.49343991279602,3.20300006866455,3.95499992370605,1.5645899772644,3.84467005729675,5.72275018692017,1.96599996089935,3.45445990562439],[null,1.69528996944427,4.64300012588501,6.35382986068726,null,null,null,2.46592998504639,3.48600006103516,3.89000010490417,1.85859000682831,3.8989999294281,6.04489994049072,2.09899997711182,3.69521999359131],[null,1.59839999675751,2.84100008010864,3.86436009407043,null,11.379469871521,null,2.6500198841095,3.29399991035461,4.64499998092651,2.10998010635376,4.11499977111816,6.23799991607666,1.87199997901917,3.2558000087738],[null,1.14783000946045,3.89400005340576,3.20425009727478,4.10699987411499,11.7899599075317,null,2.41700005531311,3.47699999809265,4.46999979019165,3.22929000854492,4.25699996948242,6.33699989318848,2.22099995613098,4.54397010803223],[null,2.00387001037598,4.28999996185303,0.190999999642372,6.0310001373291,11.7133102416992,2.58299994468689,2.13700008392334,3.52900004386902,3.87299990653992,2.59316992759705,4.30600023269653,6.69999980926514,1.85000002384186,4.34319019317627],[null,null,3.42499995231628,0.006000000052154,6.37900018692017,9.44062042236328,0.467000007629395,2.33200001716614,3.66400003433228,3.93199992179871,1.98781001567841,4.3769998550415,6.07399988174438,1.65600001811981,null],[null,null,2.91499996185303,3.65899991989136,7.3730001449585,null,null,2.21499991416931,3.48600006103516,4.20900011062622,null,3.8970000743866,4.76100015640259,1.68099999427795,null],[null,null,2.08500003814697,2.68899989128113,4.05600023269653,5.48518991470337,null,2.05699992179871,4.21099996566772,5.79500007629395,1.55499994754791,4.29300022125244,5.98099994659424,1.76499998569489,null],[26.7070007324219,1.34500002861023,null,3.22499990463257,2.31299996376038,4.56099987030029,null,1.68700003623962,3.95600008964539,4.4850001335144,1.50800001621246,4.63500022888184,6.97399997711182,1.8309999704361,null],[null,1.01499998569489,null,null,0.152999997138977,5.52400016784668,null,null,3.6489999294281,4.58099985122681,1.20000004768372,null,8.14200019836426,1.97300004959106,null]]},\"header\":{\"align\":\"left\",\"font\":{\"size\":20},\"values\":[\"Country\",\"Series\",\"YR2000\",\"YR2001\",\"YR2002\",\"YR2003\",\"YR2004\",\"YR2005\",\"YR2006\",\"YR2007\",\"YR2008\",\"YR2009\",\"YR2010\",\"YR2011\",\"YR2012\",\"YR2013\",\"YR2014\",\"YR2015\",\"YR2016\",\"YR2017\",\"YR2018\",\"YR2019\",\"YR2020\",\"YR2021\",\"YR2022\"]},\"type\":\"table\",\"domain\":{\"x\":[0.0,1.0],\"y\":[0.515,1.0]}},{\"cells\":{\"align\":\"left\",\"values\":[[\"Pakistan\",\"Nepal\",\"Maldives\",\"Sri Lanka\",\"India\",\"Bhutan\",\"Bangladesh\",\"Pakistan\",\"Nepal\",\"Maldives\",\"Sri Lanka\",\"India\",\"Bhutan\",\"Bangladesh\",\"Afghanistan\"],[\"Children out of school (% of primary school age)\",\"Children out of school (% of primary school age)\",\"Children out of school (% of primary school age)\",\"Children out of school (% of primary school age)\",\"Children out of school (% of primary school age)\",\"Children out of school (% of primary school age)\",\"Children out of school (% of primary school age)\",\"Government expenditure on education, total (% of GDP)\",\"Government expenditure on education, total (% of GDP)\",\"Government expenditure on education, total (% of GDP)\",\"Government expenditure on education, total (% of GDP)\",\"Government expenditure on education, total (% of GDP)\",\"Government expenditure on education, total (% of GDP)\",\"Government expenditure on education, total (% of GDP)\",\"Government expenditure on education, total (% of GDP)\"],[null,30.7744808197021,2.73199009895325,null,16.9875202178955,38.8700103759766,null,1.83782005310059,2.9751501083374,null,null,4.32479000091553,5.78675985336304,2.12508010864258,null],[null,null,1.60804998874664,1.79250001907349,11.8562898635864,36.9869117736816,null,null,3.70837998390198,null,null,null,5.91572999954224,2.17193007469177,null],[null,null,2.34352993965149,1.99191999435425,13.4449195861816,null,null,null,3.15283989906311,5.79186010360718,null,null,null,2.01714992523193,null],[null,22.0804595947266,null,2.61675000190735,8.48766040802002,null,null,null,3.11435008049011,5.32406997680664,null,3.61340999603271,null,2.06939005851746,null],[null,20.0970897674561,1.77482998371124,3.98446011543274,null,null,null,1.76759004592896,3.17194008827209,4.66160011291504,null,3.35254001617432,6.60906982421875,1.94014000892639,null],[null,null,2.41488003730774,4.23590993881226,null,28.4569797515869,3.37758994102478,2.04972004890442,3.3646399974823,5.0168399810791,null,3.18875002861023,7.28714990615845,null,null],[null,null,2.49761009216309,4.58268022537231,null,23.6531200408936,3.5901300907135,2.39550995826721,3.60536003112793,4.64523983001709,null,3.14284992218018,null,2.13128995895386,4.68476057052612],[null,null,3.55908989906311,5.21196985244751,0.91908997297287,null,null,2.63527011871338,3.51721000671387,4.41788005828857,null,null,null,2.20221996307373,4.17489528656006],[null,null,5.27224016189575,6.10266017913818,0.393489986658096,16.7162895202637,8.54203033447266,2.74622988700867,3.8051700592041,4.470290184021,null,null,4.91159009933472,2.0545699596405,4.38367223739624],[null,null,2.55772995948792,8.29146957397461,1.3199599981308,11.6914596557617,8.1956901550293,2.59078001976013,4.6637601852417,5.08168983459473,2.05590009689331,3.27824997901917,4.74174022674561,1.9394199848175,4.81063985824585],[null,null,6.13899993896484,6.79112005233765,0.86080002784729,9.54932975769043,5.03145980834961,2.28687000274658,3.63172006607056,3.63328003883362,1.66177999973297,3.377690076828,4.12473011016846,null,3.4794499874115],[null,2.17547988891602,4.64400005340576,7.04276990890503,1.31821000576019,9.20584011077881,null,2.22175002098083,3.84261989593506,3.08072996139526,1.74292004108429,3.79618000984192,4.76523017883301,2.13269996643066,3.4620099067688],[null,1.80489003658295,6.19600009918213,7.4073600769043,1.23249995708466,8.1028003692627,null,2.13628005981445,3.52900004386902,4.96799993515015,1.45342004299164,4.08500003814697,null,2.04699993133545,2.60419988632202],[null,null,6.61299991607666,0.28999999165535,0.425390005111694,9.73373985290527,null,2.49343991279602,3.20300006866455,3.95499992370605,1.5645899772644,3.84467005729675,5.72275018692017,1.96599996089935,3.45445990562439],[null,1.69528996944427,4.64300012588501,6.35382986068726,null,null,null,2.46592998504639,3.48600006103516,3.89000010490417,1.85859000682831,3.8989999294281,6.04489994049072,2.09899997711182,3.69521999359131],[null,1.59839999675751,2.84100008010864,3.86436009407043,null,11.379469871521,null,2.6500198841095,3.29399991035461,4.64499998092651,2.10998010635376,4.11499977111816,6.23799991607666,1.87199997901917,3.2558000087738],[null,1.14783000946045,3.89400005340576,3.20425009727478,4.10699987411499,11.7899599075317,null,2.41700005531311,3.47699999809265,4.46999979019165,3.22929000854492,4.25699996948242,6.33699989318848,2.22099995613098,4.54397010803223],[null,2.00387001037598,4.28999996185303,0.190999999642372,6.0310001373291,11.7133102416992,2.58299994468689,2.13700008392334,3.52900004386902,3.87299990653992,2.59316992759705,4.30600023269653,6.69999980926514,1.85000002384186,4.34319019317627],[null,null,3.42499995231628,0.006000000052154,6.37900018692017,9.44062042236328,0.467000007629395,2.33200001716614,3.66400003433228,3.93199992179871,1.98781001567841,4.3769998550415,6.07399988174438,1.65600001811981,null],[null,null,2.91499996185303,3.65899991989136,7.3730001449585,null,null,2.21499991416931,3.48600006103516,4.20900011062622,null,3.8970000743866,4.76100015640259,1.68099999427795,null],[null,null,2.08500003814697,2.68899989128113,4.05600023269653,5.48518991470337,null,2.05699992179871,4.21099996566772,5.79500007629395,1.55499994754791,4.29300022125244,5.98099994659424,1.76499998569489,null],[26.7070007324219,1.34500002861023,null,3.22499990463257,2.31299996376038,4.56099987030029,null,1.68700003623962,3.95600008964539,4.4850001335144,1.50800001621246,4.63500022888184,6.97399997711182,1.8309999704361,null],[null,1.01499998569489,null,null,0.152999997138977,5.52400016784668,null,null,3.6489999294281,4.58099985122681,1.20000004768372,null,8.14200019836426,1.97300004959106,null]]},\"header\":{\"align\":\"left\",\"font\":{\"size\":10},\"values\":[\"Country\",\"Series\",\"YR2000\",\"YR2001\",\"YR2002\",\"YR2003\",\"YR2004\",\"YR2005\",\"YR2006\",\"YR2007\",\"YR2008\",\"YR2009\",\"YR2010\",\"YR2011\",\"YR2012\",\"YR2013\",\"YR2014\",\"YR2015\",\"YR2016\",\"YR2017\",\"YR2018\",\"YR2019\",\"YR2020\",\"YR2021\",\"YR2022\"]},\"type\":\"table\",\"domain\":{\"x\":[0.0,1.0],\"y\":[0.515,1.0]}},{\"cells\":{\"align\":\"left\",\"values\":[[\"Pakistan\",\"Nepal\",\"Maldives\",\"Sri Lanka\",\"India\",\"Bhutan\",\"Bangladesh\",\"Pakistan\",\"Nepal\",\"Maldives\",\"Sri Lanka\",\"India\",\"Bhutan\",\"Bangladesh\",\"Afghanistan\"],[\"Children out of school (% of primary school age)\",\"Children out of school (% of primary school age)\",\"Children out of school (% of primary school age)\",\"Children out of school (% of primary school age)\",\"Children out of school (% of primary school age)\",\"Children out of school (% of primary school age)\",\"Children out of school (% of primary school age)\",\"Government expenditure on education, total (% of GDP)\",\"Government expenditure on education, total (% of GDP)\",\"Government expenditure on education, total (% of GDP)\",\"Government expenditure on education, total (% of GDP)\",\"Government expenditure on education, total (% of GDP)\",\"Government expenditure on education, total (% of GDP)\",\"Government expenditure on education, total (% of GDP)\",\"Government expenditure on education, total (% of GDP)\"],[null,30.7744808197021,2.73199009895325,null,16.9875202178955,38.8700103759766,null,1.83782005310059,2.9751501083374,null,null,4.32479000091553,5.78675985336304,2.12508010864258,null],[null,null,1.60804998874664,1.79250001907349,11.8562898635864,36.9869117736816,null,null,3.70837998390198,null,null,null,5.91572999954224,2.17193007469177,null],[null,null,2.34352993965149,1.99191999435425,13.4449195861816,null,null,null,3.15283989906311,5.79186010360718,null,null,null,2.01714992523193,null],[null,22.0804595947266,null,2.61675000190735,8.48766040802002,null,null,null,3.11435008049011,5.32406997680664,null,3.61340999603271,null,2.06939005851746,null],[null,20.0970897674561,1.77482998371124,3.98446011543274,null,null,null,1.76759004592896,3.17194008827209,4.66160011291504,null,3.35254001617432,6.60906982421875,1.94014000892639,null],[null,null,2.41488003730774,4.23590993881226,null,28.4569797515869,3.37758994102478,2.04972004890442,3.3646399974823,5.0168399810791,null,3.18875002861023,7.28714990615845,null,null],[null,null,2.49761009216309,4.58268022537231,null,23.6531200408936,3.5901300907135,2.39550995826721,3.60536003112793,4.64523983001709,null,3.14284992218018,null,2.13128995895386,4.68476057052612],[null,null,3.55908989906311,5.21196985244751,0.91908997297287,null,null,2.63527011871338,3.51721000671387,4.41788005828857,null,null,null,2.20221996307373,4.17489528656006],[null,null,5.27224016189575,6.10266017913818,0.393489986658096,16.7162895202637,8.54203033447266,2.74622988700867,3.8051700592041,4.470290184021,null,null,4.91159009933472,2.0545699596405,4.38367223739624],[null,null,2.55772995948792,8.29146957397461,1.3199599981308,11.6914596557617,8.1956901550293,2.59078001976013,4.6637601852417,5.08168983459473,2.05590009689331,3.27824997901917,4.74174022674561,1.9394199848175,4.81063985824585],[null,null,6.13899993896484,6.79112005233765,0.86080002784729,9.54932975769043,5.03145980834961,2.28687000274658,3.63172006607056,3.63328003883362,1.66177999973297,3.377690076828,4.12473011016846,null,3.4794499874115],[null,2.17547988891602,4.64400005340576,7.04276990890503,1.31821000576019,9.20584011077881,null,2.22175002098083,3.84261989593506,3.08072996139526,1.74292004108429,3.79618000984192,4.76523017883301,2.13269996643066,3.4620099067688],[null,1.80489003658295,6.19600009918213,7.4073600769043,1.23249995708466,8.1028003692627,null,2.13628005981445,3.52900004386902,4.96799993515015,1.45342004299164,4.08500003814697,null,2.04699993133545,2.60419988632202],[null,null,6.61299991607666,0.28999999165535,0.425390005111694,9.73373985290527,null,2.49343991279602,3.20300006866455,3.95499992370605,1.5645899772644,3.84467005729675,5.72275018692017,1.96599996089935,3.45445990562439],[null,1.69528996944427,4.64300012588501,6.35382986068726,null,null,null,2.46592998504639,3.48600006103516,3.89000010490417,1.85859000682831,3.8989999294281,6.04489994049072,2.09899997711182,3.69521999359131],[null,1.59839999675751,2.84100008010864,3.86436009407043,null,11.379469871521,null,2.6500198841095,3.29399991035461,4.64499998092651,2.10998010635376,4.11499977111816,6.23799991607666,1.87199997901917,3.2558000087738],[null,1.14783000946045,3.89400005340576,3.20425009727478,4.10699987411499,11.7899599075317,null,2.41700005531311,3.47699999809265,4.46999979019165,3.22929000854492,4.25699996948242,6.33699989318848,2.22099995613098,4.54397010803223],[null,2.00387001037598,4.28999996185303,0.190999999642372,6.0310001373291,11.7133102416992,2.58299994468689,2.13700008392334,3.52900004386902,3.87299990653992,2.59316992759705,4.30600023269653,6.69999980926514,1.85000002384186,4.34319019317627],[null,null,3.42499995231628,0.006000000052154,6.37900018692017,9.44062042236328,0.467000007629395,2.33200001716614,3.66400003433228,3.93199992179871,1.98781001567841,4.3769998550415,6.07399988174438,1.65600001811981,null],[null,null,2.91499996185303,3.65899991989136,7.3730001449585,null,null,2.21499991416931,3.48600006103516,4.20900011062622,null,3.8970000743866,4.76100015640259,1.68099999427795,null],[null,null,2.08500003814697,2.68899989128113,4.05600023269653,5.48518991470337,null,2.05699992179871,4.21099996566772,5.79500007629395,1.55499994754791,4.29300022125244,5.98099994659424,1.76499998569489,null],[26.7070007324219,1.34500002861023,null,3.22499990463257,2.31299996376038,4.56099987030029,null,1.68700003623962,3.95600008964539,4.4850001335144,1.50800001621246,4.63500022888184,6.97399997711182,1.8309999704361,null],[null,1.01499998569489,null,null,0.152999997138977,5.52400016784668,null,null,3.6489999294281,4.58099985122681,1.20000004768372,null,8.14200019836426,1.97300004959106,null]]},\"columnwidth\":0.5,\"header\":{\"align\":\"left\",\"font\":{\"size\":10},\"values\":[\"Country\",\"Series\",\"YR2000\",\"YR2001\",\"YR2002\",\"YR2003\",\"YR2004\",\"YR2005\",\"YR2006\",\"YR2007\",\"YR2008\",\"YR2009\",\"YR2010\",\"YR2011\",\"YR2012\",\"YR2013\",\"YR2014\",\"YR2015\",\"YR2016\",\"YR2017\",\"YR2018\",\"YR2019\",\"YR2020\",\"YR2021\",\"YR2022\"]},\"type\":\"table\",\"domain\":{\"x\":[0.0,1.0],\"y\":[0.515,1.0]}},{\"cells\":{\"align\":\"left\",\"values\":[[\"Pakistan\",\"Nepal\",\"Maldives\",\"Sri Lanka\",\"India\",\"Bhutan\",\"Bangladesh\",\"Pakistan\",\"Nepal\",\"Maldives\",\"Sri Lanka\",\"India\",\"Bhutan\",\"Bangladesh\",\"Afghanistan\"],[\"Children out of school (% of primary school age)\",\"Children out of school (% of primary school age)\",\"Children out of school (% of primary school age)\",\"Children out of school (% of primary school age)\",\"Children out of school (% of primary school age)\",\"Children out of school (% of primary school age)\",\"Children out of school (% of primary school age)\",\"Government expenditure on education, total (% of GDP)\",\"Government expenditure on education, total (% of GDP)\",\"Government expenditure on education, total (% of GDP)\",\"Government expenditure on education, total (% of GDP)\",\"Government expenditure on education, total (% of GDP)\",\"Government expenditure on education, total (% of GDP)\",\"Government expenditure on education, total (% of GDP)\",\"Government expenditure on education, total (% of GDP)\"],[null,30.7744808197021,2.73199009895325,null,16.9875202178955,38.8700103759766,null,1.83782005310059,2.9751501083374,null,null,4.32479000091553,5.78675985336304,2.12508010864258,null],[null,null,1.60804998874664,1.79250001907349,11.8562898635864,36.9869117736816,null,null,3.70837998390198,null,null,null,5.91572999954224,2.17193007469177,null],[null,null,2.34352993965149,1.99191999435425,13.4449195861816,null,null,null,3.15283989906311,5.79186010360718,null,null,null,2.01714992523193,null],[null,22.0804595947266,null,2.61675000190735,8.48766040802002,null,null,null,3.11435008049011,5.32406997680664,null,3.61340999603271,null,2.06939005851746,null],[null,20.0970897674561,1.77482998371124,3.98446011543274,null,null,null,1.76759004592896,3.17194008827209,4.66160011291504,null,3.35254001617432,6.60906982421875,1.94014000892639,null],[null,null,2.41488003730774,4.23590993881226,null,28.4569797515869,3.37758994102478,2.04972004890442,3.3646399974823,5.0168399810791,null,3.18875002861023,7.28714990615845,null,null],[null,null,2.49761009216309,4.58268022537231,null,23.6531200408936,3.5901300907135,2.39550995826721,3.60536003112793,4.64523983001709,null,3.14284992218018,null,2.13128995895386,4.68476057052612],[null,null,3.55908989906311,5.21196985244751,0.91908997297287,null,null,2.63527011871338,3.51721000671387,4.41788005828857,null,null,null,2.20221996307373,4.17489528656006],[null,null,5.27224016189575,6.10266017913818,0.393489986658096,16.7162895202637,8.54203033447266,2.74622988700867,3.8051700592041,4.470290184021,null,null,4.91159009933472,2.0545699596405,4.38367223739624],[null,null,2.55772995948792,8.29146957397461,1.3199599981308,11.6914596557617,8.1956901550293,2.59078001976013,4.6637601852417,5.08168983459473,2.05590009689331,3.27824997901917,4.74174022674561,1.9394199848175,4.81063985824585],[null,null,6.13899993896484,6.79112005233765,0.86080002784729,9.54932975769043,5.03145980834961,2.28687000274658,3.63172006607056,3.63328003883362,1.66177999973297,3.377690076828,4.12473011016846,null,3.4794499874115],[null,2.17547988891602,4.64400005340576,7.04276990890503,1.31821000576019,9.20584011077881,null,2.22175002098083,3.84261989593506,3.08072996139526,1.74292004108429,3.79618000984192,4.76523017883301,2.13269996643066,3.4620099067688],[null,1.80489003658295,6.19600009918213,7.4073600769043,1.23249995708466,8.1028003692627,null,2.13628005981445,3.52900004386902,4.96799993515015,1.45342004299164,4.08500003814697,null,2.04699993133545,2.60419988632202],[null,null,6.61299991607666,0.28999999165535,0.425390005111694,9.73373985290527,null,2.49343991279602,3.20300006866455,3.95499992370605,1.5645899772644,3.84467005729675,5.72275018692017,1.96599996089935,3.45445990562439],[null,1.69528996944427,4.64300012588501,6.35382986068726,null,null,null,2.46592998504639,3.48600006103516,3.89000010490417,1.85859000682831,3.8989999294281,6.04489994049072,2.09899997711182,3.69521999359131],[null,1.59839999675751,2.84100008010864,3.86436009407043,null,11.379469871521,null,2.6500198841095,3.29399991035461,4.64499998092651,2.10998010635376,4.11499977111816,6.23799991607666,1.87199997901917,3.2558000087738],[null,1.14783000946045,3.89400005340576,3.20425009727478,4.10699987411499,11.7899599075317,null,2.41700005531311,3.47699999809265,4.46999979019165,3.22929000854492,4.25699996948242,6.33699989318848,2.22099995613098,4.54397010803223],[null,2.00387001037598,4.28999996185303,0.190999999642372,6.0310001373291,11.7133102416992,2.58299994468689,2.13700008392334,3.52900004386902,3.87299990653992,2.59316992759705,4.30600023269653,6.69999980926514,1.85000002384186,4.34319019317627],[null,null,3.42499995231628,0.006000000052154,6.37900018692017,9.44062042236328,0.467000007629395,2.33200001716614,3.66400003433228,3.93199992179871,1.98781001567841,4.3769998550415,6.07399988174438,1.65600001811981,null],[null,null,2.91499996185303,3.65899991989136,7.3730001449585,null,null,2.21499991416931,3.48600006103516,4.20900011062622,null,3.8970000743866,4.76100015640259,1.68099999427795,null],[null,null,2.08500003814697,2.68899989128113,4.05600023269653,5.48518991470337,null,2.05699992179871,4.21099996566772,5.79500007629395,1.55499994754791,4.29300022125244,5.98099994659424,1.76499998569489,null],[26.7070007324219,1.34500002861023,null,3.22499990463257,2.31299996376038,4.56099987030029,null,1.68700003623962,3.95600008964539,4.4850001335144,1.50800001621246,4.63500022888184,6.97399997711182,1.8309999704361,null],[null,1.01499998569489,null,null,0.152999997138977,5.52400016784668,null,null,3.6489999294281,4.58099985122681,1.20000004768372,null,8.14200019836426,1.97300004959106,null]]},\"columnwidth\":4,\"header\":{\"align\":\"left\",\"font\":{\"size\":10},\"values\":[\"Country\",\"Series\",\"YR2000\",\"YR2001\",\"YR2002\",\"YR2003\",\"YR2004\",\"YR2005\",\"YR2006\",\"YR2007\",\"YR2008\",\"YR2009\",\"YR2010\",\"YR2011\",\"YR2012\",\"YR2013\",\"YR2014\",\"YR2015\",\"YR2016\",\"YR2017\",\"YR2018\",\"YR2019\",\"YR2020\",\"YR2021\",\"YR2022\"]},\"type\":\"table\",\"domain\":{\"x\":[0.0,1.0],\"y\":[0.515,1.0]}},{\"cells\":{\"align\":\"center\",\"values\":[[\"Pakistan\",\"Nepal\",\"Maldives\",\"Sri Lanka\",\"India\",\"Bhutan\",\"Bangladesh\",\"Pakistan\",\"Nepal\",\"Maldives\",\"Sri Lanka\",\"India\",\"Bhutan\",\"Bangladesh\",\"Afghanistan\"],[\"Children out of school (% of primary school age)\",\"Children out of school (% of primary school age)\",\"Children out of school (% of primary school age)\",\"Children out of school (% of primary school age)\",\"Children out of school (% of primary school age)\",\"Children out of school (% of primary school age)\",\"Children out of school (% of primary school age)\",\"Government expenditure on education, total (% of GDP)\",\"Government expenditure on education, total (% of GDP)\",\"Government expenditure on education, total (% of GDP)\",\"Government expenditure on education, total (% of GDP)\",\"Government expenditure on education, total (% of GDP)\",\"Government expenditure on education, total (% of GDP)\",\"Government expenditure on education, total (% of GDP)\",\"Government expenditure on education, total (% of GDP)\"],[null,30.7744808197021,2.73199009895325,null,16.9875202178955,38.8700103759766,null,1.83782005310059,2.9751501083374,null,null,4.32479000091553,5.78675985336304,2.12508010864258,null],[null,null,1.60804998874664,1.79250001907349,11.8562898635864,36.9869117736816,null,null,3.70837998390198,null,null,null,5.91572999954224,2.17193007469177,null],[null,null,2.34352993965149,1.99191999435425,13.4449195861816,null,null,null,3.15283989906311,5.79186010360718,null,null,null,2.01714992523193,null],[null,22.0804595947266,null,2.61675000190735,8.48766040802002,null,null,null,3.11435008049011,5.32406997680664,null,3.61340999603271,null,2.06939005851746,null],[null,20.0970897674561,1.77482998371124,3.98446011543274,null,null,null,1.76759004592896,3.17194008827209,4.66160011291504,null,3.35254001617432,6.60906982421875,1.94014000892639,null],[null,null,2.41488003730774,4.23590993881226,null,28.4569797515869,3.37758994102478,2.04972004890442,3.3646399974823,5.0168399810791,null,3.18875002861023,7.28714990615845,null,null],[null,null,2.49761009216309,4.58268022537231,null,23.6531200408936,3.5901300907135,2.39550995826721,3.60536003112793,4.64523983001709,null,3.14284992218018,null,2.13128995895386,4.68476057052612],[null,null,3.55908989906311,5.21196985244751,0.91908997297287,null,null,2.63527011871338,3.51721000671387,4.41788005828857,null,null,null,2.20221996307373,4.17489528656006],[null,null,5.27224016189575,6.10266017913818,0.393489986658096,16.7162895202637,8.54203033447266,2.74622988700867,3.8051700592041,4.470290184021,null,null,4.91159009933472,2.0545699596405,4.38367223739624],[null,null,2.55772995948792,8.29146957397461,1.3199599981308,11.6914596557617,8.1956901550293,2.59078001976013,4.6637601852417,5.08168983459473,2.05590009689331,3.27824997901917,4.74174022674561,1.9394199848175,4.81063985824585],[null,null,6.13899993896484,6.79112005233765,0.86080002784729,9.54932975769043,5.03145980834961,2.28687000274658,3.63172006607056,3.63328003883362,1.66177999973297,3.377690076828,4.12473011016846,null,3.4794499874115],[null,2.17547988891602,4.64400005340576,7.04276990890503,1.31821000576019,9.20584011077881,null,2.22175002098083,3.84261989593506,3.08072996139526,1.74292004108429,3.79618000984192,4.76523017883301,2.13269996643066,3.4620099067688],[null,1.80489003658295,6.19600009918213,7.4073600769043,1.23249995708466,8.1028003692627,null,2.13628005981445,3.52900004386902,4.96799993515015,1.45342004299164,4.08500003814697,null,2.04699993133545,2.60419988632202],[null,null,6.61299991607666,0.28999999165535,0.425390005111694,9.73373985290527,null,2.49343991279602,3.20300006866455,3.95499992370605,1.5645899772644,3.84467005729675,5.72275018692017,1.96599996089935,3.45445990562439],[null,1.69528996944427,4.64300012588501,6.35382986068726,null,null,null,2.46592998504639,3.48600006103516,3.89000010490417,1.85859000682831,3.8989999294281,6.04489994049072,2.09899997711182,3.69521999359131],[null,1.59839999675751,2.84100008010864,3.86436009407043,null,11.379469871521,null,2.6500198841095,3.29399991035461,4.64499998092651,2.10998010635376,4.11499977111816,6.23799991607666,1.87199997901917,3.2558000087738],[null,1.14783000946045,3.89400005340576,3.20425009727478,4.10699987411499,11.7899599075317,null,2.41700005531311,3.47699999809265,4.46999979019165,3.22929000854492,4.25699996948242,6.33699989318848,2.22099995613098,4.54397010803223],[null,2.00387001037598,4.28999996185303,0.190999999642372,6.0310001373291,11.7133102416992,2.58299994468689,2.13700008392334,3.52900004386902,3.87299990653992,2.59316992759705,4.30600023269653,6.69999980926514,1.85000002384186,4.34319019317627],[null,null,3.42499995231628,0.006000000052154,6.37900018692017,9.44062042236328,0.467000007629395,2.33200001716614,3.66400003433228,3.93199992179871,1.98781001567841,4.3769998550415,6.07399988174438,1.65600001811981,null],[null,null,2.91499996185303,3.65899991989136,7.3730001449585,null,null,2.21499991416931,3.48600006103516,4.20900011062622,null,3.8970000743866,4.76100015640259,1.68099999427795,null],[null,null,2.08500003814697,2.68899989128113,4.05600023269653,5.48518991470337,null,2.05699992179871,4.21099996566772,5.79500007629395,1.55499994754791,4.29300022125244,5.98099994659424,1.76499998569489,null],[26.7070007324219,1.34500002861023,null,3.22499990463257,2.31299996376038,4.56099987030029,null,1.68700003623962,3.95600008964539,4.4850001335144,1.50800001621246,4.63500022888184,6.97399997711182,1.8309999704361,null],[null,1.01499998569489,null,null,0.152999997138977,5.52400016784668,null,null,3.6489999294281,4.58099985122681,1.20000004768372,null,8.14200019836426,1.97300004959106,null]]},\"columnwidth\":4,\"header\":{\"align\":\"center\",\"font\":{\"size\":10},\"values\":[\"Country\",\"Series\",\"YR2000\",\"YR2001\",\"YR2002\",\"YR2003\",\"YR2004\",\"YR2005\",\"YR2006\",\"YR2007\",\"YR2008\",\"YR2009\",\"YR2010\",\"YR2011\",\"YR2012\",\"YR2013\",\"YR2014\",\"YR2015\",\"YR2016\",\"YR2017\",\"YR2018\",\"YR2019\",\"YR2020\",\"YR2021\",\"YR2022\"]},\"type\":\"table\",\"domain\":{\"x\":[0.0,1.0],\"y\":[0.515,1.0]}},{\"cells\":{\"align\":\"center\",\"values\":[[\"Pakistan\",\"Nepal\",\"Maldives\",\"Sri Lanka\",\"India\",\"Bhutan\",\"Bangladesh\",\"Pakistan\",\"Nepal\",\"Maldives\",\"Sri Lanka\",\"India\",\"Bhutan\",\"Bangladesh\",\"Afghanistan\"],[\"Children out of school (% of primary school age)\",\"Children out of school (% of primary school age)\",\"Children out of school (% of primary school age)\",\"Children out of school (% of primary school age)\",\"Children out of school (% of primary school age)\",\"Children out of school (% of primary school age)\",\"Children out of school (% of primary school age)\",\"Government expenditure on education, total (% of GDP)\",\"Government expenditure on education, total (% of GDP)\",\"Government expenditure on education, total (% of GDP)\",\"Government expenditure on education, total (% of GDP)\",\"Government expenditure on education, total (% of GDP)\",\"Government expenditure on education, total (% of GDP)\",\"Government expenditure on education, total (% of GDP)\",\"Government expenditure on education, total (% of GDP)\"],[null,30.7744808197021,2.73199009895325,null,16.9875202178955,38.8700103759766,null,1.83782005310059,2.9751501083374,null,null,4.32479000091553,5.78675985336304,2.12508010864258,null],[null,null,1.60804998874664,1.79250001907349,11.8562898635864,36.9869117736816,null,null,3.70837998390198,null,null,null,5.91572999954224,2.17193007469177,null],[null,null,2.34352993965149,1.99191999435425,13.4449195861816,null,null,null,3.15283989906311,5.79186010360718,null,null,null,2.01714992523193,null],[null,22.0804595947266,null,2.61675000190735,8.48766040802002,null,null,null,3.11435008049011,5.32406997680664,null,3.61340999603271,null,2.06939005851746,null],[null,20.0970897674561,1.77482998371124,3.98446011543274,null,null,null,1.76759004592896,3.17194008827209,4.66160011291504,null,3.35254001617432,6.60906982421875,1.94014000892639,null],[null,null,2.41488003730774,4.23590993881226,null,28.4569797515869,3.37758994102478,2.04972004890442,3.3646399974823,5.0168399810791,null,3.18875002861023,7.28714990615845,null,null],[null,null,2.49761009216309,4.58268022537231,null,23.6531200408936,3.5901300907135,2.39550995826721,3.60536003112793,4.64523983001709,null,3.14284992218018,null,2.13128995895386,4.68476057052612],[null,null,3.55908989906311,5.21196985244751,0.91908997297287,null,null,2.63527011871338,3.51721000671387,4.41788005828857,null,null,null,2.20221996307373,4.17489528656006],[null,null,5.27224016189575,6.10266017913818,0.393489986658096,16.7162895202637,8.54203033447266,2.74622988700867,3.8051700592041,4.470290184021,null,null,4.91159009933472,2.0545699596405,4.38367223739624],[null,null,2.55772995948792,8.29146957397461,1.3199599981308,11.6914596557617,8.1956901550293,2.59078001976013,4.6637601852417,5.08168983459473,2.05590009689331,3.27824997901917,4.74174022674561,1.9394199848175,4.81063985824585],[null,null,6.13899993896484,6.79112005233765,0.86080002784729,9.54932975769043,5.03145980834961,2.28687000274658,3.63172006607056,3.63328003883362,1.66177999973297,3.377690076828,4.12473011016846,null,3.4794499874115],[null,2.17547988891602,4.64400005340576,7.04276990890503,1.31821000576019,9.20584011077881,null,2.22175002098083,3.84261989593506,3.08072996139526,1.74292004108429,3.79618000984192,4.76523017883301,2.13269996643066,3.4620099067688],[null,1.80489003658295,6.19600009918213,7.4073600769043,1.23249995708466,8.1028003692627,null,2.13628005981445,3.52900004386902,4.96799993515015,1.45342004299164,4.08500003814697,null,2.04699993133545,2.60419988632202],[null,null,6.61299991607666,0.28999999165535,0.425390005111694,9.73373985290527,null,2.49343991279602,3.20300006866455,3.95499992370605,1.5645899772644,3.84467005729675,5.72275018692017,1.96599996089935,3.45445990562439],[null,1.69528996944427,4.64300012588501,6.35382986068726,null,null,null,2.46592998504639,3.48600006103516,3.89000010490417,1.85859000682831,3.8989999294281,6.04489994049072,2.09899997711182,3.69521999359131],[null,1.59839999675751,2.84100008010864,3.86436009407043,null,11.379469871521,null,2.6500198841095,3.29399991035461,4.64499998092651,2.10998010635376,4.11499977111816,6.23799991607666,1.87199997901917,3.2558000087738],[null,1.14783000946045,3.89400005340576,3.20425009727478,4.10699987411499,11.7899599075317,null,2.41700005531311,3.47699999809265,4.46999979019165,3.22929000854492,4.25699996948242,6.33699989318848,2.22099995613098,4.54397010803223],[null,2.00387001037598,4.28999996185303,0.190999999642372,6.0310001373291,11.7133102416992,2.58299994468689,2.13700008392334,3.52900004386902,3.87299990653992,2.59316992759705,4.30600023269653,6.69999980926514,1.85000002384186,4.34319019317627],[null,null,3.42499995231628,0.006000000052154,6.37900018692017,9.44062042236328,0.467000007629395,2.33200001716614,3.66400003433228,3.93199992179871,1.98781001567841,4.3769998550415,6.07399988174438,1.65600001811981,null],[null,null,2.91499996185303,3.65899991989136,7.3730001449585,null,null,2.21499991416931,3.48600006103516,4.20900011062622,null,3.8970000743866,4.76100015640259,1.68099999427795,null],[null,null,2.08500003814697,2.68899989128113,4.05600023269653,5.48518991470337,null,2.05699992179871,4.21099996566772,5.79500007629395,1.55499994754791,4.29300022125244,5.98099994659424,1.76499998569489,null],[26.7070007324219,1.34500002861023,null,3.22499990463257,2.31299996376038,4.56099987030029,null,1.68700003623962,3.95600008964539,4.4850001335144,1.50800001621246,4.63500022888184,6.97399997711182,1.8309999704361,null],[null,1.01499998569489,null,null,0.152999997138977,5.52400016784668,null,null,3.6489999294281,4.58099985122681,1.20000004768372,null,8.14200019836426,1.97300004959106,null]]},\"header\":{\"align\":\"center\",\"font\":{\"size\":10},\"values\":[\"Country\",\"Series\",\"YR2000\",\"YR2001\",\"YR2002\",\"YR2003\",\"YR2004\",\"YR2005\",\"YR2006\",\"YR2007\",\"YR2008\",\"YR2009\",\"YR2010\",\"YR2011\",\"YR2012\",\"YR2013\",\"YR2014\",\"YR2015\",\"YR2016\",\"YR2017\",\"YR2018\",\"YR2019\",\"YR2020\",\"YR2021\",\"YR2022\"]},\"type\":\"table\",\"domain\":{\"x\":[0.0,1.0],\"y\":[0.515,1.0]}},{\"cells\":{\"align\":\"center\",\"values\":[[\"Pakistan\",\"Nepal\",\"Maldives\",\"Sri Lanka\",\"India\",\"Bhutan\",\"Bangladesh\",\"Pakistan\",\"Nepal\",\"Maldives\",\"Sri Lanka\",\"India\",\"Bhutan\",\"Bangladesh\",\"Afghanistan\"],[\"Children out of school (% of primary school age)\",\"Children out of school (% of primary school age)\",\"Children out of school (% of primary school age)\",\"Children out of school (% of primary school age)\",\"Children out of school (% of primary school age)\",\"Children out of school (% of primary school age)\",\"Children out of school (% of primary school age)\",\"Government expenditure on education, total (% of GDP)\",\"Government expenditure on education, total (% of GDP)\",\"Government expenditure on education, total (% of GDP)\",\"Government expenditure on education, total (% of GDP)\",\"Government expenditure on education, total (% of GDP)\",\"Government expenditure on education, total (% of GDP)\",\"Government expenditure on education, total (% of GDP)\",\"Government expenditure on education, total (% of GDP)\"],[null,30.7744808197021,2.73199009895325,null,16.9875202178955,38.8700103759766,null,1.83782005310059,2.9751501083374,null,null,4.32479000091553,5.78675985336304,2.12508010864258,null],[null,null,1.60804998874664,1.79250001907349,11.8562898635864,36.9869117736816,null,null,3.70837998390198,null,null,null,5.91572999954224,2.17193007469177,null],[null,null,2.34352993965149,1.99191999435425,13.4449195861816,null,null,null,3.15283989906311,5.79186010360718,null,null,null,2.01714992523193,null],[null,22.0804595947266,null,2.61675000190735,8.48766040802002,null,null,null,3.11435008049011,5.32406997680664,null,3.61340999603271,null,2.06939005851746,null],[null,20.0970897674561,1.77482998371124,3.98446011543274,null,null,null,1.76759004592896,3.17194008827209,4.66160011291504,null,3.35254001617432,6.60906982421875,1.94014000892639,null],[null,null,2.41488003730774,4.23590993881226,null,28.4569797515869,3.37758994102478,2.04972004890442,3.3646399974823,5.0168399810791,null,3.18875002861023,7.28714990615845,null,null],[null,null,2.49761009216309,4.58268022537231,null,23.6531200408936,3.5901300907135,2.39550995826721,3.60536003112793,4.64523983001709,null,3.14284992218018,null,2.13128995895386,4.68476057052612],[null,null,3.55908989906311,5.21196985244751,0.91908997297287,null,null,2.63527011871338,3.51721000671387,4.41788005828857,null,null,null,2.20221996307373,4.17489528656006],[null,null,5.27224016189575,6.10266017913818,0.393489986658096,16.7162895202637,8.54203033447266,2.74622988700867,3.8051700592041,4.470290184021,null,null,4.91159009933472,2.0545699596405,4.38367223739624],[null,null,2.55772995948792,8.29146957397461,1.3199599981308,11.6914596557617,8.1956901550293,2.59078001976013,4.6637601852417,5.08168983459473,2.05590009689331,3.27824997901917,4.74174022674561,1.9394199848175,4.81063985824585],[null,null,6.13899993896484,6.79112005233765,0.86080002784729,9.54932975769043,5.03145980834961,2.28687000274658,3.63172006607056,3.63328003883362,1.66177999973297,3.377690076828,4.12473011016846,null,3.4794499874115],[null,2.17547988891602,4.64400005340576,7.04276990890503,1.31821000576019,9.20584011077881,null,2.22175002098083,3.84261989593506,3.08072996139526,1.74292004108429,3.79618000984192,4.76523017883301,2.13269996643066,3.4620099067688],[null,1.80489003658295,6.19600009918213,7.4073600769043,1.23249995708466,8.1028003692627,null,2.13628005981445,3.52900004386902,4.96799993515015,1.45342004299164,4.08500003814697,null,2.04699993133545,2.60419988632202],[null,null,6.61299991607666,0.28999999165535,0.425390005111694,9.73373985290527,null,2.49343991279602,3.20300006866455,3.95499992370605,1.5645899772644,3.84467005729675,5.72275018692017,1.96599996089935,3.45445990562439],[null,1.69528996944427,4.64300012588501,6.35382986068726,null,null,null,2.46592998504639,3.48600006103516,3.89000010490417,1.85859000682831,3.8989999294281,6.04489994049072,2.09899997711182,3.69521999359131],[null,1.59839999675751,2.84100008010864,3.86436009407043,null,11.379469871521,null,2.6500198841095,3.29399991035461,4.64499998092651,2.10998010635376,4.11499977111816,6.23799991607666,1.87199997901917,3.2558000087738],[null,1.14783000946045,3.89400005340576,3.20425009727478,4.10699987411499,11.7899599075317,null,2.41700005531311,3.47699999809265,4.46999979019165,3.22929000854492,4.25699996948242,6.33699989318848,2.22099995613098,4.54397010803223],[null,2.00387001037598,4.28999996185303,0.190999999642372,6.0310001373291,11.7133102416992,2.58299994468689,2.13700008392334,3.52900004386902,3.87299990653992,2.59316992759705,4.30600023269653,6.69999980926514,1.85000002384186,4.34319019317627],[null,null,3.42499995231628,0.006000000052154,6.37900018692017,9.44062042236328,0.467000007629395,2.33200001716614,3.66400003433228,3.93199992179871,1.98781001567841,4.3769998550415,6.07399988174438,1.65600001811981,null],[null,null,2.91499996185303,3.65899991989136,7.3730001449585,null,null,2.21499991416931,3.48600006103516,4.20900011062622,null,3.8970000743866,4.76100015640259,1.68099999427795,null],[null,null,2.08500003814697,2.68899989128113,4.05600023269653,5.48518991470337,null,2.05699992179871,4.21099996566772,5.79500007629395,1.55499994754791,4.29300022125244,5.98099994659424,1.76499998569489,null],[26.7070007324219,1.34500002861023,null,3.22499990463257,2.31299996376038,4.56099987030029,null,1.68700003623962,3.95600008964539,4.4850001335144,1.50800001621246,4.63500022888184,6.97399997711182,1.8309999704361,null],[null,1.01499998569489,null,null,0.152999997138977,5.52400016784668,null,null,3.6489999294281,4.58099985122681,1.20000004768372,null,8.14200019836426,1.97300004959106,null]]},\"header\":{\"align\":\"center\",\"font\":{\"size\":10},\"values\":[\"<br>Country<br>\",\"<br>Series<br>\",\"<br>YR2000<br>\",\"<br>YR2001<br>\",\"<br>YR2002<br>\",\"<br>YR2003<br>\",\"<br>YR2004<br>\",\"<br>YR2005<br>\",\"<br>YR2006<br>\",\"<br>YR2007<br>\",\"<br>YR2008<br>\",\"<br>YR2009<br>\",\"<br>YR2010<br>\",\"<br>YR2011<br>\",\"<br>YR2012<br>\",\"<br>YR2013<br>\",\"<br>YR2014<br>\",\"<br>YR2015<br>\",\"<br>YR2016<br>\",\"<br>YR2017<br>\",\"<br>YR2018<br>\",\"<br>YR2019<br>\",\"<br>YR2020<br>\",\"<br>YR2021<br>\",\"<br>YR2022<br>\"]},\"type\":\"table\",\"domain\":{\"x\":[0.0,1.0],\"y\":[0.515,1.0]}},{\"cells\":{\"align\":\"center\",\"values\":[[\"Pakistan\",\"Nepal\",\"Maldives\",\"Sri Lanka\",\"India\",\"Bhutan\",\"Bangladesh\",\"Pakistan\",\"Nepal\",\"Maldives\",\"Sri Lanka\",\"India\",\"Bhutan\",\"Bangladesh\",\"Afghanistan\"],[\"Children out of school (% of primary school age)\",\"Children out of school (% of primary school age)\",\"Children out of school (% of primary school age)\",\"Children out of school (% of primary school age)\",\"Children out of school (% of primary school age)\",\"Children out of school (% of primary school age)\",\"Children out of school (% of primary school age)\",\"Government expenditure on education, total (% of GDP)\",\"Government expenditure on education, total (% of GDP)\",\"Government expenditure on education, total (% of GDP)\",\"Government expenditure on education, total (% of GDP)\",\"Government expenditure on education, total (% of GDP)\",\"Government expenditure on education, total (% of GDP)\",\"Government expenditure on education, total (% of GDP)\",\"Government expenditure on education, total (% of GDP)\"],[null,30.7744808197021,2.73199009895325,null,16.9875202178955,38.8700103759766,null,1.83782005310059,2.9751501083374,null,null,4.32479000091553,5.78675985336304,2.12508010864258,null],[null,null,1.60804998874664,1.79250001907349,11.8562898635864,36.9869117736816,null,null,3.70837998390198,null,null,null,5.91572999954224,2.17193007469177,null],[null,null,2.34352993965149,1.99191999435425,13.4449195861816,null,null,null,3.15283989906311,5.79186010360718,null,null,null,2.01714992523193,null],[null,22.0804595947266,null,2.61675000190735,8.48766040802002,null,null,null,3.11435008049011,5.32406997680664,null,3.61340999603271,null,2.06939005851746,null],[null,20.0970897674561,1.77482998371124,3.98446011543274,null,null,null,1.76759004592896,3.17194008827209,4.66160011291504,null,3.35254001617432,6.60906982421875,1.94014000892639,null],[null,null,2.41488003730774,4.23590993881226,null,28.4569797515869,3.37758994102478,2.04972004890442,3.3646399974823,5.0168399810791,null,3.18875002861023,7.28714990615845,null,null],[null,null,2.49761009216309,4.58268022537231,null,23.6531200408936,3.5901300907135,2.39550995826721,3.60536003112793,4.64523983001709,null,3.14284992218018,null,2.13128995895386,4.68476057052612],[null,null,3.55908989906311,5.21196985244751,0.91908997297287,null,null,2.63527011871338,3.51721000671387,4.41788005828857,null,null,null,2.20221996307373,4.17489528656006],[null,null,5.27224016189575,6.10266017913818,0.393489986658096,16.7162895202637,8.54203033447266,2.74622988700867,3.8051700592041,4.470290184021,null,null,4.91159009933472,2.0545699596405,4.38367223739624],[null,null,2.55772995948792,8.29146957397461,1.3199599981308,11.6914596557617,8.1956901550293,2.59078001976013,4.6637601852417,5.08168983459473,2.05590009689331,3.27824997901917,4.74174022674561,1.9394199848175,4.81063985824585],[null,null,6.13899993896484,6.79112005233765,0.86080002784729,9.54932975769043,5.03145980834961,2.28687000274658,3.63172006607056,3.63328003883362,1.66177999973297,3.377690076828,4.12473011016846,null,3.4794499874115],[null,2.17547988891602,4.64400005340576,7.04276990890503,1.31821000576019,9.20584011077881,null,2.22175002098083,3.84261989593506,3.08072996139526,1.74292004108429,3.79618000984192,4.76523017883301,2.13269996643066,3.4620099067688],[null,1.80489003658295,6.19600009918213,7.4073600769043,1.23249995708466,8.1028003692627,null,2.13628005981445,3.52900004386902,4.96799993515015,1.45342004299164,4.08500003814697,null,2.04699993133545,2.60419988632202],[null,null,6.61299991607666,0.28999999165535,0.425390005111694,9.73373985290527,null,2.49343991279602,3.20300006866455,3.95499992370605,1.5645899772644,3.84467005729675,5.72275018692017,1.96599996089935,3.45445990562439],[null,1.69528996944427,4.64300012588501,6.35382986068726,null,null,null,2.46592998504639,3.48600006103516,3.89000010490417,1.85859000682831,3.8989999294281,6.04489994049072,2.09899997711182,3.69521999359131],[null,1.59839999675751,2.84100008010864,3.86436009407043,null,11.379469871521,null,2.6500198841095,3.29399991035461,4.64499998092651,2.10998010635376,4.11499977111816,6.23799991607666,1.87199997901917,3.2558000087738],[null,1.14783000946045,3.89400005340576,3.20425009727478,4.10699987411499,11.7899599075317,null,2.41700005531311,3.47699999809265,4.46999979019165,3.22929000854492,4.25699996948242,6.33699989318848,2.22099995613098,4.54397010803223],[null,2.00387001037598,4.28999996185303,0.190999999642372,6.0310001373291,11.7133102416992,2.58299994468689,2.13700008392334,3.52900004386902,3.87299990653992,2.59316992759705,4.30600023269653,6.69999980926514,1.85000002384186,4.34319019317627],[null,null,3.42499995231628,0.006000000052154,6.37900018692017,9.44062042236328,0.467000007629395,2.33200001716614,3.66400003433228,3.93199992179871,1.98781001567841,4.3769998550415,6.07399988174438,1.65600001811981,null],[null,null,2.91499996185303,3.65899991989136,7.3730001449585,null,null,2.21499991416931,3.48600006103516,4.20900011062622,null,3.8970000743866,4.76100015640259,1.68099999427795,null],[null,null,2.08500003814697,2.68899989128113,4.05600023269653,5.48518991470337,null,2.05699992179871,4.21099996566772,5.79500007629395,1.55499994754791,4.29300022125244,5.98099994659424,1.76499998569489,null],[26.7070007324219,1.34500002861023,null,3.22499990463257,2.31299996376038,4.56099987030029,null,1.68700003623962,3.95600008964539,4.4850001335144,1.50800001621246,4.63500022888184,6.97399997711182,1.8309999704361,null],[null,1.01499998569489,null,null,0.152999997138977,5.52400016784668,null,null,3.6489999294281,4.58099985122681,1.20000004768372,null,8.14200019836426,1.97300004959106,null]]},\"header\":{\"align\":\"center\",\"font\":{\"size\":10},\"values\":[\"<br>Country</br>\",\"<br>Series</br>\",\"<br>YR2000</br>\",\"<br>YR2001</br>\",\"<br>YR2002</br>\",\"<br>YR2003</br>\",\"<br>YR2004</br>\",\"<br>YR2005</br>\",\"<br>YR2006</br>\",\"<br>YR2007</br>\",\"<br>YR2008</br>\",\"<br>YR2009</br>\",\"<br>YR2010</br>\",\"<br>YR2011</br>\",\"<br>YR2012</br>\",\"<br>YR2013</br>\",\"<br>YR2014</br>\",\"<br>YR2015</br>\",\"<br>YR2016</br>\",\"<br>YR2017</br>\",\"<br>YR2018</br>\",\"<br>YR2019</br>\",\"<br>YR2020</br>\",\"<br>YR2021</br>\",\"<br>YR2022</br>\"]},\"type\":\"table\",\"domain\":{\"x\":[0.0,1.0],\"y\":[0.515,1.0]}}],                        {\"template\":{\"data\":{\"histogram2dcontour\":[{\"type\":\"histogram2dcontour\",\"colorbar\":{\"outlinewidth\":0,\"ticks\":\"\"},\"colorscale\":[[0.0,\"#0d0887\"],[0.1111111111111111,\"#46039f\"],[0.2222222222222222,\"#7201a8\"],[0.3333333333333333,\"#9c179e\"],[0.4444444444444444,\"#bd3786\"],[0.5555555555555556,\"#d8576b\"],[0.6666666666666666,\"#ed7953\"],[0.7777777777777778,\"#fb9f3a\"],[0.8888888888888888,\"#fdca26\"],[1.0,\"#f0f921\"]]}],\"choropleth\":[{\"type\":\"choropleth\",\"colorbar\":{\"outlinewidth\":0,\"ticks\":\"\"}}],\"histogram2d\":[{\"type\":\"histogram2d\",\"colorbar\":{\"outlinewidth\":0,\"ticks\":\"\"},\"colorscale\":[[0.0,\"#0d0887\"],[0.1111111111111111,\"#46039f\"],[0.2222222222222222,\"#7201a8\"],[0.3333333333333333,\"#9c179e\"],[0.4444444444444444,\"#bd3786\"],[0.5555555555555556,\"#d8576b\"],[0.6666666666666666,\"#ed7953\"],[0.7777777777777778,\"#fb9f3a\"],[0.8888888888888888,\"#fdca26\"],[1.0,\"#f0f921\"]]}],\"heatmap\":[{\"type\":\"heatmap\",\"colorbar\":{\"outlinewidth\":0,\"ticks\":\"\"},\"colorscale\":[[0.0,\"#0d0887\"],[0.1111111111111111,\"#46039f\"],[0.2222222222222222,\"#7201a8\"],[0.3333333333333333,\"#9c179e\"],[0.4444444444444444,\"#bd3786\"],[0.5555555555555556,\"#d8576b\"],[0.6666666666666666,\"#ed7953\"],[0.7777777777777778,\"#fb9f3a\"],[0.8888888888888888,\"#fdca26\"],[1.0,\"#f0f921\"]]}],\"heatmapgl\":[{\"type\":\"heatmapgl\",\"colorbar\":{\"outlinewidth\":0,\"ticks\":\"\"},\"colorscale\":[[0.0,\"#0d0887\"],[0.1111111111111111,\"#46039f\"],[0.2222222222222222,\"#7201a8\"],[0.3333333333333333,\"#9c179e\"],[0.4444444444444444,\"#bd3786\"],[0.5555555555555556,\"#d8576b\"],[0.6666666666666666,\"#ed7953\"],[0.7777777777777778,\"#fb9f3a\"],[0.8888888888888888,\"#fdca26\"],[1.0,\"#f0f921\"]]}],\"contourcarpet\":[{\"type\":\"contourcarpet\",\"colorbar\":{\"outlinewidth\":0,\"ticks\":\"\"}}],\"contour\":[{\"type\":\"contour\",\"colorbar\":{\"outlinewidth\":0,\"ticks\":\"\"},\"colorscale\":[[0.0,\"#0d0887\"],[0.1111111111111111,\"#46039f\"],[0.2222222222222222,\"#7201a8\"],[0.3333333333333333,\"#9c179e\"],[0.4444444444444444,\"#bd3786\"],[0.5555555555555556,\"#d8576b\"],[0.6666666666666666,\"#ed7953\"],[0.7777777777777778,\"#fb9f3a\"],[0.8888888888888888,\"#fdca26\"],[1.0,\"#f0f921\"]]}],\"surface\":[{\"type\":\"surface\",\"colorbar\":{\"outlinewidth\":0,\"ticks\":\"\"},\"colorscale\":[[0.0,\"#0d0887\"],[0.1111111111111111,\"#46039f\"],[0.2222222222222222,\"#7201a8\"],[0.3333333333333333,\"#9c179e\"],[0.4444444444444444,\"#bd3786\"],[0.5555555555555556,\"#d8576b\"],[0.6666666666666666,\"#ed7953\"],[0.7777777777777778,\"#fb9f3a\"],[0.8888888888888888,\"#fdca26\"],[1.0,\"#f0f921\"]]}],\"mesh3d\":[{\"type\":\"mesh3d\",\"colorbar\":{\"outlinewidth\":0,\"ticks\":\"\"}}],\"scatter\":[{\"fillpattern\":{\"fillmode\":\"overlay\",\"size\":10,\"solidity\":0.2},\"type\":\"scatter\"}],\"parcoords\":[{\"type\":\"parcoords\",\"line\":{\"colorbar\":{\"outlinewidth\":0,\"ticks\":\"\"}}}],\"scatterpolargl\":[{\"type\":\"scatterpolargl\",\"marker\":{\"colorbar\":{\"outlinewidth\":0,\"ticks\":\"\"}}}],\"bar\":[{\"error_x\":{\"color\":\"#2a3f5f\"},\"error_y\":{\"color\":\"#2a3f5f\"},\"marker\":{\"line\":{\"color\":\"#E5ECF6\",\"width\":0.5},\"pattern\":{\"fillmode\":\"overlay\",\"size\":10,\"solidity\":0.2}},\"type\":\"bar\"}],\"scattergeo\":[{\"type\":\"scattergeo\",\"marker\":{\"colorbar\":{\"outlinewidth\":0,\"ticks\":\"\"}}}],\"scatterpolar\":[{\"type\":\"scatterpolar\",\"marker\":{\"colorbar\":{\"outlinewidth\":0,\"ticks\":\"\"}}}],\"histogram\":[{\"marker\":{\"pattern\":{\"fillmode\":\"overlay\",\"size\":10,\"solidity\":0.2}},\"type\":\"histogram\"}],\"scattergl\":[{\"type\":\"scattergl\",\"marker\":{\"colorbar\":{\"outlinewidth\":0,\"ticks\":\"\"}}}],\"scatter3d\":[{\"type\":\"scatter3d\",\"line\":{\"colorbar\":{\"outlinewidth\":0,\"ticks\":\"\"}},\"marker\":{\"colorbar\":{\"outlinewidth\":0,\"ticks\":\"\"}}}],\"scattermapbox\":[{\"type\":\"scattermapbox\",\"marker\":{\"colorbar\":{\"outlinewidth\":0,\"ticks\":\"\"}}}],\"scatterternary\":[{\"type\":\"scatterternary\",\"marker\":{\"colorbar\":{\"outlinewidth\":0,\"ticks\":\"\"}}}],\"scattercarpet\":[{\"type\":\"scattercarpet\",\"marker\":{\"colorbar\":{\"outlinewidth\":0,\"ticks\":\"\"}}}],\"carpet\":[{\"aaxis\":{\"endlinecolor\":\"#2a3f5f\",\"gridcolor\":\"white\",\"linecolor\":\"white\",\"minorgridcolor\":\"white\",\"startlinecolor\":\"#2a3f5f\"},\"baxis\":{\"endlinecolor\":\"#2a3f5f\",\"gridcolor\":\"white\",\"linecolor\":\"white\",\"minorgridcolor\":\"white\",\"startlinecolor\":\"#2a3f5f\"},\"type\":\"carpet\"}],\"table\":[{\"cells\":{\"fill\":{\"color\":\"#EBF0F8\"},\"line\":{\"color\":\"white\"}},\"header\":{\"fill\":{\"color\":\"#C8D4E3\"},\"line\":{\"color\":\"white\"}},\"type\":\"table\"}],\"barpolar\":[{\"marker\":{\"line\":{\"color\":\"#E5ECF6\",\"width\":0.5},\"pattern\":{\"fillmode\":\"overlay\",\"size\":10,\"solidity\":0.2}},\"type\":\"barpolar\"}],\"pie\":[{\"automargin\":true,\"type\":\"pie\"}]},\"layout\":{\"autotypenumbers\":\"strict\",\"colorway\":[\"#636efa\",\"#EF553B\",\"#00cc96\",\"#ab63fa\",\"#FFA15A\",\"#19d3f3\",\"#FF6692\",\"#B6E880\",\"#FF97FF\",\"#FECB52\"],\"font\":{\"color\":\"#2a3f5f\"},\"hovermode\":\"closest\",\"hoverlabel\":{\"align\":\"left\"},\"paper_bgcolor\":\"white\",\"plot_bgcolor\":\"#E5ECF6\",\"polar\":{\"bgcolor\":\"#E5ECF6\",\"angularaxis\":{\"gridcolor\":\"white\",\"linecolor\":\"white\",\"ticks\":\"\"},\"radialaxis\":{\"gridcolor\":\"white\",\"linecolor\":\"white\",\"ticks\":\"\"}},\"ternary\":{\"bgcolor\":\"#E5ECF6\",\"aaxis\":{\"gridcolor\":\"white\",\"linecolor\":\"white\",\"ticks\":\"\"},\"baxis\":{\"gridcolor\":\"white\",\"linecolor\":\"white\",\"ticks\":\"\"},\"caxis\":{\"gridcolor\":\"white\",\"linecolor\":\"white\",\"ticks\":\"\"}},\"coloraxis\":{\"colorbar\":{\"outlinewidth\":0,\"ticks\":\"\"}},\"colorscale\":{\"sequential\":[[0.0,\"#0d0887\"],[0.1111111111111111,\"#46039f\"],[0.2222222222222222,\"#7201a8\"],[0.3333333333333333,\"#9c179e\"],[0.4444444444444444,\"#bd3786\"],[0.5555555555555556,\"#d8576b\"],[0.6666666666666666,\"#ed7953\"],[0.7777777777777778,\"#fb9f3a\"],[0.8888888888888888,\"#fdca26\"],[1.0,\"#f0f921\"]],\"sequentialminus\":[[0.0,\"#0d0887\"],[0.1111111111111111,\"#46039f\"],[0.2222222222222222,\"#7201a8\"],[0.3333333333333333,\"#9c179e\"],[0.4444444444444444,\"#bd3786\"],[0.5555555555555556,\"#d8576b\"],[0.6666666666666666,\"#ed7953\"],[0.7777777777777778,\"#fb9f3a\"],[0.8888888888888888,\"#fdca26\"],[1.0,\"#f0f921\"]],\"diverging\":[[0,\"#8e0152\"],[0.1,\"#c51b7d\"],[0.2,\"#de77ae\"],[0.3,\"#f1b6da\"],[0.4,\"#fde0ef\"],[0.5,\"#f7f7f7\"],[0.6,\"#e6f5d0\"],[0.7,\"#b8e186\"],[0.8,\"#7fbc41\"],[0.9,\"#4d9221\"],[1,\"#276419\"]]},\"xaxis\":{\"gridcolor\":\"white\",\"linecolor\":\"white\",\"ticks\":\"\",\"title\":{\"standoff\":15},\"zerolinecolor\":\"white\",\"automargin\":true,\"zerolinewidth\":2},\"yaxis\":{\"gridcolor\":\"white\",\"linecolor\":\"white\",\"ticks\":\"\",\"title\":{\"standoff\":15},\"zerolinecolor\":\"white\",\"automargin\":true,\"zerolinewidth\":2},\"scene\":{\"xaxis\":{\"backgroundcolor\":\"#E5ECF6\",\"gridcolor\":\"white\",\"linecolor\":\"white\",\"showbackground\":true,\"ticks\":\"\",\"zerolinecolor\":\"white\",\"gridwidth\":2},\"yaxis\":{\"backgroundcolor\":\"#E5ECF6\",\"gridcolor\":\"white\",\"linecolor\":\"white\",\"showbackground\":true,\"ticks\":\"\",\"zerolinecolor\":\"white\",\"gridwidth\":2},\"zaxis\":{\"backgroundcolor\":\"#E5ECF6\",\"gridcolor\":\"white\",\"linecolor\":\"white\",\"showbackground\":true,\"ticks\":\"\",\"zerolinecolor\":\"white\",\"gridwidth\":2}},\"shapedefaults\":{\"line\":{\"color\":\"#2a3f5f\"}},\"annotationdefaults\":{\"arrowcolor\":\"#2a3f5f\",\"arrowhead\":0,\"arrowwidth\":1},\"geo\":{\"bgcolor\":\"white\",\"landcolor\":\"#E5ECF6\",\"subunitcolor\":\"white\",\"showland\":true,\"showlakes\":true,\"lakecolor\":\"white\"},\"title\":{\"x\":0.05},\"mapbox\":{\"style\":\"light\"}}},\"xaxis\":{\"anchor\":\"y\",\"domain\":[0.0,1.0]},\"yaxis\":{\"anchor\":\"x\",\"domain\":[0.0,0.485]},\"title\":{\"text\":\"Bitcoin mining stats for 180 days\"},\"height\":800,\"showlegend\":false},                        {\"responsive\": true}                    ).then(function(){\n",
       "                            \n",
       "var gd = document.getElementById('d110b090-8c20-48a7-86a2-6c5b731593f9');\n",
       "var x = new MutationObserver(function (mutations, observer) {{\n",
       "        var display = window.getComputedStyle(gd).display;\n",
       "        if (!display || display === 'none') {{\n",
       "            console.log([gd, 'removed!']);\n",
       "            Plotly.purge(gd);\n",
       "            observer.disconnect();\n",
       "        }}\n",
       "}});\n",
       "\n",
       "// Listen for the removal of the full notebook cells\n",
       "var notebookContainer = gd.closest('#notebook-container');\n",
       "if (notebookContainer) {{\n",
       "    x.observe(notebookContainer, {childList: true});\n",
       "}}\n",
       "\n",
       "// Listen for the clearing of the current output cell\n",
       "var outputEl = gd.closest('.output');\n",
       "if (outputEl) {{\n",
       "    x.observe(outputEl, {childList: true});\n",
       "}}\n",
       "\n",
       "                        })                };                });            </script>        </div>"
      ]
     },
     "metadata": {},
     "output_type": "display_data"
    }
   ],
   "source": [
    "fig.add_trace(table,row=1, col=1)"
   ]
  },
  {
   "cell_type": "code",
   "execution_count": null,
   "id": "fcb3beb9",
   "metadata": {},
   "outputs": [],
   "source": []
  },
  {
   "cell_type": "code",
   "execution_count": null,
   "id": "113c8aa9",
   "metadata": {},
   "outputs": [],
   "source": []
  },
  {
   "cell_type": "code",
   "execution_count": null,
   "id": "e8ee9b02",
   "metadata": {},
   "outputs": [],
   "source": []
  }
 ],
 "metadata": {
  "kernelspec": {
   "display_name": "Python 3 (ipykernel)",
   "language": "python",
   "name": "python3"
  },
  "language_info": {
   "codemirror_mode": {
    "name": "ipython",
    "version": 3
   },
   "file_extension": ".py",
   "mimetype": "text/x-python",
   "name": "python",
   "nbconvert_exporter": "python",
   "pygments_lexer": "ipython3",
   "version": "3.10.9"
  }
 },
 "nbformat": 4,
 "nbformat_minor": 5
}
