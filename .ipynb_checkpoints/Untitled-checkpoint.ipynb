{
 "cells": [
  {
   "cell_type": "code",
   "execution_count": 1,
   "id": "c1e6975f",
   "metadata": {},
   "outputs": [],
   "source": [
    "# import time\n",
    "\n",
    "# def mygen():\n",
    "    \n",
    "#     for i in range(5):\n",
    "#         time.sleep(1)\n",
    "#         yield \"i =\",i\n",
    "        \n",
    "#     for j in range(5):\n",
    "#         time.sleep(1)\n",
    "#         yield \"j =\",j\n",
    "\n",
    "# for each in mygen():\n",
    "#     print(each)"
   ]
  },
  {
   "cell_type": "code",
   "execution_count": 2,
   "id": "1ae3aab4",
   "metadata": {},
   "outputs": [],
   "source": [
    "import pandas as pd"
   ]
  },
  {
   "cell_type": "code",
   "execution_count": 3,
   "id": "1a4c6159",
   "metadata": {},
   "outputs": [],
   "source": []
  },
  {
   "cell_type": "code",
   "execution_count": 5,
   "id": "e79f7960",
   "metadata": {},
   "outputs": [],
   "source": [
    "import plotly.graph_objects as go\n",
    "from plotly.subplots import make_subplots"
   ]
  },
  {
   "cell_type": "code",
   "execution_count": 87,
   "id": "0f6a1b48",
   "metadata": {},
   "outputs": [],
   "source": [
    "import re\n",
    "df = pd.read_csv(\"extract.csv\")"
   ]
  },
  {
   "cell_type": "code",
   "execution_count": 92,
   "id": "d23bc6fc",
   "metadata": {},
   "outputs": [],
   "source": [
    "df = df.round(2)"
   ]
  },
  {
   "cell_type": "code",
   "execution_count": 93,
   "id": "cd70851a",
   "metadata": {},
   "outputs": [],
   "source": [
    "pattern = re.compile(r'\\d{4}')\n",
    "years_int = {each:int(pattern.findall(each)[0]) for each in df.filter(regex=\"\\d{4}\").columns}\n",
    "df.rename(years_int, axis=1, inplace=True)"
   ]
  },
  {
   "cell_type": "code",
   "execution_count": 94,
   "id": "ac56b7d6",
   "metadata": {},
   "outputs": [],
   "source": [
    "df.fillna(\"\", inplace=True)"
   ]
  },
  {
   "cell_type": "code",
   "execution_count": 95,
   "id": "eb1ad6d8",
   "metadata": {},
   "outputs": [],
   "source": [
    "df.drop(['economy','series'], axis=1, inplace=True)\n",
    "\n",
    "columns = ['<br>'+str(each)+'</br>' for each in list(df.columns)]"
   ]
  },
  {
   "cell_type": "code",
   "execution_count": 114,
   "id": "84beb766",
   "metadata": {},
   "outputs": [
    {
     "ename": "ValueError",
     "evalue": "Invalid property specified for object of type plotly.graph_objs.Table: 'height'\n\nDid you mean \"header\"?\n\n    Valid properties:\n        cells\n            :class:`plotly.graph_objects.table.Cells` instance or\n            dict with compatible properties\n        columnorder\n            Specifies the rendered order of the data columns; for\n            example, a value `2` at position `0` means that column\n            index `0` in the data will be rendered as the third\n            column, as columns have an index base of zero.\n        columnordersrc\n            Sets the source reference on Chart Studio Cloud for\n            `columnorder`.\n        columnwidth\n            The width of columns expressed as a ratio. Columns fill\n            the available width in proportion of their specified\n            column widths.\n        columnwidthsrc\n            Sets the source reference on Chart Studio Cloud for\n            `columnwidth`.\n        customdata\n            Assigns extra data each datum. This may be useful when\n            listening to hover, click and selection events. Note\n            that, \"scatter\" traces also appends customdata items in\n            the markers DOM elements\n        customdatasrc\n            Sets the source reference on Chart Studio Cloud for\n            `customdata`.\n        domain\n            :class:`plotly.graph_objects.table.Domain` instance or\n            dict with compatible properties\n        header\n            :class:`plotly.graph_objects.table.Header` instance or\n            dict with compatible properties\n        hoverinfo\n            Determines which trace information appear on hover. If\n            `none` or `skip` are set, no information is displayed\n            upon hovering. But, if `none` is set, click and hover\n            events are still fired.\n        hoverinfosrc\n            Sets the source reference on Chart Studio Cloud for\n            `hoverinfo`.\n        hoverlabel\n            :class:`plotly.graph_objects.table.Hoverlabel` instance\n            or dict with compatible properties\n        ids\n            Assigns id labels to each datum. These ids for object\n            constancy of data points during animation. Should be an\n            array of strings, not numbers or any other type.\n        idssrc\n            Sets the source reference on Chart Studio Cloud for\n            `ids`.\n        legendgrouptitle\n            :class:`plotly.graph_objects.table.Legendgrouptitle`\n            instance or dict with compatible properties\n        legendrank\n            Sets the legend rank for this trace. Items and groups\n            with smaller ranks are presented on top/left side while\n            with `*reversed* `legend.traceorder` they are on\n            bottom/right side. The default legendrank is 1000, so\n            that you can use ranks less than 1000 to place certain\n            items before all unranked items, and ranks greater than\n            1000 to go after all unranked items.\n        meta\n            Assigns extra meta information associated with this\n            trace that can be used in various text attributes.\n            Attributes such as trace `name`, graph, axis and\n            colorbar `title.text`, annotation `text`\n            `rangeselector`, `updatemenues` and `sliders` `label`\n            text all support `meta`. To access the trace `meta`\n            values in an attribute in the same trace, simply use\n            `%{meta[i]}` where `i` is the index or key of the\n            `meta` item in question. To access trace `meta` in\n            layout attributes, use `%{data[n[.meta[i]}` where `i`\n            is the index or key of the `meta` and `n` is the trace\n            index.\n        metasrc\n            Sets the source reference on Chart Studio Cloud for\n            `meta`.\n        name\n            Sets the trace name. The trace name appear as the\n            legend item and on hover.\n        stream\n            :class:`plotly.graph_objects.table.Stream` instance or\n            dict with compatible properties\n        uid\n            Assign an id to this trace, Use this to provide object\n            constancy between traces during animations and\n            transitions.\n        uirevision\n            Controls persistence of some user-driven changes to the\n            trace: `constraintrange` in `parcoords` traces, as well\n            as some `editable: true` modifications such as `name`\n            and `colorbar.title`. Defaults to `layout.uirevision`.\n            Note that other user-driven trace attribute changes are\n            controlled by `layout` attributes: `trace.visible` is\n            controlled by `layout.legend.uirevision`,\n            `selectedpoints` is controlled by\n            `layout.selectionrevision`, and `colorbar.(x|y)`\n            (accessible with `config: {editable: true}`) is\n            controlled by `layout.editrevision`. Trace changes are\n            tracked by `uid`, which only falls back on trace index\n            if no `uid` is provided. So if your app can add/remove\n            traces before the end of the `data` array, such that\n            the same trace has a different index, you can still\n            preserve user-driven changes if you give each trace a\n            `uid` that stays with it as it moves.\n        visible\n            Determines whether or not this trace is visible. If\n            \"legendonly\", the trace is not drawn, but can appear as\n            a legend item (provided that the legend itself is\n            visible).\n        \nDid you mean \"header\"?\n\nBad property path:\nheight\n^^^^^^",
     "output_type": "error",
     "traceback": [
      "\u001b[1;31m---------------------------------------------------------------------------\u001b[0m",
      "\u001b[1;31mValueError\u001b[0m                                Traceback (most recent call last)",
      "Cell \u001b[1;32mIn[114], line 1\u001b[0m\n\u001b[1;32m----> 1\u001b[0m table \u001b[38;5;241m=\u001b[39m \u001b[43mgo\u001b[49m\u001b[38;5;241;43m.\u001b[39;49m\u001b[43mTable\u001b[49m\u001b[43m(\u001b[49m\n\u001b[0;32m      2\u001b[0m \u001b[43m        \u001b[49m\u001b[43mheader\u001b[49m\u001b[38;5;241;43m=\u001b[39;49m\u001b[43m \u001b[49m\u001b[38;5;28;43mdict\u001b[39;49m\u001b[43m(\u001b[49m\n\u001b[0;32m      3\u001b[0m \u001b[43m            \u001b[49m\u001b[43mvalues\u001b[49m\u001b[38;5;241;43m=\u001b[39;49m\u001b[43m \u001b[49m\u001b[43mcolumns\u001b[49m\u001b[43m,\u001b[49m\n\u001b[0;32m      4\u001b[0m \u001b[43m            \u001b[49m\u001b[43mline_color\u001b[49m\u001b[38;5;241;43m=\u001b[39;49m\u001b[38;5;124;43m'\u001b[39;49m\u001b[38;5;124;43mdarkslategray\u001b[39;49m\u001b[38;5;124;43m'\u001b[39;49m\u001b[43m,\u001b[49m\n\u001b[0;32m      5\u001b[0m \u001b[43m            \u001b[49m\u001b[43mfill_color\u001b[49m\u001b[38;5;241;43m=\u001b[39;49m\u001b[38;5;124;43m'\u001b[39;49m\u001b[38;5;124;43mlightskyblue\u001b[39;49m\u001b[38;5;124;43m'\u001b[39;49m\u001b[43m,\u001b[49m\n\u001b[0;32m      6\u001b[0m \u001b[43m            \u001b[49m\u001b[43mfont\u001b[49m\u001b[38;5;241;43m=\u001b[39;49m\u001b[43m \u001b[49m\u001b[38;5;28;43mdict\u001b[39;49m\u001b[43m(\u001b[49m\u001b[43msize\u001b[49m\u001b[38;5;241;43m=\u001b[39;49m\u001b[38;5;241;43m10\u001b[39;49m\u001b[43m)\u001b[49m\u001b[43m,\u001b[49m\n\u001b[0;32m      7\u001b[0m \u001b[43m            \u001b[49m\u001b[43malign\u001b[49m\u001b[38;5;241;43m=\u001b[39;49m\u001b[43m \u001b[49m\u001b[38;5;124;43m\"\u001b[39;49m\u001b[38;5;124;43mcenter\u001b[39;49m\u001b[38;5;124;43m\"\u001b[39;49m\n\u001b[0;32m      8\u001b[0m \u001b[43m        \u001b[49m\u001b[43m)\u001b[49m\u001b[43m,\u001b[49m\n\u001b[0;32m      9\u001b[0m \u001b[43m        \u001b[49m\u001b[43mcells\u001b[49m\u001b[38;5;241;43m=\u001b[39;49m\u001b[38;5;28;43mdict\u001b[39;49m\u001b[43m(\u001b[49m\n\u001b[0;32m     10\u001b[0m \u001b[43m            \u001b[49m\u001b[43mvalues\u001b[49m\u001b[38;5;241;43m=\u001b[39;49m\u001b[43m[\u001b[49m\u001b[43mdf\u001b[49m\u001b[43m[\u001b[49m\u001b[43meach\u001b[49m\u001b[43m]\u001b[49m\u001b[38;5;241;43m.\u001b[39;49m\u001b[43mto_list\u001b[49m\u001b[43m(\u001b[49m\u001b[43m)\u001b[49m\u001b[43m \u001b[49m\u001b[38;5;28;43;01mfor\u001b[39;49;00m\u001b[43m \u001b[49m\u001b[43meach\u001b[49m\u001b[43m \u001b[49m\u001b[38;5;129;43;01min\u001b[39;49;00m\u001b[43m \u001b[49m\u001b[43mdf\u001b[49m\u001b[38;5;241;43m.\u001b[39;49m\u001b[43mcolumns\u001b[49m\u001b[43m]\u001b[49m\u001b[43m,\u001b[49m\n\u001b[0;32m     11\u001b[0m \u001b[43m            \u001b[49m\u001b[43malign\u001b[49m\u001b[43m \u001b[49m\u001b[38;5;241;43m=\u001b[39;49m\u001b[43m \u001b[49m\u001b[38;5;124;43m\"\u001b[39;49m\u001b[38;5;124;43mcenter\u001b[39;49m\u001b[38;5;124;43m\"\u001b[39;49m\u001b[43m,\u001b[49m\n\u001b[0;32m     12\u001b[0m \u001b[43m            \u001b[49m\u001b[43mline_color\u001b[49m\u001b[38;5;241;43m=\u001b[39;49m\u001b[38;5;124;43m'\u001b[39;49m\u001b[38;5;124;43mdarkslategray\u001b[39;49m\u001b[38;5;124;43m'\u001b[39;49m\u001b[43m)\u001b[49m\u001b[43m,\u001b[49m\n\u001b[0;32m     13\u001b[0m \u001b[43m    \u001b[49m\u001b[43mheight\u001b[49m\u001b[38;5;241;43m=\u001b[39;49m\u001b[38;5;241;43m60\u001b[39;49m\u001b[43m,\u001b[49m\u001b[43m  \u001b[49m\n\u001b[0;32m     14\u001b[0m \n\u001b[0;32m     15\u001b[0m \u001b[43m    \u001b[49m\u001b[43m)\u001b[49m\n",
      "File \u001b[1;32m~\\anaconda3\\lib\\site-packages\\plotly\\graph_objs\\_table.py:1143\u001b[0m, in \u001b[0;36mTable.__init__\u001b[1;34m(self, arg, cells, columnorder, columnordersrc, columnwidth, columnwidthsrc, customdata, customdatasrc, domain, header, hoverinfo, hoverinfosrc, hoverlabel, ids, idssrc, legendgrouptitle, legendrank, meta, metasrc, name, stream, uid, uirevision, visible, **kwargs)\u001b[0m\n\u001b[0;32m   1139\u001b[0m arg\u001b[38;5;241m.\u001b[39mpop(\u001b[38;5;124m\"\u001b[39m\u001b[38;5;124mtype\u001b[39m\u001b[38;5;124m\"\u001b[39m, \u001b[38;5;28;01mNone\u001b[39;00m)\n\u001b[0;32m   1141\u001b[0m \u001b[38;5;66;03m# Process unknown kwargs\u001b[39;00m\n\u001b[0;32m   1142\u001b[0m \u001b[38;5;66;03m# ----------------------\u001b[39;00m\n\u001b[1;32m-> 1143\u001b[0m \u001b[38;5;28mself\u001b[39m\u001b[38;5;241m.\u001b[39m_process_kwargs(\u001b[38;5;241m*\u001b[39m\u001b[38;5;241m*\u001b[39m\u001b[38;5;28mdict\u001b[39m(arg, \u001b[38;5;241m*\u001b[39m\u001b[38;5;241m*\u001b[39mkwargs))\n\u001b[0;32m   1145\u001b[0m \u001b[38;5;66;03m# Reset skip_invalid\u001b[39;00m\n\u001b[0;32m   1146\u001b[0m \u001b[38;5;66;03m# ------------------\u001b[39;00m\n\u001b[0;32m   1147\u001b[0m \u001b[38;5;28mself\u001b[39m\u001b[38;5;241m.\u001b[39m_skip_invalid \u001b[38;5;241m=\u001b[39m \u001b[38;5;28;01mFalse\u001b[39;00m\n",
      "File \u001b[1;32m~\\anaconda3\\lib\\site-packages\\plotly\\basedatatypes.py:4377\u001b[0m, in \u001b[0;36mBasePlotlyType._process_kwargs\u001b[1;34m(self, **kwargs)\u001b[0m\n\u001b[0;32m   4375\u001b[0m     \u001b[38;5;28mself\u001b[39m[k] \u001b[38;5;241m=\u001b[39m v\n\u001b[0;32m   4376\u001b[0m \u001b[38;5;28;01melif\u001b[39;00m \u001b[38;5;129;01mnot\u001b[39;00m \u001b[38;5;28mself\u001b[39m\u001b[38;5;241m.\u001b[39m_skip_invalid:\n\u001b[1;32m-> 4377\u001b[0m     \u001b[38;5;28;01mraise\u001b[39;00m err\n",
      "\u001b[1;31mValueError\u001b[0m: Invalid property specified for object of type plotly.graph_objs.Table: 'height'\n\nDid you mean \"header\"?\n\n    Valid properties:\n        cells\n            :class:`plotly.graph_objects.table.Cells` instance or\n            dict with compatible properties\n        columnorder\n            Specifies the rendered order of the data columns; for\n            example, a value `2` at position `0` means that column\n            index `0` in the data will be rendered as the third\n            column, as columns have an index base of zero.\n        columnordersrc\n            Sets the source reference on Chart Studio Cloud for\n            `columnorder`.\n        columnwidth\n            The width of columns expressed as a ratio. Columns fill\n            the available width in proportion of their specified\n            column widths.\n        columnwidthsrc\n            Sets the source reference on Chart Studio Cloud for\n            `columnwidth`.\n        customdata\n            Assigns extra data each datum. This may be useful when\n            listening to hover, click and selection events. Note\n            that, \"scatter\" traces also appends customdata items in\n            the markers DOM elements\n        customdatasrc\n            Sets the source reference on Chart Studio Cloud for\n            `customdata`.\n        domain\n            :class:`plotly.graph_objects.table.Domain` instance or\n            dict with compatible properties\n        header\n            :class:`plotly.graph_objects.table.Header` instance or\n            dict with compatible properties\n        hoverinfo\n            Determines which trace information appear on hover. If\n            `none` or `skip` are set, no information is displayed\n            upon hovering. But, if `none` is set, click and hover\n            events are still fired.\n        hoverinfosrc\n            Sets the source reference on Chart Studio Cloud for\n            `hoverinfo`.\n        hoverlabel\n            :class:`plotly.graph_objects.table.Hoverlabel` instance\n            or dict with compatible properties\n        ids\n            Assigns id labels to each datum. These ids for object\n            constancy of data points during animation. Should be an\n            array of strings, not numbers or any other type.\n        idssrc\n            Sets the source reference on Chart Studio Cloud for\n            `ids`.\n        legendgrouptitle\n            :class:`plotly.graph_objects.table.Legendgrouptitle`\n            instance or dict with compatible properties\n        legendrank\n            Sets the legend rank for this trace. Items and groups\n            with smaller ranks are presented on top/left side while\n            with `*reversed* `legend.traceorder` they are on\n            bottom/right side. The default legendrank is 1000, so\n            that you can use ranks less than 1000 to place certain\n            items before all unranked items, and ranks greater than\n            1000 to go after all unranked items.\n        meta\n            Assigns extra meta information associated with this\n            trace that can be used in various text attributes.\n            Attributes such as trace `name`, graph, axis and\n            colorbar `title.text`, annotation `text`\n            `rangeselector`, `updatemenues` and `sliders` `label`\n            text all support `meta`. To access the trace `meta`\n            values in an attribute in the same trace, simply use\n            `%{meta[i]}` where `i` is the index or key of the\n            `meta` item in question. To access trace `meta` in\n            layout attributes, use `%{data[n[.meta[i]}` where `i`\n            is the index or key of the `meta` and `n` is the trace\n            index.\n        metasrc\n            Sets the source reference on Chart Studio Cloud for\n            `meta`.\n        name\n            Sets the trace name. The trace name appear as the\n            legend item and on hover.\n        stream\n            :class:`plotly.graph_objects.table.Stream` instance or\n            dict with compatible properties\n        uid\n            Assign an id to this trace, Use this to provide object\n            constancy between traces during animations and\n            transitions.\n        uirevision\n            Controls persistence of some user-driven changes to the\n            trace: `constraintrange` in `parcoords` traces, as well\n            as some `editable: true` modifications such as `name`\n            and `colorbar.title`. Defaults to `layout.uirevision`.\n            Note that other user-driven trace attribute changes are\n            controlled by `layout` attributes: `trace.visible` is\n            controlled by `layout.legend.uirevision`,\n            `selectedpoints` is controlled by\n            `layout.selectionrevision`, and `colorbar.(x|y)`\n            (accessible with `config: {editable: true}`) is\n            controlled by `layout.editrevision`. Trace changes are\n            tracked by `uid`, which only falls back on trace index\n            if no `uid` is provided. So if your app can add/remove\n            traces before the end of the `data` array, such that\n            the same trace has a different index, you can still\n            preserve user-driven changes if you give each trace a\n            `uid` that stays with it as it moves.\n        visible\n            Determines whether or not this trace is visible. If\n            \"legendonly\", the trace is not drawn, but can appear as\n            a legend item (provided that the legend itself is\n            visible).\n        \nDid you mean \"header\"?\n\nBad property path:\nheight\n^^^^^^"
     ]
    }
   ],
   "source": [
    "table = go.Table(\n",
    "        header= dict(\n",
    "            values= columns,\n",
    "            line_color='darkslategray',\n",
    "            fill_color='lightskyblue',\n",
    "            font= dict(size=10),\n",
    "            align= \"center\"\n",
    "        ),\n",
    "        cells=dict(\n",
    "            values=[df[each].to_list() for each in df.columns],\n",
    "            align = \"center\",\n",
    "            line_color='darkslategray',\n",
    "        height=60,  ),\n",
    "    \n",
    "\n",
    "    )"
   ]
  },
  {
   "cell_type": "code",
   "execution_count": 115,
   "id": "b3846454",
   "metadata": {},
   "outputs": [],
   "source": [
    "fig = go.Figure(data=[table])"
   ]
  },
  {
   "cell_type": "code",
   "execution_count": 116,
   "id": "cf2bc47e",
   "metadata": {},
   "outputs": [
    {
     "data": {
      "application/vnd.plotly.v1+json": {
       "config": {
        "plotlyServerURL": "https://plot.ly"
       },
       "data": [
        {
         "cells": {
          "align": "center",
          "line": {
           "color": "darkslategray"
          },
          "values": [
           [
            "Pakistan",
            "Nepal",
            "Maldives",
            "Sri Lanka",
            "India",
            "Bhutan",
            "Bangladesh",
            "Pakistan",
            "Nepal",
            "Maldives",
            "Sri Lanka",
            "India",
            "Bhutan",
            "Bangladesh",
            "Afghanistan"
           ],
           [
            "Children out of school (% of primary school age)",
            "Children out of school (% of primary school age)",
            "Children out of school (% of primary school age)",
            "Children out of school (% of primary school age)",
            "Children out of school (% of primary school age)",
            "Children out of school (% of primary school age)",
            "Children out of school (% of primary school age)",
            "Government expenditure on education, total (% of GDP)",
            "Government expenditure on education, total (% of GDP)",
            "Government expenditure on education, total (% of GDP)",
            "Government expenditure on education, total (% of GDP)",
            "Government expenditure on education, total (% of GDP)",
            "Government expenditure on education, total (% of GDP)",
            "Government expenditure on education, total (% of GDP)",
            "Government expenditure on education, total (% of GDP)"
           ],
           [
            "",
            30.77,
            2.73,
            "",
            16.99,
            38.87,
            "",
            1.84,
            2.98,
            "",
            "",
            4.32,
            5.79,
            2.13,
            ""
           ],
           [
            "",
            "",
            1.61,
            1.79,
            11.86,
            36.99,
            "",
            "",
            3.71,
            "",
            "",
            "",
            5.92,
            2.17,
            ""
           ],
           [
            "",
            "",
            2.34,
            1.99,
            13.44,
            "",
            "",
            "",
            3.15,
            5.79,
            "",
            "",
            "",
            2.02,
            ""
           ],
           [
            "",
            22.08,
            "",
            2.62,
            8.49,
            "",
            "",
            "",
            3.11,
            5.32,
            "",
            3.61,
            "",
            2.07,
            ""
           ],
           [
            "",
            20.1,
            1.77,
            3.98,
            "",
            "",
            "",
            1.77,
            3.17,
            4.66,
            "",
            3.35,
            6.61,
            1.94,
            ""
           ],
           [
            "",
            "",
            2.41,
            4.24,
            "",
            28.46,
            3.38,
            2.05,
            3.36,
            5.02,
            "",
            3.19,
            7.29,
            "",
            ""
           ],
           [
            "",
            "",
            2.5,
            4.58,
            "",
            23.65,
            3.59,
            2.4,
            3.61,
            4.65,
            "",
            3.14,
            "",
            2.13,
            4.68
           ],
           [
            "",
            "",
            3.56,
            5.21,
            0.92,
            "",
            "",
            2.64,
            3.52,
            4.42,
            "",
            "",
            "",
            2.2,
            4.17
           ],
           [
            "",
            "",
            5.27,
            6.1,
            0.39,
            16.72,
            8.54,
            2.75,
            3.81,
            4.47,
            "",
            "",
            4.91,
            2.05,
            4.38
           ],
           [
            "",
            "",
            2.56,
            8.29,
            1.32,
            11.69,
            8.2,
            2.59,
            4.66,
            5.08,
            2.06,
            3.28,
            4.74,
            1.94,
            4.81
           ],
           [
            "",
            "",
            6.14,
            6.79,
            0.86,
            9.55,
            5.03,
            2.29,
            3.63,
            3.63,
            1.66,
            3.38,
            4.12,
            "",
            3.48
           ],
           [
            "",
            2.18,
            4.64,
            7.04,
            1.32,
            9.21,
            "",
            2.22,
            3.84,
            3.08,
            1.74,
            3.8,
            4.77,
            2.13,
            3.46
           ],
           [
            "",
            1.8,
            6.2,
            7.41,
            1.23,
            8.1,
            "",
            2.14,
            3.53,
            4.97,
            1.45,
            4.09,
            "",
            2.05,
            2.6
           ],
           [
            "",
            "",
            6.61,
            0.29,
            0.43,
            9.73,
            "",
            2.49,
            3.2,
            3.95,
            1.56,
            3.84,
            5.72,
            1.97,
            3.45
           ],
           [
            "",
            1.7,
            4.64,
            6.35,
            "",
            "",
            "",
            2.47,
            3.49,
            3.89,
            1.86,
            3.9,
            6.04,
            2.1,
            3.7
           ],
           [
            "",
            1.6,
            2.84,
            3.86,
            "",
            11.38,
            "",
            2.65,
            3.29,
            4.64,
            2.11,
            4.11,
            6.24,
            1.87,
            3.26
           ],
           [
            "",
            1.15,
            3.89,
            3.2,
            4.11,
            11.79,
            "",
            2.42,
            3.48,
            4.47,
            3.23,
            4.26,
            6.34,
            2.22,
            4.54
           ],
           [
            "",
            2,
            4.29,
            0.19,
            6.03,
            11.71,
            2.58,
            2.14,
            3.53,
            3.87,
            2.59,
            4.31,
            6.7,
            1.85,
            4.34
           ],
           [
            "",
            "",
            3.42,
            0.01,
            6.38,
            9.44,
            0.47,
            2.33,
            3.66,
            3.93,
            1.99,
            4.38,
            6.07,
            1.66,
            ""
           ],
           [
            "",
            "",
            2.91,
            3.66,
            7.37,
            "",
            "",
            2.21,
            3.49,
            4.21,
            "",
            3.9,
            4.76,
            1.68,
            ""
           ],
           [
            "",
            "",
            2.09,
            2.69,
            4.06,
            5.49,
            "",
            2.06,
            4.21,
            5.8,
            1.55,
            4.29,
            5.98,
            1.76,
            ""
           ],
           [
            26.71,
            1.35,
            "",
            3.22,
            2.31,
            4.56,
            "",
            1.69,
            3.96,
            4.49,
            1.51,
            4.64,
            6.97,
            1.83,
            ""
           ],
           [
            "",
            1.01,
            "",
            "",
            0.15,
            5.52,
            "",
            "",
            3.65,
            4.58,
            1.2,
            "",
            8.14,
            1.97,
            ""
           ]
          ]
         },
         "header": {
          "align": "center",
          "fill": {
           "color": "lightskyblue"
          },
          "font": {
           "size": 10
          },
          "line": {
           "color": "darkslategray"
          },
          "values": [
           "<br>Country</br>",
           "<br>Series</br>",
           "<br>2000</br>",
           "<br>2001</br>",
           "<br>2002</br>",
           "<br>2003</br>",
           "<br>2004</br>",
           "<br>2005</br>",
           "<br>2006</br>",
           "<br>2007</br>",
           "<br>2008</br>",
           "<br>2009</br>",
           "<br>2010</br>",
           "<br>2011</br>",
           "<br>2012</br>",
           "<br>2013</br>",
           "<br>2014</br>",
           "<br>2015</br>",
           "<br>2016</br>",
           "<br>2017</br>",
           "<br>2018</br>",
           "<br>2019</br>",
           "<br>2020</br>",
           "<br>2021</br>",
           "<br>2022</br>"
          ]
         },
         "type": "table"
        }
       ],
       "layout": {
        "autosize": false,
        "height": 400,
        "margin": {
         "b": 10,
         "l": 50,
         "r": 10,
         "t": 50
        },
        "template": {
         "data": {
          "bar": [
           {
            "error_x": {
             "color": "#2a3f5f"
            },
            "error_y": {
             "color": "#2a3f5f"
            },
            "marker": {
             "line": {
              "color": "#E5ECF6",
              "width": 0.5
             },
             "pattern": {
              "fillmode": "overlay",
              "size": 10,
              "solidity": 0.2
             }
            },
            "type": "bar"
           }
          ],
          "barpolar": [
           {
            "marker": {
             "line": {
              "color": "#E5ECF6",
              "width": 0.5
             },
             "pattern": {
              "fillmode": "overlay",
              "size": 10,
              "solidity": 0.2
             }
            },
            "type": "barpolar"
           }
          ],
          "carpet": [
           {
            "aaxis": {
             "endlinecolor": "#2a3f5f",
             "gridcolor": "white",
             "linecolor": "white",
             "minorgridcolor": "white",
             "startlinecolor": "#2a3f5f"
            },
            "baxis": {
             "endlinecolor": "#2a3f5f",
             "gridcolor": "white",
             "linecolor": "white",
             "minorgridcolor": "white",
             "startlinecolor": "#2a3f5f"
            },
            "type": "carpet"
           }
          ],
          "choropleth": [
           {
            "colorbar": {
             "outlinewidth": 0,
             "ticks": ""
            },
            "type": "choropleth"
           }
          ],
          "contour": [
           {
            "colorbar": {
             "outlinewidth": 0,
             "ticks": ""
            },
            "colorscale": [
             [
              0,
              "#0d0887"
             ],
             [
              0.1111111111111111,
              "#46039f"
             ],
             [
              0.2222222222222222,
              "#7201a8"
             ],
             [
              0.3333333333333333,
              "#9c179e"
             ],
             [
              0.4444444444444444,
              "#bd3786"
             ],
             [
              0.5555555555555556,
              "#d8576b"
             ],
             [
              0.6666666666666666,
              "#ed7953"
             ],
             [
              0.7777777777777778,
              "#fb9f3a"
             ],
             [
              0.8888888888888888,
              "#fdca26"
             ],
             [
              1,
              "#f0f921"
             ]
            ],
            "type": "contour"
           }
          ],
          "contourcarpet": [
           {
            "colorbar": {
             "outlinewidth": 0,
             "ticks": ""
            },
            "type": "contourcarpet"
           }
          ],
          "heatmap": [
           {
            "colorbar": {
             "outlinewidth": 0,
             "ticks": ""
            },
            "colorscale": [
             [
              0,
              "#0d0887"
             ],
             [
              0.1111111111111111,
              "#46039f"
             ],
             [
              0.2222222222222222,
              "#7201a8"
             ],
             [
              0.3333333333333333,
              "#9c179e"
             ],
             [
              0.4444444444444444,
              "#bd3786"
             ],
             [
              0.5555555555555556,
              "#d8576b"
             ],
             [
              0.6666666666666666,
              "#ed7953"
             ],
             [
              0.7777777777777778,
              "#fb9f3a"
             ],
             [
              0.8888888888888888,
              "#fdca26"
             ],
             [
              1,
              "#f0f921"
             ]
            ],
            "type": "heatmap"
           }
          ],
          "heatmapgl": [
           {
            "colorbar": {
             "outlinewidth": 0,
             "ticks": ""
            },
            "colorscale": [
             [
              0,
              "#0d0887"
             ],
             [
              0.1111111111111111,
              "#46039f"
             ],
             [
              0.2222222222222222,
              "#7201a8"
             ],
             [
              0.3333333333333333,
              "#9c179e"
             ],
             [
              0.4444444444444444,
              "#bd3786"
             ],
             [
              0.5555555555555556,
              "#d8576b"
             ],
             [
              0.6666666666666666,
              "#ed7953"
             ],
             [
              0.7777777777777778,
              "#fb9f3a"
             ],
             [
              0.8888888888888888,
              "#fdca26"
             ],
             [
              1,
              "#f0f921"
             ]
            ],
            "type": "heatmapgl"
           }
          ],
          "histogram": [
           {
            "marker": {
             "pattern": {
              "fillmode": "overlay",
              "size": 10,
              "solidity": 0.2
             }
            },
            "type": "histogram"
           }
          ],
          "histogram2d": [
           {
            "colorbar": {
             "outlinewidth": 0,
             "ticks": ""
            },
            "colorscale": [
             [
              0,
              "#0d0887"
             ],
             [
              0.1111111111111111,
              "#46039f"
             ],
             [
              0.2222222222222222,
              "#7201a8"
             ],
             [
              0.3333333333333333,
              "#9c179e"
             ],
             [
              0.4444444444444444,
              "#bd3786"
             ],
             [
              0.5555555555555556,
              "#d8576b"
             ],
             [
              0.6666666666666666,
              "#ed7953"
             ],
             [
              0.7777777777777778,
              "#fb9f3a"
             ],
             [
              0.8888888888888888,
              "#fdca26"
             ],
             [
              1,
              "#f0f921"
             ]
            ],
            "type": "histogram2d"
           }
          ],
          "histogram2dcontour": [
           {
            "colorbar": {
             "outlinewidth": 0,
             "ticks": ""
            },
            "colorscale": [
             [
              0,
              "#0d0887"
             ],
             [
              0.1111111111111111,
              "#46039f"
             ],
             [
              0.2222222222222222,
              "#7201a8"
             ],
             [
              0.3333333333333333,
              "#9c179e"
             ],
             [
              0.4444444444444444,
              "#bd3786"
             ],
             [
              0.5555555555555556,
              "#d8576b"
             ],
             [
              0.6666666666666666,
              "#ed7953"
             ],
             [
              0.7777777777777778,
              "#fb9f3a"
             ],
             [
              0.8888888888888888,
              "#fdca26"
             ],
             [
              1,
              "#f0f921"
             ]
            ],
            "type": "histogram2dcontour"
           }
          ],
          "mesh3d": [
           {
            "colorbar": {
             "outlinewidth": 0,
             "ticks": ""
            },
            "type": "mesh3d"
           }
          ],
          "parcoords": [
           {
            "line": {
             "colorbar": {
              "outlinewidth": 0,
              "ticks": ""
             }
            },
            "type": "parcoords"
           }
          ],
          "pie": [
           {
            "automargin": true,
            "type": "pie"
           }
          ],
          "scatter": [
           {
            "fillpattern": {
             "fillmode": "overlay",
             "size": 10,
             "solidity": 0.2
            },
            "type": "scatter"
           }
          ],
          "scatter3d": [
           {
            "line": {
             "colorbar": {
              "outlinewidth": 0,
              "ticks": ""
             }
            },
            "marker": {
             "colorbar": {
              "outlinewidth": 0,
              "ticks": ""
             }
            },
            "type": "scatter3d"
           }
          ],
          "scattercarpet": [
           {
            "marker": {
             "colorbar": {
              "outlinewidth": 0,
              "ticks": ""
             }
            },
            "type": "scattercarpet"
           }
          ],
          "scattergeo": [
           {
            "marker": {
             "colorbar": {
              "outlinewidth": 0,
              "ticks": ""
             }
            },
            "type": "scattergeo"
           }
          ],
          "scattergl": [
           {
            "marker": {
             "colorbar": {
              "outlinewidth": 0,
              "ticks": ""
             }
            },
            "type": "scattergl"
           }
          ],
          "scattermapbox": [
           {
            "marker": {
             "colorbar": {
              "outlinewidth": 0,
              "ticks": ""
             }
            },
            "type": "scattermapbox"
           }
          ],
          "scatterpolar": [
           {
            "marker": {
             "colorbar": {
              "outlinewidth": 0,
              "ticks": ""
             }
            },
            "type": "scatterpolar"
           }
          ],
          "scatterpolargl": [
           {
            "marker": {
             "colorbar": {
              "outlinewidth": 0,
              "ticks": ""
             }
            },
            "type": "scatterpolargl"
           }
          ],
          "scatterternary": [
           {
            "marker": {
             "colorbar": {
              "outlinewidth": 0,
              "ticks": ""
             }
            },
            "type": "scatterternary"
           }
          ],
          "surface": [
           {
            "colorbar": {
             "outlinewidth": 0,
             "ticks": ""
            },
            "colorscale": [
             [
              0,
              "#0d0887"
             ],
             [
              0.1111111111111111,
              "#46039f"
             ],
             [
              0.2222222222222222,
              "#7201a8"
             ],
             [
              0.3333333333333333,
              "#9c179e"
             ],
             [
              0.4444444444444444,
              "#bd3786"
             ],
             [
              0.5555555555555556,
              "#d8576b"
             ],
             [
              0.6666666666666666,
              "#ed7953"
             ],
             [
              0.7777777777777778,
              "#fb9f3a"
             ],
             [
              0.8888888888888888,
              "#fdca26"
             ],
             [
              1,
              "#f0f921"
             ]
            ],
            "type": "surface"
           }
          ],
          "table": [
           {
            "cells": {
             "fill": {
              "color": "#EBF0F8"
             },
             "line": {
              "color": "white"
             }
            },
            "header": {
             "fill": {
              "color": "#C8D4E3"
             },
             "line": {
              "color": "white"
             }
            },
            "type": "table"
           }
          ]
         },
         "layout": {
          "annotationdefaults": {
           "arrowcolor": "#2a3f5f",
           "arrowhead": 0,
           "arrowwidth": 1
          },
          "autotypenumbers": "strict",
          "coloraxis": {
           "colorbar": {
            "outlinewidth": 0,
            "ticks": ""
           }
          },
          "colorscale": {
           "diverging": [
            [
             0,
             "#8e0152"
            ],
            [
             0.1,
             "#c51b7d"
            ],
            [
             0.2,
             "#de77ae"
            ],
            [
             0.3,
             "#f1b6da"
            ],
            [
             0.4,
             "#fde0ef"
            ],
            [
             0.5,
             "#f7f7f7"
            ],
            [
             0.6,
             "#e6f5d0"
            ],
            [
             0.7,
             "#b8e186"
            ],
            [
             0.8,
             "#7fbc41"
            ],
            [
             0.9,
             "#4d9221"
            ],
            [
             1,
             "#276419"
            ]
           ],
           "sequential": [
            [
             0,
             "#0d0887"
            ],
            [
             0.1111111111111111,
             "#46039f"
            ],
            [
             0.2222222222222222,
             "#7201a8"
            ],
            [
             0.3333333333333333,
             "#9c179e"
            ],
            [
             0.4444444444444444,
             "#bd3786"
            ],
            [
             0.5555555555555556,
             "#d8576b"
            ],
            [
             0.6666666666666666,
             "#ed7953"
            ],
            [
             0.7777777777777778,
             "#fb9f3a"
            ],
            [
             0.8888888888888888,
             "#fdca26"
            ],
            [
             1,
             "#f0f921"
            ]
           ],
           "sequentialminus": [
            [
             0,
             "#0d0887"
            ],
            [
             0.1111111111111111,
             "#46039f"
            ],
            [
             0.2222222222222222,
             "#7201a8"
            ],
            [
             0.3333333333333333,
             "#9c179e"
            ],
            [
             0.4444444444444444,
             "#bd3786"
            ],
            [
             0.5555555555555556,
             "#d8576b"
            ],
            [
             0.6666666666666666,
             "#ed7953"
            ],
            [
             0.7777777777777778,
             "#fb9f3a"
            ],
            [
             0.8888888888888888,
             "#fdca26"
            ],
            [
             1,
             "#f0f921"
            ]
           ]
          },
          "colorway": [
           "#636efa",
           "#EF553B",
           "#00cc96",
           "#ab63fa",
           "#FFA15A",
           "#19d3f3",
           "#FF6692",
           "#B6E880",
           "#FF97FF",
           "#FECB52"
          ],
          "font": {
           "color": "#2a3f5f"
          },
          "geo": {
           "bgcolor": "white",
           "lakecolor": "white",
           "landcolor": "#E5ECF6",
           "showlakes": true,
           "showland": true,
           "subunitcolor": "white"
          },
          "hoverlabel": {
           "align": "left"
          },
          "hovermode": "closest",
          "mapbox": {
           "style": "light"
          },
          "paper_bgcolor": "white",
          "plot_bgcolor": "#E5ECF6",
          "polar": {
           "angularaxis": {
            "gridcolor": "white",
            "linecolor": "white",
            "ticks": ""
           },
           "bgcolor": "#E5ECF6",
           "radialaxis": {
            "gridcolor": "white",
            "linecolor": "white",
            "ticks": ""
           }
          },
          "scene": {
           "xaxis": {
            "backgroundcolor": "#E5ECF6",
            "gridcolor": "white",
            "gridwidth": 2,
            "linecolor": "white",
            "showbackground": true,
            "ticks": "",
            "zerolinecolor": "white"
           },
           "yaxis": {
            "backgroundcolor": "#E5ECF6",
            "gridcolor": "white",
            "gridwidth": 2,
            "linecolor": "white",
            "showbackground": true,
            "ticks": "",
            "zerolinecolor": "white"
           },
           "zaxis": {
            "backgroundcolor": "#E5ECF6",
            "gridcolor": "white",
            "gridwidth": 2,
            "linecolor": "white",
            "showbackground": true,
            "ticks": "",
            "zerolinecolor": "white"
           }
          },
          "shapedefaults": {
           "line": {
            "color": "#2a3f5f"
           }
          },
          "ternary": {
           "aaxis": {
            "gridcolor": "white",
            "linecolor": "white",
            "ticks": ""
           },
           "baxis": {
            "gridcolor": "white",
            "linecolor": "white",
            "ticks": ""
           },
           "bgcolor": "#E5ECF6",
           "caxis": {
            "gridcolor": "white",
            "linecolor": "white",
            "ticks": ""
           }
          },
          "title": {
           "x": 0.05
          },
          "xaxis": {
           "automargin": true,
           "gridcolor": "white",
           "linecolor": "white",
           "ticks": "",
           "title": {
            "standoff": 15
           },
           "zerolinecolor": "white",
           "zerolinewidth": 2
          },
          "yaxis": {
           "automargin": true,
           "gridcolor": "white",
           "linecolor": "white",
           "ticks": "",
           "title": {
            "standoff": 15
           },
           "zerolinecolor": "white",
           "zerolinewidth": 2
          }
         }
        },
        "width": 600
       }
      },
      "text/html": [
       "<div>                            <div id=\"2bad6cef-dec7-4055-9cbc-86984bcb1ccf\" class=\"plotly-graph-div\" style=\"height:400px; width:600px;\"></div>            <script type=\"text/javascript\">                require([\"plotly\"], function(Plotly) {                    window.PLOTLYENV=window.PLOTLYENV || {};                                    if (document.getElementById(\"2bad6cef-dec7-4055-9cbc-86984bcb1ccf\")) {                    Plotly.newPlot(                        \"2bad6cef-dec7-4055-9cbc-86984bcb1ccf\",                        [{\"cells\":{\"align\":\"center\",\"line\":{\"color\":\"darkslategray\"},\"values\":[[\"Pakistan\",\"Nepal\",\"Maldives\",\"Sri Lanka\",\"India\",\"Bhutan\",\"Bangladesh\",\"Pakistan\",\"Nepal\",\"Maldives\",\"Sri Lanka\",\"India\",\"Bhutan\",\"Bangladesh\",\"Afghanistan\"],[\"Children out of school (% of primary school age)\",\"Children out of school (% of primary school age)\",\"Children out of school (% of primary school age)\",\"Children out of school (% of primary school age)\",\"Children out of school (% of primary school age)\",\"Children out of school (% of primary school age)\",\"Children out of school (% of primary school age)\",\"Government expenditure on education, total (% of GDP)\",\"Government expenditure on education, total (% of GDP)\",\"Government expenditure on education, total (% of GDP)\",\"Government expenditure on education, total (% of GDP)\",\"Government expenditure on education, total (% of GDP)\",\"Government expenditure on education, total (% of GDP)\",\"Government expenditure on education, total (% of GDP)\",\"Government expenditure on education, total (% of GDP)\"],[\"\",30.77,2.73,\"\",16.99,38.87,\"\",1.84,2.98,\"\",\"\",4.32,5.79,2.13,\"\"],[\"\",\"\",1.61,1.79,11.86,36.99,\"\",\"\",3.71,\"\",\"\",\"\",5.92,2.17,\"\"],[\"\",\"\",2.34,1.99,13.44,\"\",\"\",\"\",3.15,5.79,\"\",\"\",\"\",2.02,\"\"],[\"\",22.08,\"\",2.62,8.49,\"\",\"\",\"\",3.11,5.32,\"\",3.61,\"\",2.07,\"\"],[\"\",20.1,1.77,3.98,\"\",\"\",\"\",1.77,3.17,4.66,\"\",3.35,6.61,1.94,\"\"],[\"\",\"\",2.41,4.24,\"\",28.46,3.38,2.05,3.36,5.02,\"\",3.19,7.29,\"\",\"\"],[\"\",\"\",2.5,4.58,\"\",23.65,3.59,2.4,3.61,4.65,\"\",3.14,\"\",2.13,4.68],[\"\",\"\",3.56,5.21,0.92,\"\",\"\",2.64,3.52,4.42,\"\",\"\",\"\",2.2,4.17],[\"\",\"\",5.27,6.1,0.39,16.72,8.54,2.75,3.81,4.47,\"\",\"\",4.91,2.05,4.38],[\"\",\"\",2.56,8.29,1.32,11.69,8.2,2.59,4.66,5.08,2.06,3.28,4.74,1.94,4.81],[\"\",\"\",6.14,6.79,0.86,9.55,5.03,2.29,3.63,3.63,1.66,3.38,4.12,\"\",3.48],[\"\",2.18,4.64,7.04,1.32,9.21,\"\",2.22,3.84,3.08,1.74,3.8,4.77,2.13,3.46],[\"\",1.8,6.2,7.41,1.23,8.1,\"\",2.14,3.53,4.97,1.45,4.09,\"\",2.05,2.6],[\"\",\"\",6.61,0.29,0.43,9.73,\"\",2.49,3.2,3.95,1.56,3.84,5.72,1.97,3.45],[\"\",1.7,4.64,6.35,\"\",\"\",\"\",2.47,3.49,3.89,1.86,3.9,6.04,2.1,3.7],[\"\",1.6,2.84,3.86,\"\",11.38,\"\",2.65,3.29,4.64,2.11,4.11,6.24,1.87,3.26],[\"\",1.15,3.89,3.2,4.11,11.79,\"\",2.42,3.48,4.47,3.23,4.26,6.34,2.22,4.54],[\"\",2.0,4.29,0.19,6.03,11.71,2.58,2.14,3.53,3.87,2.59,4.31,6.7,1.85,4.34],[\"\",\"\",3.42,0.01,6.38,9.44,0.47,2.33,3.66,3.93,1.99,4.38,6.07,1.66,\"\"],[\"\",\"\",2.91,3.66,7.37,\"\",\"\",2.21,3.49,4.21,\"\",3.9,4.76,1.68,\"\"],[\"\",\"\",2.09,2.69,4.06,5.49,\"\",2.06,4.21,5.8,1.55,4.29,5.98,1.76,\"\"],[26.71,1.35,\"\",3.22,2.31,4.56,\"\",1.69,3.96,4.49,1.51,4.64,6.97,1.83,\"\"],[\"\",1.01,\"\",\"\",0.15,5.52,\"\",\"\",3.65,4.58,1.2,\"\",8.14,1.97,\"\"]]},\"header\":{\"align\":\"center\",\"fill\":{\"color\":\"lightskyblue\"},\"font\":{\"size\":10},\"line\":{\"color\":\"darkslategray\"},\"values\":[\"<br>Country</br>\",\"<br>Series</br>\",\"<br>2000</br>\",\"<br>2001</br>\",\"<br>2002</br>\",\"<br>2003</br>\",\"<br>2004</br>\",\"<br>2005</br>\",\"<br>2006</br>\",\"<br>2007</br>\",\"<br>2008</br>\",\"<br>2009</br>\",\"<br>2010</br>\",\"<br>2011</br>\",\"<br>2012</br>\",\"<br>2013</br>\",\"<br>2014</br>\",\"<br>2015</br>\",\"<br>2016</br>\",\"<br>2017</br>\",\"<br>2018</br>\",\"<br>2019</br>\",\"<br>2020</br>\",\"<br>2021</br>\",\"<br>2022</br>\"]},\"type\":\"table\"}],                        {\"template\":{\"data\":{\"histogram2dcontour\":[{\"type\":\"histogram2dcontour\",\"colorbar\":{\"outlinewidth\":0,\"ticks\":\"\"},\"colorscale\":[[0.0,\"#0d0887\"],[0.1111111111111111,\"#46039f\"],[0.2222222222222222,\"#7201a8\"],[0.3333333333333333,\"#9c179e\"],[0.4444444444444444,\"#bd3786\"],[0.5555555555555556,\"#d8576b\"],[0.6666666666666666,\"#ed7953\"],[0.7777777777777778,\"#fb9f3a\"],[0.8888888888888888,\"#fdca26\"],[1.0,\"#f0f921\"]]}],\"choropleth\":[{\"type\":\"choropleth\",\"colorbar\":{\"outlinewidth\":0,\"ticks\":\"\"}}],\"histogram2d\":[{\"type\":\"histogram2d\",\"colorbar\":{\"outlinewidth\":0,\"ticks\":\"\"},\"colorscale\":[[0.0,\"#0d0887\"],[0.1111111111111111,\"#46039f\"],[0.2222222222222222,\"#7201a8\"],[0.3333333333333333,\"#9c179e\"],[0.4444444444444444,\"#bd3786\"],[0.5555555555555556,\"#d8576b\"],[0.6666666666666666,\"#ed7953\"],[0.7777777777777778,\"#fb9f3a\"],[0.8888888888888888,\"#fdca26\"],[1.0,\"#f0f921\"]]}],\"heatmap\":[{\"type\":\"heatmap\",\"colorbar\":{\"outlinewidth\":0,\"ticks\":\"\"},\"colorscale\":[[0.0,\"#0d0887\"],[0.1111111111111111,\"#46039f\"],[0.2222222222222222,\"#7201a8\"],[0.3333333333333333,\"#9c179e\"],[0.4444444444444444,\"#bd3786\"],[0.5555555555555556,\"#d8576b\"],[0.6666666666666666,\"#ed7953\"],[0.7777777777777778,\"#fb9f3a\"],[0.8888888888888888,\"#fdca26\"],[1.0,\"#f0f921\"]]}],\"heatmapgl\":[{\"type\":\"heatmapgl\",\"colorbar\":{\"outlinewidth\":0,\"ticks\":\"\"},\"colorscale\":[[0.0,\"#0d0887\"],[0.1111111111111111,\"#46039f\"],[0.2222222222222222,\"#7201a8\"],[0.3333333333333333,\"#9c179e\"],[0.4444444444444444,\"#bd3786\"],[0.5555555555555556,\"#d8576b\"],[0.6666666666666666,\"#ed7953\"],[0.7777777777777778,\"#fb9f3a\"],[0.8888888888888888,\"#fdca26\"],[1.0,\"#f0f921\"]]}],\"contourcarpet\":[{\"type\":\"contourcarpet\",\"colorbar\":{\"outlinewidth\":0,\"ticks\":\"\"}}],\"contour\":[{\"type\":\"contour\",\"colorbar\":{\"outlinewidth\":0,\"ticks\":\"\"},\"colorscale\":[[0.0,\"#0d0887\"],[0.1111111111111111,\"#46039f\"],[0.2222222222222222,\"#7201a8\"],[0.3333333333333333,\"#9c179e\"],[0.4444444444444444,\"#bd3786\"],[0.5555555555555556,\"#d8576b\"],[0.6666666666666666,\"#ed7953\"],[0.7777777777777778,\"#fb9f3a\"],[0.8888888888888888,\"#fdca26\"],[1.0,\"#f0f921\"]]}],\"surface\":[{\"type\":\"surface\",\"colorbar\":{\"outlinewidth\":0,\"ticks\":\"\"},\"colorscale\":[[0.0,\"#0d0887\"],[0.1111111111111111,\"#46039f\"],[0.2222222222222222,\"#7201a8\"],[0.3333333333333333,\"#9c179e\"],[0.4444444444444444,\"#bd3786\"],[0.5555555555555556,\"#d8576b\"],[0.6666666666666666,\"#ed7953\"],[0.7777777777777778,\"#fb9f3a\"],[0.8888888888888888,\"#fdca26\"],[1.0,\"#f0f921\"]]}],\"mesh3d\":[{\"type\":\"mesh3d\",\"colorbar\":{\"outlinewidth\":0,\"ticks\":\"\"}}],\"scatter\":[{\"fillpattern\":{\"fillmode\":\"overlay\",\"size\":10,\"solidity\":0.2},\"type\":\"scatter\"}],\"parcoords\":[{\"type\":\"parcoords\",\"line\":{\"colorbar\":{\"outlinewidth\":0,\"ticks\":\"\"}}}],\"scatterpolargl\":[{\"type\":\"scatterpolargl\",\"marker\":{\"colorbar\":{\"outlinewidth\":0,\"ticks\":\"\"}}}],\"bar\":[{\"error_x\":{\"color\":\"#2a3f5f\"},\"error_y\":{\"color\":\"#2a3f5f\"},\"marker\":{\"line\":{\"color\":\"#E5ECF6\",\"width\":0.5},\"pattern\":{\"fillmode\":\"overlay\",\"size\":10,\"solidity\":0.2}},\"type\":\"bar\"}],\"scattergeo\":[{\"type\":\"scattergeo\",\"marker\":{\"colorbar\":{\"outlinewidth\":0,\"ticks\":\"\"}}}],\"scatterpolar\":[{\"type\":\"scatterpolar\",\"marker\":{\"colorbar\":{\"outlinewidth\":0,\"ticks\":\"\"}}}],\"histogram\":[{\"marker\":{\"pattern\":{\"fillmode\":\"overlay\",\"size\":10,\"solidity\":0.2}},\"type\":\"histogram\"}],\"scattergl\":[{\"type\":\"scattergl\",\"marker\":{\"colorbar\":{\"outlinewidth\":0,\"ticks\":\"\"}}}],\"scatter3d\":[{\"type\":\"scatter3d\",\"line\":{\"colorbar\":{\"outlinewidth\":0,\"ticks\":\"\"}},\"marker\":{\"colorbar\":{\"outlinewidth\":0,\"ticks\":\"\"}}}],\"scattermapbox\":[{\"type\":\"scattermapbox\",\"marker\":{\"colorbar\":{\"outlinewidth\":0,\"ticks\":\"\"}}}],\"scatterternary\":[{\"type\":\"scatterternary\",\"marker\":{\"colorbar\":{\"outlinewidth\":0,\"ticks\":\"\"}}}],\"scattercarpet\":[{\"type\":\"scattercarpet\",\"marker\":{\"colorbar\":{\"outlinewidth\":0,\"ticks\":\"\"}}}],\"carpet\":[{\"aaxis\":{\"endlinecolor\":\"#2a3f5f\",\"gridcolor\":\"white\",\"linecolor\":\"white\",\"minorgridcolor\":\"white\",\"startlinecolor\":\"#2a3f5f\"},\"baxis\":{\"endlinecolor\":\"#2a3f5f\",\"gridcolor\":\"white\",\"linecolor\":\"white\",\"minorgridcolor\":\"white\",\"startlinecolor\":\"#2a3f5f\"},\"type\":\"carpet\"}],\"table\":[{\"cells\":{\"fill\":{\"color\":\"#EBF0F8\"},\"line\":{\"color\":\"white\"}},\"header\":{\"fill\":{\"color\":\"#C8D4E3\"},\"line\":{\"color\":\"white\"}},\"type\":\"table\"}],\"barpolar\":[{\"marker\":{\"line\":{\"color\":\"#E5ECF6\",\"width\":0.5},\"pattern\":{\"fillmode\":\"overlay\",\"size\":10,\"solidity\":0.2}},\"type\":\"barpolar\"}],\"pie\":[{\"automargin\":true,\"type\":\"pie\"}]},\"layout\":{\"autotypenumbers\":\"strict\",\"colorway\":[\"#636efa\",\"#EF553B\",\"#00cc96\",\"#ab63fa\",\"#FFA15A\",\"#19d3f3\",\"#FF6692\",\"#B6E880\",\"#FF97FF\",\"#FECB52\"],\"font\":{\"color\":\"#2a3f5f\"},\"hovermode\":\"closest\",\"hoverlabel\":{\"align\":\"left\"},\"paper_bgcolor\":\"white\",\"plot_bgcolor\":\"#E5ECF6\",\"polar\":{\"bgcolor\":\"#E5ECF6\",\"angularaxis\":{\"gridcolor\":\"white\",\"linecolor\":\"white\",\"ticks\":\"\"},\"radialaxis\":{\"gridcolor\":\"white\",\"linecolor\":\"white\",\"ticks\":\"\"}},\"ternary\":{\"bgcolor\":\"#E5ECF6\",\"aaxis\":{\"gridcolor\":\"white\",\"linecolor\":\"white\",\"ticks\":\"\"},\"baxis\":{\"gridcolor\":\"white\",\"linecolor\":\"white\",\"ticks\":\"\"},\"caxis\":{\"gridcolor\":\"white\",\"linecolor\":\"white\",\"ticks\":\"\"}},\"coloraxis\":{\"colorbar\":{\"outlinewidth\":0,\"ticks\":\"\"}},\"colorscale\":{\"sequential\":[[0.0,\"#0d0887\"],[0.1111111111111111,\"#46039f\"],[0.2222222222222222,\"#7201a8\"],[0.3333333333333333,\"#9c179e\"],[0.4444444444444444,\"#bd3786\"],[0.5555555555555556,\"#d8576b\"],[0.6666666666666666,\"#ed7953\"],[0.7777777777777778,\"#fb9f3a\"],[0.8888888888888888,\"#fdca26\"],[1.0,\"#f0f921\"]],\"sequentialminus\":[[0.0,\"#0d0887\"],[0.1111111111111111,\"#46039f\"],[0.2222222222222222,\"#7201a8\"],[0.3333333333333333,\"#9c179e\"],[0.4444444444444444,\"#bd3786\"],[0.5555555555555556,\"#d8576b\"],[0.6666666666666666,\"#ed7953\"],[0.7777777777777778,\"#fb9f3a\"],[0.8888888888888888,\"#fdca26\"],[1.0,\"#f0f921\"]],\"diverging\":[[0,\"#8e0152\"],[0.1,\"#c51b7d\"],[0.2,\"#de77ae\"],[0.3,\"#f1b6da\"],[0.4,\"#fde0ef\"],[0.5,\"#f7f7f7\"],[0.6,\"#e6f5d0\"],[0.7,\"#b8e186\"],[0.8,\"#7fbc41\"],[0.9,\"#4d9221\"],[1,\"#276419\"]]},\"xaxis\":{\"gridcolor\":\"white\",\"linecolor\":\"white\",\"ticks\":\"\",\"title\":{\"standoff\":15},\"zerolinecolor\":\"white\",\"automargin\":true,\"zerolinewidth\":2},\"yaxis\":{\"gridcolor\":\"white\",\"linecolor\":\"white\",\"ticks\":\"\",\"title\":{\"standoff\":15},\"zerolinecolor\":\"white\",\"automargin\":true,\"zerolinewidth\":2},\"scene\":{\"xaxis\":{\"backgroundcolor\":\"#E5ECF6\",\"gridcolor\":\"white\",\"linecolor\":\"white\",\"showbackground\":true,\"ticks\":\"\",\"zerolinecolor\":\"white\",\"gridwidth\":2},\"yaxis\":{\"backgroundcolor\":\"#E5ECF6\",\"gridcolor\":\"white\",\"linecolor\":\"white\",\"showbackground\":true,\"ticks\":\"\",\"zerolinecolor\":\"white\",\"gridwidth\":2},\"zaxis\":{\"backgroundcolor\":\"#E5ECF6\",\"gridcolor\":\"white\",\"linecolor\":\"white\",\"showbackground\":true,\"ticks\":\"\",\"zerolinecolor\":\"white\",\"gridwidth\":2}},\"shapedefaults\":{\"line\":{\"color\":\"#2a3f5f\"}},\"annotationdefaults\":{\"arrowcolor\":\"#2a3f5f\",\"arrowhead\":0,\"arrowwidth\":1},\"geo\":{\"bgcolor\":\"white\",\"landcolor\":\"#E5ECF6\",\"subunitcolor\":\"white\",\"showland\":true,\"showlakes\":true,\"lakecolor\":\"white\"},\"title\":{\"x\":0.05},\"mapbox\":{\"style\":\"light\"}}},\"margin\":{\"l\":50,\"r\":10,\"b\":10,\"t\":50},\"autosize\":false,\"width\":600,\"height\":400},                        {\"responsive\": true}                    ).then(function(){\n",
       "                            \n",
       "var gd = document.getElementById('2bad6cef-dec7-4055-9cbc-86984bcb1ccf');\n",
       "var x = new MutationObserver(function (mutations, observer) {{\n",
       "        var display = window.getComputedStyle(gd).display;\n",
       "        if (!display || display === 'none') {{\n",
       "            console.log([gd, 'removed!']);\n",
       "            Plotly.purge(gd);\n",
       "            observer.disconnect();\n",
       "        }}\n",
       "}});\n",
       "\n",
       "// Listen for the removal of the full notebook cells\n",
       "var notebookContainer = gd.closest('#notebook-container');\n",
       "if (notebookContainer) {{\n",
       "    x.observe(notebookContainer, {childList: true});\n",
       "}}\n",
       "\n",
       "// Listen for the clearing of the current output cell\n",
       "var outputEl = gd.closest('.output');\n",
       "if (outputEl) {{\n",
       "    x.observe(outputEl, {childList: true});\n",
       "}}\n",
       "\n",
       "                        })                };                });            </script>        </div>"
      ]
     },
     "metadata": {},
     "output_type": "display_data"
    }
   ],
   "source": [
    "fig.update_layout(\n",
    "    autosize=False,\n",
    "    width=600,\n",
    "    height=400,\n",
    "    margin=dict(l=50, r=10, b=10, t=50)\n",
    ")"
   ]
  },
  {
   "cell_type": "code",
   "execution_count": 111,
   "id": "3b91d300",
   "metadata": {},
   "outputs": [
    {
     "data": {
      "application/vnd.plotly.v1+json": {
       "config": {
        "plotlyServerURL": "https://plot.ly"
       },
       "data": [
        {
         "cells": {
          "align": "center",
          "line": {
           "color": "darkslategray"
          },
          "values": [
           [
            "Pakistan",
            "Nepal",
            "Maldives",
            "Sri Lanka",
            "India",
            "Bhutan",
            "Bangladesh",
            "Pakistan",
            "Nepal",
            "Maldives",
            "Sri Lanka",
            "India",
            "Bhutan",
            "Bangladesh",
            "Afghanistan"
           ],
           [
            "Children out of school (% of primary school age)",
            "Children out of school (% of primary school age)",
            "Children out of school (% of primary school age)",
            "Children out of school (% of primary school age)",
            "Children out of school (% of primary school age)",
            "Children out of school (% of primary school age)",
            "Children out of school (% of primary school age)",
            "Government expenditure on education, total (% of GDP)",
            "Government expenditure on education, total (% of GDP)",
            "Government expenditure on education, total (% of GDP)",
            "Government expenditure on education, total (% of GDP)",
            "Government expenditure on education, total (% of GDP)",
            "Government expenditure on education, total (% of GDP)",
            "Government expenditure on education, total (% of GDP)",
            "Government expenditure on education, total (% of GDP)"
           ],
           [
            "",
            30.77,
            2.73,
            "",
            16.99,
            38.87,
            "",
            1.84,
            2.98,
            "",
            "",
            4.32,
            5.79,
            2.13,
            ""
           ],
           [
            "",
            "",
            1.61,
            1.79,
            11.86,
            36.99,
            "",
            "",
            3.71,
            "",
            "",
            "",
            5.92,
            2.17,
            ""
           ],
           [
            "",
            "",
            2.34,
            1.99,
            13.44,
            "",
            "",
            "",
            3.15,
            5.79,
            "",
            "",
            "",
            2.02,
            ""
           ],
           [
            "",
            22.08,
            "",
            2.62,
            8.49,
            "",
            "",
            "",
            3.11,
            5.32,
            "",
            3.61,
            "",
            2.07,
            ""
           ],
           [
            "",
            20.1,
            1.77,
            3.98,
            "",
            "",
            "",
            1.77,
            3.17,
            4.66,
            "",
            3.35,
            6.61,
            1.94,
            ""
           ],
           [
            "",
            "",
            2.41,
            4.24,
            "",
            28.46,
            3.38,
            2.05,
            3.36,
            5.02,
            "",
            3.19,
            7.29,
            "",
            ""
           ],
           [
            "",
            "",
            2.5,
            4.58,
            "",
            23.65,
            3.59,
            2.4,
            3.61,
            4.65,
            "",
            3.14,
            "",
            2.13,
            4.68
           ],
           [
            "",
            "",
            3.56,
            5.21,
            0.92,
            "",
            "",
            2.64,
            3.52,
            4.42,
            "",
            "",
            "",
            2.2,
            4.17
           ],
           [
            "",
            "",
            5.27,
            6.1,
            0.39,
            16.72,
            8.54,
            2.75,
            3.81,
            4.47,
            "",
            "",
            4.91,
            2.05,
            4.38
           ],
           [
            "",
            "",
            2.56,
            8.29,
            1.32,
            11.69,
            8.2,
            2.59,
            4.66,
            5.08,
            2.06,
            3.28,
            4.74,
            1.94,
            4.81
           ],
           [
            "",
            "",
            6.14,
            6.79,
            0.86,
            9.55,
            5.03,
            2.29,
            3.63,
            3.63,
            1.66,
            3.38,
            4.12,
            "",
            3.48
           ],
           [
            "",
            2.18,
            4.64,
            7.04,
            1.32,
            9.21,
            "",
            2.22,
            3.84,
            3.08,
            1.74,
            3.8,
            4.77,
            2.13,
            3.46
           ],
           [
            "",
            1.8,
            6.2,
            7.41,
            1.23,
            8.1,
            "",
            2.14,
            3.53,
            4.97,
            1.45,
            4.09,
            "",
            2.05,
            2.6
           ],
           [
            "",
            "",
            6.61,
            0.29,
            0.43,
            9.73,
            "",
            2.49,
            3.2,
            3.95,
            1.56,
            3.84,
            5.72,
            1.97,
            3.45
           ],
           [
            "",
            1.7,
            4.64,
            6.35,
            "",
            "",
            "",
            2.47,
            3.49,
            3.89,
            1.86,
            3.9,
            6.04,
            2.1,
            3.7
           ],
           [
            "",
            1.6,
            2.84,
            3.86,
            "",
            11.38,
            "",
            2.65,
            3.29,
            4.64,
            2.11,
            4.11,
            6.24,
            1.87,
            3.26
           ],
           [
            "",
            1.15,
            3.89,
            3.2,
            4.11,
            11.79,
            "",
            2.42,
            3.48,
            4.47,
            3.23,
            4.26,
            6.34,
            2.22,
            4.54
           ],
           [
            "",
            2,
            4.29,
            0.19,
            6.03,
            11.71,
            2.58,
            2.14,
            3.53,
            3.87,
            2.59,
            4.31,
            6.7,
            1.85,
            4.34
           ],
           [
            "",
            "",
            3.42,
            0.01,
            6.38,
            9.44,
            0.47,
            2.33,
            3.66,
            3.93,
            1.99,
            4.38,
            6.07,
            1.66,
            ""
           ],
           [
            "",
            "",
            2.91,
            3.66,
            7.37,
            "",
            "",
            2.21,
            3.49,
            4.21,
            "",
            3.9,
            4.76,
            1.68,
            ""
           ],
           [
            "",
            "",
            2.09,
            2.69,
            4.06,
            5.49,
            "",
            2.06,
            4.21,
            5.8,
            1.55,
            4.29,
            5.98,
            1.76,
            ""
           ],
           [
            26.71,
            1.35,
            "",
            3.22,
            2.31,
            4.56,
            "",
            1.69,
            3.96,
            4.49,
            1.51,
            4.64,
            6.97,
            1.83,
            ""
           ],
           [
            "",
            1.01,
            "",
            "",
            0.15,
            5.52,
            "",
            "",
            3.65,
            4.58,
            1.2,
            "",
            8.14,
            1.97,
            ""
           ]
          ]
         },
         "header": {
          "align": "center",
          "fill": {
           "color": "lightskyblue"
          },
          "font": {
           "size": 10
          },
          "line": {
           "color": "darkslategray"
          },
          "values": [
           "<br>Country</br>",
           "<br>Series</br>",
           "<br>2000</br>",
           "<br>2001</br>",
           "<br>2002</br>",
           "<br>2003</br>",
           "<br>2004</br>",
           "<br>2005</br>",
           "<br>2006</br>",
           "<br>2007</br>",
           "<br>2008</br>",
           "<br>2009</br>",
           "<br>2010</br>",
           "<br>2011</br>",
           "<br>2012</br>",
           "<br>2013</br>",
           "<br>2014</br>",
           "<br>2015</br>",
           "<br>2016</br>",
           "<br>2017</br>",
           "<br>2018</br>",
           "<br>2019</br>",
           "<br>2020</br>",
           "<br>2021</br>",
           "<br>2022</br>"
          ]
         },
         "type": "table"
        }
       ],
       "layout": {
        "autosize": false,
        "height": 400,
        "margin": {
         "b": 10,
         "l": 10,
         "r": 10,
         "t": 10
        },
        "template": {
         "data": {
          "bar": [
           {
            "error_x": {
             "color": "#2a3f5f"
            },
            "error_y": {
             "color": "#2a3f5f"
            },
            "marker": {
             "line": {
              "color": "#E5ECF6",
              "width": 0.5
             },
             "pattern": {
              "fillmode": "overlay",
              "size": 10,
              "solidity": 0.2
             }
            },
            "type": "bar"
           }
          ],
          "barpolar": [
           {
            "marker": {
             "line": {
              "color": "#E5ECF6",
              "width": 0.5
             },
             "pattern": {
              "fillmode": "overlay",
              "size": 10,
              "solidity": 0.2
             }
            },
            "type": "barpolar"
           }
          ],
          "carpet": [
           {
            "aaxis": {
             "endlinecolor": "#2a3f5f",
             "gridcolor": "white",
             "linecolor": "white",
             "minorgridcolor": "white",
             "startlinecolor": "#2a3f5f"
            },
            "baxis": {
             "endlinecolor": "#2a3f5f",
             "gridcolor": "white",
             "linecolor": "white",
             "minorgridcolor": "white",
             "startlinecolor": "#2a3f5f"
            },
            "type": "carpet"
           }
          ],
          "choropleth": [
           {
            "colorbar": {
             "outlinewidth": 0,
             "ticks": ""
            },
            "type": "choropleth"
           }
          ],
          "contour": [
           {
            "colorbar": {
             "outlinewidth": 0,
             "ticks": ""
            },
            "colorscale": [
             [
              0,
              "#0d0887"
             ],
             [
              0.1111111111111111,
              "#46039f"
             ],
             [
              0.2222222222222222,
              "#7201a8"
             ],
             [
              0.3333333333333333,
              "#9c179e"
             ],
             [
              0.4444444444444444,
              "#bd3786"
             ],
             [
              0.5555555555555556,
              "#d8576b"
             ],
             [
              0.6666666666666666,
              "#ed7953"
             ],
             [
              0.7777777777777778,
              "#fb9f3a"
             ],
             [
              0.8888888888888888,
              "#fdca26"
             ],
             [
              1,
              "#f0f921"
             ]
            ],
            "type": "contour"
           }
          ],
          "contourcarpet": [
           {
            "colorbar": {
             "outlinewidth": 0,
             "ticks": ""
            },
            "type": "contourcarpet"
           }
          ],
          "heatmap": [
           {
            "colorbar": {
             "outlinewidth": 0,
             "ticks": ""
            },
            "colorscale": [
             [
              0,
              "#0d0887"
             ],
             [
              0.1111111111111111,
              "#46039f"
             ],
             [
              0.2222222222222222,
              "#7201a8"
             ],
             [
              0.3333333333333333,
              "#9c179e"
             ],
             [
              0.4444444444444444,
              "#bd3786"
             ],
             [
              0.5555555555555556,
              "#d8576b"
             ],
             [
              0.6666666666666666,
              "#ed7953"
             ],
             [
              0.7777777777777778,
              "#fb9f3a"
             ],
             [
              0.8888888888888888,
              "#fdca26"
             ],
             [
              1,
              "#f0f921"
             ]
            ],
            "type": "heatmap"
           }
          ],
          "heatmapgl": [
           {
            "colorbar": {
             "outlinewidth": 0,
             "ticks": ""
            },
            "colorscale": [
             [
              0,
              "#0d0887"
             ],
             [
              0.1111111111111111,
              "#46039f"
             ],
             [
              0.2222222222222222,
              "#7201a8"
             ],
             [
              0.3333333333333333,
              "#9c179e"
             ],
             [
              0.4444444444444444,
              "#bd3786"
             ],
             [
              0.5555555555555556,
              "#d8576b"
             ],
             [
              0.6666666666666666,
              "#ed7953"
             ],
             [
              0.7777777777777778,
              "#fb9f3a"
             ],
             [
              0.8888888888888888,
              "#fdca26"
             ],
             [
              1,
              "#f0f921"
             ]
            ],
            "type": "heatmapgl"
           }
          ],
          "histogram": [
           {
            "marker": {
             "pattern": {
              "fillmode": "overlay",
              "size": 10,
              "solidity": 0.2
             }
            },
            "type": "histogram"
           }
          ],
          "histogram2d": [
           {
            "colorbar": {
             "outlinewidth": 0,
             "ticks": ""
            },
            "colorscale": [
             [
              0,
              "#0d0887"
             ],
             [
              0.1111111111111111,
              "#46039f"
             ],
             [
              0.2222222222222222,
              "#7201a8"
             ],
             [
              0.3333333333333333,
              "#9c179e"
             ],
             [
              0.4444444444444444,
              "#bd3786"
             ],
             [
              0.5555555555555556,
              "#d8576b"
             ],
             [
              0.6666666666666666,
              "#ed7953"
             ],
             [
              0.7777777777777778,
              "#fb9f3a"
             ],
             [
              0.8888888888888888,
              "#fdca26"
             ],
             [
              1,
              "#f0f921"
             ]
            ],
            "type": "histogram2d"
           }
          ],
          "histogram2dcontour": [
           {
            "colorbar": {
             "outlinewidth": 0,
             "ticks": ""
            },
            "colorscale": [
             [
              0,
              "#0d0887"
             ],
             [
              0.1111111111111111,
              "#46039f"
             ],
             [
              0.2222222222222222,
              "#7201a8"
             ],
             [
              0.3333333333333333,
              "#9c179e"
             ],
             [
              0.4444444444444444,
              "#bd3786"
             ],
             [
              0.5555555555555556,
              "#d8576b"
             ],
             [
              0.6666666666666666,
              "#ed7953"
             ],
             [
              0.7777777777777778,
              "#fb9f3a"
             ],
             [
              0.8888888888888888,
              "#fdca26"
             ],
             [
              1,
              "#f0f921"
             ]
            ],
            "type": "histogram2dcontour"
           }
          ],
          "mesh3d": [
           {
            "colorbar": {
             "outlinewidth": 0,
             "ticks": ""
            },
            "type": "mesh3d"
           }
          ],
          "parcoords": [
           {
            "line": {
             "colorbar": {
              "outlinewidth": 0,
              "ticks": ""
             }
            },
            "type": "parcoords"
           }
          ],
          "pie": [
           {
            "automargin": true,
            "type": "pie"
           }
          ],
          "scatter": [
           {
            "fillpattern": {
             "fillmode": "overlay",
             "size": 10,
             "solidity": 0.2
            },
            "type": "scatter"
           }
          ],
          "scatter3d": [
           {
            "line": {
             "colorbar": {
              "outlinewidth": 0,
              "ticks": ""
             }
            },
            "marker": {
             "colorbar": {
              "outlinewidth": 0,
              "ticks": ""
             }
            },
            "type": "scatter3d"
           }
          ],
          "scattercarpet": [
           {
            "marker": {
             "colorbar": {
              "outlinewidth": 0,
              "ticks": ""
             }
            },
            "type": "scattercarpet"
           }
          ],
          "scattergeo": [
           {
            "marker": {
             "colorbar": {
              "outlinewidth": 0,
              "ticks": ""
             }
            },
            "type": "scattergeo"
           }
          ],
          "scattergl": [
           {
            "marker": {
             "colorbar": {
              "outlinewidth": 0,
              "ticks": ""
             }
            },
            "type": "scattergl"
           }
          ],
          "scattermapbox": [
           {
            "marker": {
             "colorbar": {
              "outlinewidth": 0,
              "ticks": ""
             }
            },
            "type": "scattermapbox"
           }
          ],
          "scatterpolar": [
           {
            "marker": {
             "colorbar": {
              "outlinewidth": 0,
              "ticks": ""
             }
            },
            "type": "scatterpolar"
           }
          ],
          "scatterpolargl": [
           {
            "marker": {
             "colorbar": {
              "outlinewidth": 0,
              "ticks": ""
             }
            },
            "type": "scatterpolargl"
           }
          ],
          "scatterternary": [
           {
            "marker": {
             "colorbar": {
              "outlinewidth": 0,
              "ticks": ""
             }
            },
            "type": "scatterternary"
           }
          ],
          "surface": [
           {
            "colorbar": {
             "outlinewidth": 0,
             "ticks": ""
            },
            "colorscale": [
             [
              0,
              "#0d0887"
             ],
             [
              0.1111111111111111,
              "#46039f"
             ],
             [
              0.2222222222222222,
              "#7201a8"
             ],
             [
              0.3333333333333333,
              "#9c179e"
             ],
             [
              0.4444444444444444,
              "#bd3786"
             ],
             [
              0.5555555555555556,
              "#d8576b"
             ],
             [
              0.6666666666666666,
              "#ed7953"
             ],
             [
              0.7777777777777778,
              "#fb9f3a"
             ],
             [
              0.8888888888888888,
              "#fdca26"
             ],
             [
              1,
              "#f0f921"
             ]
            ],
            "type": "surface"
           }
          ],
          "table": [
           {
            "cells": {
             "fill": {
              "color": "#EBF0F8"
             },
             "line": {
              "color": "white"
             }
            },
            "header": {
             "fill": {
              "color": "#C8D4E3"
             },
             "line": {
              "color": "white"
             }
            },
            "type": "table"
           }
          ]
         },
         "layout": {
          "annotationdefaults": {
           "arrowcolor": "#2a3f5f",
           "arrowhead": 0,
           "arrowwidth": 1
          },
          "autotypenumbers": "strict",
          "coloraxis": {
           "colorbar": {
            "outlinewidth": 0,
            "ticks": ""
           }
          },
          "colorscale": {
           "diverging": [
            [
             0,
             "#8e0152"
            ],
            [
             0.1,
             "#c51b7d"
            ],
            [
             0.2,
             "#de77ae"
            ],
            [
             0.3,
             "#f1b6da"
            ],
            [
             0.4,
             "#fde0ef"
            ],
            [
             0.5,
             "#f7f7f7"
            ],
            [
             0.6,
             "#e6f5d0"
            ],
            [
             0.7,
             "#b8e186"
            ],
            [
             0.8,
             "#7fbc41"
            ],
            [
             0.9,
             "#4d9221"
            ],
            [
             1,
             "#276419"
            ]
           ],
           "sequential": [
            [
             0,
             "#0d0887"
            ],
            [
             0.1111111111111111,
             "#46039f"
            ],
            [
             0.2222222222222222,
             "#7201a8"
            ],
            [
             0.3333333333333333,
             "#9c179e"
            ],
            [
             0.4444444444444444,
             "#bd3786"
            ],
            [
             0.5555555555555556,
             "#d8576b"
            ],
            [
             0.6666666666666666,
             "#ed7953"
            ],
            [
             0.7777777777777778,
             "#fb9f3a"
            ],
            [
             0.8888888888888888,
             "#fdca26"
            ],
            [
             1,
             "#f0f921"
            ]
           ],
           "sequentialminus": [
            [
             0,
             "#0d0887"
            ],
            [
             0.1111111111111111,
             "#46039f"
            ],
            [
             0.2222222222222222,
             "#7201a8"
            ],
            [
             0.3333333333333333,
             "#9c179e"
            ],
            [
             0.4444444444444444,
             "#bd3786"
            ],
            [
             0.5555555555555556,
             "#d8576b"
            ],
            [
             0.6666666666666666,
             "#ed7953"
            ],
            [
             0.7777777777777778,
             "#fb9f3a"
            ],
            [
             0.8888888888888888,
             "#fdca26"
            ],
            [
             1,
             "#f0f921"
            ]
           ]
          },
          "colorway": [
           "#636efa",
           "#EF553B",
           "#00cc96",
           "#ab63fa",
           "#FFA15A",
           "#19d3f3",
           "#FF6692",
           "#B6E880",
           "#FF97FF",
           "#FECB52"
          ],
          "font": {
           "color": "#2a3f5f"
          },
          "geo": {
           "bgcolor": "white",
           "lakecolor": "white",
           "landcolor": "#E5ECF6",
           "showlakes": true,
           "showland": true,
           "subunitcolor": "white"
          },
          "hoverlabel": {
           "align": "left"
          },
          "hovermode": "closest",
          "mapbox": {
           "style": "light"
          },
          "paper_bgcolor": "white",
          "plot_bgcolor": "#E5ECF6",
          "polar": {
           "angularaxis": {
            "gridcolor": "white",
            "linecolor": "white",
            "ticks": ""
           },
           "bgcolor": "#E5ECF6",
           "radialaxis": {
            "gridcolor": "white",
            "linecolor": "white",
            "ticks": ""
           }
          },
          "scene": {
           "xaxis": {
            "backgroundcolor": "#E5ECF6",
            "gridcolor": "white",
            "gridwidth": 2,
            "linecolor": "white",
            "showbackground": true,
            "ticks": "",
            "zerolinecolor": "white"
           },
           "yaxis": {
            "backgroundcolor": "#E5ECF6",
            "gridcolor": "white",
            "gridwidth": 2,
            "linecolor": "white",
            "showbackground": true,
            "ticks": "",
            "zerolinecolor": "white"
           },
           "zaxis": {
            "backgroundcolor": "#E5ECF6",
            "gridcolor": "white",
            "gridwidth": 2,
            "linecolor": "white",
            "showbackground": true,
            "ticks": "",
            "zerolinecolor": "white"
           }
          },
          "shapedefaults": {
           "line": {
            "color": "#2a3f5f"
           }
          },
          "ternary": {
           "aaxis": {
            "gridcolor": "white",
            "linecolor": "white",
            "ticks": ""
           },
           "baxis": {
            "gridcolor": "white",
            "linecolor": "white",
            "ticks": ""
           },
           "bgcolor": "#E5ECF6",
           "caxis": {
            "gridcolor": "white",
            "linecolor": "white",
            "ticks": ""
           }
          },
          "title": {
           "x": 0.05
          },
          "xaxis": {
           "automargin": true,
           "gridcolor": "white",
           "linecolor": "white",
           "ticks": "",
           "title": {
            "standoff": 15
           },
           "zerolinecolor": "white",
           "zerolinewidth": 2
          },
          "yaxis": {
           "automargin": true,
           "gridcolor": "white",
           "linecolor": "white",
           "ticks": "",
           "title": {
            "standoff": 15
           },
           "zerolinecolor": "white",
           "zerolinewidth": 2
          }
         }
        },
        "width": 600
       }
      },
      "text/html": [
       "<div>                            <div id=\"c6ca75f5-97f4-4167-9530-eae4a927857a\" class=\"plotly-graph-div\" style=\"height:400px; width:600px;\"></div>            <script type=\"text/javascript\">                require([\"plotly\"], function(Plotly) {                    window.PLOTLYENV=window.PLOTLYENV || {};                                    if (document.getElementById(\"c6ca75f5-97f4-4167-9530-eae4a927857a\")) {                    Plotly.newPlot(                        \"c6ca75f5-97f4-4167-9530-eae4a927857a\",                        [{\"cells\":{\"align\":\"center\",\"line\":{\"color\":\"darkslategray\"},\"values\":[[\"Pakistan\",\"Nepal\",\"Maldives\",\"Sri Lanka\",\"India\",\"Bhutan\",\"Bangladesh\",\"Pakistan\",\"Nepal\",\"Maldives\",\"Sri Lanka\",\"India\",\"Bhutan\",\"Bangladesh\",\"Afghanistan\"],[\"Children out of school (% of primary school age)\",\"Children out of school (% of primary school age)\",\"Children out of school (% of primary school age)\",\"Children out of school (% of primary school age)\",\"Children out of school (% of primary school age)\",\"Children out of school (% of primary school age)\",\"Children out of school (% of primary school age)\",\"Government expenditure on education, total (% of GDP)\",\"Government expenditure on education, total (% of GDP)\",\"Government expenditure on education, total (% of GDP)\",\"Government expenditure on education, total (% of GDP)\",\"Government expenditure on education, total (% of GDP)\",\"Government expenditure on education, total (% of GDP)\",\"Government expenditure on education, total (% of GDP)\",\"Government expenditure on education, total (% of GDP)\"],[\"\",30.77,2.73,\"\",16.99,38.87,\"\",1.84,2.98,\"\",\"\",4.32,5.79,2.13,\"\"],[\"\",\"\",1.61,1.79,11.86,36.99,\"\",\"\",3.71,\"\",\"\",\"\",5.92,2.17,\"\"],[\"\",\"\",2.34,1.99,13.44,\"\",\"\",\"\",3.15,5.79,\"\",\"\",\"\",2.02,\"\"],[\"\",22.08,\"\",2.62,8.49,\"\",\"\",\"\",3.11,5.32,\"\",3.61,\"\",2.07,\"\"],[\"\",20.1,1.77,3.98,\"\",\"\",\"\",1.77,3.17,4.66,\"\",3.35,6.61,1.94,\"\"],[\"\",\"\",2.41,4.24,\"\",28.46,3.38,2.05,3.36,5.02,\"\",3.19,7.29,\"\",\"\"],[\"\",\"\",2.5,4.58,\"\",23.65,3.59,2.4,3.61,4.65,\"\",3.14,\"\",2.13,4.68],[\"\",\"\",3.56,5.21,0.92,\"\",\"\",2.64,3.52,4.42,\"\",\"\",\"\",2.2,4.17],[\"\",\"\",5.27,6.1,0.39,16.72,8.54,2.75,3.81,4.47,\"\",\"\",4.91,2.05,4.38],[\"\",\"\",2.56,8.29,1.32,11.69,8.2,2.59,4.66,5.08,2.06,3.28,4.74,1.94,4.81],[\"\",\"\",6.14,6.79,0.86,9.55,5.03,2.29,3.63,3.63,1.66,3.38,4.12,\"\",3.48],[\"\",2.18,4.64,7.04,1.32,9.21,\"\",2.22,3.84,3.08,1.74,3.8,4.77,2.13,3.46],[\"\",1.8,6.2,7.41,1.23,8.1,\"\",2.14,3.53,4.97,1.45,4.09,\"\",2.05,2.6],[\"\",\"\",6.61,0.29,0.43,9.73,\"\",2.49,3.2,3.95,1.56,3.84,5.72,1.97,3.45],[\"\",1.7,4.64,6.35,\"\",\"\",\"\",2.47,3.49,3.89,1.86,3.9,6.04,2.1,3.7],[\"\",1.6,2.84,3.86,\"\",11.38,\"\",2.65,3.29,4.64,2.11,4.11,6.24,1.87,3.26],[\"\",1.15,3.89,3.2,4.11,11.79,\"\",2.42,3.48,4.47,3.23,4.26,6.34,2.22,4.54],[\"\",2.0,4.29,0.19,6.03,11.71,2.58,2.14,3.53,3.87,2.59,4.31,6.7,1.85,4.34],[\"\",\"\",3.42,0.01,6.38,9.44,0.47,2.33,3.66,3.93,1.99,4.38,6.07,1.66,\"\"],[\"\",\"\",2.91,3.66,7.37,\"\",\"\",2.21,3.49,4.21,\"\",3.9,4.76,1.68,\"\"],[\"\",\"\",2.09,2.69,4.06,5.49,\"\",2.06,4.21,5.8,1.55,4.29,5.98,1.76,\"\"],[26.71,1.35,\"\",3.22,2.31,4.56,\"\",1.69,3.96,4.49,1.51,4.64,6.97,1.83,\"\"],[\"\",1.01,\"\",\"\",0.15,5.52,\"\",\"\",3.65,4.58,1.2,\"\",8.14,1.97,\"\"]]},\"header\":{\"align\":\"center\",\"fill\":{\"color\":\"lightskyblue\"},\"font\":{\"size\":10},\"line\":{\"color\":\"darkslategray\"},\"values\":[\"<br>Country</br>\",\"<br>Series</br>\",\"<br>2000</br>\",\"<br>2001</br>\",\"<br>2002</br>\",\"<br>2003</br>\",\"<br>2004</br>\",\"<br>2005</br>\",\"<br>2006</br>\",\"<br>2007</br>\",\"<br>2008</br>\",\"<br>2009</br>\",\"<br>2010</br>\",\"<br>2011</br>\",\"<br>2012</br>\",\"<br>2013</br>\",\"<br>2014</br>\",\"<br>2015</br>\",\"<br>2016</br>\",\"<br>2017</br>\",\"<br>2018</br>\",\"<br>2019</br>\",\"<br>2020</br>\",\"<br>2021</br>\",\"<br>2022</br>\"]},\"type\":\"table\"}],                        {\"template\":{\"data\":{\"histogram2dcontour\":[{\"type\":\"histogram2dcontour\",\"colorbar\":{\"outlinewidth\":0,\"ticks\":\"\"},\"colorscale\":[[0.0,\"#0d0887\"],[0.1111111111111111,\"#46039f\"],[0.2222222222222222,\"#7201a8\"],[0.3333333333333333,\"#9c179e\"],[0.4444444444444444,\"#bd3786\"],[0.5555555555555556,\"#d8576b\"],[0.6666666666666666,\"#ed7953\"],[0.7777777777777778,\"#fb9f3a\"],[0.8888888888888888,\"#fdca26\"],[1.0,\"#f0f921\"]]}],\"choropleth\":[{\"type\":\"choropleth\",\"colorbar\":{\"outlinewidth\":0,\"ticks\":\"\"}}],\"histogram2d\":[{\"type\":\"histogram2d\",\"colorbar\":{\"outlinewidth\":0,\"ticks\":\"\"},\"colorscale\":[[0.0,\"#0d0887\"],[0.1111111111111111,\"#46039f\"],[0.2222222222222222,\"#7201a8\"],[0.3333333333333333,\"#9c179e\"],[0.4444444444444444,\"#bd3786\"],[0.5555555555555556,\"#d8576b\"],[0.6666666666666666,\"#ed7953\"],[0.7777777777777778,\"#fb9f3a\"],[0.8888888888888888,\"#fdca26\"],[1.0,\"#f0f921\"]]}],\"heatmap\":[{\"type\":\"heatmap\",\"colorbar\":{\"outlinewidth\":0,\"ticks\":\"\"},\"colorscale\":[[0.0,\"#0d0887\"],[0.1111111111111111,\"#46039f\"],[0.2222222222222222,\"#7201a8\"],[0.3333333333333333,\"#9c179e\"],[0.4444444444444444,\"#bd3786\"],[0.5555555555555556,\"#d8576b\"],[0.6666666666666666,\"#ed7953\"],[0.7777777777777778,\"#fb9f3a\"],[0.8888888888888888,\"#fdca26\"],[1.0,\"#f0f921\"]]}],\"heatmapgl\":[{\"type\":\"heatmapgl\",\"colorbar\":{\"outlinewidth\":0,\"ticks\":\"\"},\"colorscale\":[[0.0,\"#0d0887\"],[0.1111111111111111,\"#46039f\"],[0.2222222222222222,\"#7201a8\"],[0.3333333333333333,\"#9c179e\"],[0.4444444444444444,\"#bd3786\"],[0.5555555555555556,\"#d8576b\"],[0.6666666666666666,\"#ed7953\"],[0.7777777777777778,\"#fb9f3a\"],[0.8888888888888888,\"#fdca26\"],[1.0,\"#f0f921\"]]}],\"contourcarpet\":[{\"type\":\"contourcarpet\",\"colorbar\":{\"outlinewidth\":0,\"ticks\":\"\"}}],\"contour\":[{\"type\":\"contour\",\"colorbar\":{\"outlinewidth\":0,\"ticks\":\"\"},\"colorscale\":[[0.0,\"#0d0887\"],[0.1111111111111111,\"#46039f\"],[0.2222222222222222,\"#7201a8\"],[0.3333333333333333,\"#9c179e\"],[0.4444444444444444,\"#bd3786\"],[0.5555555555555556,\"#d8576b\"],[0.6666666666666666,\"#ed7953\"],[0.7777777777777778,\"#fb9f3a\"],[0.8888888888888888,\"#fdca26\"],[1.0,\"#f0f921\"]]}],\"surface\":[{\"type\":\"surface\",\"colorbar\":{\"outlinewidth\":0,\"ticks\":\"\"},\"colorscale\":[[0.0,\"#0d0887\"],[0.1111111111111111,\"#46039f\"],[0.2222222222222222,\"#7201a8\"],[0.3333333333333333,\"#9c179e\"],[0.4444444444444444,\"#bd3786\"],[0.5555555555555556,\"#d8576b\"],[0.6666666666666666,\"#ed7953\"],[0.7777777777777778,\"#fb9f3a\"],[0.8888888888888888,\"#fdca26\"],[1.0,\"#f0f921\"]]}],\"mesh3d\":[{\"type\":\"mesh3d\",\"colorbar\":{\"outlinewidth\":0,\"ticks\":\"\"}}],\"scatter\":[{\"fillpattern\":{\"fillmode\":\"overlay\",\"size\":10,\"solidity\":0.2},\"type\":\"scatter\"}],\"parcoords\":[{\"type\":\"parcoords\",\"line\":{\"colorbar\":{\"outlinewidth\":0,\"ticks\":\"\"}}}],\"scatterpolargl\":[{\"type\":\"scatterpolargl\",\"marker\":{\"colorbar\":{\"outlinewidth\":0,\"ticks\":\"\"}}}],\"bar\":[{\"error_x\":{\"color\":\"#2a3f5f\"},\"error_y\":{\"color\":\"#2a3f5f\"},\"marker\":{\"line\":{\"color\":\"#E5ECF6\",\"width\":0.5},\"pattern\":{\"fillmode\":\"overlay\",\"size\":10,\"solidity\":0.2}},\"type\":\"bar\"}],\"scattergeo\":[{\"type\":\"scattergeo\",\"marker\":{\"colorbar\":{\"outlinewidth\":0,\"ticks\":\"\"}}}],\"scatterpolar\":[{\"type\":\"scatterpolar\",\"marker\":{\"colorbar\":{\"outlinewidth\":0,\"ticks\":\"\"}}}],\"histogram\":[{\"marker\":{\"pattern\":{\"fillmode\":\"overlay\",\"size\":10,\"solidity\":0.2}},\"type\":\"histogram\"}],\"scattergl\":[{\"type\":\"scattergl\",\"marker\":{\"colorbar\":{\"outlinewidth\":0,\"ticks\":\"\"}}}],\"scatter3d\":[{\"type\":\"scatter3d\",\"line\":{\"colorbar\":{\"outlinewidth\":0,\"ticks\":\"\"}},\"marker\":{\"colorbar\":{\"outlinewidth\":0,\"ticks\":\"\"}}}],\"scattermapbox\":[{\"type\":\"scattermapbox\",\"marker\":{\"colorbar\":{\"outlinewidth\":0,\"ticks\":\"\"}}}],\"scatterternary\":[{\"type\":\"scatterternary\",\"marker\":{\"colorbar\":{\"outlinewidth\":0,\"ticks\":\"\"}}}],\"scattercarpet\":[{\"type\":\"scattercarpet\",\"marker\":{\"colorbar\":{\"outlinewidth\":0,\"ticks\":\"\"}}}],\"carpet\":[{\"aaxis\":{\"endlinecolor\":\"#2a3f5f\",\"gridcolor\":\"white\",\"linecolor\":\"white\",\"minorgridcolor\":\"white\",\"startlinecolor\":\"#2a3f5f\"},\"baxis\":{\"endlinecolor\":\"#2a3f5f\",\"gridcolor\":\"white\",\"linecolor\":\"white\",\"minorgridcolor\":\"white\",\"startlinecolor\":\"#2a3f5f\"},\"type\":\"carpet\"}],\"table\":[{\"cells\":{\"fill\":{\"color\":\"#EBF0F8\"},\"line\":{\"color\":\"white\"}},\"header\":{\"fill\":{\"color\":\"#C8D4E3\"},\"line\":{\"color\":\"white\"}},\"type\":\"table\"}],\"barpolar\":[{\"marker\":{\"line\":{\"color\":\"#E5ECF6\",\"width\":0.5},\"pattern\":{\"fillmode\":\"overlay\",\"size\":10,\"solidity\":0.2}},\"type\":\"barpolar\"}],\"pie\":[{\"automargin\":true,\"type\":\"pie\"}]},\"layout\":{\"autotypenumbers\":\"strict\",\"colorway\":[\"#636efa\",\"#EF553B\",\"#00cc96\",\"#ab63fa\",\"#FFA15A\",\"#19d3f3\",\"#FF6692\",\"#B6E880\",\"#FF97FF\",\"#FECB52\"],\"font\":{\"color\":\"#2a3f5f\"},\"hovermode\":\"closest\",\"hoverlabel\":{\"align\":\"left\"},\"paper_bgcolor\":\"white\",\"plot_bgcolor\":\"#E5ECF6\",\"polar\":{\"bgcolor\":\"#E5ECF6\",\"angularaxis\":{\"gridcolor\":\"white\",\"linecolor\":\"white\",\"ticks\":\"\"},\"radialaxis\":{\"gridcolor\":\"white\",\"linecolor\":\"white\",\"ticks\":\"\"}},\"ternary\":{\"bgcolor\":\"#E5ECF6\",\"aaxis\":{\"gridcolor\":\"white\",\"linecolor\":\"white\",\"ticks\":\"\"},\"baxis\":{\"gridcolor\":\"white\",\"linecolor\":\"white\",\"ticks\":\"\"},\"caxis\":{\"gridcolor\":\"white\",\"linecolor\":\"white\",\"ticks\":\"\"}},\"coloraxis\":{\"colorbar\":{\"outlinewidth\":0,\"ticks\":\"\"}},\"colorscale\":{\"sequential\":[[0.0,\"#0d0887\"],[0.1111111111111111,\"#46039f\"],[0.2222222222222222,\"#7201a8\"],[0.3333333333333333,\"#9c179e\"],[0.4444444444444444,\"#bd3786\"],[0.5555555555555556,\"#d8576b\"],[0.6666666666666666,\"#ed7953\"],[0.7777777777777778,\"#fb9f3a\"],[0.8888888888888888,\"#fdca26\"],[1.0,\"#f0f921\"]],\"sequentialminus\":[[0.0,\"#0d0887\"],[0.1111111111111111,\"#46039f\"],[0.2222222222222222,\"#7201a8\"],[0.3333333333333333,\"#9c179e\"],[0.4444444444444444,\"#bd3786\"],[0.5555555555555556,\"#d8576b\"],[0.6666666666666666,\"#ed7953\"],[0.7777777777777778,\"#fb9f3a\"],[0.8888888888888888,\"#fdca26\"],[1.0,\"#f0f921\"]],\"diverging\":[[0,\"#8e0152\"],[0.1,\"#c51b7d\"],[0.2,\"#de77ae\"],[0.3,\"#f1b6da\"],[0.4,\"#fde0ef\"],[0.5,\"#f7f7f7\"],[0.6,\"#e6f5d0\"],[0.7,\"#b8e186\"],[0.8,\"#7fbc41\"],[0.9,\"#4d9221\"],[1,\"#276419\"]]},\"xaxis\":{\"gridcolor\":\"white\",\"linecolor\":\"white\",\"ticks\":\"\",\"title\":{\"standoff\":15},\"zerolinecolor\":\"white\",\"automargin\":true,\"zerolinewidth\":2},\"yaxis\":{\"gridcolor\":\"white\",\"linecolor\":\"white\",\"ticks\":\"\",\"title\":{\"standoff\":15},\"zerolinecolor\":\"white\",\"automargin\":true,\"zerolinewidth\":2},\"scene\":{\"xaxis\":{\"backgroundcolor\":\"#E5ECF6\",\"gridcolor\":\"white\",\"linecolor\":\"white\",\"showbackground\":true,\"ticks\":\"\",\"zerolinecolor\":\"white\",\"gridwidth\":2},\"yaxis\":{\"backgroundcolor\":\"#E5ECF6\",\"gridcolor\":\"white\",\"linecolor\":\"white\",\"showbackground\":true,\"ticks\":\"\",\"zerolinecolor\":\"white\",\"gridwidth\":2},\"zaxis\":{\"backgroundcolor\":\"#E5ECF6\",\"gridcolor\":\"white\",\"linecolor\":\"white\",\"showbackground\":true,\"ticks\":\"\",\"zerolinecolor\":\"white\",\"gridwidth\":2}},\"shapedefaults\":{\"line\":{\"color\":\"#2a3f5f\"}},\"annotationdefaults\":{\"arrowcolor\":\"#2a3f5f\",\"arrowhead\":0,\"arrowwidth\":1},\"geo\":{\"bgcolor\":\"white\",\"landcolor\":\"#E5ECF6\",\"subunitcolor\":\"white\",\"showland\":true,\"showlakes\":true,\"lakecolor\":\"white\"},\"title\":{\"x\":0.05},\"mapbox\":{\"style\":\"light\"}}},\"margin\":{\"l\":10,\"r\":10,\"b\":10,\"t\":10},\"autosize\":false,\"width\":600,\"height\":400},                        {\"responsive\": true}                    ).then(function(){\n",
       "                            \n",
       "var gd = document.getElementById('c6ca75f5-97f4-4167-9530-eae4a927857a');\n",
       "var x = new MutationObserver(function (mutations, observer) {{\n",
       "        var display = window.getComputedStyle(gd).display;\n",
       "        if (!display || display === 'none') {{\n",
       "            console.log([gd, 'removed!']);\n",
       "            Plotly.purge(gd);\n",
       "            observer.disconnect();\n",
       "        }}\n",
       "}});\n",
       "\n",
       "// Listen for the removal of the full notebook cells\n",
       "var notebookContainer = gd.closest('#notebook-container');\n",
       "if (notebookContainer) {{\n",
       "    x.observe(notebookContainer, {childList: true});\n",
       "}}\n",
       "\n",
       "// Listen for the clearing of the current output cell\n",
       "var outputEl = gd.closest('.output');\n",
       "if (outputEl) {{\n",
       "    x.observe(outputEl, {childList: true});\n",
       "}}\n",
       "\n",
       "                        })                };                });            </script>        </div>"
      ]
     },
     "metadata": {},
     "output_type": "display_data"
    }
   ],
   "source": [
    "# fig.update_layout(width=500, height=300)\n",
    "fig.show()"
   ]
  },
  {
   "cell_type": "code",
   "execution_count": null,
   "id": "bf38bf5b",
   "metadata": {},
   "outputs": [],
   "source": []
  },
  {
   "cell_type": "code",
   "execution_count": 18,
   "id": "458c5f83",
   "metadata": {},
   "outputs": [],
   "source": [
    "fig = make_subplots(\n",
    "    rows=2, cols=1,\n",
    "    shared_xaxes=True,\n",
    "    vertical_spacing=0.03,\n",
    "    specs=[[{\"type\": \"table\"}],\n",
    "           [{\"type\": \"scatter\"}]]\n",
    ")"
   ]
  },
  {
   "cell_type": "code",
   "execution_count": 19,
   "id": "8c09c9b1",
   "metadata": {},
   "outputs": [
    {
     "data": {
      "application/vnd.plotly.v1+json": {
       "config": {
        "plotlyServerURL": "https://plot.ly"
       },
       "data": [],
       "layout": {
        "height": 800,
        "showlegend": false,
        "template": {
         "data": {
          "bar": [
           {
            "error_x": {
             "color": "#2a3f5f"
            },
            "error_y": {
             "color": "#2a3f5f"
            },
            "marker": {
             "line": {
              "color": "#E5ECF6",
              "width": 0.5
             },
             "pattern": {
              "fillmode": "overlay",
              "size": 10,
              "solidity": 0.2
             }
            },
            "type": "bar"
           }
          ],
          "barpolar": [
           {
            "marker": {
             "line": {
              "color": "#E5ECF6",
              "width": 0.5
             },
             "pattern": {
              "fillmode": "overlay",
              "size": 10,
              "solidity": 0.2
             }
            },
            "type": "barpolar"
           }
          ],
          "carpet": [
           {
            "aaxis": {
             "endlinecolor": "#2a3f5f",
             "gridcolor": "white",
             "linecolor": "white",
             "minorgridcolor": "white",
             "startlinecolor": "#2a3f5f"
            },
            "baxis": {
             "endlinecolor": "#2a3f5f",
             "gridcolor": "white",
             "linecolor": "white",
             "minorgridcolor": "white",
             "startlinecolor": "#2a3f5f"
            },
            "type": "carpet"
           }
          ],
          "choropleth": [
           {
            "colorbar": {
             "outlinewidth": 0,
             "ticks": ""
            },
            "type": "choropleth"
           }
          ],
          "contour": [
           {
            "colorbar": {
             "outlinewidth": 0,
             "ticks": ""
            },
            "colorscale": [
             [
              0,
              "#0d0887"
             ],
             [
              0.1111111111111111,
              "#46039f"
             ],
             [
              0.2222222222222222,
              "#7201a8"
             ],
             [
              0.3333333333333333,
              "#9c179e"
             ],
             [
              0.4444444444444444,
              "#bd3786"
             ],
             [
              0.5555555555555556,
              "#d8576b"
             ],
             [
              0.6666666666666666,
              "#ed7953"
             ],
             [
              0.7777777777777778,
              "#fb9f3a"
             ],
             [
              0.8888888888888888,
              "#fdca26"
             ],
             [
              1,
              "#f0f921"
             ]
            ],
            "type": "contour"
           }
          ],
          "contourcarpet": [
           {
            "colorbar": {
             "outlinewidth": 0,
             "ticks": ""
            },
            "type": "contourcarpet"
           }
          ],
          "heatmap": [
           {
            "colorbar": {
             "outlinewidth": 0,
             "ticks": ""
            },
            "colorscale": [
             [
              0,
              "#0d0887"
             ],
             [
              0.1111111111111111,
              "#46039f"
             ],
             [
              0.2222222222222222,
              "#7201a8"
             ],
             [
              0.3333333333333333,
              "#9c179e"
             ],
             [
              0.4444444444444444,
              "#bd3786"
             ],
             [
              0.5555555555555556,
              "#d8576b"
             ],
             [
              0.6666666666666666,
              "#ed7953"
             ],
             [
              0.7777777777777778,
              "#fb9f3a"
             ],
             [
              0.8888888888888888,
              "#fdca26"
             ],
             [
              1,
              "#f0f921"
             ]
            ],
            "type": "heatmap"
           }
          ],
          "heatmapgl": [
           {
            "colorbar": {
             "outlinewidth": 0,
             "ticks": ""
            },
            "colorscale": [
             [
              0,
              "#0d0887"
             ],
             [
              0.1111111111111111,
              "#46039f"
             ],
             [
              0.2222222222222222,
              "#7201a8"
             ],
             [
              0.3333333333333333,
              "#9c179e"
             ],
             [
              0.4444444444444444,
              "#bd3786"
             ],
             [
              0.5555555555555556,
              "#d8576b"
             ],
             [
              0.6666666666666666,
              "#ed7953"
             ],
             [
              0.7777777777777778,
              "#fb9f3a"
             ],
             [
              0.8888888888888888,
              "#fdca26"
             ],
             [
              1,
              "#f0f921"
             ]
            ],
            "type": "heatmapgl"
           }
          ],
          "histogram": [
           {
            "marker": {
             "pattern": {
              "fillmode": "overlay",
              "size": 10,
              "solidity": 0.2
             }
            },
            "type": "histogram"
           }
          ],
          "histogram2d": [
           {
            "colorbar": {
             "outlinewidth": 0,
             "ticks": ""
            },
            "colorscale": [
             [
              0,
              "#0d0887"
             ],
             [
              0.1111111111111111,
              "#46039f"
             ],
             [
              0.2222222222222222,
              "#7201a8"
             ],
             [
              0.3333333333333333,
              "#9c179e"
             ],
             [
              0.4444444444444444,
              "#bd3786"
             ],
             [
              0.5555555555555556,
              "#d8576b"
             ],
             [
              0.6666666666666666,
              "#ed7953"
             ],
             [
              0.7777777777777778,
              "#fb9f3a"
             ],
             [
              0.8888888888888888,
              "#fdca26"
             ],
             [
              1,
              "#f0f921"
             ]
            ],
            "type": "histogram2d"
           }
          ],
          "histogram2dcontour": [
           {
            "colorbar": {
             "outlinewidth": 0,
             "ticks": ""
            },
            "colorscale": [
             [
              0,
              "#0d0887"
             ],
             [
              0.1111111111111111,
              "#46039f"
             ],
             [
              0.2222222222222222,
              "#7201a8"
             ],
             [
              0.3333333333333333,
              "#9c179e"
             ],
             [
              0.4444444444444444,
              "#bd3786"
             ],
             [
              0.5555555555555556,
              "#d8576b"
             ],
             [
              0.6666666666666666,
              "#ed7953"
             ],
             [
              0.7777777777777778,
              "#fb9f3a"
             ],
             [
              0.8888888888888888,
              "#fdca26"
             ],
             [
              1,
              "#f0f921"
             ]
            ],
            "type": "histogram2dcontour"
           }
          ],
          "mesh3d": [
           {
            "colorbar": {
             "outlinewidth": 0,
             "ticks": ""
            },
            "type": "mesh3d"
           }
          ],
          "parcoords": [
           {
            "line": {
             "colorbar": {
              "outlinewidth": 0,
              "ticks": ""
             }
            },
            "type": "parcoords"
           }
          ],
          "pie": [
           {
            "automargin": true,
            "type": "pie"
           }
          ],
          "scatter": [
           {
            "fillpattern": {
             "fillmode": "overlay",
             "size": 10,
             "solidity": 0.2
            },
            "type": "scatter"
           }
          ],
          "scatter3d": [
           {
            "line": {
             "colorbar": {
              "outlinewidth": 0,
              "ticks": ""
             }
            },
            "marker": {
             "colorbar": {
              "outlinewidth": 0,
              "ticks": ""
             }
            },
            "type": "scatter3d"
           }
          ],
          "scattercarpet": [
           {
            "marker": {
             "colorbar": {
              "outlinewidth": 0,
              "ticks": ""
             }
            },
            "type": "scattercarpet"
           }
          ],
          "scattergeo": [
           {
            "marker": {
             "colorbar": {
              "outlinewidth": 0,
              "ticks": ""
             }
            },
            "type": "scattergeo"
           }
          ],
          "scattergl": [
           {
            "marker": {
             "colorbar": {
              "outlinewidth": 0,
              "ticks": ""
             }
            },
            "type": "scattergl"
           }
          ],
          "scattermapbox": [
           {
            "marker": {
             "colorbar": {
              "outlinewidth": 0,
              "ticks": ""
             }
            },
            "type": "scattermapbox"
           }
          ],
          "scatterpolar": [
           {
            "marker": {
             "colorbar": {
              "outlinewidth": 0,
              "ticks": ""
             }
            },
            "type": "scatterpolar"
           }
          ],
          "scatterpolargl": [
           {
            "marker": {
             "colorbar": {
              "outlinewidth": 0,
              "ticks": ""
             }
            },
            "type": "scatterpolargl"
           }
          ],
          "scatterternary": [
           {
            "marker": {
             "colorbar": {
              "outlinewidth": 0,
              "ticks": ""
             }
            },
            "type": "scatterternary"
           }
          ],
          "surface": [
           {
            "colorbar": {
             "outlinewidth": 0,
             "ticks": ""
            },
            "colorscale": [
             [
              0,
              "#0d0887"
             ],
             [
              0.1111111111111111,
              "#46039f"
             ],
             [
              0.2222222222222222,
              "#7201a8"
             ],
             [
              0.3333333333333333,
              "#9c179e"
             ],
             [
              0.4444444444444444,
              "#bd3786"
             ],
             [
              0.5555555555555556,
              "#d8576b"
             ],
             [
              0.6666666666666666,
              "#ed7953"
             ],
             [
              0.7777777777777778,
              "#fb9f3a"
             ],
             [
              0.8888888888888888,
              "#fdca26"
             ],
             [
              1,
              "#f0f921"
             ]
            ],
            "type": "surface"
           }
          ],
          "table": [
           {
            "cells": {
             "fill": {
              "color": "#EBF0F8"
             },
             "line": {
              "color": "white"
             }
            },
            "header": {
             "fill": {
              "color": "#C8D4E3"
             },
             "line": {
              "color": "white"
             }
            },
            "type": "table"
           }
          ]
         },
         "layout": {
          "annotationdefaults": {
           "arrowcolor": "#2a3f5f",
           "arrowhead": 0,
           "arrowwidth": 1
          },
          "autotypenumbers": "strict",
          "coloraxis": {
           "colorbar": {
            "outlinewidth": 0,
            "ticks": ""
           }
          },
          "colorscale": {
           "diverging": [
            [
             0,
             "#8e0152"
            ],
            [
             0.1,
             "#c51b7d"
            ],
            [
             0.2,
             "#de77ae"
            ],
            [
             0.3,
             "#f1b6da"
            ],
            [
             0.4,
             "#fde0ef"
            ],
            [
             0.5,
             "#f7f7f7"
            ],
            [
             0.6,
             "#e6f5d0"
            ],
            [
             0.7,
             "#b8e186"
            ],
            [
             0.8,
             "#7fbc41"
            ],
            [
             0.9,
             "#4d9221"
            ],
            [
             1,
             "#276419"
            ]
           ],
           "sequential": [
            [
             0,
             "#0d0887"
            ],
            [
             0.1111111111111111,
             "#46039f"
            ],
            [
             0.2222222222222222,
             "#7201a8"
            ],
            [
             0.3333333333333333,
             "#9c179e"
            ],
            [
             0.4444444444444444,
             "#bd3786"
            ],
            [
             0.5555555555555556,
             "#d8576b"
            ],
            [
             0.6666666666666666,
             "#ed7953"
            ],
            [
             0.7777777777777778,
             "#fb9f3a"
            ],
            [
             0.8888888888888888,
             "#fdca26"
            ],
            [
             1,
             "#f0f921"
            ]
           ],
           "sequentialminus": [
            [
             0,
             "#0d0887"
            ],
            [
             0.1111111111111111,
             "#46039f"
            ],
            [
             0.2222222222222222,
             "#7201a8"
            ],
            [
             0.3333333333333333,
             "#9c179e"
            ],
            [
             0.4444444444444444,
             "#bd3786"
            ],
            [
             0.5555555555555556,
             "#d8576b"
            ],
            [
             0.6666666666666666,
             "#ed7953"
            ],
            [
             0.7777777777777778,
             "#fb9f3a"
            ],
            [
             0.8888888888888888,
             "#fdca26"
            ],
            [
             1,
             "#f0f921"
            ]
           ]
          },
          "colorway": [
           "#636efa",
           "#EF553B",
           "#00cc96",
           "#ab63fa",
           "#FFA15A",
           "#19d3f3",
           "#FF6692",
           "#B6E880",
           "#FF97FF",
           "#FECB52"
          ],
          "font": {
           "color": "#2a3f5f"
          },
          "geo": {
           "bgcolor": "white",
           "lakecolor": "white",
           "landcolor": "#E5ECF6",
           "showlakes": true,
           "showland": true,
           "subunitcolor": "white"
          },
          "hoverlabel": {
           "align": "left"
          },
          "hovermode": "closest",
          "mapbox": {
           "style": "light"
          },
          "paper_bgcolor": "white",
          "plot_bgcolor": "#E5ECF6",
          "polar": {
           "angularaxis": {
            "gridcolor": "white",
            "linecolor": "white",
            "ticks": ""
           },
           "bgcolor": "#E5ECF6",
           "radialaxis": {
            "gridcolor": "white",
            "linecolor": "white",
            "ticks": ""
           }
          },
          "scene": {
           "xaxis": {
            "backgroundcolor": "#E5ECF6",
            "gridcolor": "white",
            "gridwidth": 2,
            "linecolor": "white",
            "showbackground": true,
            "ticks": "",
            "zerolinecolor": "white"
           },
           "yaxis": {
            "backgroundcolor": "#E5ECF6",
            "gridcolor": "white",
            "gridwidth": 2,
            "linecolor": "white",
            "showbackground": true,
            "ticks": "",
            "zerolinecolor": "white"
           },
           "zaxis": {
            "backgroundcolor": "#E5ECF6",
            "gridcolor": "white",
            "gridwidth": 2,
            "linecolor": "white",
            "showbackground": true,
            "ticks": "",
            "zerolinecolor": "white"
           }
          },
          "shapedefaults": {
           "line": {
            "color": "#2a3f5f"
           }
          },
          "ternary": {
           "aaxis": {
            "gridcolor": "white",
            "linecolor": "white",
            "ticks": ""
           },
           "baxis": {
            "gridcolor": "white",
            "linecolor": "white",
            "ticks": ""
           },
           "bgcolor": "#E5ECF6",
           "caxis": {
            "gridcolor": "white",
            "linecolor": "white",
            "ticks": ""
           }
          },
          "title": {
           "x": 0.05
          },
          "xaxis": {
           "automargin": true,
           "gridcolor": "white",
           "linecolor": "white",
           "ticks": "",
           "title": {
            "standoff": 15
           },
           "zerolinecolor": "white",
           "zerolinewidth": 2
          },
          "yaxis": {
           "automargin": true,
           "gridcolor": "white",
           "linecolor": "white",
           "ticks": "",
           "title": {
            "standoff": 15
           },
           "zerolinecolor": "white",
           "zerolinewidth": 2
          }
         }
        },
        "title": {
         "text": "Bitcoin mining stats for 180 days"
        },
        "xaxis": {
         "anchor": "y",
         "domain": [
          0,
          1
         ]
        },
        "yaxis": {
         "anchor": "x",
         "domain": [
          0,
          0.485
         ]
        }
       }
      },
      "text/html": [
       "<div>                            <div id=\"0535c725-383a-410e-86e1-40de102c536c\" class=\"plotly-graph-div\" style=\"height:800px; width:100%;\"></div>            <script type=\"text/javascript\">                require([\"plotly\"], function(Plotly) {                    window.PLOTLYENV=window.PLOTLYENV || {};                                    if (document.getElementById(\"0535c725-383a-410e-86e1-40de102c536c\")) {                    Plotly.newPlot(                        \"0535c725-383a-410e-86e1-40de102c536c\",                        [],                        {\"template\":{\"data\":{\"histogram2dcontour\":[{\"type\":\"histogram2dcontour\",\"colorbar\":{\"outlinewidth\":0,\"ticks\":\"\"},\"colorscale\":[[0.0,\"#0d0887\"],[0.1111111111111111,\"#46039f\"],[0.2222222222222222,\"#7201a8\"],[0.3333333333333333,\"#9c179e\"],[0.4444444444444444,\"#bd3786\"],[0.5555555555555556,\"#d8576b\"],[0.6666666666666666,\"#ed7953\"],[0.7777777777777778,\"#fb9f3a\"],[0.8888888888888888,\"#fdca26\"],[1.0,\"#f0f921\"]]}],\"choropleth\":[{\"type\":\"choropleth\",\"colorbar\":{\"outlinewidth\":0,\"ticks\":\"\"}}],\"histogram2d\":[{\"type\":\"histogram2d\",\"colorbar\":{\"outlinewidth\":0,\"ticks\":\"\"},\"colorscale\":[[0.0,\"#0d0887\"],[0.1111111111111111,\"#46039f\"],[0.2222222222222222,\"#7201a8\"],[0.3333333333333333,\"#9c179e\"],[0.4444444444444444,\"#bd3786\"],[0.5555555555555556,\"#d8576b\"],[0.6666666666666666,\"#ed7953\"],[0.7777777777777778,\"#fb9f3a\"],[0.8888888888888888,\"#fdca26\"],[1.0,\"#f0f921\"]]}],\"heatmap\":[{\"type\":\"heatmap\",\"colorbar\":{\"outlinewidth\":0,\"ticks\":\"\"},\"colorscale\":[[0.0,\"#0d0887\"],[0.1111111111111111,\"#46039f\"],[0.2222222222222222,\"#7201a8\"],[0.3333333333333333,\"#9c179e\"],[0.4444444444444444,\"#bd3786\"],[0.5555555555555556,\"#d8576b\"],[0.6666666666666666,\"#ed7953\"],[0.7777777777777778,\"#fb9f3a\"],[0.8888888888888888,\"#fdca26\"],[1.0,\"#f0f921\"]]}],\"heatmapgl\":[{\"type\":\"heatmapgl\",\"colorbar\":{\"outlinewidth\":0,\"ticks\":\"\"},\"colorscale\":[[0.0,\"#0d0887\"],[0.1111111111111111,\"#46039f\"],[0.2222222222222222,\"#7201a8\"],[0.3333333333333333,\"#9c179e\"],[0.4444444444444444,\"#bd3786\"],[0.5555555555555556,\"#d8576b\"],[0.6666666666666666,\"#ed7953\"],[0.7777777777777778,\"#fb9f3a\"],[0.8888888888888888,\"#fdca26\"],[1.0,\"#f0f921\"]]}],\"contourcarpet\":[{\"type\":\"contourcarpet\",\"colorbar\":{\"outlinewidth\":0,\"ticks\":\"\"}}],\"contour\":[{\"type\":\"contour\",\"colorbar\":{\"outlinewidth\":0,\"ticks\":\"\"},\"colorscale\":[[0.0,\"#0d0887\"],[0.1111111111111111,\"#46039f\"],[0.2222222222222222,\"#7201a8\"],[0.3333333333333333,\"#9c179e\"],[0.4444444444444444,\"#bd3786\"],[0.5555555555555556,\"#d8576b\"],[0.6666666666666666,\"#ed7953\"],[0.7777777777777778,\"#fb9f3a\"],[0.8888888888888888,\"#fdca26\"],[1.0,\"#f0f921\"]]}],\"surface\":[{\"type\":\"surface\",\"colorbar\":{\"outlinewidth\":0,\"ticks\":\"\"},\"colorscale\":[[0.0,\"#0d0887\"],[0.1111111111111111,\"#46039f\"],[0.2222222222222222,\"#7201a8\"],[0.3333333333333333,\"#9c179e\"],[0.4444444444444444,\"#bd3786\"],[0.5555555555555556,\"#d8576b\"],[0.6666666666666666,\"#ed7953\"],[0.7777777777777778,\"#fb9f3a\"],[0.8888888888888888,\"#fdca26\"],[1.0,\"#f0f921\"]]}],\"mesh3d\":[{\"type\":\"mesh3d\",\"colorbar\":{\"outlinewidth\":0,\"ticks\":\"\"}}],\"scatter\":[{\"fillpattern\":{\"fillmode\":\"overlay\",\"size\":10,\"solidity\":0.2},\"type\":\"scatter\"}],\"parcoords\":[{\"type\":\"parcoords\",\"line\":{\"colorbar\":{\"outlinewidth\":0,\"ticks\":\"\"}}}],\"scatterpolargl\":[{\"type\":\"scatterpolargl\",\"marker\":{\"colorbar\":{\"outlinewidth\":0,\"ticks\":\"\"}}}],\"bar\":[{\"error_x\":{\"color\":\"#2a3f5f\"},\"error_y\":{\"color\":\"#2a3f5f\"},\"marker\":{\"line\":{\"color\":\"#E5ECF6\",\"width\":0.5},\"pattern\":{\"fillmode\":\"overlay\",\"size\":10,\"solidity\":0.2}},\"type\":\"bar\"}],\"scattergeo\":[{\"type\":\"scattergeo\",\"marker\":{\"colorbar\":{\"outlinewidth\":0,\"ticks\":\"\"}}}],\"scatterpolar\":[{\"type\":\"scatterpolar\",\"marker\":{\"colorbar\":{\"outlinewidth\":0,\"ticks\":\"\"}}}],\"histogram\":[{\"marker\":{\"pattern\":{\"fillmode\":\"overlay\",\"size\":10,\"solidity\":0.2}},\"type\":\"histogram\"}],\"scattergl\":[{\"type\":\"scattergl\",\"marker\":{\"colorbar\":{\"outlinewidth\":0,\"ticks\":\"\"}}}],\"scatter3d\":[{\"type\":\"scatter3d\",\"line\":{\"colorbar\":{\"outlinewidth\":0,\"ticks\":\"\"}},\"marker\":{\"colorbar\":{\"outlinewidth\":0,\"ticks\":\"\"}}}],\"scattermapbox\":[{\"type\":\"scattermapbox\",\"marker\":{\"colorbar\":{\"outlinewidth\":0,\"ticks\":\"\"}}}],\"scatterternary\":[{\"type\":\"scatterternary\",\"marker\":{\"colorbar\":{\"outlinewidth\":0,\"ticks\":\"\"}}}],\"scattercarpet\":[{\"type\":\"scattercarpet\",\"marker\":{\"colorbar\":{\"outlinewidth\":0,\"ticks\":\"\"}}}],\"carpet\":[{\"aaxis\":{\"endlinecolor\":\"#2a3f5f\",\"gridcolor\":\"white\",\"linecolor\":\"white\",\"minorgridcolor\":\"white\",\"startlinecolor\":\"#2a3f5f\"},\"baxis\":{\"endlinecolor\":\"#2a3f5f\",\"gridcolor\":\"white\",\"linecolor\":\"white\",\"minorgridcolor\":\"white\",\"startlinecolor\":\"#2a3f5f\"},\"type\":\"carpet\"}],\"table\":[{\"cells\":{\"fill\":{\"color\":\"#EBF0F8\"},\"line\":{\"color\":\"white\"}},\"header\":{\"fill\":{\"color\":\"#C8D4E3\"},\"line\":{\"color\":\"white\"}},\"type\":\"table\"}],\"barpolar\":[{\"marker\":{\"line\":{\"color\":\"#E5ECF6\",\"width\":0.5},\"pattern\":{\"fillmode\":\"overlay\",\"size\":10,\"solidity\":0.2}},\"type\":\"barpolar\"}],\"pie\":[{\"automargin\":true,\"type\":\"pie\"}]},\"layout\":{\"autotypenumbers\":\"strict\",\"colorway\":[\"#636efa\",\"#EF553B\",\"#00cc96\",\"#ab63fa\",\"#FFA15A\",\"#19d3f3\",\"#FF6692\",\"#B6E880\",\"#FF97FF\",\"#FECB52\"],\"font\":{\"color\":\"#2a3f5f\"},\"hovermode\":\"closest\",\"hoverlabel\":{\"align\":\"left\"},\"paper_bgcolor\":\"white\",\"plot_bgcolor\":\"#E5ECF6\",\"polar\":{\"bgcolor\":\"#E5ECF6\",\"angularaxis\":{\"gridcolor\":\"white\",\"linecolor\":\"white\",\"ticks\":\"\"},\"radialaxis\":{\"gridcolor\":\"white\",\"linecolor\":\"white\",\"ticks\":\"\"}},\"ternary\":{\"bgcolor\":\"#E5ECF6\",\"aaxis\":{\"gridcolor\":\"white\",\"linecolor\":\"white\",\"ticks\":\"\"},\"baxis\":{\"gridcolor\":\"white\",\"linecolor\":\"white\",\"ticks\":\"\"},\"caxis\":{\"gridcolor\":\"white\",\"linecolor\":\"white\",\"ticks\":\"\"}},\"coloraxis\":{\"colorbar\":{\"outlinewidth\":0,\"ticks\":\"\"}},\"colorscale\":{\"sequential\":[[0.0,\"#0d0887\"],[0.1111111111111111,\"#46039f\"],[0.2222222222222222,\"#7201a8\"],[0.3333333333333333,\"#9c179e\"],[0.4444444444444444,\"#bd3786\"],[0.5555555555555556,\"#d8576b\"],[0.6666666666666666,\"#ed7953\"],[0.7777777777777778,\"#fb9f3a\"],[0.8888888888888888,\"#fdca26\"],[1.0,\"#f0f921\"]],\"sequentialminus\":[[0.0,\"#0d0887\"],[0.1111111111111111,\"#46039f\"],[0.2222222222222222,\"#7201a8\"],[0.3333333333333333,\"#9c179e\"],[0.4444444444444444,\"#bd3786\"],[0.5555555555555556,\"#d8576b\"],[0.6666666666666666,\"#ed7953\"],[0.7777777777777778,\"#fb9f3a\"],[0.8888888888888888,\"#fdca26\"],[1.0,\"#f0f921\"]],\"diverging\":[[0,\"#8e0152\"],[0.1,\"#c51b7d\"],[0.2,\"#de77ae\"],[0.3,\"#f1b6da\"],[0.4,\"#fde0ef\"],[0.5,\"#f7f7f7\"],[0.6,\"#e6f5d0\"],[0.7,\"#b8e186\"],[0.8,\"#7fbc41\"],[0.9,\"#4d9221\"],[1,\"#276419\"]]},\"xaxis\":{\"gridcolor\":\"white\",\"linecolor\":\"white\",\"ticks\":\"\",\"title\":{\"standoff\":15},\"zerolinecolor\":\"white\",\"automargin\":true,\"zerolinewidth\":2},\"yaxis\":{\"gridcolor\":\"white\",\"linecolor\":\"white\",\"ticks\":\"\",\"title\":{\"standoff\":15},\"zerolinecolor\":\"white\",\"automargin\":true,\"zerolinewidth\":2},\"scene\":{\"xaxis\":{\"backgroundcolor\":\"#E5ECF6\",\"gridcolor\":\"white\",\"linecolor\":\"white\",\"showbackground\":true,\"ticks\":\"\",\"zerolinecolor\":\"white\",\"gridwidth\":2},\"yaxis\":{\"backgroundcolor\":\"#E5ECF6\",\"gridcolor\":\"white\",\"linecolor\":\"white\",\"showbackground\":true,\"ticks\":\"\",\"zerolinecolor\":\"white\",\"gridwidth\":2},\"zaxis\":{\"backgroundcolor\":\"#E5ECF6\",\"gridcolor\":\"white\",\"linecolor\":\"white\",\"showbackground\":true,\"ticks\":\"\",\"zerolinecolor\":\"white\",\"gridwidth\":2}},\"shapedefaults\":{\"line\":{\"color\":\"#2a3f5f\"}},\"annotationdefaults\":{\"arrowcolor\":\"#2a3f5f\",\"arrowhead\":0,\"arrowwidth\":1},\"geo\":{\"bgcolor\":\"white\",\"landcolor\":\"#E5ECF6\",\"subunitcolor\":\"white\",\"showland\":true,\"showlakes\":true,\"lakecolor\":\"white\"},\"title\":{\"x\":0.05},\"mapbox\":{\"style\":\"light\"}}},\"xaxis\":{\"anchor\":\"y\",\"domain\":[0.0,1.0]},\"yaxis\":{\"anchor\":\"x\",\"domain\":[0.0,0.485]},\"title\":{\"text\":\"Bitcoin mining stats for 180 days\"},\"height\":800,\"showlegend\":false},                        {\"responsive\": true}                    ).then(function(){\n",
       "                            \n",
       "var gd = document.getElementById('0535c725-383a-410e-86e1-40de102c536c');\n",
       "var x = new MutationObserver(function (mutations, observer) {{\n",
       "        var display = window.getComputedStyle(gd).display;\n",
       "        if (!display || display === 'none') {{\n",
       "            console.log([gd, 'removed!']);\n",
       "            Plotly.purge(gd);\n",
       "            observer.disconnect();\n",
       "        }}\n",
       "}});\n",
       "\n",
       "// Listen for the removal of the full notebook cells\n",
       "var notebookContainer = gd.closest('#notebook-container');\n",
       "if (notebookContainer) {{\n",
       "    x.observe(notebookContainer, {childList: true});\n",
       "}}\n",
       "\n",
       "// Listen for the clearing of the current output cell\n",
       "var outputEl = gd.closest('.output');\n",
       "if (outputEl) {{\n",
       "    x.observe(outputEl, {childList: true});\n",
       "}}\n",
       "\n",
       "                        })                };                });            </script>        </div>"
      ]
     },
     "metadata": {},
     "output_type": "display_data"
    }
   ],
   "source": [
    "fig.update_layout(\n",
    "    height=800,\n",
    "    showlegend=False,\n",
    "    title_text=\"Bitcoin mining stats for 180 days\",\n",
    ")"
   ]
  },
  {
   "cell_type": "code",
   "execution_count": 21,
   "id": "f05f4800",
   "metadata": {},
   "outputs": [],
   "source": [
    "df.drop(['economy','series'], axis=1, inplace=True)\n",
    "\n",
    "columns = ['<br>'+each+'</br>' for each in list(df.columns)]"
   ]
  },
  {
   "cell_type": "code",
   "execution_count": 53,
   "id": "b3e39b5b",
   "metadata": {},
   "outputs": [
    {
     "data": {
      "text/plain": [
       "['<br>Country</br>',\n",
       " '<br>Series</br>',\n",
       " '<br>YR2000</br>',\n",
       " '<br>YR2001</br>',\n",
       " '<br>YR2002</br>',\n",
       " '<br>YR2003</br>',\n",
       " '<br>YR2004</br>',\n",
       " '<br>YR2005</br>',\n",
       " '<br>YR2006</br>',\n",
       " '<br>YR2007</br>',\n",
       " '<br>YR2008</br>',\n",
       " '<br>YR2009</br>',\n",
       " '<br>YR2010</br>',\n",
       " '<br>YR2011</br>',\n",
       " '<br>YR2012</br>',\n",
       " '<br>YR2013</br>',\n",
       " '<br>YR2014</br>',\n",
       " '<br>YR2015</br>',\n",
       " '<br>YR2016</br>',\n",
       " '<br>YR2017</br>',\n",
       " '<br>YR2018</br>',\n",
       " '<br>YR2019</br>',\n",
       " '<br>YR2020</br>',\n",
       " '<br>YR2021</br>',\n",
       " '<br>YR2022</br>']"
      ]
     },
     "execution_count": 53,
     "metadata": {},
     "output_type": "execute_result"
    }
   ],
   "source": [
    "columns"
   ]
  },
  {
   "cell_type": "code",
   "execution_count": 51,
   "id": "acaa2e0d",
   "metadata": {},
   "outputs": [],
   "source": [
    "table = go.Table(\n",
    "        header= dict(\n",
    "            values= columns,\n",
    "            font= dict(size=10),\n",
    "            align= \"center\"\n",
    "        ),\n",
    "        cells=dict(\n",
    "            values=[df[each].to_list() for each in df.columns],\n",
    "            align = \"center\"),\n",
    "    )"
   ]
  },
  {
   "cell_type": "code",
   "execution_count": 52,
   "id": "654bba6d",
   "metadata": {},
   "outputs": [
    {
     "data": {
      "application/vnd.plotly.v1+json": {
       "config": {
        "plotlyServerURL": "https://plot.ly"
       },
       "data": [
        {
         "cells": {
          "align": "left",
          "values": [
           [
            "Pakistan",
            "Nepal",
            "Maldives",
            "Sri Lanka",
            "India",
            "Bhutan",
            "Bangladesh",
            "Pakistan",
            "Nepal",
            "Maldives",
            "Sri Lanka",
            "India",
            "Bhutan",
            "Bangladesh",
            "Afghanistan"
           ],
           [
            "Children out of school (% of primary school age)",
            "Children out of school (% of primary school age)",
            "Children out of school (% of primary school age)",
            "Children out of school (% of primary school age)",
            "Children out of school (% of primary school age)",
            "Children out of school (% of primary school age)",
            "Children out of school (% of primary school age)",
            "Government expenditure on education, total (% of GDP)",
            "Government expenditure on education, total (% of GDP)",
            "Government expenditure on education, total (% of GDP)",
            "Government expenditure on education, total (% of GDP)",
            "Government expenditure on education, total (% of GDP)",
            "Government expenditure on education, total (% of GDP)",
            "Government expenditure on education, total (% of GDP)",
            "Government expenditure on education, total (% of GDP)"
           ],
           [
            null,
            30.7744808197021,
            2.73199009895325,
            null,
            16.9875202178955,
            38.8700103759766,
            null,
            1.83782005310059,
            2.9751501083374,
            null,
            null,
            4.32479000091553,
            5.78675985336304,
            2.12508010864258,
            null
           ],
           [
            null,
            null,
            1.60804998874664,
            1.79250001907349,
            11.8562898635864,
            36.9869117736816,
            null,
            null,
            3.70837998390198,
            null,
            null,
            null,
            5.91572999954224,
            2.17193007469177,
            null
           ],
           [
            null,
            null,
            2.34352993965149,
            1.99191999435425,
            13.4449195861816,
            null,
            null,
            null,
            3.15283989906311,
            5.79186010360718,
            null,
            null,
            null,
            2.01714992523193,
            null
           ],
           [
            null,
            22.0804595947266,
            null,
            2.61675000190735,
            8.48766040802002,
            null,
            null,
            null,
            3.11435008049011,
            5.32406997680664,
            null,
            3.61340999603271,
            null,
            2.06939005851746,
            null
           ],
           [
            null,
            20.0970897674561,
            1.77482998371124,
            3.98446011543274,
            null,
            null,
            null,
            1.76759004592896,
            3.17194008827209,
            4.66160011291504,
            null,
            3.35254001617432,
            6.60906982421875,
            1.94014000892639,
            null
           ],
           [
            null,
            null,
            2.41488003730774,
            4.23590993881226,
            null,
            28.4569797515869,
            3.37758994102478,
            2.04972004890442,
            3.3646399974823,
            5.0168399810791,
            null,
            3.18875002861023,
            7.28714990615845,
            null,
            null
           ],
           [
            null,
            null,
            2.49761009216309,
            4.58268022537231,
            null,
            23.6531200408936,
            3.5901300907135,
            2.39550995826721,
            3.60536003112793,
            4.64523983001709,
            null,
            3.14284992218018,
            null,
            2.13128995895386,
            4.68476057052612
           ],
           [
            null,
            null,
            3.55908989906311,
            5.21196985244751,
            0.91908997297287,
            null,
            null,
            2.63527011871338,
            3.51721000671387,
            4.41788005828857,
            null,
            null,
            null,
            2.20221996307373,
            4.17489528656006
           ],
           [
            null,
            null,
            5.27224016189575,
            6.10266017913818,
            0.393489986658096,
            16.7162895202637,
            8.54203033447266,
            2.74622988700867,
            3.8051700592041,
            4.470290184021,
            null,
            null,
            4.91159009933472,
            2.0545699596405,
            4.38367223739624
           ],
           [
            null,
            null,
            2.55772995948792,
            8.29146957397461,
            1.3199599981308,
            11.6914596557617,
            8.1956901550293,
            2.59078001976013,
            4.6637601852417,
            5.08168983459473,
            2.05590009689331,
            3.27824997901917,
            4.74174022674561,
            1.9394199848175,
            4.81063985824585
           ],
           [
            null,
            null,
            6.13899993896484,
            6.79112005233765,
            0.86080002784729,
            9.54932975769043,
            5.03145980834961,
            2.28687000274658,
            3.63172006607056,
            3.63328003883362,
            1.66177999973297,
            3.377690076828,
            4.12473011016846,
            null,
            3.4794499874115
           ],
           [
            null,
            2.17547988891602,
            4.64400005340576,
            7.04276990890503,
            1.31821000576019,
            9.20584011077881,
            null,
            2.22175002098083,
            3.84261989593506,
            3.08072996139526,
            1.74292004108429,
            3.79618000984192,
            4.76523017883301,
            2.13269996643066,
            3.4620099067688
           ],
           [
            null,
            1.80489003658295,
            6.19600009918213,
            7.4073600769043,
            1.23249995708466,
            8.1028003692627,
            null,
            2.13628005981445,
            3.52900004386902,
            4.96799993515015,
            1.45342004299164,
            4.08500003814697,
            null,
            2.04699993133545,
            2.60419988632202
           ],
           [
            null,
            null,
            6.61299991607666,
            0.28999999165535,
            0.425390005111694,
            9.73373985290527,
            null,
            2.49343991279602,
            3.20300006866455,
            3.95499992370605,
            1.5645899772644,
            3.84467005729675,
            5.72275018692017,
            1.96599996089935,
            3.45445990562439
           ],
           [
            null,
            1.69528996944427,
            4.64300012588501,
            6.35382986068726,
            null,
            null,
            null,
            2.46592998504639,
            3.48600006103516,
            3.89000010490417,
            1.85859000682831,
            3.8989999294281,
            6.04489994049072,
            2.09899997711182,
            3.69521999359131
           ],
           [
            null,
            1.59839999675751,
            2.84100008010864,
            3.86436009407043,
            null,
            11.379469871521,
            null,
            2.6500198841095,
            3.29399991035461,
            4.64499998092651,
            2.10998010635376,
            4.11499977111816,
            6.23799991607666,
            1.87199997901917,
            3.2558000087738
           ],
           [
            null,
            1.14783000946045,
            3.89400005340576,
            3.20425009727478,
            4.10699987411499,
            11.7899599075317,
            null,
            2.41700005531311,
            3.47699999809265,
            4.46999979019165,
            3.22929000854492,
            4.25699996948242,
            6.33699989318848,
            2.22099995613098,
            4.54397010803223
           ],
           [
            null,
            2.00387001037598,
            4.28999996185303,
            0.190999999642372,
            6.0310001373291,
            11.7133102416992,
            2.58299994468689,
            2.13700008392334,
            3.52900004386902,
            3.87299990653992,
            2.59316992759705,
            4.30600023269653,
            6.69999980926514,
            1.85000002384186,
            4.34319019317627
           ],
           [
            null,
            null,
            3.42499995231628,
            0.006000000052154,
            6.37900018692017,
            9.44062042236328,
            0.467000007629395,
            2.33200001716614,
            3.66400003433228,
            3.93199992179871,
            1.98781001567841,
            4.3769998550415,
            6.07399988174438,
            1.65600001811981,
            null
           ],
           [
            null,
            null,
            2.91499996185303,
            3.65899991989136,
            7.3730001449585,
            null,
            null,
            2.21499991416931,
            3.48600006103516,
            4.20900011062622,
            null,
            3.8970000743866,
            4.76100015640259,
            1.68099999427795,
            null
           ],
           [
            null,
            null,
            2.08500003814697,
            2.68899989128113,
            4.05600023269653,
            5.48518991470337,
            null,
            2.05699992179871,
            4.21099996566772,
            5.79500007629395,
            1.55499994754791,
            4.29300022125244,
            5.98099994659424,
            1.76499998569489,
            null
           ],
           [
            26.7070007324219,
            1.34500002861023,
            null,
            3.22499990463257,
            2.31299996376038,
            4.56099987030029,
            null,
            1.68700003623962,
            3.95600008964539,
            4.4850001335144,
            1.50800001621246,
            4.63500022888184,
            6.97399997711182,
            1.8309999704361,
            null
           ],
           [
            null,
            1.01499998569489,
            null,
            null,
            0.152999997138977,
            5.52400016784668,
            null,
            null,
            3.6489999294281,
            4.58099985122681,
            1.20000004768372,
            null,
            8.14200019836426,
            1.97300004959106,
            null
           ]
          ]
         },
         "domain": {
          "x": [
           0,
           1
          ],
          "y": [
           0.515,
           1
          ]
         },
         "header": {
          "align": "left",
          "font": {
           "size": 10
          },
          "values": [
           "Country",
           "Series",
           "YR2000",
           "YR2001",
           "YR2002",
           "YR2003",
           "YR2004",
           "YR2005",
           "YR2006",
           "YR2007",
           "YR2008",
           "YR2009",
           "YR2010",
           "YR2011",
           "YR2012",
           "YR2013",
           "YR2014",
           "YR2015",
           "YR2016",
           "YR2017",
           "YR2018",
           "YR2019",
           "YR2020",
           "YR2021",
           "YR2022"
          ]
         },
         "type": "table"
        },
        {
         "cells": {
          "align": "left",
          "values": [
           [
            "Pakistan",
            "Nepal",
            "Maldives",
            "Sri Lanka",
            "India",
            "Bhutan",
            "Bangladesh",
            "Pakistan",
            "Nepal",
            "Maldives",
            "Sri Lanka",
            "India",
            "Bhutan",
            "Bangladesh",
            "Afghanistan"
           ],
           [
            "Children out of school (% of primary school age)",
            "Children out of school (% of primary school age)",
            "Children out of school (% of primary school age)",
            "Children out of school (% of primary school age)",
            "Children out of school (% of primary school age)",
            "Children out of school (% of primary school age)",
            "Children out of school (% of primary school age)",
            "Government expenditure on education, total (% of GDP)",
            "Government expenditure on education, total (% of GDP)",
            "Government expenditure on education, total (% of GDP)",
            "Government expenditure on education, total (% of GDP)",
            "Government expenditure on education, total (% of GDP)",
            "Government expenditure on education, total (% of GDP)",
            "Government expenditure on education, total (% of GDP)",
            "Government expenditure on education, total (% of GDP)"
           ],
           [
            null,
            30.7744808197021,
            2.73199009895325,
            null,
            16.9875202178955,
            38.8700103759766,
            null,
            1.83782005310059,
            2.9751501083374,
            null,
            null,
            4.32479000091553,
            5.78675985336304,
            2.12508010864258,
            null
           ],
           [
            null,
            null,
            1.60804998874664,
            1.79250001907349,
            11.8562898635864,
            36.9869117736816,
            null,
            null,
            3.70837998390198,
            null,
            null,
            null,
            5.91572999954224,
            2.17193007469177,
            null
           ],
           [
            null,
            null,
            2.34352993965149,
            1.99191999435425,
            13.4449195861816,
            null,
            null,
            null,
            3.15283989906311,
            5.79186010360718,
            null,
            null,
            null,
            2.01714992523193,
            null
           ],
           [
            null,
            22.0804595947266,
            null,
            2.61675000190735,
            8.48766040802002,
            null,
            null,
            null,
            3.11435008049011,
            5.32406997680664,
            null,
            3.61340999603271,
            null,
            2.06939005851746,
            null
           ],
           [
            null,
            20.0970897674561,
            1.77482998371124,
            3.98446011543274,
            null,
            null,
            null,
            1.76759004592896,
            3.17194008827209,
            4.66160011291504,
            null,
            3.35254001617432,
            6.60906982421875,
            1.94014000892639,
            null
           ],
           [
            null,
            null,
            2.41488003730774,
            4.23590993881226,
            null,
            28.4569797515869,
            3.37758994102478,
            2.04972004890442,
            3.3646399974823,
            5.0168399810791,
            null,
            3.18875002861023,
            7.28714990615845,
            null,
            null
           ],
           [
            null,
            null,
            2.49761009216309,
            4.58268022537231,
            null,
            23.6531200408936,
            3.5901300907135,
            2.39550995826721,
            3.60536003112793,
            4.64523983001709,
            null,
            3.14284992218018,
            null,
            2.13128995895386,
            4.68476057052612
           ],
           [
            null,
            null,
            3.55908989906311,
            5.21196985244751,
            0.91908997297287,
            null,
            null,
            2.63527011871338,
            3.51721000671387,
            4.41788005828857,
            null,
            null,
            null,
            2.20221996307373,
            4.17489528656006
           ],
           [
            null,
            null,
            5.27224016189575,
            6.10266017913818,
            0.393489986658096,
            16.7162895202637,
            8.54203033447266,
            2.74622988700867,
            3.8051700592041,
            4.470290184021,
            null,
            null,
            4.91159009933472,
            2.0545699596405,
            4.38367223739624
           ],
           [
            null,
            null,
            2.55772995948792,
            8.29146957397461,
            1.3199599981308,
            11.6914596557617,
            8.1956901550293,
            2.59078001976013,
            4.6637601852417,
            5.08168983459473,
            2.05590009689331,
            3.27824997901917,
            4.74174022674561,
            1.9394199848175,
            4.81063985824585
           ],
           [
            null,
            null,
            6.13899993896484,
            6.79112005233765,
            0.86080002784729,
            9.54932975769043,
            5.03145980834961,
            2.28687000274658,
            3.63172006607056,
            3.63328003883362,
            1.66177999973297,
            3.377690076828,
            4.12473011016846,
            null,
            3.4794499874115
           ],
           [
            null,
            2.17547988891602,
            4.64400005340576,
            7.04276990890503,
            1.31821000576019,
            9.20584011077881,
            null,
            2.22175002098083,
            3.84261989593506,
            3.08072996139526,
            1.74292004108429,
            3.79618000984192,
            4.76523017883301,
            2.13269996643066,
            3.4620099067688
           ],
           [
            null,
            1.80489003658295,
            6.19600009918213,
            7.4073600769043,
            1.23249995708466,
            8.1028003692627,
            null,
            2.13628005981445,
            3.52900004386902,
            4.96799993515015,
            1.45342004299164,
            4.08500003814697,
            null,
            2.04699993133545,
            2.60419988632202
           ],
           [
            null,
            null,
            6.61299991607666,
            0.28999999165535,
            0.425390005111694,
            9.73373985290527,
            null,
            2.49343991279602,
            3.20300006866455,
            3.95499992370605,
            1.5645899772644,
            3.84467005729675,
            5.72275018692017,
            1.96599996089935,
            3.45445990562439
           ],
           [
            null,
            1.69528996944427,
            4.64300012588501,
            6.35382986068726,
            null,
            null,
            null,
            2.46592998504639,
            3.48600006103516,
            3.89000010490417,
            1.85859000682831,
            3.8989999294281,
            6.04489994049072,
            2.09899997711182,
            3.69521999359131
           ],
           [
            null,
            1.59839999675751,
            2.84100008010864,
            3.86436009407043,
            null,
            11.379469871521,
            null,
            2.6500198841095,
            3.29399991035461,
            4.64499998092651,
            2.10998010635376,
            4.11499977111816,
            6.23799991607666,
            1.87199997901917,
            3.2558000087738
           ],
           [
            null,
            1.14783000946045,
            3.89400005340576,
            3.20425009727478,
            4.10699987411499,
            11.7899599075317,
            null,
            2.41700005531311,
            3.47699999809265,
            4.46999979019165,
            3.22929000854492,
            4.25699996948242,
            6.33699989318848,
            2.22099995613098,
            4.54397010803223
           ],
           [
            null,
            2.00387001037598,
            4.28999996185303,
            0.190999999642372,
            6.0310001373291,
            11.7133102416992,
            2.58299994468689,
            2.13700008392334,
            3.52900004386902,
            3.87299990653992,
            2.59316992759705,
            4.30600023269653,
            6.69999980926514,
            1.85000002384186,
            4.34319019317627
           ],
           [
            null,
            null,
            3.42499995231628,
            0.006000000052154,
            6.37900018692017,
            9.44062042236328,
            0.467000007629395,
            2.33200001716614,
            3.66400003433228,
            3.93199992179871,
            1.98781001567841,
            4.3769998550415,
            6.07399988174438,
            1.65600001811981,
            null
           ],
           [
            null,
            null,
            2.91499996185303,
            3.65899991989136,
            7.3730001449585,
            null,
            null,
            2.21499991416931,
            3.48600006103516,
            4.20900011062622,
            null,
            3.8970000743866,
            4.76100015640259,
            1.68099999427795,
            null
           ],
           [
            null,
            null,
            2.08500003814697,
            2.68899989128113,
            4.05600023269653,
            5.48518991470337,
            null,
            2.05699992179871,
            4.21099996566772,
            5.79500007629395,
            1.55499994754791,
            4.29300022125244,
            5.98099994659424,
            1.76499998569489,
            null
           ],
           [
            26.7070007324219,
            1.34500002861023,
            null,
            3.22499990463257,
            2.31299996376038,
            4.56099987030029,
            null,
            1.68700003623962,
            3.95600008964539,
            4.4850001335144,
            1.50800001621246,
            4.63500022888184,
            6.97399997711182,
            1.8309999704361,
            null
           ],
           [
            null,
            1.01499998569489,
            null,
            null,
            0.152999997138977,
            5.52400016784668,
            null,
            null,
            3.6489999294281,
            4.58099985122681,
            1.20000004768372,
            null,
            8.14200019836426,
            1.97300004959106,
            null
           ]
          ]
         },
         "header": {
          "align": "left",
          "font": {
           "size": 10
          },
          "values": [
           "Country",
           "Series",
           "YR2000",
           "YR2001",
           "YR2002",
           "YR2003",
           "YR2004",
           "YR2005",
           "YR2006",
           "YR2007",
           "YR2008",
           "YR2009",
           "YR2010",
           "YR2011",
           "YR2012",
           "YR2013",
           "YR2014",
           "YR2015",
           "YR2016",
           "YR2017",
           "YR2018",
           "YR2019",
           "YR2020",
           "YR2021",
           "YR2022"
          ]
         },
         "type": "table"
        },
        {
         "cells": {
          "align": "left",
          "values": [
           [
            "Pakistan",
            "Nepal",
            "Maldives",
            "Sri Lanka",
            "India",
            "Bhutan",
            "Bangladesh",
            "Pakistan",
            "Nepal",
            "Maldives",
            "Sri Lanka",
            "India",
            "Bhutan",
            "Bangladesh",
            "Afghanistan"
           ],
           [
            "Children out of school (% of primary school age)",
            "Children out of school (% of primary school age)",
            "Children out of school (% of primary school age)",
            "Children out of school (% of primary school age)",
            "Children out of school (% of primary school age)",
            "Children out of school (% of primary school age)",
            "Children out of school (% of primary school age)",
            "Government expenditure on education, total (% of GDP)",
            "Government expenditure on education, total (% of GDP)",
            "Government expenditure on education, total (% of GDP)",
            "Government expenditure on education, total (% of GDP)",
            "Government expenditure on education, total (% of GDP)",
            "Government expenditure on education, total (% of GDP)",
            "Government expenditure on education, total (% of GDP)",
            "Government expenditure on education, total (% of GDP)"
           ],
           [
            null,
            30.7744808197021,
            2.73199009895325,
            null,
            16.9875202178955,
            38.8700103759766,
            null,
            1.83782005310059,
            2.9751501083374,
            null,
            null,
            4.32479000091553,
            5.78675985336304,
            2.12508010864258,
            null
           ],
           [
            null,
            null,
            1.60804998874664,
            1.79250001907349,
            11.8562898635864,
            36.9869117736816,
            null,
            null,
            3.70837998390198,
            null,
            null,
            null,
            5.91572999954224,
            2.17193007469177,
            null
           ],
           [
            null,
            null,
            2.34352993965149,
            1.99191999435425,
            13.4449195861816,
            null,
            null,
            null,
            3.15283989906311,
            5.79186010360718,
            null,
            null,
            null,
            2.01714992523193,
            null
           ],
           [
            null,
            22.0804595947266,
            null,
            2.61675000190735,
            8.48766040802002,
            null,
            null,
            null,
            3.11435008049011,
            5.32406997680664,
            null,
            3.61340999603271,
            null,
            2.06939005851746,
            null
           ],
           [
            null,
            20.0970897674561,
            1.77482998371124,
            3.98446011543274,
            null,
            null,
            null,
            1.76759004592896,
            3.17194008827209,
            4.66160011291504,
            null,
            3.35254001617432,
            6.60906982421875,
            1.94014000892639,
            null
           ],
           [
            null,
            null,
            2.41488003730774,
            4.23590993881226,
            null,
            28.4569797515869,
            3.37758994102478,
            2.04972004890442,
            3.3646399974823,
            5.0168399810791,
            null,
            3.18875002861023,
            7.28714990615845,
            null,
            null
           ],
           [
            null,
            null,
            2.49761009216309,
            4.58268022537231,
            null,
            23.6531200408936,
            3.5901300907135,
            2.39550995826721,
            3.60536003112793,
            4.64523983001709,
            null,
            3.14284992218018,
            null,
            2.13128995895386,
            4.68476057052612
           ],
           [
            null,
            null,
            3.55908989906311,
            5.21196985244751,
            0.91908997297287,
            null,
            null,
            2.63527011871338,
            3.51721000671387,
            4.41788005828857,
            null,
            null,
            null,
            2.20221996307373,
            4.17489528656006
           ],
           [
            null,
            null,
            5.27224016189575,
            6.10266017913818,
            0.393489986658096,
            16.7162895202637,
            8.54203033447266,
            2.74622988700867,
            3.8051700592041,
            4.470290184021,
            null,
            null,
            4.91159009933472,
            2.0545699596405,
            4.38367223739624
           ],
           [
            null,
            null,
            2.55772995948792,
            8.29146957397461,
            1.3199599981308,
            11.6914596557617,
            8.1956901550293,
            2.59078001976013,
            4.6637601852417,
            5.08168983459473,
            2.05590009689331,
            3.27824997901917,
            4.74174022674561,
            1.9394199848175,
            4.81063985824585
           ],
           [
            null,
            null,
            6.13899993896484,
            6.79112005233765,
            0.86080002784729,
            9.54932975769043,
            5.03145980834961,
            2.28687000274658,
            3.63172006607056,
            3.63328003883362,
            1.66177999973297,
            3.377690076828,
            4.12473011016846,
            null,
            3.4794499874115
           ],
           [
            null,
            2.17547988891602,
            4.64400005340576,
            7.04276990890503,
            1.31821000576019,
            9.20584011077881,
            null,
            2.22175002098083,
            3.84261989593506,
            3.08072996139526,
            1.74292004108429,
            3.79618000984192,
            4.76523017883301,
            2.13269996643066,
            3.4620099067688
           ],
           [
            null,
            1.80489003658295,
            6.19600009918213,
            7.4073600769043,
            1.23249995708466,
            8.1028003692627,
            null,
            2.13628005981445,
            3.52900004386902,
            4.96799993515015,
            1.45342004299164,
            4.08500003814697,
            null,
            2.04699993133545,
            2.60419988632202
           ],
           [
            null,
            null,
            6.61299991607666,
            0.28999999165535,
            0.425390005111694,
            9.73373985290527,
            null,
            2.49343991279602,
            3.20300006866455,
            3.95499992370605,
            1.5645899772644,
            3.84467005729675,
            5.72275018692017,
            1.96599996089935,
            3.45445990562439
           ],
           [
            null,
            1.69528996944427,
            4.64300012588501,
            6.35382986068726,
            null,
            null,
            null,
            2.46592998504639,
            3.48600006103516,
            3.89000010490417,
            1.85859000682831,
            3.8989999294281,
            6.04489994049072,
            2.09899997711182,
            3.69521999359131
           ],
           [
            null,
            1.59839999675751,
            2.84100008010864,
            3.86436009407043,
            null,
            11.379469871521,
            null,
            2.6500198841095,
            3.29399991035461,
            4.64499998092651,
            2.10998010635376,
            4.11499977111816,
            6.23799991607666,
            1.87199997901917,
            3.2558000087738
           ],
           [
            null,
            1.14783000946045,
            3.89400005340576,
            3.20425009727478,
            4.10699987411499,
            11.7899599075317,
            null,
            2.41700005531311,
            3.47699999809265,
            4.46999979019165,
            3.22929000854492,
            4.25699996948242,
            6.33699989318848,
            2.22099995613098,
            4.54397010803223
           ],
           [
            null,
            2.00387001037598,
            4.28999996185303,
            0.190999999642372,
            6.0310001373291,
            11.7133102416992,
            2.58299994468689,
            2.13700008392334,
            3.52900004386902,
            3.87299990653992,
            2.59316992759705,
            4.30600023269653,
            6.69999980926514,
            1.85000002384186,
            4.34319019317627
           ],
           [
            null,
            null,
            3.42499995231628,
            0.006000000052154,
            6.37900018692017,
            9.44062042236328,
            0.467000007629395,
            2.33200001716614,
            3.66400003433228,
            3.93199992179871,
            1.98781001567841,
            4.3769998550415,
            6.07399988174438,
            1.65600001811981,
            null
           ],
           [
            null,
            null,
            2.91499996185303,
            3.65899991989136,
            7.3730001449585,
            null,
            null,
            2.21499991416931,
            3.48600006103516,
            4.20900011062622,
            null,
            3.8970000743866,
            4.76100015640259,
            1.68099999427795,
            null
           ],
           [
            null,
            null,
            2.08500003814697,
            2.68899989128113,
            4.05600023269653,
            5.48518991470337,
            null,
            2.05699992179871,
            4.21099996566772,
            5.79500007629395,
            1.55499994754791,
            4.29300022125244,
            5.98099994659424,
            1.76499998569489,
            null
           ],
           [
            26.7070007324219,
            1.34500002861023,
            null,
            3.22499990463257,
            2.31299996376038,
            4.56099987030029,
            null,
            1.68700003623962,
            3.95600008964539,
            4.4850001335144,
            1.50800001621246,
            4.63500022888184,
            6.97399997711182,
            1.8309999704361,
            null
           ],
           [
            null,
            1.01499998569489,
            null,
            null,
            0.152999997138977,
            5.52400016784668,
            null,
            null,
            3.6489999294281,
            4.58099985122681,
            1.20000004768372,
            null,
            8.14200019836426,
            1.97300004959106,
            null
           ]
          ]
         },
         "domain": {
          "x": [
           0,
           1
          ],
          "y": [
           0.515,
           1
          ]
         },
         "header": {
          "align": "left",
          "font": {
           "size": 10
          },
          "values": [
           "Country",
           "Series",
           "YR2000",
           "YR2001",
           "YR2002",
           "YR2003",
           "YR2004",
           "YR2005",
           "YR2006",
           "YR2007",
           "YR2008",
           "YR2009",
           "YR2010",
           "YR2011",
           "YR2012",
           "YR2013",
           "YR2014",
           "YR2015",
           "YR2016",
           "YR2017",
           "YR2018",
           "YR2019",
           "YR2020",
           "YR2021",
           "YR2022"
          ]
         },
         "type": "table"
        },
        {
         "cells": {
          "align": "left",
          "values": [
           [
            "Pakistan",
            "Nepal",
            "Maldives",
            "Sri Lanka",
            "India",
            "Bhutan",
            "Bangladesh",
            "Pakistan",
            "Nepal",
            "Maldives",
            "Sri Lanka",
            "India",
            "Bhutan",
            "Bangladesh",
            "Afghanistan"
           ],
           [
            "Children out of school (% of primary school age)",
            "Children out of school (% of primary school age)",
            "Children out of school (% of primary school age)",
            "Children out of school (% of primary school age)",
            "Children out of school (% of primary school age)",
            "Children out of school (% of primary school age)",
            "Children out of school (% of primary school age)",
            "Government expenditure on education, total (% of GDP)",
            "Government expenditure on education, total (% of GDP)",
            "Government expenditure on education, total (% of GDP)",
            "Government expenditure on education, total (% of GDP)",
            "Government expenditure on education, total (% of GDP)",
            "Government expenditure on education, total (% of GDP)",
            "Government expenditure on education, total (% of GDP)",
            "Government expenditure on education, total (% of GDP)"
           ],
           [
            null,
            30.7744808197021,
            2.73199009895325,
            null,
            16.9875202178955,
            38.8700103759766,
            null,
            1.83782005310059,
            2.9751501083374,
            null,
            null,
            4.32479000091553,
            5.78675985336304,
            2.12508010864258,
            null
           ],
           [
            null,
            null,
            1.60804998874664,
            1.79250001907349,
            11.8562898635864,
            36.9869117736816,
            null,
            null,
            3.70837998390198,
            null,
            null,
            null,
            5.91572999954224,
            2.17193007469177,
            null
           ],
           [
            null,
            null,
            2.34352993965149,
            1.99191999435425,
            13.4449195861816,
            null,
            null,
            null,
            3.15283989906311,
            5.79186010360718,
            null,
            null,
            null,
            2.01714992523193,
            null
           ],
           [
            null,
            22.0804595947266,
            null,
            2.61675000190735,
            8.48766040802002,
            null,
            null,
            null,
            3.11435008049011,
            5.32406997680664,
            null,
            3.61340999603271,
            null,
            2.06939005851746,
            null
           ],
           [
            null,
            20.0970897674561,
            1.77482998371124,
            3.98446011543274,
            null,
            null,
            null,
            1.76759004592896,
            3.17194008827209,
            4.66160011291504,
            null,
            3.35254001617432,
            6.60906982421875,
            1.94014000892639,
            null
           ],
           [
            null,
            null,
            2.41488003730774,
            4.23590993881226,
            null,
            28.4569797515869,
            3.37758994102478,
            2.04972004890442,
            3.3646399974823,
            5.0168399810791,
            null,
            3.18875002861023,
            7.28714990615845,
            null,
            null
           ],
           [
            null,
            null,
            2.49761009216309,
            4.58268022537231,
            null,
            23.6531200408936,
            3.5901300907135,
            2.39550995826721,
            3.60536003112793,
            4.64523983001709,
            null,
            3.14284992218018,
            null,
            2.13128995895386,
            4.68476057052612
           ],
           [
            null,
            null,
            3.55908989906311,
            5.21196985244751,
            0.91908997297287,
            null,
            null,
            2.63527011871338,
            3.51721000671387,
            4.41788005828857,
            null,
            null,
            null,
            2.20221996307373,
            4.17489528656006
           ],
           [
            null,
            null,
            5.27224016189575,
            6.10266017913818,
            0.393489986658096,
            16.7162895202637,
            8.54203033447266,
            2.74622988700867,
            3.8051700592041,
            4.470290184021,
            null,
            null,
            4.91159009933472,
            2.0545699596405,
            4.38367223739624
           ],
           [
            null,
            null,
            2.55772995948792,
            8.29146957397461,
            1.3199599981308,
            11.6914596557617,
            8.1956901550293,
            2.59078001976013,
            4.6637601852417,
            5.08168983459473,
            2.05590009689331,
            3.27824997901917,
            4.74174022674561,
            1.9394199848175,
            4.81063985824585
           ],
           [
            null,
            null,
            6.13899993896484,
            6.79112005233765,
            0.86080002784729,
            9.54932975769043,
            5.03145980834961,
            2.28687000274658,
            3.63172006607056,
            3.63328003883362,
            1.66177999973297,
            3.377690076828,
            4.12473011016846,
            null,
            3.4794499874115
           ],
           [
            null,
            2.17547988891602,
            4.64400005340576,
            7.04276990890503,
            1.31821000576019,
            9.20584011077881,
            null,
            2.22175002098083,
            3.84261989593506,
            3.08072996139526,
            1.74292004108429,
            3.79618000984192,
            4.76523017883301,
            2.13269996643066,
            3.4620099067688
           ],
           [
            null,
            1.80489003658295,
            6.19600009918213,
            7.4073600769043,
            1.23249995708466,
            8.1028003692627,
            null,
            2.13628005981445,
            3.52900004386902,
            4.96799993515015,
            1.45342004299164,
            4.08500003814697,
            null,
            2.04699993133545,
            2.60419988632202
           ],
           [
            null,
            null,
            6.61299991607666,
            0.28999999165535,
            0.425390005111694,
            9.73373985290527,
            null,
            2.49343991279602,
            3.20300006866455,
            3.95499992370605,
            1.5645899772644,
            3.84467005729675,
            5.72275018692017,
            1.96599996089935,
            3.45445990562439
           ],
           [
            null,
            1.69528996944427,
            4.64300012588501,
            6.35382986068726,
            null,
            null,
            null,
            2.46592998504639,
            3.48600006103516,
            3.89000010490417,
            1.85859000682831,
            3.8989999294281,
            6.04489994049072,
            2.09899997711182,
            3.69521999359131
           ],
           [
            null,
            1.59839999675751,
            2.84100008010864,
            3.86436009407043,
            null,
            11.379469871521,
            null,
            2.6500198841095,
            3.29399991035461,
            4.64499998092651,
            2.10998010635376,
            4.11499977111816,
            6.23799991607666,
            1.87199997901917,
            3.2558000087738
           ],
           [
            null,
            1.14783000946045,
            3.89400005340576,
            3.20425009727478,
            4.10699987411499,
            11.7899599075317,
            null,
            2.41700005531311,
            3.47699999809265,
            4.46999979019165,
            3.22929000854492,
            4.25699996948242,
            6.33699989318848,
            2.22099995613098,
            4.54397010803223
           ],
           [
            null,
            2.00387001037598,
            4.28999996185303,
            0.190999999642372,
            6.0310001373291,
            11.7133102416992,
            2.58299994468689,
            2.13700008392334,
            3.52900004386902,
            3.87299990653992,
            2.59316992759705,
            4.30600023269653,
            6.69999980926514,
            1.85000002384186,
            4.34319019317627
           ],
           [
            null,
            null,
            3.42499995231628,
            0.006000000052154,
            6.37900018692017,
            9.44062042236328,
            0.467000007629395,
            2.33200001716614,
            3.66400003433228,
            3.93199992179871,
            1.98781001567841,
            4.3769998550415,
            6.07399988174438,
            1.65600001811981,
            null
           ],
           [
            null,
            null,
            2.91499996185303,
            3.65899991989136,
            7.3730001449585,
            null,
            null,
            2.21499991416931,
            3.48600006103516,
            4.20900011062622,
            null,
            3.8970000743866,
            4.76100015640259,
            1.68099999427795,
            null
           ],
           [
            null,
            null,
            2.08500003814697,
            2.68899989128113,
            4.05600023269653,
            5.48518991470337,
            null,
            2.05699992179871,
            4.21099996566772,
            5.79500007629395,
            1.55499994754791,
            4.29300022125244,
            5.98099994659424,
            1.76499998569489,
            null
           ],
           [
            26.7070007324219,
            1.34500002861023,
            null,
            3.22499990463257,
            2.31299996376038,
            4.56099987030029,
            null,
            1.68700003623962,
            3.95600008964539,
            4.4850001335144,
            1.50800001621246,
            4.63500022888184,
            6.97399997711182,
            1.8309999704361,
            null
           ],
           [
            null,
            1.01499998569489,
            null,
            null,
            0.152999997138977,
            5.52400016784668,
            null,
            null,
            3.6489999294281,
            4.58099985122681,
            1.20000004768372,
            null,
            8.14200019836426,
            1.97300004959106,
            null
           ]
          ]
         },
         "domain": {
          "x": [
           0,
           1
          ],
          "y": [
           0.515,
           1
          ]
         },
         "header": {
          "align": "left",
          "font": {
           "size": 20
          },
          "values": [
           "Country",
           "Series",
           "YR2000",
           "YR2001",
           "YR2002",
           "YR2003",
           "YR2004",
           "YR2005",
           "YR2006",
           "YR2007",
           "YR2008",
           "YR2009",
           "YR2010",
           "YR2011",
           "YR2012",
           "YR2013",
           "YR2014",
           "YR2015",
           "YR2016",
           "YR2017",
           "YR2018",
           "YR2019",
           "YR2020",
           "YR2021",
           "YR2022"
          ]
         },
         "type": "table"
        },
        {
         "cells": {
          "align": "left",
          "values": [
           [
            "Pakistan",
            "Nepal",
            "Maldives",
            "Sri Lanka",
            "India",
            "Bhutan",
            "Bangladesh",
            "Pakistan",
            "Nepal",
            "Maldives",
            "Sri Lanka",
            "India",
            "Bhutan",
            "Bangladesh",
            "Afghanistan"
           ],
           [
            "Children out of school (% of primary school age)",
            "Children out of school (% of primary school age)",
            "Children out of school (% of primary school age)",
            "Children out of school (% of primary school age)",
            "Children out of school (% of primary school age)",
            "Children out of school (% of primary school age)",
            "Children out of school (% of primary school age)",
            "Government expenditure on education, total (% of GDP)",
            "Government expenditure on education, total (% of GDP)",
            "Government expenditure on education, total (% of GDP)",
            "Government expenditure on education, total (% of GDP)",
            "Government expenditure on education, total (% of GDP)",
            "Government expenditure on education, total (% of GDP)",
            "Government expenditure on education, total (% of GDP)",
            "Government expenditure on education, total (% of GDP)"
           ],
           [
            null,
            30.7744808197021,
            2.73199009895325,
            null,
            16.9875202178955,
            38.8700103759766,
            null,
            1.83782005310059,
            2.9751501083374,
            null,
            null,
            4.32479000091553,
            5.78675985336304,
            2.12508010864258,
            null
           ],
           [
            null,
            null,
            1.60804998874664,
            1.79250001907349,
            11.8562898635864,
            36.9869117736816,
            null,
            null,
            3.70837998390198,
            null,
            null,
            null,
            5.91572999954224,
            2.17193007469177,
            null
           ],
           [
            null,
            null,
            2.34352993965149,
            1.99191999435425,
            13.4449195861816,
            null,
            null,
            null,
            3.15283989906311,
            5.79186010360718,
            null,
            null,
            null,
            2.01714992523193,
            null
           ],
           [
            null,
            22.0804595947266,
            null,
            2.61675000190735,
            8.48766040802002,
            null,
            null,
            null,
            3.11435008049011,
            5.32406997680664,
            null,
            3.61340999603271,
            null,
            2.06939005851746,
            null
           ],
           [
            null,
            20.0970897674561,
            1.77482998371124,
            3.98446011543274,
            null,
            null,
            null,
            1.76759004592896,
            3.17194008827209,
            4.66160011291504,
            null,
            3.35254001617432,
            6.60906982421875,
            1.94014000892639,
            null
           ],
           [
            null,
            null,
            2.41488003730774,
            4.23590993881226,
            null,
            28.4569797515869,
            3.37758994102478,
            2.04972004890442,
            3.3646399974823,
            5.0168399810791,
            null,
            3.18875002861023,
            7.28714990615845,
            null,
            null
           ],
           [
            null,
            null,
            2.49761009216309,
            4.58268022537231,
            null,
            23.6531200408936,
            3.5901300907135,
            2.39550995826721,
            3.60536003112793,
            4.64523983001709,
            null,
            3.14284992218018,
            null,
            2.13128995895386,
            4.68476057052612
           ],
           [
            null,
            null,
            3.55908989906311,
            5.21196985244751,
            0.91908997297287,
            null,
            null,
            2.63527011871338,
            3.51721000671387,
            4.41788005828857,
            null,
            null,
            null,
            2.20221996307373,
            4.17489528656006
           ],
           [
            null,
            null,
            5.27224016189575,
            6.10266017913818,
            0.393489986658096,
            16.7162895202637,
            8.54203033447266,
            2.74622988700867,
            3.8051700592041,
            4.470290184021,
            null,
            null,
            4.91159009933472,
            2.0545699596405,
            4.38367223739624
           ],
           [
            null,
            null,
            2.55772995948792,
            8.29146957397461,
            1.3199599981308,
            11.6914596557617,
            8.1956901550293,
            2.59078001976013,
            4.6637601852417,
            5.08168983459473,
            2.05590009689331,
            3.27824997901917,
            4.74174022674561,
            1.9394199848175,
            4.81063985824585
           ],
           [
            null,
            null,
            6.13899993896484,
            6.79112005233765,
            0.86080002784729,
            9.54932975769043,
            5.03145980834961,
            2.28687000274658,
            3.63172006607056,
            3.63328003883362,
            1.66177999973297,
            3.377690076828,
            4.12473011016846,
            null,
            3.4794499874115
           ],
           [
            null,
            2.17547988891602,
            4.64400005340576,
            7.04276990890503,
            1.31821000576019,
            9.20584011077881,
            null,
            2.22175002098083,
            3.84261989593506,
            3.08072996139526,
            1.74292004108429,
            3.79618000984192,
            4.76523017883301,
            2.13269996643066,
            3.4620099067688
           ],
           [
            null,
            1.80489003658295,
            6.19600009918213,
            7.4073600769043,
            1.23249995708466,
            8.1028003692627,
            null,
            2.13628005981445,
            3.52900004386902,
            4.96799993515015,
            1.45342004299164,
            4.08500003814697,
            null,
            2.04699993133545,
            2.60419988632202
           ],
           [
            null,
            null,
            6.61299991607666,
            0.28999999165535,
            0.425390005111694,
            9.73373985290527,
            null,
            2.49343991279602,
            3.20300006866455,
            3.95499992370605,
            1.5645899772644,
            3.84467005729675,
            5.72275018692017,
            1.96599996089935,
            3.45445990562439
           ],
           [
            null,
            1.69528996944427,
            4.64300012588501,
            6.35382986068726,
            null,
            null,
            null,
            2.46592998504639,
            3.48600006103516,
            3.89000010490417,
            1.85859000682831,
            3.8989999294281,
            6.04489994049072,
            2.09899997711182,
            3.69521999359131
           ],
           [
            null,
            1.59839999675751,
            2.84100008010864,
            3.86436009407043,
            null,
            11.379469871521,
            null,
            2.6500198841095,
            3.29399991035461,
            4.64499998092651,
            2.10998010635376,
            4.11499977111816,
            6.23799991607666,
            1.87199997901917,
            3.2558000087738
           ],
           [
            null,
            1.14783000946045,
            3.89400005340576,
            3.20425009727478,
            4.10699987411499,
            11.7899599075317,
            null,
            2.41700005531311,
            3.47699999809265,
            4.46999979019165,
            3.22929000854492,
            4.25699996948242,
            6.33699989318848,
            2.22099995613098,
            4.54397010803223
           ],
           [
            null,
            2.00387001037598,
            4.28999996185303,
            0.190999999642372,
            6.0310001373291,
            11.7133102416992,
            2.58299994468689,
            2.13700008392334,
            3.52900004386902,
            3.87299990653992,
            2.59316992759705,
            4.30600023269653,
            6.69999980926514,
            1.85000002384186,
            4.34319019317627
           ],
           [
            null,
            null,
            3.42499995231628,
            0.006000000052154,
            6.37900018692017,
            9.44062042236328,
            0.467000007629395,
            2.33200001716614,
            3.66400003433228,
            3.93199992179871,
            1.98781001567841,
            4.3769998550415,
            6.07399988174438,
            1.65600001811981,
            null
           ],
           [
            null,
            null,
            2.91499996185303,
            3.65899991989136,
            7.3730001449585,
            null,
            null,
            2.21499991416931,
            3.48600006103516,
            4.20900011062622,
            null,
            3.8970000743866,
            4.76100015640259,
            1.68099999427795,
            null
           ],
           [
            null,
            null,
            2.08500003814697,
            2.68899989128113,
            4.05600023269653,
            5.48518991470337,
            null,
            2.05699992179871,
            4.21099996566772,
            5.79500007629395,
            1.55499994754791,
            4.29300022125244,
            5.98099994659424,
            1.76499998569489,
            null
           ],
           [
            26.7070007324219,
            1.34500002861023,
            null,
            3.22499990463257,
            2.31299996376038,
            4.56099987030029,
            null,
            1.68700003623962,
            3.95600008964539,
            4.4850001335144,
            1.50800001621246,
            4.63500022888184,
            6.97399997711182,
            1.8309999704361,
            null
           ],
           [
            null,
            1.01499998569489,
            null,
            null,
            0.152999997138977,
            5.52400016784668,
            null,
            null,
            3.6489999294281,
            4.58099985122681,
            1.20000004768372,
            null,
            8.14200019836426,
            1.97300004959106,
            null
           ]
          ]
         },
         "domain": {
          "x": [
           0,
           1
          ],
          "y": [
           0.515,
           1
          ]
         },
         "header": {
          "align": "left",
          "font": {
           "size": 10
          },
          "values": [
           "Country",
           "Series",
           "YR2000",
           "YR2001",
           "YR2002",
           "YR2003",
           "YR2004",
           "YR2005",
           "YR2006",
           "YR2007",
           "YR2008",
           "YR2009",
           "YR2010",
           "YR2011",
           "YR2012",
           "YR2013",
           "YR2014",
           "YR2015",
           "YR2016",
           "YR2017",
           "YR2018",
           "YR2019",
           "YR2020",
           "YR2021",
           "YR2022"
          ]
         },
         "type": "table"
        },
        {
         "cells": {
          "align": "left",
          "values": [
           [
            "Pakistan",
            "Nepal",
            "Maldives",
            "Sri Lanka",
            "India",
            "Bhutan",
            "Bangladesh",
            "Pakistan",
            "Nepal",
            "Maldives",
            "Sri Lanka",
            "India",
            "Bhutan",
            "Bangladesh",
            "Afghanistan"
           ],
           [
            "Children out of school (% of primary school age)",
            "Children out of school (% of primary school age)",
            "Children out of school (% of primary school age)",
            "Children out of school (% of primary school age)",
            "Children out of school (% of primary school age)",
            "Children out of school (% of primary school age)",
            "Children out of school (% of primary school age)",
            "Government expenditure on education, total (% of GDP)",
            "Government expenditure on education, total (% of GDP)",
            "Government expenditure on education, total (% of GDP)",
            "Government expenditure on education, total (% of GDP)",
            "Government expenditure on education, total (% of GDP)",
            "Government expenditure on education, total (% of GDP)",
            "Government expenditure on education, total (% of GDP)",
            "Government expenditure on education, total (% of GDP)"
           ],
           [
            null,
            30.7744808197021,
            2.73199009895325,
            null,
            16.9875202178955,
            38.8700103759766,
            null,
            1.83782005310059,
            2.9751501083374,
            null,
            null,
            4.32479000091553,
            5.78675985336304,
            2.12508010864258,
            null
           ],
           [
            null,
            null,
            1.60804998874664,
            1.79250001907349,
            11.8562898635864,
            36.9869117736816,
            null,
            null,
            3.70837998390198,
            null,
            null,
            null,
            5.91572999954224,
            2.17193007469177,
            null
           ],
           [
            null,
            null,
            2.34352993965149,
            1.99191999435425,
            13.4449195861816,
            null,
            null,
            null,
            3.15283989906311,
            5.79186010360718,
            null,
            null,
            null,
            2.01714992523193,
            null
           ],
           [
            null,
            22.0804595947266,
            null,
            2.61675000190735,
            8.48766040802002,
            null,
            null,
            null,
            3.11435008049011,
            5.32406997680664,
            null,
            3.61340999603271,
            null,
            2.06939005851746,
            null
           ],
           [
            null,
            20.0970897674561,
            1.77482998371124,
            3.98446011543274,
            null,
            null,
            null,
            1.76759004592896,
            3.17194008827209,
            4.66160011291504,
            null,
            3.35254001617432,
            6.60906982421875,
            1.94014000892639,
            null
           ],
           [
            null,
            null,
            2.41488003730774,
            4.23590993881226,
            null,
            28.4569797515869,
            3.37758994102478,
            2.04972004890442,
            3.3646399974823,
            5.0168399810791,
            null,
            3.18875002861023,
            7.28714990615845,
            null,
            null
           ],
           [
            null,
            null,
            2.49761009216309,
            4.58268022537231,
            null,
            23.6531200408936,
            3.5901300907135,
            2.39550995826721,
            3.60536003112793,
            4.64523983001709,
            null,
            3.14284992218018,
            null,
            2.13128995895386,
            4.68476057052612
           ],
           [
            null,
            null,
            3.55908989906311,
            5.21196985244751,
            0.91908997297287,
            null,
            null,
            2.63527011871338,
            3.51721000671387,
            4.41788005828857,
            null,
            null,
            null,
            2.20221996307373,
            4.17489528656006
           ],
           [
            null,
            null,
            5.27224016189575,
            6.10266017913818,
            0.393489986658096,
            16.7162895202637,
            8.54203033447266,
            2.74622988700867,
            3.8051700592041,
            4.470290184021,
            null,
            null,
            4.91159009933472,
            2.0545699596405,
            4.38367223739624
           ],
           [
            null,
            null,
            2.55772995948792,
            8.29146957397461,
            1.3199599981308,
            11.6914596557617,
            8.1956901550293,
            2.59078001976013,
            4.6637601852417,
            5.08168983459473,
            2.05590009689331,
            3.27824997901917,
            4.74174022674561,
            1.9394199848175,
            4.81063985824585
           ],
           [
            null,
            null,
            6.13899993896484,
            6.79112005233765,
            0.86080002784729,
            9.54932975769043,
            5.03145980834961,
            2.28687000274658,
            3.63172006607056,
            3.63328003883362,
            1.66177999973297,
            3.377690076828,
            4.12473011016846,
            null,
            3.4794499874115
           ],
           [
            null,
            2.17547988891602,
            4.64400005340576,
            7.04276990890503,
            1.31821000576019,
            9.20584011077881,
            null,
            2.22175002098083,
            3.84261989593506,
            3.08072996139526,
            1.74292004108429,
            3.79618000984192,
            4.76523017883301,
            2.13269996643066,
            3.4620099067688
           ],
           [
            null,
            1.80489003658295,
            6.19600009918213,
            7.4073600769043,
            1.23249995708466,
            8.1028003692627,
            null,
            2.13628005981445,
            3.52900004386902,
            4.96799993515015,
            1.45342004299164,
            4.08500003814697,
            null,
            2.04699993133545,
            2.60419988632202
           ],
           [
            null,
            null,
            6.61299991607666,
            0.28999999165535,
            0.425390005111694,
            9.73373985290527,
            null,
            2.49343991279602,
            3.20300006866455,
            3.95499992370605,
            1.5645899772644,
            3.84467005729675,
            5.72275018692017,
            1.96599996089935,
            3.45445990562439
           ],
           [
            null,
            1.69528996944427,
            4.64300012588501,
            6.35382986068726,
            null,
            null,
            null,
            2.46592998504639,
            3.48600006103516,
            3.89000010490417,
            1.85859000682831,
            3.8989999294281,
            6.04489994049072,
            2.09899997711182,
            3.69521999359131
           ],
           [
            null,
            1.59839999675751,
            2.84100008010864,
            3.86436009407043,
            null,
            11.379469871521,
            null,
            2.6500198841095,
            3.29399991035461,
            4.64499998092651,
            2.10998010635376,
            4.11499977111816,
            6.23799991607666,
            1.87199997901917,
            3.2558000087738
           ],
           [
            null,
            1.14783000946045,
            3.89400005340576,
            3.20425009727478,
            4.10699987411499,
            11.7899599075317,
            null,
            2.41700005531311,
            3.47699999809265,
            4.46999979019165,
            3.22929000854492,
            4.25699996948242,
            6.33699989318848,
            2.22099995613098,
            4.54397010803223
           ],
           [
            null,
            2.00387001037598,
            4.28999996185303,
            0.190999999642372,
            6.0310001373291,
            11.7133102416992,
            2.58299994468689,
            2.13700008392334,
            3.52900004386902,
            3.87299990653992,
            2.59316992759705,
            4.30600023269653,
            6.69999980926514,
            1.85000002384186,
            4.34319019317627
           ],
           [
            null,
            null,
            3.42499995231628,
            0.006000000052154,
            6.37900018692017,
            9.44062042236328,
            0.467000007629395,
            2.33200001716614,
            3.66400003433228,
            3.93199992179871,
            1.98781001567841,
            4.3769998550415,
            6.07399988174438,
            1.65600001811981,
            null
           ],
           [
            null,
            null,
            2.91499996185303,
            3.65899991989136,
            7.3730001449585,
            null,
            null,
            2.21499991416931,
            3.48600006103516,
            4.20900011062622,
            null,
            3.8970000743866,
            4.76100015640259,
            1.68099999427795,
            null
           ],
           [
            null,
            null,
            2.08500003814697,
            2.68899989128113,
            4.05600023269653,
            5.48518991470337,
            null,
            2.05699992179871,
            4.21099996566772,
            5.79500007629395,
            1.55499994754791,
            4.29300022125244,
            5.98099994659424,
            1.76499998569489,
            null
           ],
           [
            26.7070007324219,
            1.34500002861023,
            null,
            3.22499990463257,
            2.31299996376038,
            4.56099987030029,
            null,
            1.68700003623962,
            3.95600008964539,
            4.4850001335144,
            1.50800001621246,
            4.63500022888184,
            6.97399997711182,
            1.8309999704361,
            null
           ],
           [
            null,
            1.01499998569489,
            null,
            null,
            0.152999997138977,
            5.52400016784668,
            null,
            null,
            3.6489999294281,
            4.58099985122681,
            1.20000004768372,
            null,
            8.14200019836426,
            1.97300004959106,
            null
           ]
          ]
         },
         "columnwidth": 0.5,
         "domain": {
          "x": [
           0,
           1
          ],
          "y": [
           0.515,
           1
          ]
         },
         "header": {
          "align": "left",
          "font": {
           "size": 10
          },
          "values": [
           "Country",
           "Series",
           "YR2000",
           "YR2001",
           "YR2002",
           "YR2003",
           "YR2004",
           "YR2005",
           "YR2006",
           "YR2007",
           "YR2008",
           "YR2009",
           "YR2010",
           "YR2011",
           "YR2012",
           "YR2013",
           "YR2014",
           "YR2015",
           "YR2016",
           "YR2017",
           "YR2018",
           "YR2019",
           "YR2020",
           "YR2021",
           "YR2022"
          ]
         },
         "type": "table"
        },
        {
         "cells": {
          "align": "left",
          "values": [
           [
            "Pakistan",
            "Nepal",
            "Maldives",
            "Sri Lanka",
            "India",
            "Bhutan",
            "Bangladesh",
            "Pakistan",
            "Nepal",
            "Maldives",
            "Sri Lanka",
            "India",
            "Bhutan",
            "Bangladesh",
            "Afghanistan"
           ],
           [
            "Children out of school (% of primary school age)",
            "Children out of school (% of primary school age)",
            "Children out of school (% of primary school age)",
            "Children out of school (% of primary school age)",
            "Children out of school (% of primary school age)",
            "Children out of school (% of primary school age)",
            "Children out of school (% of primary school age)",
            "Government expenditure on education, total (% of GDP)",
            "Government expenditure on education, total (% of GDP)",
            "Government expenditure on education, total (% of GDP)",
            "Government expenditure on education, total (% of GDP)",
            "Government expenditure on education, total (% of GDP)",
            "Government expenditure on education, total (% of GDP)",
            "Government expenditure on education, total (% of GDP)",
            "Government expenditure on education, total (% of GDP)"
           ],
           [
            null,
            30.7744808197021,
            2.73199009895325,
            null,
            16.9875202178955,
            38.8700103759766,
            null,
            1.83782005310059,
            2.9751501083374,
            null,
            null,
            4.32479000091553,
            5.78675985336304,
            2.12508010864258,
            null
           ],
           [
            null,
            null,
            1.60804998874664,
            1.79250001907349,
            11.8562898635864,
            36.9869117736816,
            null,
            null,
            3.70837998390198,
            null,
            null,
            null,
            5.91572999954224,
            2.17193007469177,
            null
           ],
           [
            null,
            null,
            2.34352993965149,
            1.99191999435425,
            13.4449195861816,
            null,
            null,
            null,
            3.15283989906311,
            5.79186010360718,
            null,
            null,
            null,
            2.01714992523193,
            null
           ],
           [
            null,
            22.0804595947266,
            null,
            2.61675000190735,
            8.48766040802002,
            null,
            null,
            null,
            3.11435008049011,
            5.32406997680664,
            null,
            3.61340999603271,
            null,
            2.06939005851746,
            null
           ],
           [
            null,
            20.0970897674561,
            1.77482998371124,
            3.98446011543274,
            null,
            null,
            null,
            1.76759004592896,
            3.17194008827209,
            4.66160011291504,
            null,
            3.35254001617432,
            6.60906982421875,
            1.94014000892639,
            null
           ],
           [
            null,
            null,
            2.41488003730774,
            4.23590993881226,
            null,
            28.4569797515869,
            3.37758994102478,
            2.04972004890442,
            3.3646399974823,
            5.0168399810791,
            null,
            3.18875002861023,
            7.28714990615845,
            null,
            null
           ],
           [
            null,
            null,
            2.49761009216309,
            4.58268022537231,
            null,
            23.6531200408936,
            3.5901300907135,
            2.39550995826721,
            3.60536003112793,
            4.64523983001709,
            null,
            3.14284992218018,
            null,
            2.13128995895386,
            4.68476057052612
           ],
           [
            null,
            null,
            3.55908989906311,
            5.21196985244751,
            0.91908997297287,
            null,
            null,
            2.63527011871338,
            3.51721000671387,
            4.41788005828857,
            null,
            null,
            null,
            2.20221996307373,
            4.17489528656006
           ],
           [
            null,
            null,
            5.27224016189575,
            6.10266017913818,
            0.393489986658096,
            16.7162895202637,
            8.54203033447266,
            2.74622988700867,
            3.8051700592041,
            4.470290184021,
            null,
            null,
            4.91159009933472,
            2.0545699596405,
            4.38367223739624
           ],
           [
            null,
            null,
            2.55772995948792,
            8.29146957397461,
            1.3199599981308,
            11.6914596557617,
            8.1956901550293,
            2.59078001976013,
            4.6637601852417,
            5.08168983459473,
            2.05590009689331,
            3.27824997901917,
            4.74174022674561,
            1.9394199848175,
            4.81063985824585
           ],
           [
            null,
            null,
            6.13899993896484,
            6.79112005233765,
            0.86080002784729,
            9.54932975769043,
            5.03145980834961,
            2.28687000274658,
            3.63172006607056,
            3.63328003883362,
            1.66177999973297,
            3.377690076828,
            4.12473011016846,
            null,
            3.4794499874115
           ],
           [
            null,
            2.17547988891602,
            4.64400005340576,
            7.04276990890503,
            1.31821000576019,
            9.20584011077881,
            null,
            2.22175002098083,
            3.84261989593506,
            3.08072996139526,
            1.74292004108429,
            3.79618000984192,
            4.76523017883301,
            2.13269996643066,
            3.4620099067688
           ],
           [
            null,
            1.80489003658295,
            6.19600009918213,
            7.4073600769043,
            1.23249995708466,
            8.1028003692627,
            null,
            2.13628005981445,
            3.52900004386902,
            4.96799993515015,
            1.45342004299164,
            4.08500003814697,
            null,
            2.04699993133545,
            2.60419988632202
           ],
           [
            null,
            null,
            6.61299991607666,
            0.28999999165535,
            0.425390005111694,
            9.73373985290527,
            null,
            2.49343991279602,
            3.20300006866455,
            3.95499992370605,
            1.5645899772644,
            3.84467005729675,
            5.72275018692017,
            1.96599996089935,
            3.45445990562439
           ],
           [
            null,
            1.69528996944427,
            4.64300012588501,
            6.35382986068726,
            null,
            null,
            null,
            2.46592998504639,
            3.48600006103516,
            3.89000010490417,
            1.85859000682831,
            3.8989999294281,
            6.04489994049072,
            2.09899997711182,
            3.69521999359131
           ],
           [
            null,
            1.59839999675751,
            2.84100008010864,
            3.86436009407043,
            null,
            11.379469871521,
            null,
            2.6500198841095,
            3.29399991035461,
            4.64499998092651,
            2.10998010635376,
            4.11499977111816,
            6.23799991607666,
            1.87199997901917,
            3.2558000087738
           ],
           [
            null,
            1.14783000946045,
            3.89400005340576,
            3.20425009727478,
            4.10699987411499,
            11.7899599075317,
            null,
            2.41700005531311,
            3.47699999809265,
            4.46999979019165,
            3.22929000854492,
            4.25699996948242,
            6.33699989318848,
            2.22099995613098,
            4.54397010803223
           ],
           [
            null,
            2.00387001037598,
            4.28999996185303,
            0.190999999642372,
            6.0310001373291,
            11.7133102416992,
            2.58299994468689,
            2.13700008392334,
            3.52900004386902,
            3.87299990653992,
            2.59316992759705,
            4.30600023269653,
            6.69999980926514,
            1.85000002384186,
            4.34319019317627
           ],
           [
            null,
            null,
            3.42499995231628,
            0.006000000052154,
            6.37900018692017,
            9.44062042236328,
            0.467000007629395,
            2.33200001716614,
            3.66400003433228,
            3.93199992179871,
            1.98781001567841,
            4.3769998550415,
            6.07399988174438,
            1.65600001811981,
            null
           ],
           [
            null,
            null,
            2.91499996185303,
            3.65899991989136,
            7.3730001449585,
            null,
            null,
            2.21499991416931,
            3.48600006103516,
            4.20900011062622,
            null,
            3.8970000743866,
            4.76100015640259,
            1.68099999427795,
            null
           ],
           [
            null,
            null,
            2.08500003814697,
            2.68899989128113,
            4.05600023269653,
            5.48518991470337,
            null,
            2.05699992179871,
            4.21099996566772,
            5.79500007629395,
            1.55499994754791,
            4.29300022125244,
            5.98099994659424,
            1.76499998569489,
            null
           ],
           [
            26.7070007324219,
            1.34500002861023,
            null,
            3.22499990463257,
            2.31299996376038,
            4.56099987030029,
            null,
            1.68700003623962,
            3.95600008964539,
            4.4850001335144,
            1.50800001621246,
            4.63500022888184,
            6.97399997711182,
            1.8309999704361,
            null
           ],
           [
            null,
            1.01499998569489,
            null,
            null,
            0.152999997138977,
            5.52400016784668,
            null,
            null,
            3.6489999294281,
            4.58099985122681,
            1.20000004768372,
            null,
            8.14200019836426,
            1.97300004959106,
            null
           ]
          ]
         },
         "columnwidth": 4,
         "domain": {
          "x": [
           0,
           1
          ],
          "y": [
           0.515,
           1
          ]
         },
         "header": {
          "align": "left",
          "font": {
           "size": 10
          },
          "values": [
           "Country",
           "Series",
           "YR2000",
           "YR2001",
           "YR2002",
           "YR2003",
           "YR2004",
           "YR2005",
           "YR2006",
           "YR2007",
           "YR2008",
           "YR2009",
           "YR2010",
           "YR2011",
           "YR2012",
           "YR2013",
           "YR2014",
           "YR2015",
           "YR2016",
           "YR2017",
           "YR2018",
           "YR2019",
           "YR2020",
           "YR2021",
           "YR2022"
          ]
         },
         "type": "table"
        },
        {
         "cells": {
          "align": "center",
          "values": [
           [
            "Pakistan",
            "Nepal",
            "Maldives",
            "Sri Lanka",
            "India",
            "Bhutan",
            "Bangladesh",
            "Pakistan",
            "Nepal",
            "Maldives",
            "Sri Lanka",
            "India",
            "Bhutan",
            "Bangladesh",
            "Afghanistan"
           ],
           [
            "Children out of school (% of primary school age)",
            "Children out of school (% of primary school age)",
            "Children out of school (% of primary school age)",
            "Children out of school (% of primary school age)",
            "Children out of school (% of primary school age)",
            "Children out of school (% of primary school age)",
            "Children out of school (% of primary school age)",
            "Government expenditure on education, total (% of GDP)",
            "Government expenditure on education, total (% of GDP)",
            "Government expenditure on education, total (% of GDP)",
            "Government expenditure on education, total (% of GDP)",
            "Government expenditure on education, total (% of GDP)",
            "Government expenditure on education, total (% of GDP)",
            "Government expenditure on education, total (% of GDP)",
            "Government expenditure on education, total (% of GDP)"
           ],
           [
            null,
            30.7744808197021,
            2.73199009895325,
            null,
            16.9875202178955,
            38.8700103759766,
            null,
            1.83782005310059,
            2.9751501083374,
            null,
            null,
            4.32479000091553,
            5.78675985336304,
            2.12508010864258,
            null
           ],
           [
            null,
            null,
            1.60804998874664,
            1.79250001907349,
            11.8562898635864,
            36.9869117736816,
            null,
            null,
            3.70837998390198,
            null,
            null,
            null,
            5.91572999954224,
            2.17193007469177,
            null
           ],
           [
            null,
            null,
            2.34352993965149,
            1.99191999435425,
            13.4449195861816,
            null,
            null,
            null,
            3.15283989906311,
            5.79186010360718,
            null,
            null,
            null,
            2.01714992523193,
            null
           ],
           [
            null,
            22.0804595947266,
            null,
            2.61675000190735,
            8.48766040802002,
            null,
            null,
            null,
            3.11435008049011,
            5.32406997680664,
            null,
            3.61340999603271,
            null,
            2.06939005851746,
            null
           ],
           [
            null,
            20.0970897674561,
            1.77482998371124,
            3.98446011543274,
            null,
            null,
            null,
            1.76759004592896,
            3.17194008827209,
            4.66160011291504,
            null,
            3.35254001617432,
            6.60906982421875,
            1.94014000892639,
            null
           ],
           [
            null,
            null,
            2.41488003730774,
            4.23590993881226,
            null,
            28.4569797515869,
            3.37758994102478,
            2.04972004890442,
            3.3646399974823,
            5.0168399810791,
            null,
            3.18875002861023,
            7.28714990615845,
            null,
            null
           ],
           [
            null,
            null,
            2.49761009216309,
            4.58268022537231,
            null,
            23.6531200408936,
            3.5901300907135,
            2.39550995826721,
            3.60536003112793,
            4.64523983001709,
            null,
            3.14284992218018,
            null,
            2.13128995895386,
            4.68476057052612
           ],
           [
            null,
            null,
            3.55908989906311,
            5.21196985244751,
            0.91908997297287,
            null,
            null,
            2.63527011871338,
            3.51721000671387,
            4.41788005828857,
            null,
            null,
            null,
            2.20221996307373,
            4.17489528656006
           ],
           [
            null,
            null,
            5.27224016189575,
            6.10266017913818,
            0.393489986658096,
            16.7162895202637,
            8.54203033447266,
            2.74622988700867,
            3.8051700592041,
            4.470290184021,
            null,
            null,
            4.91159009933472,
            2.0545699596405,
            4.38367223739624
           ],
           [
            null,
            null,
            2.55772995948792,
            8.29146957397461,
            1.3199599981308,
            11.6914596557617,
            8.1956901550293,
            2.59078001976013,
            4.6637601852417,
            5.08168983459473,
            2.05590009689331,
            3.27824997901917,
            4.74174022674561,
            1.9394199848175,
            4.81063985824585
           ],
           [
            null,
            null,
            6.13899993896484,
            6.79112005233765,
            0.86080002784729,
            9.54932975769043,
            5.03145980834961,
            2.28687000274658,
            3.63172006607056,
            3.63328003883362,
            1.66177999973297,
            3.377690076828,
            4.12473011016846,
            null,
            3.4794499874115
           ],
           [
            null,
            2.17547988891602,
            4.64400005340576,
            7.04276990890503,
            1.31821000576019,
            9.20584011077881,
            null,
            2.22175002098083,
            3.84261989593506,
            3.08072996139526,
            1.74292004108429,
            3.79618000984192,
            4.76523017883301,
            2.13269996643066,
            3.4620099067688
           ],
           [
            null,
            1.80489003658295,
            6.19600009918213,
            7.4073600769043,
            1.23249995708466,
            8.1028003692627,
            null,
            2.13628005981445,
            3.52900004386902,
            4.96799993515015,
            1.45342004299164,
            4.08500003814697,
            null,
            2.04699993133545,
            2.60419988632202
           ],
           [
            null,
            null,
            6.61299991607666,
            0.28999999165535,
            0.425390005111694,
            9.73373985290527,
            null,
            2.49343991279602,
            3.20300006866455,
            3.95499992370605,
            1.5645899772644,
            3.84467005729675,
            5.72275018692017,
            1.96599996089935,
            3.45445990562439
           ],
           [
            null,
            1.69528996944427,
            4.64300012588501,
            6.35382986068726,
            null,
            null,
            null,
            2.46592998504639,
            3.48600006103516,
            3.89000010490417,
            1.85859000682831,
            3.8989999294281,
            6.04489994049072,
            2.09899997711182,
            3.69521999359131
           ],
           [
            null,
            1.59839999675751,
            2.84100008010864,
            3.86436009407043,
            null,
            11.379469871521,
            null,
            2.6500198841095,
            3.29399991035461,
            4.64499998092651,
            2.10998010635376,
            4.11499977111816,
            6.23799991607666,
            1.87199997901917,
            3.2558000087738
           ],
           [
            null,
            1.14783000946045,
            3.89400005340576,
            3.20425009727478,
            4.10699987411499,
            11.7899599075317,
            null,
            2.41700005531311,
            3.47699999809265,
            4.46999979019165,
            3.22929000854492,
            4.25699996948242,
            6.33699989318848,
            2.22099995613098,
            4.54397010803223
           ],
           [
            null,
            2.00387001037598,
            4.28999996185303,
            0.190999999642372,
            6.0310001373291,
            11.7133102416992,
            2.58299994468689,
            2.13700008392334,
            3.52900004386902,
            3.87299990653992,
            2.59316992759705,
            4.30600023269653,
            6.69999980926514,
            1.85000002384186,
            4.34319019317627
           ],
           [
            null,
            null,
            3.42499995231628,
            0.006000000052154,
            6.37900018692017,
            9.44062042236328,
            0.467000007629395,
            2.33200001716614,
            3.66400003433228,
            3.93199992179871,
            1.98781001567841,
            4.3769998550415,
            6.07399988174438,
            1.65600001811981,
            null
           ],
           [
            null,
            null,
            2.91499996185303,
            3.65899991989136,
            7.3730001449585,
            null,
            null,
            2.21499991416931,
            3.48600006103516,
            4.20900011062622,
            null,
            3.8970000743866,
            4.76100015640259,
            1.68099999427795,
            null
           ],
           [
            null,
            null,
            2.08500003814697,
            2.68899989128113,
            4.05600023269653,
            5.48518991470337,
            null,
            2.05699992179871,
            4.21099996566772,
            5.79500007629395,
            1.55499994754791,
            4.29300022125244,
            5.98099994659424,
            1.76499998569489,
            null
           ],
           [
            26.7070007324219,
            1.34500002861023,
            null,
            3.22499990463257,
            2.31299996376038,
            4.56099987030029,
            null,
            1.68700003623962,
            3.95600008964539,
            4.4850001335144,
            1.50800001621246,
            4.63500022888184,
            6.97399997711182,
            1.8309999704361,
            null
           ],
           [
            null,
            1.01499998569489,
            null,
            null,
            0.152999997138977,
            5.52400016784668,
            null,
            null,
            3.6489999294281,
            4.58099985122681,
            1.20000004768372,
            null,
            8.14200019836426,
            1.97300004959106,
            null
           ]
          ]
         },
         "columnwidth": 4,
         "domain": {
          "x": [
           0,
           1
          ],
          "y": [
           0.515,
           1
          ]
         },
         "header": {
          "align": "center",
          "font": {
           "size": 10
          },
          "values": [
           "Country",
           "Series",
           "YR2000",
           "YR2001",
           "YR2002",
           "YR2003",
           "YR2004",
           "YR2005",
           "YR2006",
           "YR2007",
           "YR2008",
           "YR2009",
           "YR2010",
           "YR2011",
           "YR2012",
           "YR2013",
           "YR2014",
           "YR2015",
           "YR2016",
           "YR2017",
           "YR2018",
           "YR2019",
           "YR2020",
           "YR2021",
           "YR2022"
          ]
         },
         "type": "table"
        },
        {
         "cells": {
          "align": "center",
          "values": [
           [
            "Pakistan",
            "Nepal",
            "Maldives",
            "Sri Lanka",
            "India",
            "Bhutan",
            "Bangladesh",
            "Pakistan",
            "Nepal",
            "Maldives",
            "Sri Lanka",
            "India",
            "Bhutan",
            "Bangladesh",
            "Afghanistan"
           ],
           [
            "Children out of school (% of primary school age)",
            "Children out of school (% of primary school age)",
            "Children out of school (% of primary school age)",
            "Children out of school (% of primary school age)",
            "Children out of school (% of primary school age)",
            "Children out of school (% of primary school age)",
            "Children out of school (% of primary school age)",
            "Government expenditure on education, total (% of GDP)",
            "Government expenditure on education, total (% of GDP)",
            "Government expenditure on education, total (% of GDP)",
            "Government expenditure on education, total (% of GDP)",
            "Government expenditure on education, total (% of GDP)",
            "Government expenditure on education, total (% of GDP)",
            "Government expenditure on education, total (% of GDP)",
            "Government expenditure on education, total (% of GDP)"
           ],
           [
            null,
            30.7744808197021,
            2.73199009895325,
            null,
            16.9875202178955,
            38.8700103759766,
            null,
            1.83782005310059,
            2.9751501083374,
            null,
            null,
            4.32479000091553,
            5.78675985336304,
            2.12508010864258,
            null
           ],
           [
            null,
            null,
            1.60804998874664,
            1.79250001907349,
            11.8562898635864,
            36.9869117736816,
            null,
            null,
            3.70837998390198,
            null,
            null,
            null,
            5.91572999954224,
            2.17193007469177,
            null
           ],
           [
            null,
            null,
            2.34352993965149,
            1.99191999435425,
            13.4449195861816,
            null,
            null,
            null,
            3.15283989906311,
            5.79186010360718,
            null,
            null,
            null,
            2.01714992523193,
            null
           ],
           [
            null,
            22.0804595947266,
            null,
            2.61675000190735,
            8.48766040802002,
            null,
            null,
            null,
            3.11435008049011,
            5.32406997680664,
            null,
            3.61340999603271,
            null,
            2.06939005851746,
            null
           ],
           [
            null,
            20.0970897674561,
            1.77482998371124,
            3.98446011543274,
            null,
            null,
            null,
            1.76759004592896,
            3.17194008827209,
            4.66160011291504,
            null,
            3.35254001617432,
            6.60906982421875,
            1.94014000892639,
            null
           ],
           [
            null,
            null,
            2.41488003730774,
            4.23590993881226,
            null,
            28.4569797515869,
            3.37758994102478,
            2.04972004890442,
            3.3646399974823,
            5.0168399810791,
            null,
            3.18875002861023,
            7.28714990615845,
            null,
            null
           ],
           [
            null,
            null,
            2.49761009216309,
            4.58268022537231,
            null,
            23.6531200408936,
            3.5901300907135,
            2.39550995826721,
            3.60536003112793,
            4.64523983001709,
            null,
            3.14284992218018,
            null,
            2.13128995895386,
            4.68476057052612
           ],
           [
            null,
            null,
            3.55908989906311,
            5.21196985244751,
            0.91908997297287,
            null,
            null,
            2.63527011871338,
            3.51721000671387,
            4.41788005828857,
            null,
            null,
            null,
            2.20221996307373,
            4.17489528656006
           ],
           [
            null,
            null,
            5.27224016189575,
            6.10266017913818,
            0.393489986658096,
            16.7162895202637,
            8.54203033447266,
            2.74622988700867,
            3.8051700592041,
            4.470290184021,
            null,
            null,
            4.91159009933472,
            2.0545699596405,
            4.38367223739624
           ],
           [
            null,
            null,
            2.55772995948792,
            8.29146957397461,
            1.3199599981308,
            11.6914596557617,
            8.1956901550293,
            2.59078001976013,
            4.6637601852417,
            5.08168983459473,
            2.05590009689331,
            3.27824997901917,
            4.74174022674561,
            1.9394199848175,
            4.81063985824585
           ],
           [
            null,
            null,
            6.13899993896484,
            6.79112005233765,
            0.86080002784729,
            9.54932975769043,
            5.03145980834961,
            2.28687000274658,
            3.63172006607056,
            3.63328003883362,
            1.66177999973297,
            3.377690076828,
            4.12473011016846,
            null,
            3.4794499874115
           ],
           [
            null,
            2.17547988891602,
            4.64400005340576,
            7.04276990890503,
            1.31821000576019,
            9.20584011077881,
            null,
            2.22175002098083,
            3.84261989593506,
            3.08072996139526,
            1.74292004108429,
            3.79618000984192,
            4.76523017883301,
            2.13269996643066,
            3.4620099067688
           ],
           [
            null,
            1.80489003658295,
            6.19600009918213,
            7.4073600769043,
            1.23249995708466,
            8.1028003692627,
            null,
            2.13628005981445,
            3.52900004386902,
            4.96799993515015,
            1.45342004299164,
            4.08500003814697,
            null,
            2.04699993133545,
            2.60419988632202
           ],
           [
            null,
            null,
            6.61299991607666,
            0.28999999165535,
            0.425390005111694,
            9.73373985290527,
            null,
            2.49343991279602,
            3.20300006866455,
            3.95499992370605,
            1.5645899772644,
            3.84467005729675,
            5.72275018692017,
            1.96599996089935,
            3.45445990562439
           ],
           [
            null,
            1.69528996944427,
            4.64300012588501,
            6.35382986068726,
            null,
            null,
            null,
            2.46592998504639,
            3.48600006103516,
            3.89000010490417,
            1.85859000682831,
            3.8989999294281,
            6.04489994049072,
            2.09899997711182,
            3.69521999359131
           ],
           [
            null,
            1.59839999675751,
            2.84100008010864,
            3.86436009407043,
            null,
            11.379469871521,
            null,
            2.6500198841095,
            3.29399991035461,
            4.64499998092651,
            2.10998010635376,
            4.11499977111816,
            6.23799991607666,
            1.87199997901917,
            3.2558000087738
           ],
           [
            null,
            1.14783000946045,
            3.89400005340576,
            3.20425009727478,
            4.10699987411499,
            11.7899599075317,
            null,
            2.41700005531311,
            3.47699999809265,
            4.46999979019165,
            3.22929000854492,
            4.25699996948242,
            6.33699989318848,
            2.22099995613098,
            4.54397010803223
           ],
           [
            null,
            2.00387001037598,
            4.28999996185303,
            0.190999999642372,
            6.0310001373291,
            11.7133102416992,
            2.58299994468689,
            2.13700008392334,
            3.52900004386902,
            3.87299990653992,
            2.59316992759705,
            4.30600023269653,
            6.69999980926514,
            1.85000002384186,
            4.34319019317627
           ],
           [
            null,
            null,
            3.42499995231628,
            0.006000000052154,
            6.37900018692017,
            9.44062042236328,
            0.467000007629395,
            2.33200001716614,
            3.66400003433228,
            3.93199992179871,
            1.98781001567841,
            4.3769998550415,
            6.07399988174438,
            1.65600001811981,
            null
           ],
           [
            null,
            null,
            2.91499996185303,
            3.65899991989136,
            7.3730001449585,
            null,
            null,
            2.21499991416931,
            3.48600006103516,
            4.20900011062622,
            null,
            3.8970000743866,
            4.76100015640259,
            1.68099999427795,
            null
           ],
           [
            null,
            null,
            2.08500003814697,
            2.68899989128113,
            4.05600023269653,
            5.48518991470337,
            null,
            2.05699992179871,
            4.21099996566772,
            5.79500007629395,
            1.55499994754791,
            4.29300022125244,
            5.98099994659424,
            1.76499998569489,
            null
           ],
           [
            26.7070007324219,
            1.34500002861023,
            null,
            3.22499990463257,
            2.31299996376038,
            4.56099987030029,
            null,
            1.68700003623962,
            3.95600008964539,
            4.4850001335144,
            1.50800001621246,
            4.63500022888184,
            6.97399997711182,
            1.8309999704361,
            null
           ],
           [
            null,
            1.01499998569489,
            null,
            null,
            0.152999997138977,
            5.52400016784668,
            null,
            null,
            3.6489999294281,
            4.58099985122681,
            1.20000004768372,
            null,
            8.14200019836426,
            1.97300004959106,
            null
           ]
          ]
         },
         "domain": {
          "x": [
           0,
           1
          ],
          "y": [
           0.515,
           1
          ]
         },
         "header": {
          "align": "center",
          "font": {
           "size": 10
          },
          "values": [
           "Country",
           "Series",
           "YR2000",
           "YR2001",
           "YR2002",
           "YR2003",
           "YR2004",
           "YR2005",
           "YR2006",
           "YR2007",
           "YR2008",
           "YR2009",
           "YR2010",
           "YR2011",
           "YR2012",
           "YR2013",
           "YR2014",
           "YR2015",
           "YR2016",
           "YR2017",
           "YR2018",
           "YR2019",
           "YR2020",
           "YR2021",
           "YR2022"
          ]
         },
         "type": "table"
        },
        {
         "cells": {
          "align": "center",
          "values": [
           [
            "Pakistan",
            "Nepal",
            "Maldives",
            "Sri Lanka",
            "India",
            "Bhutan",
            "Bangladesh",
            "Pakistan",
            "Nepal",
            "Maldives",
            "Sri Lanka",
            "India",
            "Bhutan",
            "Bangladesh",
            "Afghanistan"
           ],
           [
            "Children out of school (% of primary school age)",
            "Children out of school (% of primary school age)",
            "Children out of school (% of primary school age)",
            "Children out of school (% of primary school age)",
            "Children out of school (% of primary school age)",
            "Children out of school (% of primary school age)",
            "Children out of school (% of primary school age)",
            "Government expenditure on education, total (% of GDP)",
            "Government expenditure on education, total (% of GDP)",
            "Government expenditure on education, total (% of GDP)",
            "Government expenditure on education, total (% of GDP)",
            "Government expenditure on education, total (% of GDP)",
            "Government expenditure on education, total (% of GDP)",
            "Government expenditure on education, total (% of GDP)",
            "Government expenditure on education, total (% of GDP)"
           ],
           [
            null,
            30.7744808197021,
            2.73199009895325,
            null,
            16.9875202178955,
            38.8700103759766,
            null,
            1.83782005310059,
            2.9751501083374,
            null,
            null,
            4.32479000091553,
            5.78675985336304,
            2.12508010864258,
            null
           ],
           [
            null,
            null,
            1.60804998874664,
            1.79250001907349,
            11.8562898635864,
            36.9869117736816,
            null,
            null,
            3.70837998390198,
            null,
            null,
            null,
            5.91572999954224,
            2.17193007469177,
            null
           ],
           [
            null,
            null,
            2.34352993965149,
            1.99191999435425,
            13.4449195861816,
            null,
            null,
            null,
            3.15283989906311,
            5.79186010360718,
            null,
            null,
            null,
            2.01714992523193,
            null
           ],
           [
            null,
            22.0804595947266,
            null,
            2.61675000190735,
            8.48766040802002,
            null,
            null,
            null,
            3.11435008049011,
            5.32406997680664,
            null,
            3.61340999603271,
            null,
            2.06939005851746,
            null
           ],
           [
            null,
            20.0970897674561,
            1.77482998371124,
            3.98446011543274,
            null,
            null,
            null,
            1.76759004592896,
            3.17194008827209,
            4.66160011291504,
            null,
            3.35254001617432,
            6.60906982421875,
            1.94014000892639,
            null
           ],
           [
            null,
            null,
            2.41488003730774,
            4.23590993881226,
            null,
            28.4569797515869,
            3.37758994102478,
            2.04972004890442,
            3.3646399974823,
            5.0168399810791,
            null,
            3.18875002861023,
            7.28714990615845,
            null,
            null
           ],
           [
            null,
            null,
            2.49761009216309,
            4.58268022537231,
            null,
            23.6531200408936,
            3.5901300907135,
            2.39550995826721,
            3.60536003112793,
            4.64523983001709,
            null,
            3.14284992218018,
            null,
            2.13128995895386,
            4.68476057052612
           ],
           [
            null,
            null,
            3.55908989906311,
            5.21196985244751,
            0.91908997297287,
            null,
            null,
            2.63527011871338,
            3.51721000671387,
            4.41788005828857,
            null,
            null,
            null,
            2.20221996307373,
            4.17489528656006
           ],
           [
            null,
            null,
            5.27224016189575,
            6.10266017913818,
            0.393489986658096,
            16.7162895202637,
            8.54203033447266,
            2.74622988700867,
            3.8051700592041,
            4.470290184021,
            null,
            null,
            4.91159009933472,
            2.0545699596405,
            4.38367223739624
           ],
           [
            null,
            null,
            2.55772995948792,
            8.29146957397461,
            1.3199599981308,
            11.6914596557617,
            8.1956901550293,
            2.59078001976013,
            4.6637601852417,
            5.08168983459473,
            2.05590009689331,
            3.27824997901917,
            4.74174022674561,
            1.9394199848175,
            4.81063985824585
           ],
           [
            null,
            null,
            6.13899993896484,
            6.79112005233765,
            0.86080002784729,
            9.54932975769043,
            5.03145980834961,
            2.28687000274658,
            3.63172006607056,
            3.63328003883362,
            1.66177999973297,
            3.377690076828,
            4.12473011016846,
            null,
            3.4794499874115
           ],
           [
            null,
            2.17547988891602,
            4.64400005340576,
            7.04276990890503,
            1.31821000576019,
            9.20584011077881,
            null,
            2.22175002098083,
            3.84261989593506,
            3.08072996139526,
            1.74292004108429,
            3.79618000984192,
            4.76523017883301,
            2.13269996643066,
            3.4620099067688
           ],
           [
            null,
            1.80489003658295,
            6.19600009918213,
            7.4073600769043,
            1.23249995708466,
            8.1028003692627,
            null,
            2.13628005981445,
            3.52900004386902,
            4.96799993515015,
            1.45342004299164,
            4.08500003814697,
            null,
            2.04699993133545,
            2.60419988632202
           ],
           [
            null,
            null,
            6.61299991607666,
            0.28999999165535,
            0.425390005111694,
            9.73373985290527,
            null,
            2.49343991279602,
            3.20300006866455,
            3.95499992370605,
            1.5645899772644,
            3.84467005729675,
            5.72275018692017,
            1.96599996089935,
            3.45445990562439
           ],
           [
            null,
            1.69528996944427,
            4.64300012588501,
            6.35382986068726,
            null,
            null,
            null,
            2.46592998504639,
            3.48600006103516,
            3.89000010490417,
            1.85859000682831,
            3.8989999294281,
            6.04489994049072,
            2.09899997711182,
            3.69521999359131
           ],
           [
            null,
            1.59839999675751,
            2.84100008010864,
            3.86436009407043,
            null,
            11.379469871521,
            null,
            2.6500198841095,
            3.29399991035461,
            4.64499998092651,
            2.10998010635376,
            4.11499977111816,
            6.23799991607666,
            1.87199997901917,
            3.2558000087738
           ],
           [
            null,
            1.14783000946045,
            3.89400005340576,
            3.20425009727478,
            4.10699987411499,
            11.7899599075317,
            null,
            2.41700005531311,
            3.47699999809265,
            4.46999979019165,
            3.22929000854492,
            4.25699996948242,
            6.33699989318848,
            2.22099995613098,
            4.54397010803223
           ],
           [
            null,
            2.00387001037598,
            4.28999996185303,
            0.190999999642372,
            6.0310001373291,
            11.7133102416992,
            2.58299994468689,
            2.13700008392334,
            3.52900004386902,
            3.87299990653992,
            2.59316992759705,
            4.30600023269653,
            6.69999980926514,
            1.85000002384186,
            4.34319019317627
           ],
           [
            null,
            null,
            3.42499995231628,
            0.006000000052154,
            6.37900018692017,
            9.44062042236328,
            0.467000007629395,
            2.33200001716614,
            3.66400003433228,
            3.93199992179871,
            1.98781001567841,
            4.3769998550415,
            6.07399988174438,
            1.65600001811981,
            null
           ],
           [
            null,
            null,
            2.91499996185303,
            3.65899991989136,
            7.3730001449585,
            null,
            null,
            2.21499991416931,
            3.48600006103516,
            4.20900011062622,
            null,
            3.8970000743866,
            4.76100015640259,
            1.68099999427795,
            null
           ],
           [
            null,
            null,
            2.08500003814697,
            2.68899989128113,
            4.05600023269653,
            5.48518991470337,
            null,
            2.05699992179871,
            4.21099996566772,
            5.79500007629395,
            1.55499994754791,
            4.29300022125244,
            5.98099994659424,
            1.76499998569489,
            null
           ],
           [
            26.7070007324219,
            1.34500002861023,
            null,
            3.22499990463257,
            2.31299996376038,
            4.56099987030029,
            null,
            1.68700003623962,
            3.95600008964539,
            4.4850001335144,
            1.50800001621246,
            4.63500022888184,
            6.97399997711182,
            1.8309999704361,
            null
           ],
           [
            null,
            1.01499998569489,
            null,
            null,
            0.152999997138977,
            5.52400016784668,
            null,
            null,
            3.6489999294281,
            4.58099985122681,
            1.20000004768372,
            null,
            8.14200019836426,
            1.97300004959106,
            null
           ]
          ]
         },
         "domain": {
          "x": [
           0,
           1
          ],
          "y": [
           0.515,
           1
          ]
         },
         "header": {
          "align": "center",
          "font": {
           "size": 10
          },
          "values": [
           "<br>Country<br>",
           "<br>Series<br>",
           "<br>YR2000<br>",
           "<br>YR2001<br>",
           "<br>YR2002<br>",
           "<br>YR2003<br>",
           "<br>YR2004<br>",
           "<br>YR2005<br>",
           "<br>YR2006<br>",
           "<br>YR2007<br>",
           "<br>YR2008<br>",
           "<br>YR2009<br>",
           "<br>YR2010<br>",
           "<br>YR2011<br>",
           "<br>YR2012<br>",
           "<br>YR2013<br>",
           "<br>YR2014<br>",
           "<br>YR2015<br>",
           "<br>YR2016<br>",
           "<br>YR2017<br>",
           "<br>YR2018<br>",
           "<br>YR2019<br>",
           "<br>YR2020<br>",
           "<br>YR2021<br>",
           "<br>YR2022<br>"
          ]
         },
         "type": "table"
        },
        {
         "cells": {
          "align": "center",
          "values": [
           [
            "Pakistan",
            "Nepal",
            "Maldives",
            "Sri Lanka",
            "India",
            "Bhutan",
            "Bangladesh",
            "Pakistan",
            "Nepal",
            "Maldives",
            "Sri Lanka",
            "India",
            "Bhutan",
            "Bangladesh",
            "Afghanistan"
           ],
           [
            "Children out of school (% of primary school age)",
            "Children out of school (% of primary school age)",
            "Children out of school (% of primary school age)",
            "Children out of school (% of primary school age)",
            "Children out of school (% of primary school age)",
            "Children out of school (% of primary school age)",
            "Children out of school (% of primary school age)",
            "Government expenditure on education, total (% of GDP)",
            "Government expenditure on education, total (% of GDP)",
            "Government expenditure on education, total (% of GDP)",
            "Government expenditure on education, total (% of GDP)",
            "Government expenditure on education, total (% of GDP)",
            "Government expenditure on education, total (% of GDP)",
            "Government expenditure on education, total (% of GDP)",
            "Government expenditure on education, total (% of GDP)"
           ],
           [
            null,
            30.7744808197021,
            2.73199009895325,
            null,
            16.9875202178955,
            38.8700103759766,
            null,
            1.83782005310059,
            2.9751501083374,
            null,
            null,
            4.32479000091553,
            5.78675985336304,
            2.12508010864258,
            null
           ],
           [
            null,
            null,
            1.60804998874664,
            1.79250001907349,
            11.8562898635864,
            36.9869117736816,
            null,
            null,
            3.70837998390198,
            null,
            null,
            null,
            5.91572999954224,
            2.17193007469177,
            null
           ],
           [
            null,
            null,
            2.34352993965149,
            1.99191999435425,
            13.4449195861816,
            null,
            null,
            null,
            3.15283989906311,
            5.79186010360718,
            null,
            null,
            null,
            2.01714992523193,
            null
           ],
           [
            null,
            22.0804595947266,
            null,
            2.61675000190735,
            8.48766040802002,
            null,
            null,
            null,
            3.11435008049011,
            5.32406997680664,
            null,
            3.61340999603271,
            null,
            2.06939005851746,
            null
           ],
           [
            null,
            20.0970897674561,
            1.77482998371124,
            3.98446011543274,
            null,
            null,
            null,
            1.76759004592896,
            3.17194008827209,
            4.66160011291504,
            null,
            3.35254001617432,
            6.60906982421875,
            1.94014000892639,
            null
           ],
           [
            null,
            null,
            2.41488003730774,
            4.23590993881226,
            null,
            28.4569797515869,
            3.37758994102478,
            2.04972004890442,
            3.3646399974823,
            5.0168399810791,
            null,
            3.18875002861023,
            7.28714990615845,
            null,
            null
           ],
           [
            null,
            null,
            2.49761009216309,
            4.58268022537231,
            null,
            23.6531200408936,
            3.5901300907135,
            2.39550995826721,
            3.60536003112793,
            4.64523983001709,
            null,
            3.14284992218018,
            null,
            2.13128995895386,
            4.68476057052612
           ],
           [
            null,
            null,
            3.55908989906311,
            5.21196985244751,
            0.91908997297287,
            null,
            null,
            2.63527011871338,
            3.51721000671387,
            4.41788005828857,
            null,
            null,
            null,
            2.20221996307373,
            4.17489528656006
           ],
           [
            null,
            null,
            5.27224016189575,
            6.10266017913818,
            0.393489986658096,
            16.7162895202637,
            8.54203033447266,
            2.74622988700867,
            3.8051700592041,
            4.470290184021,
            null,
            null,
            4.91159009933472,
            2.0545699596405,
            4.38367223739624
           ],
           [
            null,
            null,
            2.55772995948792,
            8.29146957397461,
            1.3199599981308,
            11.6914596557617,
            8.1956901550293,
            2.59078001976013,
            4.6637601852417,
            5.08168983459473,
            2.05590009689331,
            3.27824997901917,
            4.74174022674561,
            1.9394199848175,
            4.81063985824585
           ],
           [
            null,
            null,
            6.13899993896484,
            6.79112005233765,
            0.86080002784729,
            9.54932975769043,
            5.03145980834961,
            2.28687000274658,
            3.63172006607056,
            3.63328003883362,
            1.66177999973297,
            3.377690076828,
            4.12473011016846,
            null,
            3.4794499874115
           ],
           [
            null,
            2.17547988891602,
            4.64400005340576,
            7.04276990890503,
            1.31821000576019,
            9.20584011077881,
            null,
            2.22175002098083,
            3.84261989593506,
            3.08072996139526,
            1.74292004108429,
            3.79618000984192,
            4.76523017883301,
            2.13269996643066,
            3.4620099067688
           ],
           [
            null,
            1.80489003658295,
            6.19600009918213,
            7.4073600769043,
            1.23249995708466,
            8.1028003692627,
            null,
            2.13628005981445,
            3.52900004386902,
            4.96799993515015,
            1.45342004299164,
            4.08500003814697,
            null,
            2.04699993133545,
            2.60419988632202
           ],
           [
            null,
            null,
            6.61299991607666,
            0.28999999165535,
            0.425390005111694,
            9.73373985290527,
            null,
            2.49343991279602,
            3.20300006866455,
            3.95499992370605,
            1.5645899772644,
            3.84467005729675,
            5.72275018692017,
            1.96599996089935,
            3.45445990562439
           ],
           [
            null,
            1.69528996944427,
            4.64300012588501,
            6.35382986068726,
            null,
            null,
            null,
            2.46592998504639,
            3.48600006103516,
            3.89000010490417,
            1.85859000682831,
            3.8989999294281,
            6.04489994049072,
            2.09899997711182,
            3.69521999359131
           ],
           [
            null,
            1.59839999675751,
            2.84100008010864,
            3.86436009407043,
            null,
            11.379469871521,
            null,
            2.6500198841095,
            3.29399991035461,
            4.64499998092651,
            2.10998010635376,
            4.11499977111816,
            6.23799991607666,
            1.87199997901917,
            3.2558000087738
           ],
           [
            null,
            1.14783000946045,
            3.89400005340576,
            3.20425009727478,
            4.10699987411499,
            11.7899599075317,
            null,
            2.41700005531311,
            3.47699999809265,
            4.46999979019165,
            3.22929000854492,
            4.25699996948242,
            6.33699989318848,
            2.22099995613098,
            4.54397010803223
           ],
           [
            null,
            2.00387001037598,
            4.28999996185303,
            0.190999999642372,
            6.0310001373291,
            11.7133102416992,
            2.58299994468689,
            2.13700008392334,
            3.52900004386902,
            3.87299990653992,
            2.59316992759705,
            4.30600023269653,
            6.69999980926514,
            1.85000002384186,
            4.34319019317627
           ],
           [
            null,
            null,
            3.42499995231628,
            0.006000000052154,
            6.37900018692017,
            9.44062042236328,
            0.467000007629395,
            2.33200001716614,
            3.66400003433228,
            3.93199992179871,
            1.98781001567841,
            4.3769998550415,
            6.07399988174438,
            1.65600001811981,
            null
           ],
           [
            null,
            null,
            2.91499996185303,
            3.65899991989136,
            7.3730001449585,
            null,
            null,
            2.21499991416931,
            3.48600006103516,
            4.20900011062622,
            null,
            3.8970000743866,
            4.76100015640259,
            1.68099999427795,
            null
           ],
           [
            null,
            null,
            2.08500003814697,
            2.68899989128113,
            4.05600023269653,
            5.48518991470337,
            null,
            2.05699992179871,
            4.21099996566772,
            5.79500007629395,
            1.55499994754791,
            4.29300022125244,
            5.98099994659424,
            1.76499998569489,
            null
           ],
           [
            26.7070007324219,
            1.34500002861023,
            null,
            3.22499990463257,
            2.31299996376038,
            4.56099987030029,
            null,
            1.68700003623962,
            3.95600008964539,
            4.4850001335144,
            1.50800001621246,
            4.63500022888184,
            6.97399997711182,
            1.8309999704361,
            null
           ],
           [
            null,
            1.01499998569489,
            null,
            null,
            0.152999997138977,
            5.52400016784668,
            null,
            null,
            3.6489999294281,
            4.58099985122681,
            1.20000004768372,
            null,
            8.14200019836426,
            1.97300004959106,
            null
           ]
          ]
         },
         "domain": {
          "x": [
           0,
           1
          ],
          "y": [
           0.515,
           1
          ]
         },
         "header": {
          "align": "center",
          "font": {
           "size": 10
          },
          "values": [
           "<br>Country</br>",
           "<br>Series</br>",
           "<br>YR2000</br>",
           "<br>YR2001</br>",
           "<br>YR2002</br>",
           "<br>YR2003</br>",
           "<br>YR2004</br>",
           "<br>YR2005</br>",
           "<br>YR2006</br>",
           "<br>YR2007</br>",
           "<br>YR2008</br>",
           "<br>YR2009</br>",
           "<br>YR2010</br>",
           "<br>YR2011</br>",
           "<br>YR2012</br>",
           "<br>YR2013</br>",
           "<br>YR2014</br>",
           "<br>YR2015</br>",
           "<br>YR2016</br>",
           "<br>YR2017</br>",
           "<br>YR2018</br>",
           "<br>YR2019</br>",
           "<br>YR2020</br>",
           "<br>YR2021</br>",
           "<br>YR2022</br>"
          ]
         },
         "type": "table"
        }
       ],
       "layout": {
        "height": 800,
        "showlegend": false,
        "template": {
         "data": {
          "bar": [
           {
            "error_x": {
             "color": "#2a3f5f"
            },
            "error_y": {
             "color": "#2a3f5f"
            },
            "marker": {
             "line": {
              "color": "#E5ECF6",
              "width": 0.5
             },
             "pattern": {
              "fillmode": "overlay",
              "size": 10,
              "solidity": 0.2
             }
            },
            "type": "bar"
           }
          ],
          "barpolar": [
           {
            "marker": {
             "line": {
              "color": "#E5ECF6",
              "width": 0.5
             },
             "pattern": {
              "fillmode": "overlay",
              "size": 10,
              "solidity": 0.2
             }
            },
            "type": "barpolar"
           }
          ],
          "carpet": [
           {
            "aaxis": {
             "endlinecolor": "#2a3f5f",
             "gridcolor": "white",
             "linecolor": "white",
             "minorgridcolor": "white",
             "startlinecolor": "#2a3f5f"
            },
            "baxis": {
             "endlinecolor": "#2a3f5f",
             "gridcolor": "white",
             "linecolor": "white",
             "minorgridcolor": "white",
             "startlinecolor": "#2a3f5f"
            },
            "type": "carpet"
           }
          ],
          "choropleth": [
           {
            "colorbar": {
             "outlinewidth": 0,
             "ticks": ""
            },
            "type": "choropleth"
           }
          ],
          "contour": [
           {
            "colorbar": {
             "outlinewidth": 0,
             "ticks": ""
            },
            "colorscale": [
             [
              0,
              "#0d0887"
             ],
             [
              0.1111111111111111,
              "#46039f"
             ],
             [
              0.2222222222222222,
              "#7201a8"
             ],
             [
              0.3333333333333333,
              "#9c179e"
             ],
             [
              0.4444444444444444,
              "#bd3786"
             ],
             [
              0.5555555555555556,
              "#d8576b"
             ],
             [
              0.6666666666666666,
              "#ed7953"
             ],
             [
              0.7777777777777778,
              "#fb9f3a"
             ],
             [
              0.8888888888888888,
              "#fdca26"
             ],
             [
              1,
              "#f0f921"
             ]
            ],
            "type": "contour"
           }
          ],
          "contourcarpet": [
           {
            "colorbar": {
             "outlinewidth": 0,
             "ticks": ""
            },
            "type": "contourcarpet"
           }
          ],
          "heatmap": [
           {
            "colorbar": {
             "outlinewidth": 0,
             "ticks": ""
            },
            "colorscale": [
             [
              0,
              "#0d0887"
             ],
             [
              0.1111111111111111,
              "#46039f"
             ],
             [
              0.2222222222222222,
              "#7201a8"
             ],
             [
              0.3333333333333333,
              "#9c179e"
             ],
             [
              0.4444444444444444,
              "#bd3786"
             ],
             [
              0.5555555555555556,
              "#d8576b"
             ],
             [
              0.6666666666666666,
              "#ed7953"
             ],
             [
              0.7777777777777778,
              "#fb9f3a"
             ],
             [
              0.8888888888888888,
              "#fdca26"
             ],
             [
              1,
              "#f0f921"
             ]
            ],
            "type": "heatmap"
           }
          ],
          "heatmapgl": [
           {
            "colorbar": {
             "outlinewidth": 0,
             "ticks": ""
            },
            "colorscale": [
             [
              0,
              "#0d0887"
             ],
             [
              0.1111111111111111,
              "#46039f"
             ],
             [
              0.2222222222222222,
              "#7201a8"
             ],
             [
              0.3333333333333333,
              "#9c179e"
             ],
             [
              0.4444444444444444,
              "#bd3786"
             ],
             [
              0.5555555555555556,
              "#d8576b"
             ],
             [
              0.6666666666666666,
              "#ed7953"
             ],
             [
              0.7777777777777778,
              "#fb9f3a"
             ],
             [
              0.8888888888888888,
              "#fdca26"
             ],
             [
              1,
              "#f0f921"
             ]
            ],
            "type": "heatmapgl"
           }
          ],
          "histogram": [
           {
            "marker": {
             "pattern": {
              "fillmode": "overlay",
              "size": 10,
              "solidity": 0.2
             }
            },
            "type": "histogram"
           }
          ],
          "histogram2d": [
           {
            "colorbar": {
             "outlinewidth": 0,
             "ticks": ""
            },
            "colorscale": [
             [
              0,
              "#0d0887"
             ],
             [
              0.1111111111111111,
              "#46039f"
             ],
             [
              0.2222222222222222,
              "#7201a8"
             ],
             [
              0.3333333333333333,
              "#9c179e"
             ],
             [
              0.4444444444444444,
              "#bd3786"
             ],
             [
              0.5555555555555556,
              "#d8576b"
             ],
             [
              0.6666666666666666,
              "#ed7953"
             ],
             [
              0.7777777777777778,
              "#fb9f3a"
             ],
             [
              0.8888888888888888,
              "#fdca26"
             ],
             [
              1,
              "#f0f921"
             ]
            ],
            "type": "histogram2d"
           }
          ],
          "histogram2dcontour": [
           {
            "colorbar": {
             "outlinewidth": 0,
             "ticks": ""
            },
            "colorscale": [
             [
              0,
              "#0d0887"
             ],
             [
              0.1111111111111111,
              "#46039f"
             ],
             [
              0.2222222222222222,
              "#7201a8"
             ],
             [
              0.3333333333333333,
              "#9c179e"
             ],
             [
              0.4444444444444444,
              "#bd3786"
             ],
             [
              0.5555555555555556,
              "#d8576b"
             ],
             [
              0.6666666666666666,
              "#ed7953"
             ],
             [
              0.7777777777777778,
              "#fb9f3a"
             ],
             [
              0.8888888888888888,
              "#fdca26"
             ],
             [
              1,
              "#f0f921"
             ]
            ],
            "type": "histogram2dcontour"
           }
          ],
          "mesh3d": [
           {
            "colorbar": {
             "outlinewidth": 0,
             "ticks": ""
            },
            "type": "mesh3d"
           }
          ],
          "parcoords": [
           {
            "line": {
             "colorbar": {
              "outlinewidth": 0,
              "ticks": ""
             }
            },
            "type": "parcoords"
           }
          ],
          "pie": [
           {
            "automargin": true,
            "type": "pie"
           }
          ],
          "scatter": [
           {
            "fillpattern": {
             "fillmode": "overlay",
             "size": 10,
             "solidity": 0.2
            },
            "type": "scatter"
           }
          ],
          "scatter3d": [
           {
            "line": {
             "colorbar": {
              "outlinewidth": 0,
              "ticks": ""
             }
            },
            "marker": {
             "colorbar": {
              "outlinewidth": 0,
              "ticks": ""
             }
            },
            "type": "scatter3d"
           }
          ],
          "scattercarpet": [
           {
            "marker": {
             "colorbar": {
              "outlinewidth": 0,
              "ticks": ""
             }
            },
            "type": "scattercarpet"
           }
          ],
          "scattergeo": [
           {
            "marker": {
             "colorbar": {
              "outlinewidth": 0,
              "ticks": ""
             }
            },
            "type": "scattergeo"
           }
          ],
          "scattergl": [
           {
            "marker": {
             "colorbar": {
              "outlinewidth": 0,
              "ticks": ""
             }
            },
            "type": "scattergl"
           }
          ],
          "scattermapbox": [
           {
            "marker": {
             "colorbar": {
              "outlinewidth": 0,
              "ticks": ""
             }
            },
            "type": "scattermapbox"
           }
          ],
          "scatterpolar": [
           {
            "marker": {
             "colorbar": {
              "outlinewidth": 0,
              "ticks": ""
             }
            },
            "type": "scatterpolar"
           }
          ],
          "scatterpolargl": [
           {
            "marker": {
             "colorbar": {
              "outlinewidth": 0,
              "ticks": ""
             }
            },
            "type": "scatterpolargl"
           }
          ],
          "scatterternary": [
           {
            "marker": {
             "colorbar": {
              "outlinewidth": 0,
              "ticks": ""
             }
            },
            "type": "scatterternary"
           }
          ],
          "surface": [
           {
            "colorbar": {
             "outlinewidth": 0,
             "ticks": ""
            },
            "colorscale": [
             [
              0,
              "#0d0887"
             ],
             [
              0.1111111111111111,
              "#46039f"
             ],
             [
              0.2222222222222222,
              "#7201a8"
             ],
             [
              0.3333333333333333,
              "#9c179e"
             ],
             [
              0.4444444444444444,
              "#bd3786"
             ],
             [
              0.5555555555555556,
              "#d8576b"
             ],
             [
              0.6666666666666666,
              "#ed7953"
             ],
             [
              0.7777777777777778,
              "#fb9f3a"
             ],
             [
              0.8888888888888888,
              "#fdca26"
             ],
             [
              1,
              "#f0f921"
             ]
            ],
            "type": "surface"
           }
          ],
          "table": [
           {
            "cells": {
             "fill": {
              "color": "#EBF0F8"
             },
             "line": {
              "color": "white"
             }
            },
            "header": {
             "fill": {
              "color": "#C8D4E3"
             },
             "line": {
              "color": "white"
             }
            },
            "type": "table"
           }
          ]
         },
         "layout": {
          "annotationdefaults": {
           "arrowcolor": "#2a3f5f",
           "arrowhead": 0,
           "arrowwidth": 1
          },
          "autotypenumbers": "strict",
          "coloraxis": {
           "colorbar": {
            "outlinewidth": 0,
            "ticks": ""
           }
          },
          "colorscale": {
           "diverging": [
            [
             0,
             "#8e0152"
            ],
            [
             0.1,
             "#c51b7d"
            ],
            [
             0.2,
             "#de77ae"
            ],
            [
             0.3,
             "#f1b6da"
            ],
            [
             0.4,
             "#fde0ef"
            ],
            [
             0.5,
             "#f7f7f7"
            ],
            [
             0.6,
             "#e6f5d0"
            ],
            [
             0.7,
             "#b8e186"
            ],
            [
             0.8,
             "#7fbc41"
            ],
            [
             0.9,
             "#4d9221"
            ],
            [
             1,
             "#276419"
            ]
           ],
           "sequential": [
            [
             0,
             "#0d0887"
            ],
            [
             0.1111111111111111,
             "#46039f"
            ],
            [
             0.2222222222222222,
             "#7201a8"
            ],
            [
             0.3333333333333333,
             "#9c179e"
            ],
            [
             0.4444444444444444,
             "#bd3786"
            ],
            [
             0.5555555555555556,
             "#d8576b"
            ],
            [
             0.6666666666666666,
             "#ed7953"
            ],
            [
             0.7777777777777778,
             "#fb9f3a"
            ],
            [
             0.8888888888888888,
             "#fdca26"
            ],
            [
             1,
             "#f0f921"
            ]
           ],
           "sequentialminus": [
            [
             0,
             "#0d0887"
            ],
            [
             0.1111111111111111,
             "#46039f"
            ],
            [
             0.2222222222222222,
             "#7201a8"
            ],
            [
             0.3333333333333333,
             "#9c179e"
            ],
            [
             0.4444444444444444,
             "#bd3786"
            ],
            [
             0.5555555555555556,
             "#d8576b"
            ],
            [
             0.6666666666666666,
             "#ed7953"
            ],
            [
             0.7777777777777778,
             "#fb9f3a"
            ],
            [
             0.8888888888888888,
             "#fdca26"
            ],
            [
             1,
             "#f0f921"
            ]
           ]
          },
          "colorway": [
           "#636efa",
           "#EF553B",
           "#00cc96",
           "#ab63fa",
           "#FFA15A",
           "#19d3f3",
           "#FF6692",
           "#B6E880",
           "#FF97FF",
           "#FECB52"
          ],
          "font": {
           "color": "#2a3f5f"
          },
          "geo": {
           "bgcolor": "white",
           "lakecolor": "white",
           "landcolor": "#E5ECF6",
           "showlakes": true,
           "showland": true,
           "subunitcolor": "white"
          },
          "hoverlabel": {
           "align": "left"
          },
          "hovermode": "closest",
          "mapbox": {
           "style": "light"
          },
          "paper_bgcolor": "white",
          "plot_bgcolor": "#E5ECF6",
          "polar": {
           "angularaxis": {
            "gridcolor": "white",
            "linecolor": "white",
            "ticks": ""
           },
           "bgcolor": "#E5ECF6",
           "radialaxis": {
            "gridcolor": "white",
            "linecolor": "white",
            "ticks": ""
           }
          },
          "scene": {
           "xaxis": {
            "backgroundcolor": "#E5ECF6",
            "gridcolor": "white",
            "gridwidth": 2,
            "linecolor": "white",
            "showbackground": true,
            "ticks": "",
            "zerolinecolor": "white"
           },
           "yaxis": {
            "backgroundcolor": "#E5ECF6",
            "gridcolor": "white",
            "gridwidth": 2,
            "linecolor": "white",
            "showbackground": true,
            "ticks": "",
            "zerolinecolor": "white"
           },
           "zaxis": {
            "backgroundcolor": "#E5ECF6",
            "gridcolor": "white",
            "gridwidth": 2,
            "linecolor": "white",
            "showbackground": true,
            "ticks": "",
            "zerolinecolor": "white"
           }
          },
          "shapedefaults": {
           "line": {
            "color": "#2a3f5f"
           }
          },
          "ternary": {
           "aaxis": {
            "gridcolor": "white",
            "linecolor": "white",
            "ticks": ""
           },
           "baxis": {
            "gridcolor": "white",
            "linecolor": "white",
            "ticks": ""
           },
           "bgcolor": "#E5ECF6",
           "caxis": {
            "gridcolor": "white",
            "linecolor": "white",
            "ticks": ""
           }
          },
          "title": {
           "x": 0.05
          },
          "xaxis": {
           "automargin": true,
           "gridcolor": "white",
           "linecolor": "white",
           "ticks": "",
           "title": {
            "standoff": 15
           },
           "zerolinecolor": "white",
           "zerolinewidth": 2
          },
          "yaxis": {
           "automargin": true,
           "gridcolor": "white",
           "linecolor": "white",
           "ticks": "",
           "title": {
            "standoff": 15
           },
           "zerolinecolor": "white",
           "zerolinewidth": 2
          }
         }
        },
        "title": {
         "text": "Bitcoin mining stats for 180 days"
        },
        "xaxis": {
         "anchor": "y",
         "domain": [
          0,
          1
         ]
        },
        "yaxis": {
         "anchor": "x",
         "domain": [
          0,
          0.485
         ]
        }
       }
      },
      "text/html": [
       "<div>                            <div id=\"d110b090-8c20-48a7-86a2-6c5b731593f9\" class=\"plotly-graph-div\" style=\"height:800px; width:100%;\"></div>            <script type=\"text/javascript\">                require([\"plotly\"], function(Plotly) {                    window.PLOTLYENV=window.PLOTLYENV || {};                                    if (document.getElementById(\"d110b090-8c20-48a7-86a2-6c5b731593f9\")) {                    Plotly.newPlot(                        \"d110b090-8c20-48a7-86a2-6c5b731593f9\",                        [{\"cells\":{\"align\":\"left\",\"values\":[[\"Pakistan\",\"Nepal\",\"Maldives\",\"Sri Lanka\",\"India\",\"Bhutan\",\"Bangladesh\",\"Pakistan\",\"Nepal\",\"Maldives\",\"Sri Lanka\",\"India\",\"Bhutan\",\"Bangladesh\",\"Afghanistan\"],[\"Children out of school (% of primary school age)\",\"Children out of school (% of primary school age)\",\"Children out of school (% of primary school age)\",\"Children out of school (% of primary school age)\",\"Children out of school (% of primary school age)\",\"Children out of school (% of primary school age)\",\"Children out of school (% of primary school age)\",\"Government expenditure on education, total (% of GDP)\",\"Government expenditure on education, total (% of GDP)\",\"Government expenditure on education, total (% of GDP)\",\"Government expenditure on education, total (% of GDP)\",\"Government expenditure on education, total (% of GDP)\",\"Government expenditure on education, total (% of GDP)\",\"Government expenditure on education, total (% of GDP)\",\"Government expenditure on education, total (% of GDP)\"],[null,30.7744808197021,2.73199009895325,null,16.9875202178955,38.8700103759766,null,1.83782005310059,2.9751501083374,null,null,4.32479000091553,5.78675985336304,2.12508010864258,null],[null,null,1.60804998874664,1.79250001907349,11.8562898635864,36.9869117736816,null,null,3.70837998390198,null,null,null,5.91572999954224,2.17193007469177,null],[null,null,2.34352993965149,1.99191999435425,13.4449195861816,null,null,null,3.15283989906311,5.79186010360718,null,null,null,2.01714992523193,null],[null,22.0804595947266,null,2.61675000190735,8.48766040802002,null,null,null,3.11435008049011,5.32406997680664,null,3.61340999603271,null,2.06939005851746,null],[null,20.0970897674561,1.77482998371124,3.98446011543274,null,null,null,1.76759004592896,3.17194008827209,4.66160011291504,null,3.35254001617432,6.60906982421875,1.94014000892639,null],[null,null,2.41488003730774,4.23590993881226,null,28.4569797515869,3.37758994102478,2.04972004890442,3.3646399974823,5.0168399810791,null,3.18875002861023,7.28714990615845,null,null],[null,null,2.49761009216309,4.58268022537231,null,23.6531200408936,3.5901300907135,2.39550995826721,3.60536003112793,4.64523983001709,null,3.14284992218018,null,2.13128995895386,4.68476057052612],[null,null,3.55908989906311,5.21196985244751,0.91908997297287,null,null,2.63527011871338,3.51721000671387,4.41788005828857,null,null,null,2.20221996307373,4.17489528656006],[null,null,5.27224016189575,6.10266017913818,0.393489986658096,16.7162895202637,8.54203033447266,2.74622988700867,3.8051700592041,4.470290184021,null,null,4.91159009933472,2.0545699596405,4.38367223739624],[null,null,2.55772995948792,8.29146957397461,1.3199599981308,11.6914596557617,8.1956901550293,2.59078001976013,4.6637601852417,5.08168983459473,2.05590009689331,3.27824997901917,4.74174022674561,1.9394199848175,4.81063985824585],[null,null,6.13899993896484,6.79112005233765,0.86080002784729,9.54932975769043,5.03145980834961,2.28687000274658,3.63172006607056,3.63328003883362,1.66177999973297,3.377690076828,4.12473011016846,null,3.4794499874115],[null,2.17547988891602,4.64400005340576,7.04276990890503,1.31821000576019,9.20584011077881,null,2.22175002098083,3.84261989593506,3.08072996139526,1.74292004108429,3.79618000984192,4.76523017883301,2.13269996643066,3.4620099067688],[null,1.80489003658295,6.19600009918213,7.4073600769043,1.23249995708466,8.1028003692627,null,2.13628005981445,3.52900004386902,4.96799993515015,1.45342004299164,4.08500003814697,null,2.04699993133545,2.60419988632202],[null,null,6.61299991607666,0.28999999165535,0.425390005111694,9.73373985290527,null,2.49343991279602,3.20300006866455,3.95499992370605,1.5645899772644,3.84467005729675,5.72275018692017,1.96599996089935,3.45445990562439],[null,1.69528996944427,4.64300012588501,6.35382986068726,null,null,null,2.46592998504639,3.48600006103516,3.89000010490417,1.85859000682831,3.8989999294281,6.04489994049072,2.09899997711182,3.69521999359131],[null,1.59839999675751,2.84100008010864,3.86436009407043,null,11.379469871521,null,2.6500198841095,3.29399991035461,4.64499998092651,2.10998010635376,4.11499977111816,6.23799991607666,1.87199997901917,3.2558000087738],[null,1.14783000946045,3.89400005340576,3.20425009727478,4.10699987411499,11.7899599075317,null,2.41700005531311,3.47699999809265,4.46999979019165,3.22929000854492,4.25699996948242,6.33699989318848,2.22099995613098,4.54397010803223],[null,2.00387001037598,4.28999996185303,0.190999999642372,6.0310001373291,11.7133102416992,2.58299994468689,2.13700008392334,3.52900004386902,3.87299990653992,2.59316992759705,4.30600023269653,6.69999980926514,1.85000002384186,4.34319019317627],[null,null,3.42499995231628,0.006000000052154,6.37900018692017,9.44062042236328,0.467000007629395,2.33200001716614,3.66400003433228,3.93199992179871,1.98781001567841,4.3769998550415,6.07399988174438,1.65600001811981,null],[null,null,2.91499996185303,3.65899991989136,7.3730001449585,null,null,2.21499991416931,3.48600006103516,4.20900011062622,null,3.8970000743866,4.76100015640259,1.68099999427795,null],[null,null,2.08500003814697,2.68899989128113,4.05600023269653,5.48518991470337,null,2.05699992179871,4.21099996566772,5.79500007629395,1.55499994754791,4.29300022125244,5.98099994659424,1.76499998569489,null],[26.7070007324219,1.34500002861023,null,3.22499990463257,2.31299996376038,4.56099987030029,null,1.68700003623962,3.95600008964539,4.4850001335144,1.50800001621246,4.63500022888184,6.97399997711182,1.8309999704361,null],[null,1.01499998569489,null,null,0.152999997138977,5.52400016784668,null,null,3.6489999294281,4.58099985122681,1.20000004768372,null,8.14200019836426,1.97300004959106,null]]},\"header\":{\"align\":\"left\",\"font\":{\"size\":10},\"values\":[\"Country\",\"Series\",\"YR2000\",\"YR2001\",\"YR2002\",\"YR2003\",\"YR2004\",\"YR2005\",\"YR2006\",\"YR2007\",\"YR2008\",\"YR2009\",\"YR2010\",\"YR2011\",\"YR2012\",\"YR2013\",\"YR2014\",\"YR2015\",\"YR2016\",\"YR2017\",\"YR2018\",\"YR2019\",\"YR2020\",\"YR2021\",\"YR2022\"]},\"type\":\"table\",\"domain\":{\"x\":[0.0,1.0],\"y\":[0.515,1.0]}},{\"cells\":{\"align\":\"left\",\"values\":[[\"Pakistan\",\"Nepal\",\"Maldives\",\"Sri Lanka\",\"India\",\"Bhutan\",\"Bangladesh\",\"Pakistan\",\"Nepal\",\"Maldives\",\"Sri Lanka\",\"India\",\"Bhutan\",\"Bangladesh\",\"Afghanistan\"],[\"Children out of school (% of primary school age)\",\"Children out of school (% of primary school age)\",\"Children out of school (% of primary school age)\",\"Children out of school (% of primary school age)\",\"Children out of school (% of primary school age)\",\"Children out of school (% of primary school age)\",\"Children out of school (% of primary school age)\",\"Government expenditure on education, total (% of GDP)\",\"Government expenditure on education, total (% of GDP)\",\"Government expenditure on education, total (% of GDP)\",\"Government expenditure on education, total (% of GDP)\",\"Government expenditure on education, total (% of GDP)\",\"Government expenditure on education, total (% of GDP)\",\"Government expenditure on education, total (% of GDP)\",\"Government expenditure on education, total (% of GDP)\"],[null,30.7744808197021,2.73199009895325,null,16.9875202178955,38.8700103759766,null,1.83782005310059,2.9751501083374,null,null,4.32479000091553,5.78675985336304,2.12508010864258,null],[null,null,1.60804998874664,1.79250001907349,11.8562898635864,36.9869117736816,null,null,3.70837998390198,null,null,null,5.91572999954224,2.17193007469177,null],[null,null,2.34352993965149,1.99191999435425,13.4449195861816,null,null,null,3.15283989906311,5.79186010360718,null,null,null,2.01714992523193,null],[null,22.0804595947266,null,2.61675000190735,8.48766040802002,null,null,null,3.11435008049011,5.32406997680664,null,3.61340999603271,null,2.06939005851746,null],[null,20.0970897674561,1.77482998371124,3.98446011543274,null,null,null,1.76759004592896,3.17194008827209,4.66160011291504,null,3.35254001617432,6.60906982421875,1.94014000892639,null],[null,null,2.41488003730774,4.23590993881226,null,28.4569797515869,3.37758994102478,2.04972004890442,3.3646399974823,5.0168399810791,null,3.18875002861023,7.28714990615845,null,null],[null,null,2.49761009216309,4.58268022537231,null,23.6531200408936,3.5901300907135,2.39550995826721,3.60536003112793,4.64523983001709,null,3.14284992218018,null,2.13128995895386,4.68476057052612],[null,null,3.55908989906311,5.21196985244751,0.91908997297287,null,null,2.63527011871338,3.51721000671387,4.41788005828857,null,null,null,2.20221996307373,4.17489528656006],[null,null,5.27224016189575,6.10266017913818,0.393489986658096,16.7162895202637,8.54203033447266,2.74622988700867,3.8051700592041,4.470290184021,null,null,4.91159009933472,2.0545699596405,4.38367223739624],[null,null,2.55772995948792,8.29146957397461,1.3199599981308,11.6914596557617,8.1956901550293,2.59078001976013,4.6637601852417,5.08168983459473,2.05590009689331,3.27824997901917,4.74174022674561,1.9394199848175,4.81063985824585],[null,null,6.13899993896484,6.79112005233765,0.86080002784729,9.54932975769043,5.03145980834961,2.28687000274658,3.63172006607056,3.63328003883362,1.66177999973297,3.377690076828,4.12473011016846,null,3.4794499874115],[null,2.17547988891602,4.64400005340576,7.04276990890503,1.31821000576019,9.20584011077881,null,2.22175002098083,3.84261989593506,3.08072996139526,1.74292004108429,3.79618000984192,4.76523017883301,2.13269996643066,3.4620099067688],[null,1.80489003658295,6.19600009918213,7.4073600769043,1.23249995708466,8.1028003692627,null,2.13628005981445,3.52900004386902,4.96799993515015,1.45342004299164,4.08500003814697,null,2.04699993133545,2.60419988632202],[null,null,6.61299991607666,0.28999999165535,0.425390005111694,9.73373985290527,null,2.49343991279602,3.20300006866455,3.95499992370605,1.5645899772644,3.84467005729675,5.72275018692017,1.96599996089935,3.45445990562439],[null,1.69528996944427,4.64300012588501,6.35382986068726,null,null,null,2.46592998504639,3.48600006103516,3.89000010490417,1.85859000682831,3.8989999294281,6.04489994049072,2.09899997711182,3.69521999359131],[null,1.59839999675751,2.84100008010864,3.86436009407043,null,11.379469871521,null,2.6500198841095,3.29399991035461,4.64499998092651,2.10998010635376,4.11499977111816,6.23799991607666,1.87199997901917,3.2558000087738],[null,1.14783000946045,3.89400005340576,3.20425009727478,4.10699987411499,11.7899599075317,null,2.41700005531311,3.47699999809265,4.46999979019165,3.22929000854492,4.25699996948242,6.33699989318848,2.22099995613098,4.54397010803223],[null,2.00387001037598,4.28999996185303,0.190999999642372,6.0310001373291,11.7133102416992,2.58299994468689,2.13700008392334,3.52900004386902,3.87299990653992,2.59316992759705,4.30600023269653,6.69999980926514,1.85000002384186,4.34319019317627],[null,null,3.42499995231628,0.006000000052154,6.37900018692017,9.44062042236328,0.467000007629395,2.33200001716614,3.66400003433228,3.93199992179871,1.98781001567841,4.3769998550415,6.07399988174438,1.65600001811981,null],[null,null,2.91499996185303,3.65899991989136,7.3730001449585,null,null,2.21499991416931,3.48600006103516,4.20900011062622,null,3.8970000743866,4.76100015640259,1.68099999427795,null],[null,null,2.08500003814697,2.68899989128113,4.05600023269653,5.48518991470337,null,2.05699992179871,4.21099996566772,5.79500007629395,1.55499994754791,4.29300022125244,5.98099994659424,1.76499998569489,null],[26.7070007324219,1.34500002861023,null,3.22499990463257,2.31299996376038,4.56099987030029,null,1.68700003623962,3.95600008964539,4.4850001335144,1.50800001621246,4.63500022888184,6.97399997711182,1.8309999704361,null],[null,1.01499998569489,null,null,0.152999997138977,5.52400016784668,null,null,3.6489999294281,4.58099985122681,1.20000004768372,null,8.14200019836426,1.97300004959106,null]]},\"header\":{\"align\":\"left\",\"font\":{\"size\":10},\"values\":[\"Country\",\"Series\",\"YR2000\",\"YR2001\",\"YR2002\",\"YR2003\",\"YR2004\",\"YR2005\",\"YR2006\",\"YR2007\",\"YR2008\",\"YR2009\",\"YR2010\",\"YR2011\",\"YR2012\",\"YR2013\",\"YR2014\",\"YR2015\",\"YR2016\",\"YR2017\",\"YR2018\",\"YR2019\",\"YR2020\",\"YR2021\",\"YR2022\"]},\"type\":\"table\"},{\"cells\":{\"align\":\"left\",\"values\":[[\"Pakistan\",\"Nepal\",\"Maldives\",\"Sri Lanka\",\"India\",\"Bhutan\",\"Bangladesh\",\"Pakistan\",\"Nepal\",\"Maldives\",\"Sri Lanka\",\"India\",\"Bhutan\",\"Bangladesh\",\"Afghanistan\"],[\"Children out of school (% of primary school age)\",\"Children out of school (% of primary school age)\",\"Children out of school (% of primary school age)\",\"Children out of school (% of primary school age)\",\"Children out of school (% of primary school age)\",\"Children out of school (% of primary school age)\",\"Children out of school (% of primary school age)\",\"Government expenditure on education, total (% of GDP)\",\"Government expenditure on education, total (% of GDP)\",\"Government expenditure on education, total (% of GDP)\",\"Government expenditure on education, total (% of GDP)\",\"Government expenditure on education, total (% of GDP)\",\"Government expenditure on education, total (% of GDP)\",\"Government expenditure on education, total (% of GDP)\",\"Government expenditure on education, total (% of GDP)\"],[null,30.7744808197021,2.73199009895325,null,16.9875202178955,38.8700103759766,null,1.83782005310059,2.9751501083374,null,null,4.32479000091553,5.78675985336304,2.12508010864258,null],[null,null,1.60804998874664,1.79250001907349,11.8562898635864,36.9869117736816,null,null,3.70837998390198,null,null,null,5.91572999954224,2.17193007469177,null],[null,null,2.34352993965149,1.99191999435425,13.4449195861816,null,null,null,3.15283989906311,5.79186010360718,null,null,null,2.01714992523193,null],[null,22.0804595947266,null,2.61675000190735,8.48766040802002,null,null,null,3.11435008049011,5.32406997680664,null,3.61340999603271,null,2.06939005851746,null],[null,20.0970897674561,1.77482998371124,3.98446011543274,null,null,null,1.76759004592896,3.17194008827209,4.66160011291504,null,3.35254001617432,6.60906982421875,1.94014000892639,null],[null,null,2.41488003730774,4.23590993881226,null,28.4569797515869,3.37758994102478,2.04972004890442,3.3646399974823,5.0168399810791,null,3.18875002861023,7.28714990615845,null,null],[null,null,2.49761009216309,4.58268022537231,null,23.6531200408936,3.5901300907135,2.39550995826721,3.60536003112793,4.64523983001709,null,3.14284992218018,null,2.13128995895386,4.68476057052612],[null,null,3.55908989906311,5.21196985244751,0.91908997297287,null,null,2.63527011871338,3.51721000671387,4.41788005828857,null,null,null,2.20221996307373,4.17489528656006],[null,null,5.27224016189575,6.10266017913818,0.393489986658096,16.7162895202637,8.54203033447266,2.74622988700867,3.8051700592041,4.470290184021,null,null,4.91159009933472,2.0545699596405,4.38367223739624],[null,null,2.55772995948792,8.29146957397461,1.3199599981308,11.6914596557617,8.1956901550293,2.59078001976013,4.6637601852417,5.08168983459473,2.05590009689331,3.27824997901917,4.74174022674561,1.9394199848175,4.81063985824585],[null,null,6.13899993896484,6.79112005233765,0.86080002784729,9.54932975769043,5.03145980834961,2.28687000274658,3.63172006607056,3.63328003883362,1.66177999973297,3.377690076828,4.12473011016846,null,3.4794499874115],[null,2.17547988891602,4.64400005340576,7.04276990890503,1.31821000576019,9.20584011077881,null,2.22175002098083,3.84261989593506,3.08072996139526,1.74292004108429,3.79618000984192,4.76523017883301,2.13269996643066,3.4620099067688],[null,1.80489003658295,6.19600009918213,7.4073600769043,1.23249995708466,8.1028003692627,null,2.13628005981445,3.52900004386902,4.96799993515015,1.45342004299164,4.08500003814697,null,2.04699993133545,2.60419988632202],[null,null,6.61299991607666,0.28999999165535,0.425390005111694,9.73373985290527,null,2.49343991279602,3.20300006866455,3.95499992370605,1.5645899772644,3.84467005729675,5.72275018692017,1.96599996089935,3.45445990562439],[null,1.69528996944427,4.64300012588501,6.35382986068726,null,null,null,2.46592998504639,3.48600006103516,3.89000010490417,1.85859000682831,3.8989999294281,6.04489994049072,2.09899997711182,3.69521999359131],[null,1.59839999675751,2.84100008010864,3.86436009407043,null,11.379469871521,null,2.6500198841095,3.29399991035461,4.64499998092651,2.10998010635376,4.11499977111816,6.23799991607666,1.87199997901917,3.2558000087738],[null,1.14783000946045,3.89400005340576,3.20425009727478,4.10699987411499,11.7899599075317,null,2.41700005531311,3.47699999809265,4.46999979019165,3.22929000854492,4.25699996948242,6.33699989318848,2.22099995613098,4.54397010803223],[null,2.00387001037598,4.28999996185303,0.190999999642372,6.0310001373291,11.7133102416992,2.58299994468689,2.13700008392334,3.52900004386902,3.87299990653992,2.59316992759705,4.30600023269653,6.69999980926514,1.85000002384186,4.34319019317627],[null,null,3.42499995231628,0.006000000052154,6.37900018692017,9.44062042236328,0.467000007629395,2.33200001716614,3.66400003433228,3.93199992179871,1.98781001567841,4.3769998550415,6.07399988174438,1.65600001811981,null],[null,null,2.91499996185303,3.65899991989136,7.3730001449585,null,null,2.21499991416931,3.48600006103516,4.20900011062622,null,3.8970000743866,4.76100015640259,1.68099999427795,null],[null,null,2.08500003814697,2.68899989128113,4.05600023269653,5.48518991470337,null,2.05699992179871,4.21099996566772,5.79500007629395,1.55499994754791,4.29300022125244,5.98099994659424,1.76499998569489,null],[26.7070007324219,1.34500002861023,null,3.22499990463257,2.31299996376038,4.56099987030029,null,1.68700003623962,3.95600008964539,4.4850001335144,1.50800001621246,4.63500022888184,6.97399997711182,1.8309999704361,null],[null,1.01499998569489,null,null,0.152999997138977,5.52400016784668,null,null,3.6489999294281,4.58099985122681,1.20000004768372,null,8.14200019836426,1.97300004959106,null]]},\"header\":{\"align\":\"left\",\"font\":{\"size\":10},\"values\":[\"Country\",\"Series\",\"YR2000\",\"YR2001\",\"YR2002\",\"YR2003\",\"YR2004\",\"YR2005\",\"YR2006\",\"YR2007\",\"YR2008\",\"YR2009\",\"YR2010\",\"YR2011\",\"YR2012\",\"YR2013\",\"YR2014\",\"YR2015\",\"YR2016\",\"YR2017\",\"YR2018\",\"YR2019\",\"YR2020\",\"YR2021\",\"YR2022\"]},\"type\":\"table\",\"domain\":{\"x\":[0.0,1.0],\"y\":[0.515,1.0]}},{\"cells\":{\"align\":\"left\",\"values\":[[\"Pakistan\",\"Nepal\",\"Maldives\",\"Sri Lanka\",\"India\",\"Bhutan\",\"Bangladesh\",\"Pakistan\",\"Nepal\",\"Maldives\",\"Sri Lanka\",\"India\",\"Bhutan\",\"Bangladesh\",\"Afghanistan\"],[\"Children out of school (% of primary school age)\",\"Children out of school (% of primary school age)\",\"Children out of school (% of primary school age)\",\"Children out of school (% of primary school age)\",\"Children out of school (% of primary school age)\",\"Children out of school (% of primary school age)\",\"Children out of school (% of primary school age)\",\"Government expenditure on education, total (% of GDP)\",\"Government expenditure on education, total (% of GDP)\",\"Government expenditure on education, total (% of GDP)\",\"Government expenditure on education, total (% of GDP)\",\"Government expenditure on education, total (% of GDP)\",\"Government expenditure on education, total (% of GDP)\",\"Government expenditure on education, total (% of GDP)\",\"Government expenditure on education, total (% of GDP)\"],[null,30.7744808197021,2.73199009895325,null,16.9875202178955,38.8700103759766,null,1.83782005310059,2.9751501083374,null,null,4.32479000091553,5.78675985336304,2.12508010864258,null],[null,null,1.60804998874664,1.79250001907349,11.8562898635864,36.9869117736816,null,null,3.70837998390198,null,null,null,5.91572999954224,2.17193007469177,null],[null,null,2.34352993965149,1.99191999435425,13.4449195861816,null,null,null,3.15283989906311,5.79186010360718,null,null,null,2.01714992523193,null],[null,22.0804595947266,null,2.61675000190735,8.48766040802002,null,null,null,3.11435008049011,5.32406997680664,null,3.61340999603271,null,2.06939005851746,null],[null,20.0970897674561,1.77482998371124,3.98446011543274,null,null,null,1.76759004592896,3.17194008827209,4.66160011291504,null,3.35254001617432,6.60906982421875,1.94014000892639,null],[null,null,2.41488003730774,4.23590993881226,null,28.4569797515869,3.37758994102478,2.04972004890442,3.3646399974823,5.0168399810791,null,3.18875002861023,7.28714990615845,null,null],[null,null,2.49761009216309,4.58268022537231,null,23.6531200408936,3.5901300907135,2.39550995826721,3.60536003112793,4.64523983001709,null,3.14284992218018,null,2.13128995895386,4.68476057052612],[null,null,3.55908989906311,5.21196985244751,0.91908997297287,null,null,2.63527011871338,3.51721000671387,4.41788005828857,null,null,null,2.20221996307373,4.17489528656006],[null,null,5.27224016189575,6.10266017913818,0.393489986658096,16.7162895202637,8.54203033447266,2.74622988700867,3.8051700592041,4.470290184021,null,null,4.91159009933472,2.0545699596405,4.38367223739624],[null,null,2.55772995948792,8.29146957397461,1.3199599981308,11.6914596557617,8.1956901550293,2.59078001976013,4.6637601852417,5.08168983459473,2.05590009689331,3.27824997901917,4.74174022674561,1.9394199848175,4.81063985824585],[null,null,6.13899993896484,6.79112005233765,0.86080002784729,9.54932975769043,5.03145980834961,2.28687000274658,3.63172006607056,3.63328003883362,1.66177999973297,3.377690076828,4.12473011016846,null,3.4794499874115],[null,2.17547988891602,4.64400005340576,7.04276990890503,1.31821000576019,9.20584011077881,null,2.22175002098083,3.84261989593506,3.08072996139526,1.74292004108429,3.79618000984192,4.76523017883301,2.13269996643066,3.4620099067688],[null,1.80489003658295,6.19600009918213,7.4073600769043,1.23249995708466,8.1028003692627,null,2.13628005981445,3.52900004386902,4.96799993515015,1.45342004299164,4.08500003814697,null,2.04699993133545,2.60419988632202],[null,null,6.61299991607666,0.28999999165535,0.425390005111694,9.73373985290527,null,2.49343991279602,3.20300006866455,3.95499992370605,1.5645899772644,3.84467005729675,5.72275018692017,1.96599996089935,3.45445990562439],[null,1.69528996944427,4.64300012588501,6.35382986068726,null,null,null,2.46592998504639,3.48600006103516,3.89000010490417,1.85859000682831,3.8989999294281,6.04489994049072,2.09899997711182,3.69521999359131],[null,1.59839999675751,2.84100008010864,3.86436009407043,null,11.379469871521,null,2.6500198841095,3.29399991035461,4.64499998092651,2.10998010635376,4.11499977111816,6.23799991607666,1.87199997901917,3.2558000087738],[null,1.14783000946045,3.89400005340576,3.20425009727478,4.10699987411499,11.7899599075317,null,2.41700005531311,3.47699999809265,4.46999979019165,3.22929000854492,4.25699996948242,6.33699989318848,2.22099995613098,4.54397010803223],[null,2.00387001037598,4.28999996185303,0.190999999642372,6.0310001373291,11.7133102416992,2.58299994468689,2.13700008392334,3.52900004386902,3.87299990653992,2.59316992759705,4.30600023269653,6.69999980926514,1.85000002384186,4.34319019317627],[null,null,3.42499995231628,0.006000000052154,6.37900018692017,9.44062042236328,0.467000007629395,2.33200001716614,3.66400003433228,3.93199992179871,1.98781001567841,4.3769998550415,6.07399988174438,1.65600001811981,null],[null,null,2.91499996185303,3.65899991989136,7.3730001449585,null,null,2.21499991416931,3.48600006103516,4.20900011062622,null,3.8970000743866,4.76100015640259,1.68099999427795,null],[null,null,2.08500003814697,2.68899989128113,4.05600023269653,5.48518991470337,null,2.05699992179871,4.21099996566772,5.79500007629395,1.55499994754791,4.29300022125244,5.98099994659424,1.76499998569489,null],[26.7070007324219,1.34500002861023,null,3.22499990463257,2.31299996376038,4.56099987030029,null,1.68700003623962,3.95600008964539,4.4850001335144,1.50800001621246,4.63500022888184,6.97399997711182,1.8309999704361,null],[null,1.01499998569489,null,null,0.152999997138977,5.52400016784668,null,null,3.6489999294281,4.58099985122681,1.20000004768372,null,8.14200019836426,1.97300004959106,null]]},\"header\":{\"align\":\"left\",\"font\":{\"size\":20},\"values\":[\"Country\",\"Series\",\"YR2000\",\"YR2001\",\"YR2002\",\"YR2003\",\"YR2004\",\"YR2005\",\"YR2006\",\"YR2007\",\"YR2008\",\"YR2009\",\"YR2010\",\"YR2011\",\"YR2012\",\"YR2013\",\"YR2014\",\"YR2015\",\"YR2016\",\"YR2017\",\"YR2018\",\"YR2019\",\"YR2020\",\"YR2021\",\"YR2022\"]},\"type\":\"table\",\"domain\":{\"x\":[0.0,1.0],\"y\":[0.515,1.0]}},{\"cells\":{\"align\":\"left\",\"values\":[[\"Pakistan\",\"Nepal\",\"Maldives\",\"Sri Lanka\",\"India\",\"Bhutan\",\"Bangladesh\",\"Pakistan\",\"Nepal\",\"Maldives\",\"Sri Lanka\",\"India\",\"Bhutan\",\"Bangladesh\",\"Afghanistan\"],[\"Children out of school (% of primary school age)\",\"Children out of school (% of primary school age)\",\"Children out of school (% of primary school age)\",\"Children out of school (% of primary school age)\",\"Children out of school (% of primary school age)\",\"Children out of school (% of primary school age)\",\"Children out of school (% of primary school age)\",\"Government expenditure on education, total (% of GDP)\",\"Government expenditure on education, total (% of GDP)\",\"Government expenditure on education, total (% of GDP)\",\"Government expenditure on education, total (% of GDP)\",\"Government expenditure on education, total (% of GDP)\",\"Government expenditure on education, total (% of GDP)\",\"Government expenditure on education, total (% of GDP)\",\"Government expenditure on education, total (% of GDP)\"],[null,30.7744808197021,2.73199009895325,null,16.9875202178955,38.8700103759766,null,1.83782005310059,2.9751501083374,null,null,4.32479000091553,5.78675985336304,2.12508010864258,null],[null,null,1.60804998874664,1.79250001907349,11.8562898635864,36.9869117736816,null,null,3.70837998390198,null,null,null,5.91572999954224,2.17193007469177,null],[null,null,2.34352993965149,1.99191999435425,13.4449195861816,null,null,null,3.15283989906311,5.79186010360718,null,null,null,2.01714992523193,null],[null,22.0804595947266,null,2.61675000190735,8.48766040802002,null,null,null,3.11435008049011,5.32406997680664,null,3.61340999603271,null,2.06939005851746,null],[null,20.0970897674561,1.77482998371124,3.98446011543274,null,null,null,1.76759004592896,3.17194008827209,4.66160011291504,null,3.35254001617432,6.60906982421875,1.94014000892639,null],[null,null,2.41488003730774,4.23590993881226,null,28.4569797515869,3.37758994102478,2.04972004890442,3.3646399974823,5.0168399810791,null,3.18875002861023,7.28714990615845,null,null],[null,null,2.49761009216309,4.58268022537231,null,23.6531200408936,3.5901300907135,2.39550995826721,3.60536003112793,4.64523983001709,null,3.14284992218018,null,2.13128995895386,4.68476057052612],[null,null,3.55908989906311,5.21196985244751,0.91908997297287,null,null,2.63527011871338,3.51721000671387,4.41788005828857,null,null,null,2.20221996307373,4.17489528656006],[null,null,5.27224016189575,6.10266017913818,0.393489986658096,16.7162895202637,8.54203033447266,2.74622988700867,3.8051700592041,4.470290184021,null,null,4.91159009933472,2.0545699596405,4.38367223739624],[null,null,2.55772995948792,8.29146957397461,1.3199599981308,11.6914596557617,8.1956901550293,2.59078001976013,4.6637601852417,5.08168983459473,2.05590009689331,3.27824997901917,4.74174022674561,1.9394199848175,4.81063985824585],[null,null,6.13899993896484,6.79112005233765,0.86080002784729,9.54932975769043,5.03145980834961,2.28687000274658,3.63172006607056,3.63328003883362,1.66177999973297,3.377690076828,4.12473011016846,null,3.4794499874115],[null,2.17547988891602,4.64400005340576,7.04276990890503,1.31821000576019,9.20584011077881,null,2.22175002098083,3.84261989593506,3.08072996139526,1.74292004108429,3.79618000984192,4.76523017883301,2.13269996643066,3.4620099067688],[null,1.80489003658295,6.19600009918213,7.4073600769043,1.23249995708466,8.1028003692627,null,2.13628005981445,3.52900004386902,4.96799993515015,1.45342004299164,4.08500003814697,null,2.04699993133545,2.60419988632202],[null,null,6.61299991607666,0.28999999165535,0.425390005111694,9.73373985290527,null,2.49343991279602,3.20300006866455,3.95499992370605,1.5645899772644,3.84467005729675,5.72275018692017,1.96599996089935,3.45445990562439],[null,1.69528996944427,4.64300012588501,6.35382986068726,null,null,null,2.46592998504639,3.48600006103516,3.89000010490417,1.85859000682831,3.8989999294281,6.04489994049072,2.09899997711182,3.69521999359131],[null,1.59839999675751,2.84100008010864,3.86436009407043,null,11.379469871521,null,2.6500198841095,3.29399991035461,4.64499998092651,2.10998010635376,4.11499977111816,6.23799991607666,1.87199997901917,3.2558000087738],[null,1.14783000946045,3.89400005340576,3.20425009727478,4.10699987411499,11.7899599075317,null,2.41700005531311,3.47699999809265,4.46999979019165,3.22929000854492,4.25699996948242,6.33699989318848,2.22099995613098,4.54397010803223],[null,2.00387001037598,4.28999996185303,0.190999999642372,6.0310001373291,11.7133102416992,2.58299994468689,2.13700008392334,3.52900004386902,3.87299990653992,2.59316992759705,4.30600023269653,6.69999980926514,1.85000002384186,4.34319019317627],[null,null,3.42499995231628,0.006000000052154,6.37900018692017,9.44062042236328,0.467000007629395,2.33200001716614,3.66400003433228,3.93199992179871,1.98781001567841,4.3769998550415,6.07399988174438,1.65600001811981,null],[null,null,2.91499996185303,3.65899991989136,7.3730001449585,null,null,2.21499991416931,3.48600006103516,4.20900011062622,null,3.8970000743866,4.76100015640259,1.68099999427795,null],[null,null,2.08500003814697,2.68899989128113,4.05600023269653,5.48518991470337,null,2.05699992179871,4.21099996566772,5.79500007629395,1.55499994754791,4.29300022125244,5.98099994659424,1.76499998569489,null],[26.7070007324219,1.34500002861023,null,3.22499990463257,2.31299996376038,4.56099987030029,null,1.68700003623962,3.95600008964539,4.4850001335144,1.50800001621246,4.63500022888184,6.97399997711182,1.8309999704361,null],[null,1.01499998569489,null,null,0.152999997138977,5.52400016784668,null,null,3.6489999294281,4.58099985122681,1.20000004768372,null,8.14200019836426,1.97300004959106,null]]},\"header\":{\"align\":\"left\",\"font\":{\"size\":10},\"values\":[\"Country\",\"Series\",\"YR2000\",\"YR2001\",\"YR2002\",\"YR2003\",\"YR2004\",\"YR2005\",\"YR2006\",\"YR2007\",\"YR2008\",\"YR2009\",\"YR2010\",\"YR2011\",\"YR2012\",\"YR2013\",\"YR2014\",\"YR2015\",\"YR2016\",\"YR2017\",\"YR2018\",\"YR2019\",\"YR2020\",\"YR2021\",\"YR2022\"]},\"type\":\"table\",\"domain\":{\"x\":[0.0,1.0],\"y\":[0.515,1.0]}},{\"cells\":{\"align\":\"left\",\"values\":[[\"Pakistan\",\"Nepal\",\"Maldives\",\"Sri Lanka\",\"India\",\"Bhutan\",\"Bangladesh\",\"Pakistan\",\"Nepal\",\"Maldives\",\"Sri Lanka\",\"India\",\"Bhutan\",\"Bangladesh\",\"Afghanistan\"],[\"Children out of school (% of primary school age)\",\"Children out of school (% of primary school age)\",\"Children out of school (% of primary school age)\",\"Children out of school (% of primary school age)\",\"Children out of school (% of primary school age)\",\"Children out of school (% of primary school age)\",\"Children out of school (% of primary school age)\",\"Government expenditure on education, total (% of GDP)\",\"Government expenditure on education, total (% of GDP)\",\"Government expenditure on education, total (% of GDP)\",\"Government expenditure on education, total (% of GDP)\",\"Government expenditure on education, total (% of GDP)\",\"Government expenditure on education, total (% of GDP)\",\"Government expenditure on education, total (% of GDP)\",\"Government expenditure on education, total (% of GDP)\"],[null,30.7744808197021,2.73199009895325,null,16.9875202178955,38.8700103759766,null,1.83782005310059,2.9751501083374,null,null,4.32479000091553,5.78675985336304,2.12508010864258,null],[null,null,1.60804998874664,1.79250001907349,11.8562898635864,36.9869117736816,null,null,3.70837998390198,null,null,null,5.91572999954224,2.17193007469177,null],[null,null,2.34352993965149,1.99191999435425,13.4449195861816,null,null,null,3.15283989906311,5.79186010360718,null,null,null,2.01714992523193,null],[null,22.0804595947266,null,2.61675000190735,8.48766040802002,null,null,null,3.11435008049011,5.32406997680664,null,3.61340999603271,null,2.06939005851746,null],[null,20.0970897674561,1.77482998371124,3.98446011543274,null,null,null,1.76759004592896,3.17194008827209,4.66160011291504,null,3.35254001617432,6.60906982421875,1.94014000892639,null],[null,null,2.41488003730774,4.23590993881226,null,28.4569797515869,3.37758994102478,2.04972004890442,3.3646399974823,5.0168399810791,null,3.18875002861023,7.28714990615845,null,null],[null,null,2.49761009216309,4.58268022537231,null,23.6531200408936,3.5901300907135,2.39550995826721,3.60536003112793,4.64523983001709,null,3.14284992218018,null,2.13128995895386,4.68476057052612],[null,null,3.55908989906311,5.21196985244751,0.91908997297287,null,null,2.63527011871338,3.51721000671387,4.41788005828857,null,null,null,2.20221996307373,4.17489528656006],[null,null,5.27224016189575,6.10266017913818,0.393489986658096,16.7162895202637,8.54203033447266,2.74622988700867,3.8051700592041,4.470290184021,null,null,4.91159009933472,2.0545699596405,4.38367223739624],[null,null,2.55772995948792,8.29146957397461,1.3199599981308,11.6914596557617,8.1956901550293,2.59078001976013,4.6637601852417,5.08168983459473,2.05590009689331,3.27824997901917,4.74174022674561,1.9394199848175,4.81063985824585],[null,null,6.13899993896484,6.79112005233765,0.86080002784729,9.54932975769043,5.03145980834961,2.28687000274658,3.63172006607056,3.63328003883362,1.66177999973297,3.377690076828,4.12473011016846,null,3.4794499874115],[null,2.17547988891602,4.64400005340576,7.04276990890503,1.31821000576019,9.20584011077881,null,2.22175002098083,3.84261989593506,3.08072996139526,1.74292004108429,3.79618000984192,4.76523017883301,2.13269996643066,3.4620099067688],[null,1.80489003658295,6.19600009918213,7.4073600769043,1.23249995708466,8.1028003692627,null,2.13628005981445,3.52900004386902,4.96799993515015,1.45342004299164,4.08500003814697,null,2.04699993133545,2.60419988632202],[null,null,6.61299991607666,0.28999999165535,0.425390005111694,9.73373985290527,null,2.49343991279602,3.20300006866455,3.95499992370605,1.5645899772644,3.84467005729675,5.72275018692017,1.96599996089935,3.45445990562439],[null,1.69528996944427,4.64300012588501,6.35382986068726,null,null,null,2.46592998504639,3.48600006103516,3.89000010490417,1.85859000682831,3.8989999294281,6.04489994049072,2.09899997711182,3.69521999359131],[null,1.59839999675751,2.84100008010864,3.86436009407043,null,11.379469871521,null,2.6500198841095,3.29399991035461,4.64499998092651,2.10998010635376,4.11499977111816,6.23799991607666,1.87199997901917,3.2558000087738],[null,1.14783000946045,3.89400005340576,3.20425009727478,4.10699987411499,11.7899599075317,null,2.41700005531311,3.47699999809265,4.46999979019165,3.22929000854492,4.25699996948242,6.33699989318848,2.22099995613098,4.54397010803223],[null,2.00387001037598,4.28999996185303,0.190999999642372,6.0310001373291,11.7133102416992,2.58299994468689,2.13700008392334,3.52900004386902,3.87299990653992,2.59316992759705,4.30600023269653,6.69999980926514,1.85000002384186,4.34319019317627],[null,null,3.42499995231628,0.006000000052154,6.37900018692017,9.44062042236328,0.467000007629395,2.33200001716614,3.66400003433228,3.93199992179871,1.98781001567841,4.3769998550415,6.07399988174438,1.65600001811981,null],[null,null,2.91499996185303,3.65899991989136,7.3730001449585,null,null,2.21499991416931,3.48600006103516,4.20900011062622,null,3.8970000743866,4.76100015640259,1.68099999427795,null],[null,null,2.08500003814697,2.68899989128113,4.05600023269653,5.48518991470337,null,2.05699992179871,4.21099996566772,5.79500007629395,1.55499994754791,4.29300022125244,5.98099994659424,1.76499998569489,null],[26.7070007324219,1.34500002861023,null,3.22499990463257,2.31299996376038,4.56099987030029,null,1.68700003623962,3.95600008964539,4.4850001335144,1.50800001621246,4.63500022888184,6.97399997711182,1.8309999704361,null],[null,1.01499998569489,null,null,0.152999997138977,5.52400016784668,null,null,3.6489999294281,4.58099985122681,1.20000004768372,null,8.14200019836426,1.97300004959106,null]]},\"columnwidth\":0.5,\"header\":{\"align\":\"left\",\"font\":{\"size\":10},\"values\":[\"Country\",\"Series\",\"YR2000\",\"YR2001\",\"YR2002\",\"YR2003\",\"YR2004\",\"YR2005\",\"YR2006\",\"YR2007\",\"YR2008\",\"YR2009\",\"YR2010\",\"YR2011\",\"YR2012\",\"YR2013\",\"YR2014\",\"YR2015\",\"YR2016\",\"YR2017\",\"YR2018\",\"YR2019\",\"YR2020\",\"YR2021\",\"YR2022\"]},\"type\":\"table\",\"domain\":{\"x\":[0.0,1.0],\"y\":[0.515,1.0]}},{\"cells\":{\"align\":\"left\",\"values\":[[\"Pakistan\",\"Nepal\",\"Maldives\",\"Sri Lanka\",\"India\",\"Bhutan\",\"Bangladesh\",\"Pakistan\",\"Nepal\",\"Maldives\",\"Sri Lanka\",\"India\",\"Bhutan\",\"Bangladesh\",\"Afghanistan\"],[\"Children out of school (% of primary school age)\",\"Children out of school (% of primary school age)\",\"Children out of school (% of primary school age)\",\"Children out of school (% of primary school age)\",\"Children out of school (% of primary school age)\",\"Children out of school (% of primary school age)\",\"Children out of school (% of primary school age)\",\"Government expenditure on education, total (% of GDP)\",\"Government expenditure on education, total (% of GDP)\",\"Government expenditure on education, total (% of GDP)\",\"Government expenditure on education, total (% of GDP)\",\"Government expenditure on education, total (% of GDP)\",\"Government expenditure on education, total (% of GDP)\",\"Government expenditure on education, total (% of GDP)\",\"Government expenditure on education, total (% of GDP)\"],[null,30.7744808197021,2.73199009895325,null,16.9875202178955,38.8700103759766,null,1.83782005310059,2.9751501083374,null,null,4.32479000091553,5.78675985336304,2.12508010864258,null],[null,null,1.60804998874664,1.79250001907349,11.8562898635864,36.9869117736816,null,null,3.70837998390198,null,null,null,5.91572999954224,2.17193007469177,null],[null,null,2.34352993965149,1.99191999435425,13.4449195861816,null,null,null,3.15283989906311,5.79186010360718,null,null,null,2.01714992523193,null],[null,22.0804595947266,null,2.61675000190735,8.48766040802002,null,null,null,3.11435008049011,5.32406997680664,null,3.61340999603271,null,2.06939005851746,null],[null,20.0970897674561,1.77482998371124,3.98446011543274,null,null,null,1.76759004592896,3.17194008827209,4.66160011291504,null,3.35254001617432,6.60906982421875,1.94014000892639,null],[null,null,2.41488003730774,4.23590993881226,null,28.4569797515869,3.37758994102478,2.04972004890442,3.3646399974823,5.0168399810791,null,3.18875002861023,7.28714990615845,null,null],[null,null,2.49761009216309,4.58268022537231,null,23.6531200408936,3.5901300907135,2.39550995826721,3.60536003112793,4.64523983001709,null,3.14284992218018,null,2.13128995895386,4.68476057052612],[null,null,3.55908989906311,5.21196985244751,0.91908997297287,null,null,2.63527011871338,3.51721000671387,4.41788005828857,null,null,null,2.20221996307373,4.17489528656006],[null,null,5.27224016189575,6.10266017913818,0.393489986658096,16.7162895202637,8.54203033447266,2.74622988700867,3.8051700592041,4.470290184021,null,null,4.91159009933472,2.0545699596405,4.38367223739624],[null,null,2.55772995948792,8.29146957397461,1.3199599981308,11.6914596557617,8.1956901550293,2.59078001976013,4.6637601852417,5.08168983459473,2.05590009689331,3.27824997901917,4.74174022674561,1.9394199848175,4.81063985824585],[null,null,6.13899993896484,6.79112005233765,0.86080002784729,9.54932975769043,5.03145980834961,2.28687000274658,3.63172006607056,3.63328003883362,1.66177999973297,3.377690076828,4.12473011016846,null,3.4794499874115],[null,2.17547988891602,4.64400005340576,7.04276990890503,1.31821000576019,9.20584011077881,null,2.22175002098083,3.84261989593506,3.08072996139526,1.74292004108429,3.79618000984192,4.76523017883301,2.13269996643066,3.4620099067688],[null,1.80489003658295,6.19600009918213,7.4073600769043,1.23249995708466,8.1028003692627,null,2.13628005981445,3.52900004386902,4.96799993515015,1.45342004299164,4.08500003814697,null,2.04699993133545,2.60419988632202],[null,null,6.61299991607666,0.28999999165535,0.425390005111694,9.73373985290527,null,2.49343991279602,3.20300006866455,3.95499992370605,1.5645899772644,3.84467005729675,5.72275018692017,1.96599996089935,3.45445990562439],[null,1.69528996944427,4.64300012588501,6.35382986068726,null,null,null,2.46592998504639,3.48600006103516,3.89000010490417,1.85859000682831,3.8989999294281,6.04489994049072,2.09899997711182,3.69521999359131],[null,1.59839999675751,2.84100008010864,3.86436009407043,null,11.379469871521,null,2.6500198841095,3.29399991035461,4.64499998092651,2.10998010635376,4.11499977111816,6.23799991607666,1.87199997901917,3.2558000087738],[null,1.14783000946045,3.89400005340576,3.20425009727478,4.10699987411499,11.7899599075317,null,2.41700005531311,3.47699999809265,4.46999979019165,3.22929000854492,4.25699996948242,6.33699989318848,2.22099995613098,4.54397010803223],[null,2.00387001037598,4.28999996185303,0.190999999642372,6.0310001373291,11.7133102416992,2.58299994468689,2.13700008392334,3.52900004386902,3.87299990653992,2.59316992759705,4.30600023269653,6.69999980926514,1.85000002384186,4.34319019317627],[null,null,3.42499995231628,0.006000000052154,6.37900018692017,9.44062042236328,0.467000007629395,2.33200001716614,3.66400003433228,3.93199992179871,1.98781001567841,4.3769998550415,6.07399988174438,1.65600001811981,null],[null,null,2.91499996185303,3.65899991989136,7.3730001449585,null,null,2.21499991416931,3.48600006103516,4.20900011062622,null,3.8970000743866,4.76100015640259,1.68099999427795,null],[null,null,2.08500003814697,2.68899989128113,4.05600023269653,5.48518991470337,null,2.05699992179871,4.21099996566772,5.79500007629395,1.55499994754791,4.29300022125244,5.98099994659424,1.76499998569489,null],[26.7070007324219,1.34500002861023,null,3.22499990463257,2.31299996376038,4.56099987030029,null,1.68700003623962,3.95600008964539,4.4850001335144,1.50800001621246,4.63500022888184,6.97399997711182,1.8309999704361,null],[null,1.01499998569489,null,null,0.152999997138977,5.52400016784668,null,null,3.6489999294281,4.58099985122681,1.20000004768372,null,8.14200019836426,1.97300004959106,null]]},\"columnwidth\":4,\"header\":{\"align\":\"left\",\"font\":{\"size\":10},\"values\":[\"Country\",\"Series\",\"YR2000\",\"YR2001\",\"YR2002\",\"YR2003\",\"YR2004\",\"YR2005\",\"YR2006\",\"YR2007\",\"YR2008\",\"YR2009\",\"YR2010\",\"YR2011\",\"YR2012\",\"YR2013\",\"YR2014\",\"YR2015\",\"YR2016\",\"YR2017\",\"YR2018\",\"YR2019\",\"YR2020\",\"YR2021\",\"YR2022\"]},\"type\":\"table\",\"domain\":{\"x\":[0.0,1.0],\"y\":[0.515,1.0]}},{\"cells\":{\"align\":\"center\",\"values\":[[\"Pakistan\",\"Nepal\",\"Maldives\",\"Sri Lanka\",\"India\",\"Bhutan\",\"Bangladesh\",\"Pakistan\",\"Nepal\",\"Maldives\",\"Sri Lanka\",\"India\",\"Bhutan\",\"Bangladesh\",\"Afghanistan\"],[\"Children out of school (% of primary school age)\",\"Children out of school (% of primary school age)\",\"Children out of school (% of primary school age)\",\"Children out of school (% of primary school age)\",\"Children out of school (% of primary school age)\",\"Children out of school (% of primary school age)\",\"Children out of school (% of primary school age)\",\"Government expenditure on education, total (% of GDP)\",\"Government expenditure on education, total (% of GDP)\",\"Government expenditure on education, total (% of GDP)\",\"Government expenditure on education, total (% of GDP)\",\"Government expenditure on education, total (% of GDP)\",\"Government expenditure on education, total (% of GDP)\",\"Government expenditure on education, total (% of GDP)\",\"Government expenditure on education, total (% of GDP)\"],[null,30.7744808197021,2.73199009895325,null,16.9875202178955,38.8700103759766,null,1.83782005310059,2.9751501083374,null,null,4.32479000091553,5.78675985336304,2.12508010864258,null],[null,null,1.60804998874664,1.79250001907349,11.8562898635864,36.9869117736816,null,null,3.70837998390198,null,null,null,5.91572999954224,2.17193007469177,null],[null,null,2.34352993965149,1.99191999435425,13.4449195861816,null,null,null,3.15283989906311,5.79186010360718,null,null,null,2.01714992523193,null],[null,22.0804595947266,null,2.61675000190735,8.48766040802002,null,null,null,3.11435008049011,5.32406997680664,null,3.61340999603271,null,2.06939005851746,null],[null,20.0970897674561,1.77482998371124,3.98446011543274,null,null,null,1.76759004592896,3.17194008827209,4.66160011291504,null,3.35254001617432,6.60906982421875,1.94014000892639,null],[null,null,2.41488003730774,4.23590993881226,null,28.4569797515869,3.37758994102478,2.04972004890442,3.3646399974823,5.0168399810791,null,3.18875002861023,7.28714990615845,null,null],[null,null,2.49761009216309,4.58268022537231,null,23.6531200408936,3.5901300907135,2.39550995826721,3.60536003112793,4.64523983001709,null,3.14284992218018,null,2.13128995895386,4.68476057052612],[null,null,3.55908989906311,5.21196985244751,0.91908997297287,null,null,2.63527011871338,3.51721000671387,4.41788005828857,null,null,null,2.20221996307373,4.17489528656006],[null,null,5.27224016189575,6.10266017913818,0.393489986658096,16.7162895202637,8.54203033447266,2.74622988700867,3.8051700592041,4.470290184021,null,null,4.91159009933472,2.0545699596405,4.38367223739624],[null,null,2.55772995948792,8.29146957397461,1.3199599981308,11.6914596557617,8.1956901550293,2.59078001976013,4.6637601852417,5.08168983459473,2.05590009689331,3.27824997901917,4.74174022674561,1.9394199848175,4.81063985824585],[null,null,6.13899993896484,6.79112005233765,0.86080002784729,9.54932975769043,5.03145980834961,2.28687000274658,3.63172006607056,3.63328003883362,1.66177999973297,3.377690076828,4.12473011016846,null,3.4794499874115],[null,2.17547988891602,4.64400005340576,7.04276990890503,1.31821000576019,9.20584011077881,null,2.22175002098083,3.84261989593506,3.08072996139526,1.74292004108429,3.79618000984192,4.76523017883301,2.13269996643066,3.4620099067688],[null,1.80489003658295,6.19600009918213,7.4073600769043,1.23249995708466,8.1028003692627,null,2.13628005981445,3.52900004386902,4.96799993515015,1.45342004299164,4.08500003814697,null,2.04699993133545,2.60419988632202],[null,null,6.61299991607666,0.28999999165535,0.425390005111694,9.73373985290527,null,2.49343991279602,3.20300006866455,3.95499992370605,1.5645899772644,3.84467005729675,5.72275018692017,1.96599996089935,3.45445990562439],[null,1.69528996944427,4.64300012588501,6.35382986068726,null,null,null,2.46592998504639,3.48600006103516,3.89000010490417,1.85859000682831,3.8989999294281,6.04489994049072,2.09899997711182,3.69521999359131],[null,1.59839999675751,2.84100008010864,3.86436009407043,null,11.379469871521,null,2.6500198841095,3.29399991035461,4.64499998092651,2.10998010635376,4.11499977111816,6.23799991607666,1.87199997901917,3.2558000087738],[null,1.14783000946045,3.89400005340576,3.20425009727478,4.10699987411499,11.7899599075317,null,2.41700005531311,3.47699999809265,4.46999979019165,3.22929000854492,4.25699996948242,6.33699989318848,2.22099995613098,4.54397010803223],[null,2.00387001037598,4.28999996185303,0.190999999642372,6.0310001373291,11.7133102416992,2.58299994468689,2.13700008392334,3.52900004386902,3.87299990653992,2.59316992759705,4.30600023269653,6.69999980926514,1.85000002384186,4.34319019317627],[null,null,3.42499995231628,0.006000000052154,6.37900018692017,9.44062042236328,0.467000007629395,2.33200001716614,3.66400003433228,3.93199992179871,1.98781001567841,4.3769998550415,6.07399988174438,1.65600001811981,null],[null,null,2.91499996185303,3.65899991989136,7.3730001449585,null,null,2.21499991416931,3.48600006103516,4.20900011062622,null,3.8970000743866,4.76100015640259,1.68099999427795,null],[null,null,2.08500003814697,2.68899989128113,4.05600023269653,5.48518991470337,null,2.05699992179871,4.21099996566772,5.79500007629395,1.55499994754791,4.29300022125244,5.98099994659424,1.76499998569489,null],[26.7070007324219,1.34500002861023,null,3.22499990463257,2.31299996376038,4.56099987030029,null,1.68700003623962,3.95600008964539,4.4850001335144,1.50800001621246,4.63500022888184,6.97399997711182,1.8309999704361,null],[null,1.01499998569489,null,null,0.152999997138977,5.52400016784668,null,null,3.6489999294281,4.58099985122681,1.20000004768372,null,8.14200019836426,1.97300004959106,null]]},\"columnwidth\":4,\"header\":{\"align\":\"center\",\"font\":{\"size\":10},\"values\":[\"Country\",\"Series\",\"YR2000\",\"YR2001\",\"YR2002\",\"YR2003\",\"YR2004\",\"YR2005\",\"YR2006\",\"YR2007\",\"YR2008\",\"YR2009\",\"YR2010\",\"YR2011\",\"YR2012\",\"YR2013\",\"YR2014\",\"YR2015\",\"YR2016\",\"YR2017\",\"YR2018\",\"YR2019\",\"YR2020\",\"YR2021\",\"YR2022\"]},\"type\":\"table\",\"domain\":{\"x\":[0.0,1.0],\"y\":[0.515,1.0]}},{\"cells\":{\"align\":\"center\",\"values\":[[\"Pakistan\",\"Nepal\",\"Maldives\",\"Sri Lanka\",\"India\",\"Bhutan\",\"Bangladesh\",\"Pakistan\",\"Nepal\",\"Maldives\",\"Sri Lanka\",\"India\",\"Bhutan\",\"Bangladesh\",\"Afghanistan\"],[\"Children out of school (% of primary school age)\",\"Children out of school (% of primary school age)\",\"Children out of school (% of primary school age)\",\"Children out of school (% of primary school age)\",\"Children out of school (% of primary school age)\",\"Children out of school (% of primary school age)\",\"Children out of school (% of primary school age)\",\"Government expenditure on education, total (% of GDP)\",\"Government expenditure on education, total (% of GDP)\",\"Government expenditure on education, total (% of GDP)\",\"Government expenditure on education, total (% of GDP)\",\"Government expenditure on education, total (% of GDP)\",\"Government expenditure on education, total (% of GDP)\",\"Government expenditure on education, total (% of GDP)\",\"Government expenditure on education, total (% of GDP)\"],[null,30.7744808197021,2.73199009895325,null,16.9875202178955,38.8700103759766,null,1.83782005310059,2.9751501083374,null,null,4.32479000091553,5.78675985336304,2.12508010864258,null],[null,null,1.60804998874664,1.79250001907349,11.8562898635864,36.9869117736816,null,null,3.70837998390198,null,null,null,5.91572999954224,2.17193007469177,null],[null,null,2.34352993965149,1.99191999435425,13.4449195861816,null,null,null,3.15283989906311,5.79186010360718,null,null,null,2.01714992523193,null],[null,22.0804595947266,null,2.61675000190735,8.48766040802002,null,null,null,3.11435008049011,5.32406997680664,null,3.61340999603271,null,2.06939005851746,null],[null,20.0970897674561,1.77482998371124,3.98446011543274,null,null,null,1.76759004592896,3.17194008827209,4.66160011291504,null,3.35254001617432,6.60906982421875,1.94014000892639,null],[null,null,2.41488003730774,4.23590993881226,null,28.4569797515869,3.37758994102478,2.04972004890442,3.3646399974823,5.0168399810791,null,3.18875002861023,7.28714990615845,null,null],[null,null,2.49761009216309,4.58268022537231,null,23.6531200408936,3.5901300907135,2.39550995826721,3.60536003112793,4.64523983001709,null,3.14284992218018,null,2.13128995895386,4.68476057052612],[null,null,3.55908989906311,5.21196985244751,0.91908997297287,null,null,2.63527011871338,3.51721000671387,4.41788005828857,null,null,null,2.20221996307373,4.17489528656006],[null,null,5.27224016189575,6.10266017913818,0.393489986658096,16.7162895202637,8.54203033447266,2.74622988700867,3.8051700592041,4.470290184021,null,null,4.91159009933472,2.0545699596405,4.38367223739624],[null,null,2.55772995948792,8.29146957397461,1.3199599981308,11.6914596557617,8.1956901550293,2.59078001976013,4.6637601852417,5.08168983459473,2.05590009689331,3.27824997901917,4.74174022674561,1.9394199848175,4.81063985824585],[null,null,6.13899993896484,6.79112005233765,0.86080002784729,9.54932975769043,5.03145980834961,2.28687000274658,3.63172006607056,3.63328003883362,1.66177999973297,3.377690076828,4.12473011016846,null,3.4794499874115],[null,2.17547988891602,4.64400005340576,7.04276990890503,1.31821000576019,9.20584011077881,null,2.22175002098083,3.84261989593506,3.08072996139526,1.74292004108429,3.79618000984192,4.76523017883301,2.13269996643066,3.4620099067688],[null,1.80489003658295,6.19600009918213,7.4073600769043,1.23249995708466,8.1028003692627,null,2.13628005981445,3.52900004386902,4.96799993515015,1.45342004299164,4.08500003814697,null,2.04699993133545,2.60419988632202],[null,null,6.61299991607666,0.28999999165535,0.425390005111694,9.73373985290527,null,2.49343991279602,3.20300006866455,3.95499992370605,1.5645899772644,3.84467005729675,5.72275018692017,1.96599996089935,3.45445990562439],[null,1.69528996944427,4.64300012588501,6.35382986068726,null,null,null,2.46592998504639,3.48600006103516,3.89000010490417,1.85859000682831,3.8989999294281,6.04489994049072,2.09899997711182,3.69521999359131],[null,1.59839999675751,2.84100008010864,3.86436009407043,null,11.379469871521,null,2.6500198841095,3.29399991035461,4.64499998092651,2.10998010635376,4.11499977111816,6.23799991607666,1.87199997901917,3.2558000087738],[null,1.14783000946045,3.89400005340576,3.20425009727478,4.10699987411499,11.7899599075317,null,2.41700005531311,3.47699999809265,4.46999979019165,3.22929000854492,4.25699996948242,6.33699989318848,2.22099995613098,4.54397010803223],[null,2.00387001037598,4.28999996185303,0.190999999642372,6.0310001373291,11.7133102416992,2.58299994468689,2.13700008392334,3.52900004386902,3.87299990653992,2.59316992759705,4.30600023269653,6.69999980926514,1.85000002384186,4.34319019317627],[null,null,3.42499995231628,0.006000000052154,6.37900018692017,9.44062042236328,0.467000007629395,2.33200001716614,3.66400003433228,3.93199992179871,1.98781001567841,4.3769998550415,6.07399988174438,1.65600001811981,null],[null,null,2.91499996185303,3.65899991989136,7.3730001449585,null,null,2.21499991416931,3.48600006103516,4.20900011062622,null,3.8970000743866,4.76100015640259,1.68099999427795,null],[null,null,2.08500003814697,2.68899989128113,4.05600023269653,5.48518991470337,null,2.05699992179871,4.21099996566772,5.79500007629395,1.55499994754791,4.29300022125244,5.98099994659424,1.76499998569489,null],[26.7070007324219,1.34500002861023,null,3.22499990463257,2.31299996376038,4.56099987030029,null,1.68700003623962,3.95600008964539,4.4850001335144,1.50800001621246,4.63500022888184,6.97399997711182,1.8309999704361,null],[null,1.01499998569489,null,null,0.152999997138977,5.52400016784668,null,null,3.6489999294281,4.58099985122681,1.20000004768372,null,8.14200019836426,1.97300004959106,null]]},\"header\":{\"align\":\"center\",\"font\":{\"size\":10},\"values\":[\"Country\",\"Series\",\"YR2000\",\"YR2001\",\"YR2002\",\"YR2003\",\"YR2004\",\"YR2005\",\"YR2006\",\"YR2007\",\"YR2008\",\"YR2009\",\"YR2010\",\"YR2011\",\"YR2012\",\"YR2013\",\"YR2014\",\"YR2015\",\"YR2016\",\"YR2017\",\"YR2018\",\"YR2019\",\"YR2020\",\"YR2021\",\"YR2022\"]},\"type\":\"table\",\"domain\":{\"x\":[0.0,1.0],\"y\":[0.515,1.0]}},{\"cells\":{\"align\":\"center\",\"values\":[[\"Pakistan\",\"Nepal\",\"Maldives\",\"Sri Lanka\",\"India\",\"Bhutan\",\"Bangladesh\",\"Pakistan\",\"Nepal\",\"Maldives\",\"Sri Lanka\",\"India\",\"Bhutan\",\"Bangladesh\",\"Afghanistan\"],[\"Children out of school (% of primary school age)\",\"Children out of school (% of primary school age)\",\"Children out of school (% of primary school age)\",\"Children out of school (% of primary school age)\",\"Children out of school (% of primary school age)\",\"Children out of school (% of primary school age)\",\"Children out of school (% of primary school age)\",\"Government expenditure on education, total (% of GDP)\",\"Government expenditure on education, total (% of GDP)\",\"Government expenditure on education, total (% of GDP)\",\"Government expenditure on education, total (% of GDP)\",\"Government expenditure on education, total (% of GDP)\",\"Government expenditure on education, total (% of GDP)\",\"Government expenditure on education, total (% of GDP)\",\"Government expenditure on education, total (% of GDP)\"],[null,30.7744808197021,2.73199009895325,null,16.9875202178955,38.8700103759766,null,1.83782005310059,2.9751501083374,null,null,4.32479000091553,5.78675985336304,2.12508010864258,null],[null,null,1.60804998874664,1.79250001907349,11.8562898635864,36.9869117736816,null,null,3.70837998390198,null,null,null,5.91572999954224,2.17193007469177,null],[null,null,2.34352993965149,1.99191999435425,13.4449195861816,null,null,null,3.15283989906311,5.79186010360718,null,null,null,2.01714992523193,null],[null,22.0804595947266,null,2.61675000190735,8.48766040802002,null,null,null,3.11435008049011,5.32406997680664,null,3.61340999603271,null,2.06939005851746,null],[null,20.0970897674561,1.77482998371124,3.98446011543274,null,null,null,1.76759004592896,3.17194008827209,4.66160011291504,null,3.35254001617432,6.60906982421875,1.94014000892639,null],[null,null,2.41488003730774,4.23590993881226,null,28.4569797515869,3.37758994102478,2.04972004890442,3.3646399974823,5.0168399810791,null,3.18875002861023,7.28714990615845,null,null],[null,null,2.49761009216309,4.58268022537231,null,23.6531200408936,3.5901300907135,2.39550995826721,3.60536003112793,4.64523983001709,null,3.14284992218018,null,2.13128995895386,4.68476057052612],[null,null,3.55908989906311,5.21196985244751,0.91908997297287,null,null,2.63527011871338,3.51721000671387,4.41788005828857,null,null,null,2.20221996307373,4.17489528656006],[null,null,5.27224016189575,6.10266017913818,0.393489986658096,16.7162895202637,8.54203033447266,2.74622988700867,3.8051700592041,4.470290184021,null,null,4.91159009933472,2.0545699596405,4.38367223739624],[null,null,2.55772995948792,8.29146957397461,1.3199599981308,11.6914596557617,8.1956901550293,2.59078001976013,4.6637601852417,5.08168983459473,2.05590009689331,3.27824997901917,4.74174022674561,1.9394199848175,4.81063985824585],[null,null,6.13899993896484,6.79112005233765,0.86080002784729,9.54932975769043,5.03145980834961,2.28687000274658,3.63172006607056,3.63328003883362,1.66177999973297,3.377690076828,4.12473011016846,null,3.4794499874115],[null,2.17547988891602,4.64400005340576,7.04276990890503,1.31821000576019,9.20584011077881,null,2.22175002098083,3.84261989593506,3.08072996139526,1.74292004108429,3.79618000984192,4.76523017883301,2.13269996643066,3.4620099067688],[null,1.80489003658295,6.19600009918213,7.4073600769043,1.23249995708466,8.1028003692627,null,2.13628005981445,3.52900004386902,4.96799993515015,1.45342004299164,4.08500003814697,null,2.04699993133545,2.60419988632202],[null,null,6.61299991607666,0.28999999165535,0.425390005111694,9.73373985290527,null,2.49343991279602,3.20300006866455,3.95499992370605,1.5645899772644,3.84467005729675,5.72275018692017,1.96599996089935,3.45445990562439],[null,1.69528996944427,4.64300012588501,6.35382986068726,null,null,null,2.46592998504639,3.48600006103516,3.89000010490417,1.85859000682831,3.8989999294281,6.04489994049072,2.09899997711182,3.69521999359131],[null,1.59839999675751,2.84100008010864,3.86436009407043,null,11.379469871521,null,2.6500198841095,3.29399991035461,4.64499998092651,2.10998010635376,4.11499977111816,6.23799991607666,1.87199997901917,3.2558000087738],[null,1.14783000946045,3.89400005340576,3.20425009727478,4.10699987411499,11.7899599075317,null,2.41700005531311,3.47699999809265,4.46999979019165,3.22929000854492,4.25699996948242,6.33699989318848,2.22099995613098,4.54397010803223],[null,2.00387001037598,4.28999996185303,0.190999999642372,6.0310001373291,11.7133102416992,2.58299994468689,2.13700008392334,3.52900004386902,3.87299990653992,2.59316992759705,4.30600023269653,6.69999980926514,1.85000002384186,4.34319019317627],[null,null,3.42499995231628,0.006000000052154,6.37900018692017,9.44062042236328,0.467000007629395,2.33200001716614,3.66400003433228,3.93199992179871,1.98781001567841,4.3769998550415,6.07399988174438,1.65600001811981,null],[null,null,2.91499996185303,3.65899991989136,7.3730001449585,null,null,2.21499991416931,3.48600006103516,4.20900011062622,null,3.8970000743866,4.76100015640259,1.68099999427795,null],[null,null,2.08500003814697,2.68899989128113,4.05600023269653,5.48518991470337,null,2.05699992179871,4.21099996566772,5.79500007629395,1.55499994754791,4.29300022125244,5.98099994659424,1.76499998569489,null],[26.7070007324219,1.34500002861023,null,3.22499990463257,2.31299996376038,4.56099987030029,null,1.68700003623962,3.95600008964539,4.4850001335144,1.50800001621246,4.63500022888184,6.97399997711182,1.8309999704361,null],[null,1.01499998569489,null,null,0.152999997138977,5.52400016784668,null,null,3.6489999294281,4.58099985122681,1.20000004768372,null,8.14200019836426,1.97300004959106,null]]},\"header\":{\"align\":\"center\",\"font\":{\"size\":10},\"values\":[\"<br>Country<br>\",\"<br>Series<br>\",\"<br>YR2000<br>\",\"<br>YR2001<br>\",\"<br>YR2002<br>\",\"<br>YR2003<br>\",\"<br>YR2004<br>\",\"<br>YR2005<br>\",\"<br>YR2006<br>\",\"<br>YR2007<br>\",\"<br>YR2008<br>\",\"<br>YR2009<br>\",\"<br>YR2010<br>\",\"<br>YR2011<br>\",\"<br>YR2012<br>\",\"<br>YR2013<br>\",\"<br>YR2014<br>\",\"<br>YR2015<br>\",\"<br>YR2016<br>\",\"<br>YR2017<br>\",\"<br>YR2018<br>\",\"<br>YR2019<br>\",\"<br>YR2020<br>\",\"<br>YR2021<br>\",\"<br>YR2022<br>\"]},\"type\":\"table\",\"domain\":{\"x\":[0.0,1.0],\"y\":[0.515,1.0]}},{\"cells\":{\"align\":\"center\",\"values\":[[\"Pakistan\",\"Nepal\",\"Maldives\",\"Sri Lanka\",\"India\",\"Bhutan\",\"Bangladesh\",\"Pakistan\",\"Nepal\",\"Maldives\",\"Sri Lanka\",\"India\",\"Bhutan\",\"Bangladesh\",\"Afghanistan\"],[\"Children out of school (% of primary school age)\",\"Children out of school (% of primary school age)\",\"Children out of school (% of primary school age)\",\"Children out of school (% of primary school age)\",\"Children out of school (% of primary school age)\",\"Children out of school (% of primary school age)\",\"Children out of school (% of primary school age)\",\"Government expenditure on education, total (% of GDP)\",\"Government expenditure on education, total (% of GDP)\",\"Government expenditure on education, total (% of GDP)\",\"Government expenditure on education, total (% of GDP)\",\"Government expenditure on education, total (% of GDP)\",\"Government expenditure on education, total (% of GDP)\",\"Government expenditure on education, total (% of GDP)\",\"Government expenditure on education, total (% of GDP)\"],[null,30.7744808197021,2.73199009895325,null,16.9875202178955,38.8700103759766,null,1.83782005310059,2.9751501083374,null,null,4.32479000091553,5.78675985336304,2.12508010864258,null],[null,null,1.60804998874664,1.79250001907349,11.8562898635864,36.9869117736816,null,null,3.70837998390198,null,null,null,5.91572999954224,2.17193007469177,null],[null,null,2.34352993965149,1.99191999435425,13.4449195861816,null,null,null,3.15283989906311,5.79186010360718,null,null,null,2.01714992523193,null],[null,22.0804595947266,null,2.61675000190735,8.48766040802002,null,null,null,3.11435008049011,5.32406997680664,null,3.61340999603271,null,2.06939005851746,null],[null,20.0970897674561,1.77482998371124,3.98446011543274,null,null,null,1.76759004592896,3.17194008827209,4.66160011291504,null,3.35254001617432,6.60906982421875,1.94014000892639,null],[null,null,2.41488003730774,4.23590993881226,null,28.4569797515869,3.37758994102478,2.04972004890442,3.3646399974823,5.0168399810791,null,3.18875002861023,7.28714990615845,null,null],[null,null,2.49761009216309,4.58268022537231,null,23.6531200408936,3.5901300907135,2.39550995826721,3.60536003112793,4.64523983001709,null,3.14284992218018,null,2.13128995895386,4.68476057052612],[null,null,3.55908989906311,5.21196985244751,0.91908997297287,null,null,2.63527011871338,3.51721000671387,4.41788005828857,null,null,null,2.20221996307373,4.17489528656006],[null,null,5.27224016189575,6.10266017913818,0.393489986658096,16.7162895202637,8.54203033447266,2.74622988700867,3.8051700592041,4.470290184021,null,null,4.91159009933472,2.0545699596405,4.38367223739624],[null,null,2.55772995948792,8.29146957397461,1.3199599981308,11.6914596557617,8.1956901550293,2.59078001976013,4.6637601852417,5.08168983459473,2.05590009689331,3.27824997901917,4.74174022674561,1.9394199848175,4.81063985824585],[null,null,6.13899993896484,6.79112005233765,0.86080002784729,9.54932975769043,5.03145980834961,2.28687000274658,3.63172006607056,3.63328003883362,1.66177999973297,3.377690076828,4.12473011016846,null,3.4794499874115],[null,2.17547988891602,4.64400005340576,7.04276990890503,1.31821000576019,9.20584011077881,null,2.22175002098083,3.84261989593506,3.08072996139526,1.74292004108429,3.79618000984192,4.76523017883301,2.13269996643066,3.4620099067688],[null,1.80489003658295,6.19600009918213,7.4073600769043,1.23249995708466,8.1028003692627,null,2.13628005981445,3.52900004386902,4.96799993515015,1.45342004299164,4.08500003814697,null,2.04699993133545,2.60419988632202],[null,null,6.61299991607666,0.28999999165535,0.425390005111694,9.73373985290527,null,2.49343991279602,3.20300006866455,3.95499992370605,1.5645899772644,3.84467005729675,5.72275018692017,1.96599996089935,3.45445990562439],[null,1.69528996944427,4.64300012588501,6.35382986068726,null,null,null,2.46592998504639,3.48600006103516,3.89000010490417,1.85859000682831,3.8989999294281,6.04489994049072,2.09899997711182,3.69521999359131],[null,1.59839999675751,2.84100008010864,3.86436009407043,null,11.379469871521,null,2.6500198841095,3.29399991035461,4.64499998092651,2.10998010635376,4.11499977111816,6.23799991607666,1.87199997901917,3.2558000087738],[null,1.14783000946045,3.89400005340576,3.20425009727478,4.10699987411499,11.7899599075317,null,2.41700005531311,3.47699999809265,4.46999979019165,3.22929000854492,4.25699996948242,6.33699989318848,2.22099995613098,4.54397010803223],[null,2.00387001037598,4.28999996185303,0.190999999642372,6.0310001373291,11.7133102416992,2.58299994468689,2.13700008392334,3.52900004386902,3.87299990653992,2.59316992759705,4.30600023269653,6.69999980926514,1.85000002384186,4.34319019317627],[null,null,3.42499995231628,0.006000000052154,6.37900018692017,9.44062042236328,0.467000007629395,2.33200001716614,3.66400003433228,3.93199992179871,1.98781001567841,4.3769998550415,6.07399988174438,1.65600001811981,null],[null,null,2.91499996185303,3.65899991989136,7.3730001449585,null,null,2.21499991416931,3.48600006103516,4.20900011062622,null,3.8970000743866,4.76100015640259,1.68099999427795,null],[null,null,2.08500003814697,2.68899989128113,4.05600023269653,5.48518991470337,null,2.05699992179871,4.21099996566772,5.79500007629395,1.55499994754791,4.29300022125244,5.98099994659424,1.76499998569489,null],[26.7070007324219,1.34500002861023,null,3.22499990463257,2.31299996376038,4.56099987030029,null,1.68700003623962,3.95600008964539,4.4850001335144,1.50800001621246,4.63500022888184,6.97399997711182,1.8309999704361,null],[null,1.01499998569489,null,null,0.152999997138977,5.52400016784668,null,null,3.6489999294281,4.58099985122681,1.20000004768372,null,8.14200019836426,1.97300004959106,null]]},\"header\":{\"align\":\"center\",\"font\":{\"size\":10},\"values\":[\"<br>Country</br>\",\"<br>Series</br>\",\"<br>YR2000</br>\",\"<br>YR2001</br>\",\"<br>YR2002</br>\",\"<br>YR2003</br>\",\"<br>YR2004</br>\",\"<br>YR2005</br>\",\"<br>YR2006</br>\",\"<br>YR2007</br>\",\"<br>YR2008</br>\",\"<br>YR2009</br>\",\"<br>YR2010</br>\",\"<br>YR2011</br>\",\"<br>YR2012</br>\",\"<br>YR2013</br>\",\"<br>YR2014</br>\",\"<br>YR2015</br>\",\"<br>YR2016</br>\",\"<br>YR2017</br>\",\"<br>YR2018</br>\",\"<br>YR2019</br>\",\"<br>YR2020</br>\",\"<br>YR2021</br>\",\"<br>YR2022</br>\"]},\"type\":\"table\",\"domain\":{\"x\":[0.0,1.0],\"y\":[0.515,1.0]}}],                        {\"template\":{\"data\":{\"histogram2dcontour\":[{\"type\":\"histogram2dcontour\",\"colorbar\":{\"outlinewidth\":0,\"ticks\":\"\"},\"colorscale\":[[0.0,\"#0d0887\"],[0.1111111111111111,\"#46039f\"],[0.2222222222222222,\"#7201a8\"],[0.3333333333333333,\"#9c179e\"],[0.4444444444444444,\"#bd3786\"],[0.5555555555555556,\"#d8576b\"],[0.6666666666666666,\"#ed7953\"],[0.7777777777777778,\"#fb9f3a\"],[0.8888888888888888,\"#fdca26\"],[1.0,\"#f0f921\"]]}],\"choropleth\":[{\"type\":\"choropleth\",\"colorbar\":{\"outlinewidth\":0,\"ticks\":\"\"}}],\"histogram2d\":[{\"type\":\"histogram2d\",\"colorbar\":{\"outlinewidth\":0,\"ticks\":\"\"},\"colorscale\":[[0.0,\"#0d0887\"],[0.1111111111111111,\"#46039f\"],[0.2222222222222222,\"#7201a8\"],[0.3333333333333333,\"#9c179e\"],[0.4444444444444444,\"#bd3786\"],[0.5555555555555556,\"#d8576b\"],[0.6666666666666666,\"#ed7953\"],[0.7777777777777778,\"#fb9f3a\"],[0.8888888888888888,\"#fdca26\"],[1.0,\"#f0f921\"]]}],\"heatmap\":[{\"type\":\"heatmap\",\"colorbar\":{\"outlinewidth\":0,\"ticks\":\"\"},\"colorscale\":[[0.0,\"#0d0887\"],[0.1111111111111111,\"#46039f\"],[0.2222222222222222,\"#7201a8\"],[0.3333333333333333,\"#9c179e\"],[0.4444444444444444,\"#bd3786\"],[0.5555555555555556,\"#d8576b\"],[0.6666666666666666,\"#ed7953\"],[0.7777777777777778,\"#fb9f3a\"],[0.8888888888888888,\"#fdca26\"],[1.0,\"#f0f921\"]]}],\"heatmapgl\":[{\"type\":\"heatmapgl\",\"colorbar\":{\"outlinewidth\":0,\"ticks\":\"\"},\"colorscale\":[[0.0,\"#0d0887\"],[0.1111111111111111,\"#46039f\"],[0.2222222222222222,\"#7201a8\"],[0.3333333333333333,\"#9c179e\"],[0.4444444444444444,\"#bd3786\"],[0.5555555555555556,\"#d8576b\"],[0.6666666666666666,\"#ed7953\"],[0.7777777777777778,\"#fb9f3a\"],[0.8888888888888888,\"#fdca26\"],[1.0,\"#f0f921\"]]}],\"contourcarpet\":[{\"type\":\"contourcarpet\",\"colorbar\":{\"outlinewidth\":0,\"ticks\":\"\"}}],\"contour\":[{\"type\":\"contour\",\"colorbar\":{\"outlinewidth\":0,\"ticks\":\"\"},\"colorscale\":[[0.0,\"#0d0887\"],[0.1111111111111111,\"#46039f\"],[0.2222222222222222,\"#7201a8\"],[0.3333333333333333,\"#9c179e\"],[0.4444444444444444,\"#bd3786\"],[0.5555555555555556,\"#d8576b\"],[0.6666666666666666,\"#ed7953\"],[0.7777777777777778,\"#fb9f3a\"],[0.8888888888888888,\"#fdca26\"],[1.0,\"#f0f921\"]]}],\"surface\":[{\"type\":\"surface\",\"colorbar\":{\"outlinewidth\":0,\"ticks\":\"\"},\"colorscale\":[[0.0,\"#0d0887\"],[0.1111111111111111,\"#46039f\"],[0.2222222222222222,\"#7201a8\"],[0.3333333333333333,\"#9c179e\"],[0.4444444444444444,\"#bd3786\"],[0.5555555555555556,\"#d8576b\"],[0.6666666666666666,\"#ed7953\"],[0.7777777777777778,\"#fb9f3a\"],[0.8888888888888888,\"#fdca26\"],[1.0,\"#f0f921\"]]}],\"mesh3d\":[{\"type\":\"mesh3d\",\"colorbar\":{\"outlinewidth\":0,\"ticks\":\"\"}}],\"scatter\":[{\"fillpattern\":{\"fillmode\":\"overlay\",\"size\":10,\"solidity\":0.2},\"type\":\"scatter\"}],\"parcoords\":[{\"type\":\"parcoords\",\"line\":{\"colorbar\":{\"outlinewidth\":0,\"ticks\":\"\"}}}],\"scatterpolargl\":[{\"type\":\"scatterpolargl\",\"marker\":{\"colorbar\":{\"outlinewidth\":0,\"ticks\":\"\"}}}],\"bar\":[{\"error_x\":{\"color\":\"#2a3f5f\"},\"error_y\":{\"color\":\"#2a3f5f\"},\"marker\":{\"line\":{\"color\":\"#E5ECF6\",\"width\":0.5},\"pattern\":{\"fillmode\":\"overlay\",\"size\":10,\"solidity\":0.2}},\"type\":\"bar\"}],\"scattergeo\":[{\"type\":\"scattergeo\",\"marker\":{\"colorbar\":{\"outlinewidth\":0,\"ticks\":\"\"}}}],\"scatterpolar\":[{\"type\":\"scatterpolar\",\"marker\":{\"colorbar\":{\"outlinewidth\":0,\"ticks\":\"\"}}}],\"histogram\":[{\"marker\":{\"pattern\":{\"fillmode\":\"overlay\",\"size\":10,\"solidity\":0.2}},\"type\":\"histogram\"}],\"scattergl\":[{\"type\":\"scattergl\",\"marker\":{\"colorbar\":{\"outlinewidth\":0,\"ticks\":\"\"}}}],\"scatter3d\":[{\"type\":\"scatter3d\",\"line\":{\"colorbar\":{\"outlinewidth\":0,\"ticks\":\"\"}},\"marker\":{\"colorbar\":{\"outlinewidth\":0,\"ticks\":\"\"}}}],\"scattermapbox\":[{\"type\":\"scattermapbox\",\"marker\":{\"colorbar\":{\"outlinewidth\":0,\"ticks\":\"\"}}}],\"scatterternary\":[{\"type\":\"scatterternary\",\"marker\":{\"colorbar\":{\"outlinewidth\":0,\"ticks\":\"\"}}}],\"scattercarpet\":[{\"type\":\"scattercarpet\",\"marker\":{\"colorbar\":{\"outlinewidth\":0,\"ticks\":\"\"}}}],\"carpet\":[{\"aaxis\":{\"endlinecolor\":\"#2a3f5f\",\"gridcolor\":\"white\",\"linecolor\":\"white\",\"minorgridcolor\":\"white\",\"startlinecolor\":\"#2a3f5f\"},\"baxis\":{\"endlinecolor\":\"#2a3f5f\",\"gridcolor\":\"white\",\"linecolor\":\"white\",\"minorgridcolor\":\"white\",\"startlinecolor\":\"#2a3f5f\"},\"type\":\"carpet\"}],\"table\":[{\"cells\":{\"fill\":{\"color\":\"#EBF0F8\"},\"line\":{\"color\":\"white\"}},\"header\":{\"fill\":{\"color\":\"#C8D4E3\"},\"line\":{\"color\":\"white\"}},\"type\":\"table\"}],\"barpolar\":[{\"marker\":{\"line\":{\"color\":\"#E5ECF6\",\"width\":0.5},\"pattern\":{\"fillmode\":\"overlay\",\"size\":10,\"solidity\":0.2}},\"type\":\"barpolar\"}],\"pie\":[{\"automargin\":true,\"type\":\"pie\"}]},\"layout\":{\"autotypenumbers\":\"strict\",\"colorway\":[\"#636efa\",\"#EF553B\",\"#00cc96\",\"#ab63fa\",\"#FFA15A\",\"#19d3f3\",\"#FF6692\",\"#B6E880\",\"#FF97FF\",\"#FECB52\"],\"font\":{\"color\":\"#2a3f5f\"},\"hovermode\":\"closest\",\"hoverlabel\":{\"align\":\"left\"},\"paper_bgcolor\":\"white\",\"plot_bgcolor\":\"#E5ECF6\",\"polar\":{\"bgcolor\":\"#E5ECF6\",\"angularaxis\":{\"gridcolor\":\"white\",\"linecolor\":\"white\",\"ticks\":\"\"},\"radialaxis\":{\"gridcolor\":\"white\",\"linecolor\":\"white\",\"ticks\":\"\"}},\"ternary\":{\"bgcolor\":\"#E5ECF6\",\"aaxis\":{\"gridcolor\":\"white\",\"linecolor\":\"white\",\"ticks\":\"\"},\"baxis\":{\"gridcolor\":\"white\",\"linecolor\":\"white\",\"ticks\":\"\"},\"caxis\":{\"gridcolor\":\"white\",\"linecolor\":\"white\",\"ticks\":\"\"}},\"coloraxis\":{\"colorbar\":{\"outlinewidth\":0,\"ticks\":\"\"}},\"colorscale\":{\"sequential\":[[0.0,\"#0d0887\"],[0.1111111111111111,\"#46039f\"],[0.2222222222222222,\"#7201a8\"],[0.3333333333333333,\"#9c179e\"],[0.4444444444444444,\"#bd3786\"],[0.5555555555555556,\"#d8576b\"],[0.6666666666666666,\"#ed7953\"],[0.7777777777777778,\"#fb9f3a\"],[0.8888888888888888,\"#fdca26\"],[1.0,\"#f0f921\"]],\"sequentialminus\":[[0.0,\"#0d0887\"],[0.1111111111111111,\"#46039f\"],[0.2222222222222222,\"#7201a8\"],[0.3333333333333333,\"#9c179e\"],[0.4444444444444444,\"#bd3786\"],[0.5555555555555556,\"#d8576b\"],[0.6666666666666666,\"#ed7953\"],[0.7777777777777778,\"#fb9f3a\"],[0.8888888888888888,\"#fdca26\"],[1.0,\"#f0f921\"]],\"diverging\":[[0,\"#8e0152\"],[0.1,\"#c51b7d\"],[0.2,\"#de77ae\"],[0.3,\"#f1b6da\"],[0.4,\"#fde0ef\"],[0.5,\"#f7f7f7\"],[0.6,\"#e6f5d0\"],[0.7,\"#b8e186\"],[0.8,\"#7fbc41\"],[0.9,\"#4d9221\"],[1,\"#276419\"]]},\"xaxis\":{\"gridcolor\":\"white\",\"linecolor\":\"white\",\"ticks\":\"\",\"title\":{\"standoff\":15},\"zerolinecolor\":\"white\",\"automargin\":true,\"zerolinewidth\":2},\"yaxis\":{\"gridcolor\":\"white\",\"linecolor\":\"white\",\"ticks\":\"\",\"title\":{\"standoff\":15},\"zerolinecolor\":\"white\",\"automargin\":true,\"zerolinewidth\":2},\"scene\":{\"xaxis\":{\"backgroundcolor\":\"#E5ECF6\",\"gridcolor\":\"white\",\"linecolor\":\"white\",\"showbackground\":true,\"ticks\":\"\",\"zerolinecolor\":\"white\",\"gridwidth\":2},\"yaxis\":{\"backgroundcolor\":\"#E5ECF6\",\"gridcolor\":\"white\",\"linecolor\":\"white\",\"showbackground\":true,\"ticks\":\"\",\"zerolinecolor\":\"white\",\"gridwidth\":2},\"zaxis\":{\"backgroundcolor\":\"#E5ECF6\",\"gridcolor\":\"white\",\"linecolor\":\"white\",\"showbackground\":true,\"ticks\":\"\",\"zerolinecolor\":\"white\",\"gridwidth\":2}},\"shapedefaults\":{\"line\":{\"color\":\"#2a3f5f\"}},\"annotationdefaults\":{\"arrowcolor\":\"#2a3f5f\",\"arrowhead\":0,\"arrowwidth\":1},\"geo\":{\"bgcolor\":\"white\",\"landcolor\":\"#E5ECF6\",\"subunitcolor\":\"white\",\"showland\":true,\"showlakes\":true,\"lakecolor\":\"white\"},\"title\":{\"x\":0.05},\"mapbox\":{\"style\":\"light\"}}},\"xaxis\":{\"anchor\":\"y\",\"domain\":[0.0,1.0]},\"yaxis\":{\"anchor\":\"x\",\"domain\":[0.0,0.485]},\"title\":{\"text\":\"Bitcoin mining stats for 180 days\"},\"height\":800,\"showlegend\":false},                        {\"responsive\": true}                    ).then(function(){\n",
       "                            \n",
       "var gd = document.getElementById('d110b090-8c20-48a7-86a2-6c5b731593f9');\n",
       "var x = new MutationObserver(function (mutations, observer) {{\n",
       "        var display = window.getComputedStyle(gd).display;\n",
       "        if (!display || display === 'none') {{\n",
       "            console.log([gd, 'removed!']);\n",
       "            Plotly.purge(gd);\n",
       "            observer.disconnect();\n",
       "        }}\n",
       "}});\n",
       "\n",
       "// Listen for the removal of the full notebook cells\n",
       "var notebookContainer = gd.closest('#notebook-container');\n",
       "if (notebookContainer) {{\n",
       "    x.observe(notebookContainer, {childList: true});\n",
       "}}\n",
       "\n",
       "// Listen for the clearing of the current output cell\n",
       "var outputEl = gd.closest('.output');\n",
       "if (outputEl) {{\n",
       "    x.observe(outputEl, {childList: true});\n",
       "}}\n",
       "\n",
       "                        })                };                });            </script>        </div>"
      ]
     },
     "metadata": {},
     "output_type": "display_data"
    }
   ],
   "source": [
    "fig.add_trace(table,row=1, col=1)"
   ]
  },
  {
   "cell_type": "code",
   "execution_count": null,
   "id": "e2901087",
   "metadata": {},
   "outputs": [],
   "source": []
  },
  {
   "cell_type": "code",
   "execution_count": null,
   "id": "bf126156",
   "metadata": {},
   "outputs": [],
   "source": []
  },
  {
   "cell_type": "code",
   "execution_count": null,
   "id": "c1a6f7d2",
   "metadata": {},
   "outputs": [],
   "source": []
  }
 ],
 "metadata": {
  "kernelspec": {
   "display_name": "Python 3 (ipykernel)",
   "language": "python",
   "name": "python3"
  },
  "language_info": {
   "codemirror_mode": {
    "name": "ipython",
    "version": 3
   },
   "file_extension": ".py",
   "mimetype": "text/x-python",
   "name": "python",
   "nbconvert_exporter": "python",
   "pygments_lexer": "ipython3",
   "version": "3.10.9"
  }
 },
 "nbformat": 4,
 "nbformat_minor": 5
}
